{
 "cells": [
  {
   "cell_type": "code",
   "execution_count": 1,
   "id": "85fa0fa3-07ba-4db3-bac2-ba839bfae80c",
   "metadata": {},
   "outputs": [
    {
     "name": "stdout",
     "output_type": "stream",
     "text": [
      "Loading base model from: Qwen/Qwen2.5-0.5B-Instruct\n",
      "Loading and merging PEFT from: ./qwen2.5-0.5b/checkpoint-950\n",
      "Saving merged model to: ./output_dir\n",
      "✅ 모델과 토크나이저 저장 완료\n"
     ]
    }
   ],
   "source": [
    "import torch\n",
    "from transformers import AutoModelForCausalLM, AutoTokenizer\n",
    "from peft import PeftModel\n",
    "\n",
    "# 경로 설정\n",
    "base_model_path = \"Qwen/Qwen2.5-0.5B-Instruct\"\n",
    "adapter_path = \"./qwen2.5-0.5b/checkpoint-950\"\n",
    "merged_model_path = \"./output_dir\"\n",
    "\n",
    "# 디바이스 설정\n",
    "device_arg = {\"device_map\": \"auto\"}\n",
    "\n",
    "# 베이스 모델 로드\n",
    "print(f\"Loading base model from: {base_model_path}\")\n",
    "base_model = AutoModelForCausalLM.from_pretrained(\n",
    "    base_model_path,\n",
    "    return_dict=True,\n",
    "    torch_dtype=torch.float16,\n",
    "    **device_arg\n",
    ")\n",
    "\n",
    "# LoRA 어댑터 로드 및 병합\n",
    "print(f\"Loading and merging PEFT from: {adapter_path}\")\n",
    "model = PeftModel.from_pretrained(base_model, adapter_path, **device_arg)\n",
    "model = model.merge_and_unload()\n",
    "\n",
    "# 토크나이저 로드\n",
    "tokenizer = AutoTokenizer.from_pretrained(base_model_path)\n",
    "\n",
    "# 저장\n",
    "print(f\"Saving merged model to: {merged_model_path}\")\n",
    "model.save_pretrained(merged_model_path)\n",
    "tokenizer.save_pretrained(merged_model_path)\n",
    "print(\"✅ 모델과 토크나이저 저장 완료\")"
   ]
  },
  {
   "cell_type": "code",
   "execution_count": 2,
   "id": "9dc55331-11b5-4fc9-b0e2-e827c1fc68b2",
   "metadata": {},
   "outputs": [],
   "source": [
    "from huggingface_hub import HfApi\n",
    "api = HfApi()\n",
    "\n",
    "username = \"iamjoon\""
   ]
  },
  {
   "cell_type": "code",
   "execution_count": 3,
   "id": "2f6c7212-75c1-4915-8ff7-a46f72f4605e",
   "metadata": {},
   "outputs": [],
   "source": [
    "MODEL_NAME = 'Qwen-StructureParser'"
   ]
  },
  {
   "cell_type": "code",
   "execution_count": 4,
   "id": "6e06b376-311b-4102-9bd4-e5ba8051f356",
   "metadata": {},
   "outputs": [
    {
     "data": {
      "application/vnd.jupyter.widget-view+json": {
       "model_id": "d7bf286484f04a6aba0bbbaa5fd54b35",
       "version_major": 2,
       "version_minor": 0
      },
      "text/plain": [
       "Upload 2 LFS files:   0%|          | 0/2 [00:00<?, ?it/s]"
      ]
     },
     "metadata": {},
     "output_type": "display_data"
    },
    {
     "data": {
      "application/vnd.jupyter.widget-view+json": {
       "model_id": "1d152e3e3eca4d83a9fa15780655a58b",
       "version_major": 2,
       "version_minor": 0
      },
      "text/plain": [
       "model.safetensors:   0%|          | 0.00/988M [00:00<?, ?B/s]"
      ]
     },
     "metadata": {},
     "output_type": "display_data"
    },
    {
     "data": {
      "application/vnd.jupyter.widget-view+json": {
       "model_id": "7a312c35eb3c41568b2fec35b22c84b4",
       "version_major": 2,
       "version_minor": 0
      },
      "text/plain": [
       "tokenizer.json:   0%|          | 0.00/11.4M [00:00<?, ?B/s]"
      ]
     },
     "metadata": {},
     "output_type": "display_data"
    },
    {
     "data": {
      "text/plain": [
       "CommitInfo(commit_url='https://huggingface.co/iamjoon/Qwen-StructureParser/commit/d1970cbe41d118539e25de6b1b773413b15e5dbc', commit_message='Upload folder using huggingface_hub', commit_description='', oid='d1970cbe41d118539e25de6b1b773413b15e5dbc', pr_url=None, repo_url=RepoUrl('https://huggingface.co/iamjoon/Qwen-StructureParser', endpoint='https://huggingface.co', repo_type='model', repo_id='iamjoon/Qwen-StructureParser'), pr_revision=None, pr_num=None)"
      ]
     },
     "execution_count": 4,
     "metadata": {},
     "output_type": "execute_result"
    }
   ],
   "source": [
    "api.create_repo(\n",
    "    token=\"hf_여러분의 키 값\",\n",
    "    repo_id=f\"{username}/{MODEL_NAME}\",\n",
    "    repo_type=\"model\"\n",
    ")\n",
    "\n",
    "api.upload_folder(\n",
    "    token=\"hf_여러분의 키 값\",\n",
    "    repo_id=f\"{username}/{MODEL_NAME}\",\n",
    "    folder_path=\"output_dir\",\n",
    ")"
   ]
  }
 ],
 "metadata": {
  "kernelspec": {
   "display_name": "Python 3 (ipykernel)",
   "language": "python",
   "name": "python3"
  },
  "language_info": {
   "codemirror_mode": {
    "name": "ipython",
    "version": 3
   },
   "file_extension": ".py",
   "mimetype": "text/x-python",
   "name": "python",
   "nbconvert_exporter": "python",
   "pygments_lexer": "ipython3",
   "version": "3.10.12"
  }
 },
 "nbformat": 4,
 "nbformat_minor": 5
}
