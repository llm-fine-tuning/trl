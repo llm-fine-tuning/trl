{
 "cells": [
  {
   "cell_type": "code",
   "execution_count": 11,
   "id": "85fa0fa3-07ba-4db3-bac2-ba839bfae80c",
   "metadata": {},
   "outputs": [
    {
     "name": "stdout",
     "output_type": "stream",
     "text": [
      "Loading base model from: Qwen/Qwen2.5-7B-Instruct\n"
     ]
    },
    {
     "data": {
      "application/vnd.jupyter.widget-view+json": {
       "model_id": "b8e89b28d7224fad84978c5befcf5b61",
       "version_major": 2,
       "version_minor": 0
      },
      "text/plain": [
       "Loading checkpoint shards:   0%|          | 0/4 [00:00<?, ?it/s]"
      ]
     },
     "metadata": {},
     "output_type": "display_data"
    },
    {
     "name": "stdout",
     "output_type": "stream",
     "text": [
      "Loading and merging PEFT from: ./qwen2.5-0.5b/checkpoint-2850\n",
      "Saving merged model to: ./output_dir\n",
      "✅ 모델과 토크나이저 저장 완료\n"
     ]
    }
   ],
   "source": [
    "import torch\n",
    "from transformers import AutoModelForCausalLM, AutoTokenizer\n",
    "from peft import PeftModel\n",
    "\n",
    "# 경로 설정\n",
    "base_model_path = \"Qwen/Qwen2.5-7B-Instruct\"\n",
    "adapter_path = \"./qwen2.5-7b/checkpoint-2850\"\n",
    "merged_model_path = \"./output_dir\"\n",
    "\n",
    "# 디바이스 설정\n",
    "device_arg = {\"device_map\": \"auto\"}\n",
    "\n",
    "# 베이스 모델 로드\n",
    "print(f\"Loading base model from: {base_model_path}\")\n",
    "base_model = AutoModelForCausalLM.from_pretrained(\n",
    "    base_model_path,\n",
    "    return_dict=True,\n",
    "    torch_dtype=torch.float16,\n",
    "    **device_arg\n",
    ")\n",
    "\n",
    "# LoRA 어댑터 로드 및 병합\n",
    "print(f\"Loading and merging PEFT from: {adapter_path}\")\n",
    "model = PeftModel.from_pretrained(base_model, adapter_path, **device_arg)\n",
    "model = model.merge_and_unload()\n",
    "\n",
    "# 토크나이저 로드\n",
    "tokenizer = AutoTokenizer.from_pretrained(base_model_path)\n",
    "\n",
    "# 저장\n",
    "print(f\"Saving merged model to: {merged_model_path}\")\n",
    "model.save_pretrained(merged_model_path)\n",
    "tokenizer.save_pretrained(merged_model_path)\n",
    "print(\"✅ 모델과 토크나이저 저장 완료\")"
   ]
  },
  {
   "cell_type": "code",
   "execution_count": 12,
   "id": "9dc55331-11b5-4fc9-b0e2-e827c1fc68b2",
   "metadata": {},
   "outputs": [],
   "source": [
    "from huggingface_hub import HfApi\n",
    "api = HfApi()\n",
    "\n",
    "username = \"iamjoon\""
   ]
  },
  {
   "cell_type": "code",
   "execution_count": 13,
   "id": "2f6c7212-75c1-4915-8ff7-a46f72f4605e",
   "metadata": {},
   "outputs": [],
   "source": [
    "MODEL_NAME = 'Qwen-StructureParser-7b-ckpt-2850'"
   ]
  },
  {
   "cell_type": "code",
   "execution_count": 14,
   "id": "6e06b376-311b-4102-9bd4-e5ba8051f356",
   "metadata": {},
   "outputs": [
    {
     "data": {
      "application/vnd.jupyter.widget-view+json": {
       "model_id": "4545b94abefe4670ba993ea132a2a852",
       "version_major": 2,
       "version_minor": 0
      },
      "text/plain": [
       "model-00001-of-00004.safetensors:   0%|          | 0.00/4.88G [00:00<?, ?B/s]"
      ]
     },
     "metadata": {},
     "output_type": "display_data"
    },
    {
     "data": {
      "application/vnd.jupyter.widget-view+json": {
       "model_id": "044e518f672d482b92167d3162c83fa2",
       "version_major": 2,
       "version_minor": 0
      },
      "text/plain": [
       "model-00002-of-00004.safetensors:   0%|          | 0.00/4.93G [00:00<?, ?B/s]"
      ]
     },
     "metadata": {},
     "output_type": "display_data"
    },
    {
     "data": {
      "application/vnd.jupyter.widget-view+json": {
       "model_id": "70d197c5eb524355a17e31e52029df90",
       "version_major": 2,
       "version_minor": 0
      },
      "text/plain": [
       "model-00003-of-00004.safetensors:   0%|          | 0.00/4.33G [00:00<?, ?B/s]"
      ]
     },
     "metadata": {},
     "output_type": "display_data"
    },
    {
     "data": {
      "application/vnd.jupyter.widget-view+json": {
       "model_id": "2f054d3351b64751891cbe8e5fa335ea",
       "version_major": 2,
       "version_minor": 0
      },
      "text/plain": [
       "Upload 5 LFS files:   0%|          | 0/5 [00:00<?, ?it/s]"
      ]
     },
     "metadata": {},
     "output_type": "display_data"
    },
    {
     "data": {
      "application/vnd.jupyter.widget-view+json": {
       "model_id": "6d084bb88a0e47e0b3cc319c7fee6c48",
       "version_major": 2,
       "version_minor": 0
      },
      "text/plain": [
       "model-00004-of-00004.safetensors:   0%|          | 0.00/1.09G [00:00<?, ?B/s]"
      ]
     },
     "metadata": {},
     "output_type": "display_data"
    },
    {
     "data": {
      "application/vnd.jupyter.widget-view+json": {
       "model_id": "4a49156f577049079f3a6d7768e9a213",
       "version_major": 2,
       "version_minor": 0
      },
      "text/plain": [
       "tokenizer.json:   0%|          | 0.00/11.4M [00:00<?, ?B/s]"
      ]
     },
     "metadata": {},
     "output_type": "display_data"
    },
    {
     "data": {
      "text/plain": [
       "CommitInfo(commit_url='https://huggingface.co/iamjoon/Qwen-StructureParser-7b-ckpt-2850/commit/e3f90968905fea27c69e274da7b98ebe57ea1478', commit_message='Upload folder using huggingface_hub', commit_description='', oid='e3f90968905fea27c69e274da7b98ebe57ea1478', pr_url=None, repo_url=RepoUrl('https://huggingface.co/iamjoon/Qwen-StructureParser-7b-ckpt-2850', endpoint='https://huggingface.co', repo_type='model', repo_id='iamjoon/Qwen-StructureParser-7b-ckpt-2850'), pr_revision=None, pr_num=None)"
      ]
     },
     "execution_count": 14,
     "metadata": {},
     "output_type": "execute_result"
    }
   ],
   "source": [
    "api.create_repo(\n",
    "    token=\"hf_여러분의 키 값\",\n",
    "    repo_id=f\"{username}/{MODEL_NAME}\",\n",
    "    repo_type=\"model\"\n",
    ")\n",
    "\n",
    "api.upload_folder(\n",
    "    token=\"hf_여러분의 키 값\",\n",
    "    repo_id=f\"{username}/{MODEL_NAME}\",\n",
    "    folder_path=\"output_dir\",\n",
    ")"
   ]
  }
 ],
 "metadata": {
  "kernelspec": {
   "display_name": "Python 3 (ipykernel)",
   "language": "python",
   "name": "python3"
  },
  "language_info": {
   "codemirror_mode": {
    "name": "ipython",
    "version": 3
   },
   "file_extension": ".py",
   "mimetype": "text/x-python",
   "name": "python",
   "nbconvert_exporter": "python",
   "pygments_lexer": "ipython3",
   "version": "3.10.12"
  }
 },
 "nbformat": 4,
 "nbformat_minor": 5
}
