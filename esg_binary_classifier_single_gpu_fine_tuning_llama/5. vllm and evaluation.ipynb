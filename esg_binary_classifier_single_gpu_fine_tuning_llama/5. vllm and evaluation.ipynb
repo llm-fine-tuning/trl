{
 "cells": [
  {
   "cell_type": "code",
   "execution_count": 10,
   "id": "e271c236-1335-46ae-ba37-a4d10d0fd453",
   "metadata": {},
   "outputs": [
    {
     "name": "stderr",
     "output_type": "stream",
     "text": [
      "huggingface/tokenizers: The current process just got forked, after parallelism has already been used. Disabling parallelism to avoid deadlocks...\n",
      "To disable this warning, you can either:\n",
      "\t- Avoid using `tokenizers` before the fork if possible\n",
      "\t- Explicitly set the environment variable TOKENIZERS_PARALLELISM=(true | false)\n"
     ]
    },
    {
     "name": "stdout",
     "output_type": "stream",
     "text": [
      "Requirement already satisfied: openai in /usr/local/lib/python3.10/dist-packages (1.84.0)\n",
      "Requirement already satisfied: vllm==0.8.2 in /usr/local/lib/python3.10/dist-packages (0.8.2)\n",
      "Collecting pandas\n",
      "  Downloading pandas-2.2.3-cp310-cp310-manylinux_2_17_x86_64.manylinux2014_x86_64.whl.metadata (89 kB)\n",
      "\u001b[2K     \u001b[90m━━━━━━━━━━━━━━━━━━━━━━━━━━━━━━━━━━━━━━━━\u001b[0m \u001b[32m89.9/89.9 kB\u001b[0m \u001b[31m2.7 MB/s\u001b[0m eta \u001b[36m0:00:00\u001b[0m\n",
      "\u001b[?25hRequirement already satisfied: cachetools in /usr/local/lib/python3.10/dist-packages (from vllm==0.8.2) (6.0.0)\n",
      "Requirement already satisfied: psutil in /usr/local/lib/python3.10/dist-packages (from vllm==0.8.2) (5.9.6)\n",
      "Requirement already satisfied: sentencepiece in /usr/local/lib/python3.10/dist-packages (from vllm==0.8.2) (0.2.0)\n",
      "Requirement already satisfied: numpy<2.0.0 in /usr/local/lib/python3.10/dist-packages (from vllm==0.8.2) (1.26.4)\n",
      "Requirement already satisfied: requests>=2.26.0 in /usr/local/lib/python3.10/dist-packages (from vllm==0.8.2) (2.31.0)\n",
      "Requirement already satisfied: tqdm in /usr/local/lib/python3.10/dist-packages (from vllm==0.8.2) (4.67.1)\n",
      "Requirement already satisfied: blake3 in /usr/local/lib/python3.10/dist-packages (from vllm==0.8.2) (1.0.5)\n",
      "Requirement already satisfied: py-cpuinfo in /usr/local/lib/python3.10/dist-packages (from vllm==0.8.2) (9.0.0)\n",
      "Requirement already satisfied: transformers>=4.48.2 in /usr/local/lib/python3.10/dist-packages (from vllm==0.8.2) (4.52.4)\n",
      "Requirement already satisfied: tokenizers>=0.19.1 in /usr/local/lib/python3.10/dist-packages (from vllm==0.8.2) (0.21.1)\n",
      "Requirement already satisfied: protobuf in /usr/local/lib/python3.10/dist-packages (from vllm==0.8.2) (6.31.1)\n",
      "Requirement already satisfied: fastapi>=0.115.0 in /usr/local/lib/python3.10/dist-packages (from fastapi[standard]>=0.115.0->vllm==0.8.2) (0.115.12)\n",
      "Requirement already satisfied: aiohttp in /usr/local/lib/python3.10/dist-packages (from vllm==0.8.2) (3.12.7)\n",
      "Requirement already satisfied: pydantic>=2.9 in /usr/local/lib/python3.10/dist-packages (from vllm==0.8.2) (2.11.5)\n",
      "Requirement already satisfied: prometheus_client>=0.18.0 in /usr/local/lib/python3.10/dist-packages (from vllm==0.8.2) (0.18.0)\n",
      "Requirement already satisfied: pillow in /usr/local/lib/python3.10/dist-packages (from vllm==0.8.2) (11.2.1)\n",
      "Requirement already satisfied: prometheus-fastapi-instrumentator>=7.0.0 in /usr/local/lib/python3.10/dist-packages (from vllm==0.8.2) (7.1.0)\n",
      "Requirement already satisfied: tiktoken>=0.6.0 in /usr/local/lib/python3.10/dist-packages (from vllm==0.8.2) (0.9.0)\n",
      "Requirement already satisfied: lm-format-enforcer<0.11,>=0.10.11 in /usr/local/lib/python3.10/dist-packages (from vllm==0.8.2) (0.10.11)\n",
      "Requirement already satisfied: llguidance<0.8.0,>=0.7.9 in /usr/local/lib/python3.10/dist-packages (from vllm==0.8.2) (0.7.26)\n",
      "Requirement already satisfied: outlines==0.1.11 in /usr/local/lib/python3.10/dist-packages (from vllm==0.8.2) (0.1.11)\n",
      "Requirement already satisfied: lark==1.2.2 in /usr/local/lib/python3.10/dist-packages (from vllm==0.8.2) (1.2.2)\n",
      "Requirement already satisfied: xgrammar==0.1.16 in /usr/local/lib/python3.10/dist-packages (from vllm==0.8.2) (0.1.16)\n",
      "Requirement already satisfied: typing_extensions>=4.10 in /usr/local/lib/python3.10/dist-packages (from vllm==0.8.2) (4.14.0)\n",
      "Requirement already satisfied: filelock>=3.16.1 in /usr/local/lib/python3.10/dist-packages (from vllm==0.8.2) (3.18.0)\n",
      "Requirement already satisfied: partial-json-parser in /usr/local/lib/python3.10/dist-packages (from vllm==0.8.2) (0.2.1.1.post5)\n",
      "Requirement already satisfied: pyzmq in /usr/local/lib/python3.10/dist-packages (from vllm==0.8.2) (24.0.1)\n",
      "Requirement already satisfied: msgspec in /usr/local/lib/python3.10/dist-packages (from vllm==0.8.2) (0.19.0)\n",
      "Requirement already satisfied: gguf==0.10.0 in /usr/local/lib/python3.10/dist-packages (from vllm==0.8.2) (0.10.0)\n",
      "Requirement already satisfied: importlib_metadata in /usr/lib/python3/dist-packages (from vllm==0.8.2) (4.6.4)\n",
      "Requirement already satisfied: mistral_common>=1.5.4 in /usr/local/lib/python3.10/dist-packages (from mistral_common[opencv]>=1.5.4->vllm==0.8.2) (1.5.6)\n",
      "Requirement already satisfied: pyyaml in /usr/local/lib/python3.10/dist-packages (from vllm==0.8.2) (6.0.1)\n",
      "Requirement already satisfied: einops in /usr/local/lib/python3.10/dist-packages (from vllm==0.8.2) (0.8.1)\n",
      "Requirement already satisfied: compressed-tensors==0.9.2 in /usr/local/lib/python3.10/dist-packages (from vllm==0.8.2) (0.9.2)\n",
      "Requirement already satisfied: depyf==0.18.0 in /usr/local/lib/python3.10/dist-packages (from vllm==0.8.2) (0.18.0)\n",
      "Requirement already satisfied: cloudpickle in /usr/local/lib/python3.10/dist-packages (from vllm==0.8.2) (3.1.1)\n",
      "Requirement already satisfied: watchfiles in /usr/local/lib/python3.10/dist-packages (from vllm==0.8.2) (1.0.5)\n",
      "Requirement already satisfied: python-json-logger in /usr/local/lib/python3.10/dist-packages (from vllm==0.8.2) (2.0.7)\n",
      "Requirement already satisfied: scipy in /usr/local/lib/python3.10/dist-packages (from vllm==0.8.2) (1.15.3)\n",
      "Requirement already satisfied: ninja in /usr/local/lib/python3.10/dist-packages (from vllm==0.8.2) (1.11.1.4)\n",
      "Requirement already satisfied: numba==0.60.0 in /usr/local/lib/python3.10/dist-packages (from vllm==0.8.2) (0.60.0)\n",
      "Requirement already satisfied: ray>=2.43.0 in /usr/local/lib/python3.10/dist-packages (from ray[cgraph]>=2.43.0->vllm==0.8.2) (2.46.0)\n",
      "Requirement already satisfied: torch==2.6.0 in /usr/local/lib/python3.10/dist-packages (from vllm==0.8.2) (2.6.0)\n",
      "Requirement already satisfied: torchaudio==2.6.0 in /usr/local/lib/python3.10/dist-packages (from vllm==0.8.2) (2.6.0)\n",
      "Requirement already satisfied: torchvision==0.21.0 in /usr/local/lib/python3.10/dist-packages (from vllm==0.8.2) (0.21.0)\n",
      "Requirement already satisfied: xformers==0.0.29.post2 in /usr/local/lib/python3.10/dist-packages (from vllm==0.8.2) (0.0.29.post2)\n",
      "Requirement already satisfied: astor in /usr/local/lib/python3.10/dist-packages (from depyf==0.18.0->vllm==0.8.2) (0.8.1)\n",
      "Requirement already satisfied: dill in /usr/local/lib/python3.10/dist-packages (from depyf==0.18.0->vllm==0.8.2) (0.4.0)\n",
      "Requirement already satisfied: llvmlite<0.44,>=0.43.0dev0 in /usr/local/lib/python3.10/dist-packages (from numba==0.60.0->vllm==0.8.2) (0.43.0)\n",
      "Requirement already satisfied: interegular in /usr/local/lib/python3.10/dist-packages (from outlines==0.1.11->vllm==0.8.2) (0.3.3)\n",
      "Requirement already satisfied: jinja2 in /usr/local/lib/python3.10/dist-packages (from outlines==0.1.11->vllm==0.8.2) (3.1.6)\n",
      "Requirement already satisfied: nest_asyncio in /usr/local/lib/python3.10/dist-packages (from outlines==0.1.11->vllm==0.8.2) (1.5.8)\n",
      "Requirement already satisfied: diskcache in /usr/local/lib/python3.10/dist-packages (from outlines==0.1.11->vllm==0.8.2) (5.6.3)\n",
      "Requirement already satisfied: referencing in /usr/local/lib/python3.10/dist-packages (from outlines==0.1.11->vllm==0.8.2) (0.30.2)\n",
      "Requirement already satisfied: jsonschema in /usr/local/lib/python3.10/dist-packages (from outlines==0.1.11->vllm==0.8.2) (4.24.0)\n",
      "Requirement already satisfied: pycountry in /usr/local/lib/python3.10/dist-packages (from outlines==0.1.11->vllm==0.8.2) (24.6.1)\n",
      "Requirement already satisfied: airportsdata in /usr/local/lib/python3.10/dist-packages (from outlines==0.1.11->vllm==0.8.2) (20250523)\n",
      "Requirement already satisfied: outlines_core==0.1.26 in /usr/local/lib/python3.10/dist-packages (from outlines==0.1.11->vllm==0.8.2) (0.1.26)\n",
      "Requirement already satisfied: networkx in /usr/local/lib/python3.10/dist-packages (from torch==2.6.0->vllm==0.8.2) (3.0)\n",
      "Requirement already satisfied: fsspec in /usr/local/lib/python3.10/dist-packages (from torch==2.6.0->vllm==0.8.2) (2025.5.1)\n",
      "Requirement already satisfied: nvidia-cuda-nvrtc-cu12==12.4.127 in /usr/local/lib/python3.10/dist-packages (from torch==2.6.0->vllm==0.8.2) (12.4.127)\n",
      "Requirement already satisfied: nvidia-cuda-runtime-cu12==12.4.127 in /usr/local/lib/python3.10/dist-packages (from torch==2.6.0->vllm==0.8.2) (12.4.127)\n",
      "Requirement already satisfied: nvidia-cuda-cupti-cu12==12.4.127 in /usr/local/lib/python3.10/dist-packages (from torch==2.6.0->vllm==0.8.2) (12.4.127)\n",
      "Requirement already satisfied: nvidia-cudnn-cu12==9.1.0.70 in /usr/local/lib/python3.10/dist-packages (from torch==2.6.0->vllm==0.8.2) (9.1.0.70)\n",
      "Requirement already satisfied: nvidia-cublas-cu12==12.4.5.8 in /usr/local/lib/python3.10/dist-packages (from torch==2.6.0->vllm==0.8.2) (12.4.5.8)\n",
      "Requirement already satisfied: nvidia-cufft-cu12==11.2.1.3 in /usr/local/lib/python3.10/dist-packages (from torch==2.6.0->vllm==0.8.2) (11.2.1.3)\n",
      "Requirement already satisfied: nvidia-curand-cu12==10.3.5.147 in /usr/local/lib/python3.10/dist-packages (from torch==2.6.0->vllm==0.8.2) (10.3.5.147)\n",
      "Requirement already satisfied: nvidia-cusolver-cu12==11.6.1.9 in /usr/local/lib/python3.10/dist-packages (from torch==2.6.0->vllm==0.8.2) (11.6.1.9)\n",
      "Requirement already satisfied: nvidia-cusparse-cu12==12.3.1.170 in /usr/local/lib/python3.10/dist-packages (from torch==2.6.0->vllm==0.8.2) (12.3.1.170)\n",
      "Requirement already satisfied: nvidia-cusparselt-cu12==0.6.2 in /usr/local/lib/python3.10/dist-packages (from torch==2.6.0->vllm==0.8.2) (0.6.2)\n",
      "Requirement already satisfied: nvidia-nccl-cu12==2.21.5 in /usr/local/lib/python3.10/dist-packages (from torch==2.6.0->vllm==0.8.2) (2.21.5)\n",
      "Requirement already satisfied: nvidia-nvtx-cu12==12.4.127 in /usr/local/lib/python3.10/dist-packages (from torch==2.6.0->vllm==0.8.2) (12.4.127)\n",
      "Requirement already satisfied: nvidia-nvjitlink-cu12==12.4.127 in /usr/local/lib/python3.10/dist-packages (from torch==2.6.0->vllm==0.8.2) (12.4.127)\n",
      "Requirement already satisfied: triton==3.2.0 in /usr/local/lib/python3.10/dist-packages (from torch==2.6.0->vllm==0.8.2) (3.2.0)\n",
      "Requirement already satisfied: sympy==1.13.1 in /usr/local/lib/python3.10/dist-packages (from torch==2.6.0->vllm==0.8.2) (1.13.1)\n",
      "Requirement already satisfied: mpmath<1.4,>=1.1.0 in /usr/local/lib/python3.10/dist-packages (from sympy==1.13.1->torch==2.6.0->vllm==0.8.2) (1.3.0)\n",
      "Requirement already satisfied: anyio<5,>=3.5.0 in /usr/local/lib/python3.10/dist-packages (from openai) (4.0.0)\n",
      "Requirement already satisfied: distro<2,>=1.7.0 in /usr/lib/python3/dist-packages (from openai) (1.7.0)\n",
      "Requirement already satisfied: httpx<1,>=0.23.0 in /usr/local/lib/python3.10/dist-packages (from openai) (0.28.1)\n",
      "Requirement already satisfied: jiter<1,>=0.4.0 in /usr/local/lib/python3.10/dist-packages (from openai) (0.10.0)\n",
      "Requirement already satisfied: sniffio in /usr/local/lib/python3.10/dist-packages (from openai) (1.3.0)\n",
      "Requirement already satisfied: python-dateutil>=2.8.2 in /usr/local/lib/python3.10/dist-packages (from pandas) (2.8.2)\n",
      "Collecting pytz>=2020.1 (from pandas)\n",
      "  Downloading pytz-2025.2-py2.py3-none-any.whl.metadata (22 kB)\n",
      "Collecting tzdata>=2022.7 (from pandas)\n",
      "  Downloading tzdata-2025.2-py2.py3-none-any.whl.metadata (1.4 kB)\n",
      "Requirement already satisfied: idna>=2.8 in /usr/local/lib/python3.10/dist-packages (from anyio<5,>=3.5.0->openai) (3.4)\n",
      "Requirement already satisfied: exceptiongroup>=1.0.2 in /usr/local/lib/python3.10/dist-packages (from anyio<5,>=3.5.0->openai) (1.1.3)\n",
      "Requirement already satisfied: starlette<0.47.0,>=0.40.0 in /usr/local/lib/python3.10/dist-packages (from fastapi>=0.115.0->fastapi[standard]>=0.115.0->vllm==0.8.2) (0.46.2)\n",
      "Requirement already satisfied: fastapi-cli>=0.0.5 in /usr/local/lib/python3.10/dist-packages (from fastapi-cli[standard]>=0.0.5; extra == \"standard\"->fastapi[standard]>=0.115.0->vllm==0.8.2) (0.0.7)\n",
      "Requirement already satisfied: python-multipart>=0.0.18 in /usr/local/lib/python3.10/dist-packages (from fastapi[standard]>=0.115.0->vllm==0.8.2) (0.0.20)\n",
      "Requirement already satisfied: email-validator>=2.0.0 in /usr/local/lib/python3.10/dist-packages (from fastapi[standard]>=0.115.0->vllm==0.8.2) (2.2.0)\n",
      "Requirement already satisfied: uvicorn>=0.12.0 in /usr/local/lib/python3.10/dist-packages (from uvicorn[standard]>=0.12.0; extra == \"standard\"->fastapi[standard]>=0.115.0->vllm==0.8.2) (0.34.3)\n",
      "Requirement already satisfied: certifi in /usr/local/lib/python3.10/dist-packages (from httpx<1,>=0.23.0->openai) (2022.12.7)\n",
      "Requirement already satisfied: httpcore==1.* in /usr/local/lib/python3.10/dist-packages (from httpx<1,>=0.23.0->openai) (1.0.9)\n",
      "Requirement already satisfied: h11>=0.16 in /usr/local/lib/python3.10/dist-packages (from httpcore==1.*->httpx<1,>=0.23.0->openai) (0.16.0)\n",
      "Requirement already satisfied: packaging in /usr/local/lib/python3.10/dist-packages (from lm-format-enforcer<0.11,>=0.10.11->vllm==0.8.2) (23.2)\n",
      "Requirement already satisfied: opencv-python-headless>=4.0.0 in /usr/local/lib/python3.10/dist-packages (from mistral_common[opencv]>=1.5.4->vllm==0.8.2) (4.11.0.86)\n",
      "Requirement already satisfied: annotated-types>=0.6.0 in /usr/local/lib/python3.10/dist-packages (from pydantic>=2.9->vllm==0.8.2) (0.7.0)\n",
      "Requirement already satisfied: pydantic-core==2.33.2 in /usr/local/lib/python3.10/dist-packages (from pydantic>=2.9->vllm==0.8.2) (2.33.2)\n",
      "Requirement already satisfied: typing-inspection>=0.4.0 in /usr/local/lib/python3.10/dist-packages (from pydantic>=2.9->vllm==0.8.2) (0.4.1)\n",
      "Requirement already satisfied: six>=1.5 in /usr/lib/python3/dist-packages (from python-dateutil>=2.8.2->pandas) (1.16.0)\n",
      "Requirement already satisfied: click>=7.0 in /usr/local/lib/python3.10/dist-packages (from ray>=2.43.0->ray[cgraph]>=2.43.0->vllm==0.8.2) (8.2.1)\n",
      "Requirement already satisfied: msgpack<2.0.0,>=1.0.0 in /usr/local/lib/python3.10/dist-packages (from ray>=2.43.0->ray[cgraph]>=2.43.0->vllm==0.8.2) (1.1.0)\n",
      "Requirement already satisfied: cupy-cuda12x in /usr/local/lib/python3.10/dist-packages (from ray[cgraph]>=2.43.0->vllm==0.8.2) (13.4.1)\n",
      "Requirement already satisfied: charset-normalizer<4,>=2 in /usr/local/lib/python3.10/dist-packages (from requests>=2.26.0->vllm==0.8.2) (2.1.1)\n",
      "Requirement already satisfied: urllib3<3,>=1.21.1 in /usr/local/lib/python3.10/dist-packages (from requests>=2.26.0->vllm==0.8.2) (1.26.13)\n",
      "Requirement already satisfied: regex>=2022.1.18 in /usr/local/lib/python3.10/dist-packages (from tiktoken>=0.6.0->vllm==0.8.2) (2024.11.6)\n",
      "Requirement already satisfied: huggingface-hub<1.0,>=0.16.4 in /usr/local/lib/python3.10/dist-packages (from tokenizers>=0.19.1->vllm==0.8.2) (0.32.4)\n",
      "Requirement already satisfied: safetensors>=0.4.3 in /usr/local/lib/python3.10/dist-packages (from transformers>=4.48.2->vllm==0.8.2) (0.5.3)\n",
      "Requirement already satisfied: aiohappyeyeballs>=2.5.0 in /usr/local/lib/python3.10/dist-packages (from aiohttp->vllm==0.8.2) (2.6.1)\n",
      "Requirement already satisfied: aiosignal>=1.1.2 in /usr/local/lib/python3.10/dist-packages (from aiohttp->vllm==0.8.2) (1.3.2)\n",
      "Requirement already satisfied: async-timeout<6.0,>=4.0 in /usr/local/lib/python3.10/dist-packages (from aiohttp->vllm==0.8.2) (5.0.1)\n",
      "Requirement already satisfied: attrs>=17.3.0 in /usr/local/lib/python3.10/dist-packages (from aiohttp->vllm==0.8.2) (23.1.0)\n",
      "Requirement already satisfied: frozenlist>=1.1.1 in /usr/local/lib/python3.10/dist-packages (from aiohttp->vllm==0.8.2) (1.6.2)\n",
      "Requirement already satisfied: multidict<7.0,>=4.5 in /usr/local/lib/python3.10/dist-packages (from aiohttp->vllm==0.8.2) (6.4.4)\n",
      "Requirement already satisfied: propcache>=0.2.0 in /usr/local/lib/python3.10/dist-packages (from aiohttp->vllm==0.8.2) (0.3.1)\n",
      "Requirement already satisfied: yarl<2.0,>=1.17.0 in /usr/local/lib/python3.10/dist-packages (from aiohttp->vllm==0.8.2) (1.20.0)\n",
      "Requirement already satisfied: dnspython>=2.0.0 in /usr/local/lib/python3.10/dist-packages (from email-validator>=2.0.0->fastapi[standard]>=0.115.0->vllm==0.8.2) (2.7.0)\n",
      "Requirement already satisfied: typer>=0.12.3 in /usr/local/lib/python3.10/dist-packages (from fastapi-cli>=0.0.5->fastapi-cli[standard]>=0.0.5; extra == \"standard\"->fastapi[standard]>=0.115.0->vllm==0.8.2) (0.16.0)\n",
      "Requirement already satisfied: rich-toolkit>=0.11.1 in /usr/local/lib/python3.10/dist-packages (from fastapi-cli>=0.0.5->fastapi-cli[standard]>=0.0.5; extra == \"standard\"->fastapi[standard]>=0.115.0->vllm==0.8.2) (0.14.7)\n",
      "Requirement already satisfied: hf-xet<2.0.0,>=1.1.2 in /usr/local/lib/python3.10/dist-packages (from huggingface-hub<1.0,>=0.16.4->tokenizers>=0.19.1->vllm==0.8.2) (1.1.3)\n",
      "Requirement already satisfied: MarkupSafe>=2.0 in /usr/local/lib/python3.10/dist-packages (from jinja2->outlines==0.1.11->vllm==0.8.2) (2.1.2)\n",
      "Requirement already satisfied: jsonschema-specifications>=2023.03.6 in /usr/local/lib/python3.10/dist-packages (from jsonschema->outlines==0.1.11->vllm==0.8.2) (2023.7.1)\n",
      "Requirement already satisfied: rpds-py>=0.7.1 in /usr/local/lib/python3.10/dist-packages (from jsonschema->outlines==0.1.11->vllm==0.8.2) (0.12.0)\n",
      "Requirement already satisfied: httptools>=0.6.3 in /usr/local/lib/python3.10/dist-packages (from uvicorn[standard]>=0.12.0; extra == \"standard\"->fastapi[standard]>=0.115.0->vllm==0.8.2) (0.6.4)\n",
      "Requirement already satisfied: python-dotenv>=0.13 in /usr/local/lib/python3.10/dist-packages (from uvicorn[standard]>=0.12.0; extra == \"standard\"->fastapi[standard]>=0.115.0->vllm==0.8.2) (1.1.0)\n",
      "Requirement already satisfied: uvloop>=0.15.1 in /usr/local/lib/python3.10/dist-packages (from uvicorn[standard]>=0.12.0; extra == \"standard\"->fastapi[standard]>=0.115.0->vllm==0.8.2) (0.21.0)\n",
      "Requirement already satisfied: websockets>=10.4 in /usr/local/lib/python3.10/dist-packages (from uvicorn[standard]>=0.12.0; extra == \"standard\"->fastapi[standard]>=0.115.0->vllm==0.8.2) (15.0.1)\n",
      "Requirement already satisfied: fastrlock>=0.5 in /usr/local/lib/python3.10/dist-packages (from cupy-cuda12x->ray[cgraph]>=2.43.0->vllm==0.8.2) (0.8.3)\n",
      "Requirement already satisfied: rich>=13.7.1 in /usr/local/lib/python3.10/dist-packages (from rich-toolkit>=0.11.1->fastapi-cli>=0.0.5->fastapi-cli[standard]>=0.0.5; extra == \"standard\"->fastapi[standard]>=0.115.0->vllm==0.8.2) (14.0.0)\n",
      "Requirement already satisfied: shellingham>=1.3.0 in /usr/local/lib/python3.10/dist-packages (from typer>=0.12.3->fastapi-cli>=0.0.5->fastapi-cli[standard]>=0.0.5; extra == \"standard\"->fastapi[standard]>=0.115.0->vllm==0.8.2) (1.5.4)\n",
      "Requirement already satisfied: markdown-it-py>=2.2.0 in /usr/local/lib/python3.10/dist-packages (from rich>=13.7.1->rich-toolkit>=0.11.1->fastapi-cli>=0.0.5->fastapi-cli[standard]>=0.0.5; extra == \"standard\"->fastapi[standard]>=0.115.0->vllm==0.8.2) (3.0.0)\n",
      "Requirement already satisfied: pygments<3.0.0,>=2.13.0 in /usr/local/lib/python3.10/dist-packages (from rich>=13.7.1->rich-toolkit>=0.11.1->fastapi-cli>=0.0.5->fastapi-cli[standard]>=0.0.5; extra == \"standard\"->fastapi[standard]>=0.115.0->vllm==0.8.2) (2.16.1)\n",
      "Requirement already satisfied: mdurl~=0.1 in /usr/local/lib/python3.10/dist-packages (from markdown-it-py>=2.2.0->rich>=13.7.1->rich-toolkit>=0.11.1->fastapi-cli>=0.0.5->fastapi-cli[standard]>=0.0.5; extra == \"standard\"->fastapi[standard]>=0.115.0->vllm==0.8.2) (0.1.2)\n",
      "Downloading pandas-2.2.3-cp310-cp310-manylinux_2_17_x86_64.manylinux2014_x86_64.whl (13.1 MB)\n",
      "\u001b[2K   \u001b[90m━━━━━━━━━━━━━━━━━━━━━━━━━━━━━━━━━━━━━━━━\u001b[0m \u001b[32m13.1/13.1 MB\u001b[0m \u001b[31m131.9 MB/s\u001b[0m eta \u001b[36m0:00:00\u001b[0m\u001b[36m0:00:01\u001b[0m\n",
      "\u001b[?25hDownloading pytz-2025.2-py2.py3-none-any.whl (509 kB)\n",
      "\u001b[2K   \u001b[90m━━━━━━━━━━━━━━━━━━━━━━━━━━━━━━━━━━━━━━━\u001b[0m \u001b[32m509.2/509.2 kB\u001b[0m \u001b[31m119.1 MB/s\u001b[0m eta \u001b[36m0:00:00\u001b[0m\n",
      "\u001b[?25hDownloading tzdata-2025.2-py2.py3-none-any.whl (347 kB)\n",
      "\u001b[2K   \u001b[90m━━━━━━━━━━━━━━━━━━━━━━━━━━━━━━━━━━━━━━━━\u001b[0m \u001b[32m347.8/347.8 kB\u001b[0m \u001b[31m81.4 MB/s\u001b[0m eta \u001b[36m0:00:00\u001b[0m\n",
      "\u001b[?25hInstalling collected packages: pytz, tzdata, pandas\n",
      "Successfully installed pandas-2.2.3 pytz-2025.2 tzdata-2025.2\n",
      "\u001b[33mWARNING: Running pip as the 'root' user can result in broken permissions and conflicting behaviour with the system package manager. It is recommended to use a virtual environment instead: https://pip.pypa.io/warnings/venv\u001b[0m\u001b[33m\n",
      "\u001b[0m\n",
      "\u001b[1m[\u001b[0m\u001b[34;49mnotice\u001b[0m\u001b[1;39;49m]\u001b[0m\u001b[39;49m A new release of pip is available: \u001b[0m\u001b[31;49m23.3.1\u001b[0m\u001b[39;49m -> \u001b[0m\u001b[32;49m25.1.1\u001b[0m\n",
      "\u001b[1m[\u001b[0m\u001b[34;49mnotice\u001b[0m\u001b[1;39;49m]\u001b[0m\u001b[39;49m To update, run: \u001b[0m\u001b[32;49mpython -m pip install --upgrade pip\u001b[0m\n"
     ]
    }
   ],
   "source": [
    "!pip install openai vllm==0.8.2 pandas"
   ]
  },
  {
   "cell_type": "code",
   "execution_count": 2,
   "id": "f26f5374-ce2d-4431-b306-892ce008c2a3",
   "metadata": {},
   "outputs": [
    {
     "name": "stdout",
     "output_type": "stream",
     "text": [
      "INFO 06-04 09:13:26 [__init__.py:239] Automatically detected platform cuda.\n"
     ]
    },
    {
     "data": {
      "application/vnd.jupyter.widget-view+json": {
       "model_id": "0cbe53df1ee742ac8c72ca6d382d3ce9",
       "version_major": 2,
       "version_minor": 0
      },
      "text/plain": [
       "config.json:   0%|          | 0.00/745 [00:00<?, ?B/s]"
      ]
     },
     "metadata": {},
     "output_type": "display_data"
    },
    {
     "name": "stdout",
     "output_type": "stream",
     "text": [
      "INFO 06-04 09:13:32 [config.py:585] This model supports multiple tasks: {'embed', 'generate', 'classify', 'reward', 'score'}. Defaulting to 'generate'.\n",
      "INFO 06-04 09:13:32 [config.py:1697] Chunked prefill is enabled with max_num_batched_tokens=8192.\n"
     ]
    },
    {
     "data": {
      "application/vnd.jupyter.widget-view+json": {
       "model_id": "86ac17b4bf67411384a264d9e014627e",
       "version_major": 2,
       "version_minor": 0
      },
      "text/plain": [
       "tokenizer_config.json:   0%|          | 0.00/50.6k [00:00<?, ?B/s]"
      ]
     },
     "metadata": {},
     "output_type": "display_data"
    },
    {
     "data": {
      "application/vnd.jupyter.widget-view+json": {
       "model_id": "67712c039c4244b792224762a21bd8bf",
       "version_major": 2,
       "version_minor": 0
      },
      "text/plain": [
       "tokenizer.json:   0%|          | 0.00/17.2M [00:00<?, ?B/s]"
      ]
     },
     "metadata": {},
     "output_type": "display_data"
    },
    {
     "data": {
      "application/vnd.jupyter.widget-view+json": {
       "model_id": "c4e598a70c114fdfbc0b552acb2873ac",
       "version_major": 2,
       "version_minor": 0
      },
      "text/plain": [
       "special_tokens_map.json:   0%|          | 0.00/464 [00:00<?, ?B/s]"
      ]
     },
     "metadata": {},
     "output_type": "display_data"
    },
    {
     "data": {
      "application/vnd.jupyter.widget-view+json": {
       "model_id": "3f05abd7ddb04af1b7902600d28d2e1d",
       "version_major": 2,
       "version_minor": 0
      },
      "text/plain": [
       "chat_template.jinja:   0%|          | 0.00/389 [00:00<?, ?B/s]"
      ]
     },
     "metadata": {},
     "output_type": "display_data"
    },
    {
     "data": {
      "application/vnd.jupyter.widget-view+json": {
       "model_id": "661212706c66487a8ccaa9b75704a5ec",
       "version_major": 2,
       "version_minor": 0
      },
      "text/plain": [
       "generation_config.json:   0%|          | 0.00/121 [00:00<?, ?B/s]"
      ]
     },
     "metadata": {},
     "output_type": "display_data"
    },
    {
     "name": "stdout",
     "output_type": "stream",
     "text": [
      "INFO 06-04 09:13:35 [core.py:54] Initializing a V1 LLM engine (v0.8.2) with config: model='iamjoon/llama-3-esg-binary-classifier-epoch1', speculative_config=None, tokenizer='iamjoon/llama-3-esg-binary-classifier-epoch1', skip_tokenizer_init=False, tokenizer_mode=auto, revision=None, override_neuron_config=None, tokenizer_revision=None, trust_remote_code=False, dtype=torch.float16, max_seq_len=8192, download_dir=None, load_format=auto, tensor_parallel_size=1, pipeline_parallel_size=1, disable_custom_all_reduce=False, quantization=None, enforce_eager=False, kv_cache_dtype=auto,  device_config=cuda, decoding_config=DecodingConfig(guided_decoding_backend='xgrammar', reasoning_backend=None), observability_config=ObservabilityConfig(show_hidden_metrics=False, otlp_traces_endpoint=None, collect_model_forward_time=False, collect_model_execute_time=False), seed=None, served_model_name=iamjoon/llama-3-esg-binary-classifier-epoch1, num_scheduler_steps=1, multi_step_stream_outputs=True, enable_prefix_caching=True, chunked_prefill_enabled=True, use_async_output_proc=True, disable_mm_preprocessor_cache=False, mm_processor_kwargs=None, pooler_config=None, compilation_config={\"level\":3,\"custom_ops\":[\"none\"],\"splitting_ops\":[\"vllm.unified_attention\",\"vllm.unified_attention_with_output\"],\"use_inductor\":true,\"compile_sizes\":[],\"use_cudagraph\":true,\"cudagraph_num_of_warmups\":1,\"cudagraph_capture_sizes\":[512,504,496,488,480,472,464,456,448,440,432,424,416,408,400,392,384,376,368,360,352,344,336,328,320,312,304,296,288,280,272,264,256,248,240,232,224,216,208,200,192,184,176,168,160,152,144,136,128,120,112,104,96,88,80,72,64,56,48,40,32,24,16,8,4,2,1],\"max_capture_size\":512}\n",
      "WARNING 06-04 09:13:35 [utils.py:2321] Methods determine_num_available_blocks,device_config,get_cache_block_size_bytes,initialize_cache not implemented in <vllm.v1.worker.gpu_worker.Worker object at 0x7ead894cffa0>\n",
      "INFO 06-04 09:13:36 [parallel_state.py:954] rank 0 in world size 1 is assigned as DP rank 0, PP rank 0, TP rank 0\n",
      "INFO 06-04 09:13:36 [cuda.py:220] Using Flash Attention backend on V1 engine.\n",
      "INFO 06-04 09:13:36 [gpu_model_runner.py:1174] Starting to load model iamjoon/llama-3-esg-binary-classifier-epoch1...\n",
      "WARNING 06-04 09:13:36 [topk_topp_sampler.py:63] FlashInfer is not available. Falling back to the PyTorch-native implementation of top-p & top-k sampling. For the best performance, please install FlashInfer.\n",
      "INFO 06-04 09:13:37 [weight_utils.py:265] Using model weights format ['*.safetensors']\n"
     ]
    },
    {
     "data": {
      "application/vnd.jupyter.widget-view+json": {
       "model_id": "d170ecfd14194b2eb404a44d4e6f8f32",
       "version_major": 2,
       "version_minor": 0
      },
      "text/plain": [
       "model-00004-of-00004.safetensors:   0%|          | 0.00/1.17G [00:00<?, ?B/s]"
      ]
     },
     "metadata": {},
     "output_type": "display_data"
    },
    {
     "data": {
      "application/vnd.jupyter.widget-view+json": {
       "model_id": "3a10831b755b4ee08fe6baeeb34065e3",
       "version_major": 2,
       "version_minor": 0
      },
      "text/plain": [
       "model-00002-of-00004.safetensors:   0%|          | 0.00/5.00G [00:00<?, ?B/s]"
      ]
     },
     "metadata": {},
     "output_type": "display_data"
    },
    {
     "data": {
      "application/vnd.jupyter.widget-view+json": {
       "model_id": "e7a9f67528554be7bfee59863704354d",
       "version_major": 2,
       "version_minor": 0
      },
      "text/plain": [
       "model-00003-of-00004.safetensors:   0%|          | 0.00/4.92G [00:00<?, ?B/s]"
      ]
     },
     "metadata": {},
     "output_type": "display_data"
    },
    {
     "data": {
      "application/vnd.jupyter.widget-view+json": {
       "model_id": "c086e96d86da49a180b5995e55419f6f",
       "version_major": 2,
       "version_minor": 0
      },
      "text/plain": [
       "model-00001-of-00004.safetensors:   0%|          | 0.00/4.98G [00:00<?, ?B/s]"
      ]
     },
     "metadata": {},
     "output_type": "display_data"
    },
    {
     "name": "stdout",
     "output_type": "stream",
     "text": [
      "INFO 06-04 09:15:26 [weight_utils.py:281] Time spent downloading weights for iamjoon/llama-3-esg-binary-classifier-epoch1: 109.385526 seconds\n"
     ]
    },
    {
     "data": {
      "application/vnd.jupyter.widget-view+json": {
       "model_id": "3e06e3c7f945482881fdb0d0c8696526",
       "version_major": 2,
       "version_minor": 0
      },
      "text/plain": [
       "model.safetensors.index.json:   0%|          | 0.00/23.9k [00:00<?, ?B/s]"
      ]
     },
     "metadata": {},
     "output_type": "display_data"
    },
    {
     "data": {
      "application/vnd.jupyter.widget-view+json": {
       "model_id": "f0faaa9a4a884d11aa29e1354f4fade4",
       "version_major": 2,
       "version_minor": 0
      },
      "text/plain": [
       "Loading safetensors checkpoint shards:   0% Completed | 0/4 [00:00<?, ?it/s]\n"
      ]
     },
     "metadata": {},
     "output_type": "display_data"
    },
    {
     "name": "stdout",
     "output_type": "stream",
     "text": [
      "INFO 06-04 09:15:28 [loader.py:447] Loading weights took 2.01 seconds\n",
      "INFO 06-04 09:15:28 [gpu_model_runner.py:1186] Model loading took 14.9596 GB and 112.088397 seconds\n",
      "INFO 06-04 09:15:33 [backends.py:415] Using cache directory: /root/.cache/vllm/torch_compile_cache/2666d4ad2c/rank_0_0 for vLLM's torch.compile\n",
      "INFO 06-04 09:15:33 [backends.py:425] Dynamo bytecode transform time: 5.21 s\n",
      "INFO 06-04 09:15:36 [backends.py:132] Cache the graph of shape None for later use\n",
      "INFO 06-04 09:15:53 [backends.py:144] Compiling a graph for general shape takes 18.93 s\n",
      "INFO 06-04 09:16:05 [monitor.py:33] torch.compile takes 24.14 s in total\n",
      "INFO 06-04 09:16:06 [kv_cache_utils.py:566] GPU KV cache size: 418,800 tokens\n",
      "INFO 06-04 09:16:06 [kv_cache_utils.py:569] Maximum concurrency for 8,192 tokens per request: 51.12x\n",
      "INFO 06-04 09:16:25 [gpu_model_runner.py:1534] Graph capturing finished in 19 secs, took 0.51 GiB\n",
      "INFO 06-04 09:16:25 [core.py:151] init engine (profile, create kv cache, warmup model) took 56.91 seconds\n"
     ]
    }
   ],
   "source": [
    "import string\n",
    "from vllm import LLM, SamplingParams\n",
    "\n",
    "# LLM\n",
    "llm = LLM(model=\"iamjoon/llama-3-esg-binary-classifier-epoch1\")"
   ]
  },
  {
   "cell_type": "code",
   "execution_count": 3,
   "id": "c994bd45-b57a-491e-8723-dc96477e9254",
   "metadata": {},
   "outputs": [],
   "source": [
    "# 프롬프트 템플릿 준비\n",
    "template = string.Template(\"\"\"<|begin_of_text|><|start_header_id|>system<|end_header_id|>\n",
    "\n",
    "${system_content}<|eot_id|><|start_header_id|>user<|end_header_id|>\n",
    "\n",
    "${user_content}<|eot_id|><|start_header_id|>assistant<|end_header_id|>\n",
    "\"\"\")\n",
    "\n",
    "system_prompt = '''1. 상장사의 뉴스를 보고 ESG 관련 기사인지 판단하시오.\n",
    "2. ESG 각각에 대한 핵심 키워드는 아래의 10개 키워드를 참고해서 판단하시오.\n",
    "- 환경 (Environmental) : 탄소 배출 감소 (Carbon Emission Reduction), 재생 에너지 사용 (Renewable Energy Usage), 자원 효율성 (Resource Efficiency), 폐기물 관리 (Waste Management), 친환경 제품 개발 (Eco-Friendly Product Development), 기후 변화 대응 (Climate Change Mitigation), 오염 방지 (Pollution Prevention), 생물 다양성 보호 (Biodiversity Protection), 물 관리 (Water Management)\n",
    "순환 경제 (Circular Economy)\n",
    "- 사회 (Social) : 노동 인권 보호 (Labor Rights Protection), 다양성 및 포용성 (Diversity and Inclusion), 직원 안전 및 건강 (Employee Health & Safety), 공정한 노동 관행 (Fair Labor Practices), 커뮤니티 참여 및 개발 (Community Engagement & Development), 제품 책임 및 안전 (Product Responsibility & Safety), 공급망 책임 (Supply Chain Responsibility), 데이터 보호 및 프라이버시 (Data Protection & Privacy), 인재 개발 및 교육 (Talent Development & Education), 고객 만족도 (Customer Satisfaction)\n",
    "- 지배구조 (Governance) : 이사회 독립성 (Board Independence), 윤리적 경영 (Ethical Management), 주주 권리 보호 (Shareholder Rights Protection), 내부 통제 및 감사 (Internal Controls & Audits), 리스크 관리 (Risk Management), 투명한 정보 공개 (Transparent Disclosure), 기업 윤리 및 부패 방지 (Corporate Ethics & Anti-Corruption), 경영진 보상 구조 (Executive Compensation Structure), 컴플라이언스 (Regulatory Compliance), 이해관계자 참여 (Stakeholder Engagement)\n",
    "3. 입력이 주어지면 근거를 작성하고 ESG 관련 기사이면 => True 아니면 => False를 작성합니다.\n",
    "4. 답변은 항상 '=> True' 또는 '=> False'로 끝나야 하며 그 뒤에 아무 것도 적지마세요.\n",
    "5. 지역의 정책이나 장소에 대한 내용이거나, 개인의 사건과 같이 특정 기업에 대한 이야기가 아닌 경우에는 아니라고 판단하세요. 저는 상장 '기업'의 내용에 집중하고 있습니다.\n",
    "6. 기업의 경영권 분쟁과 같은 경우에는 단순히 개인의 이야기라고 볼 수 없습니다. 이 경우에도 ESG라고 판단할 수 있습니다.\n",
    "7. 개인적인 부고의 기사는 ESG와 관련이 없다고 판단하세요.'''\n",
    "\n",
    "user_prompt = '''LG에너지솔루션, 배터리 관리 분야 새 얼굴 '비 어라운드' 만들었다 LG에너지솔루션의 배터리 관리 토털 설루션(BMTS) 브랜드 'B.around'(비.어라운드) 로고. LG에너지솔루션 제공  잇단 화재로 전기차 배터리에 불안과 공포(전기차 포비아)가 확산한 가운데 LG에너지솔루션(LG엔솔)이 배터리 관리 토털 설루션(BMTS) 브랜드를 만들고 사업 확장에 나선다. 전기차 배터리 생산을 넘어 소프트웨어 부문 강화로 수익원을 넓히려는 움직임으로 풀이된다.  LG엔솔은 25일 '항상 고객의 곁에'(Be around your side)란 뜻의 BMTS 브랜드 'B.around'(비.어라운드)를 공개했다. 어떤 상황에서든 배터리 상태를 실시간 모니터링하는 LG엔솔 BMTS의 기술 경쟁력을 상징한다는 설명이다.  비.어라운드 제품에는 기존 배터리 관리 시스템(BMS)에 클라우드와 인공지능(AI) 기술을 결합해 화재방지 등을 위한 안전 진단, 퇴화·수명 예측 등을 더 쉽게 할 계획이다. 배터리 불량 유형을 사전에 진단하고 퇴화 상태를 점검하는 소프트웨어를 통해 오랫동안 쓸 수 있게 할 방침이다.  이달훈 LG에너지솔루션 BMS개발센터장 상무는 \"오랜 기간 안전 진단 시스템을 위해 노력했고 이제는 배터리 관리 소프트웨어 사업으로 확장해 배터리의 건강한 사용을 위해 설루션을 제공하는 기업이 되려고 한다\"고 말했다.  김청환 기자 chk@hankookilbo.com'''\n",
    "\n",
    "# 메시지 준비\n",
    "messages = [\n",
    "    {\"role\": \"system\", \"content\": system_prompt},\n",
    "    {\"role\": \"user\", \"content\": user_prompt}\n",
    "]\n",
    "\n",
    "# 프롬프트 생성\n",
    "prompt = template.safe_substitute({\n",
    "    \"system_content\": messages[0][\"content\"],\n",
    "    \"user_content\": messages[1][\"content\"]\n",
    "})"
   ]
  },
  {
   "cell_type": "code",
   "execution_count": 4,
   "id": "d9562a4f-02e0-47aa-9501-d7e915f8f073",
   "metadata": {},
   "outputs": [],
   "source": [
    "prompt = prompt.strip() + '근거:'"
   ]
  },
  {
   "cell_type": "code",
   "execution_count": 5,
   "id": "db996e69-a424-4a8e-b0fa-d9e90ff47afc",
   "metadata": {},
   "outputs": [
    {
     "name": "stdout",
     "output_type": "stream",
     "text": [
      "<|begin_of_text|><|start_header_id|>system<|end_header_id|>\n",
      "\n",
      "1. 상장사의 뉴스를 보고 ESG 관련 기사인지 판단하시오.\n",
      "2. ESG 각각에 대한 핵심 키워드는 아래의 10개 키워드를 참고해서 판단하시오.\n",
      "- 환경 (Environmental) : 탄소 배출 감소 (Carbon Emission Reduction), 재생 에너지 사용 (Renewable Energy Usage), 자원 효율성 (Resource Efficiency), 폐기물 관리 (Waste Management), 친환경 제품 개발 (Eco-Friendly Product Development), 기후 변화 대응 (Climate Change Mitigation), 오염 방지 (Pollution Prevention), 생물 다양성 보호 (Biodiversity Protection), 물 관리 (Water Management)\n",
      "순환 경제 (Circular Economy)\n",
      "- 사회 (Social) : 노동 인권 보호 (Labor Rights Protection), 다양성 및 포용성 (Diversity and Inclusion), 직원 안전 및 건강 (Employee Health & Safety), 공정한 노동 관행 (Fair Labor Practices), 커뮤니티 참여 및 개발 (Community Engagement & Development), 제품 책임 및 안전 (Product Responsibility & Safety), 공급망 책임 (Supply Chain Responsibility), 데이터 보호 및 프라이버시 (Data Protection & Privacy), 인재 개발 및 교육 (Talent Development & Education), 고객 만족도 (Customer Satisfaction)\n",
      "- 지배구조 (Governance) : 이사회 독립성 (Board Independence), 윤리적 경영 (Ethical Management), 주주 권리 보호 (Shareholder Rights Protection), 내부 통제 및 감사 (Internal Controls & Audits), 리스크 관리 (Risk Management), 투명한 정보 공개 (Transparent Disclosure), 기업 윤리 및 부패 방지 (Corporate Ethics & Anti-Corruption), 경영진 보상 구조 (Executive Compensation Structure), 컴플라이언스 (Regulatory Compliance), 이해관계자 참여 (Stakeholder Engagement)\n",
      "3. 입력이 주어지면 근거를 작성하고 ESG 관련 기사이면 => True 아니면 => False를 작성합니다.\n",
      "4. 답변은 항상 '=> True' 또는 '=> False'로 끝나야 하며 그 뒤에 아무 것도 적지마세요.\n",
      "5. 지역의 정책이나 장소에 대한 내용이거나, 개인의 사건과 같이 특정 기업에 대한 이야기가 아닌 경우에는 아니라고 판단하세요. 저는 상장 '기업'의 내용에 집중하고 있습니다.\n",
      "6. 기업의 경영권 분쟁과 같은 경우에는 단순히 개인의 이야기라고 볼 수 없습니다. 이 경우에도 ESG라고 판단할 수 있습니다.\n",
      "7. 개인적인 부고의 기사는 ESG와 관련이 없다고 판단하세요.<|eot_id|><|start_header_id|>user<|end_header_id|>\n",
      "\n",
      "LG에너지솔루션, 배터리 관리 분야 새 얼굴 '비 어라운드' 만들었다 LG에너지솔루션의 배터리 관리 토털 설루션(BMTS) 브랜드 'B.around'(비.어라운드) 로고. LG에너지솔루션 제공  잇단 화재로 전기차 배터리에 불안과 공포(전기차 포비아)가 확산한 가운데 LG에너지솔루션(LG엔솔)이 배터리 관리 토털 설루션(BMTS) 브랜드를 만들고 사업 확장에 나선다. 전기차 배터리 생산을 넘어 소프트웨어 부문 강화로 수익원을 넓히려는 움직임으로 풀이된다.  LG엔솔은 25일 '항상 고객의 곁에'(Be around your side)란 뜻의 BMTS 브랜드 'B.around'(비.어라운드)를 공개했다. 어떤 상황에서든 배터리 상태를 실시간 모니터링하는 LG엔솔 BMTS의 기술 경쟁력을 상징한다는 설명이다.  비.어라운드 제품에는 기존 배터리 관리 시스템(BMS)에 클라우드와 인공지능(AI) 기술을 결합해 화재방지 등을 위한 안전 진단, 퇴화·수명 예측 등을 더 쉽게 할 계획이다. 배터리 불량 유형을 사전에 진단하고 퇴화 상태를 점검하는 소프트웨어를 통해 오랫동안 쓸 수 있게 할 방침이다.  이달훈 LG에너지솔루션 BMS개발센터장 상무는 \"오랜 기간 안전 진단 시스템을 위해 노력했고 이제는 배터리 관리 소프트웨어 사업으로 확장해 배터리의 건강한 사용을 위해 설루션을 제공하는 기업이 되려고 한다\"고 말했다.  김청환 기자 chk@hankookilbo.com<|eot_id|><|start_header_id|>assistant<|end_header_id|>근거:\n"
     ]
    }
   ],
   "source": [
    "print(prompt)"
   ]
  },
  {
   "cell_type": "code",
   "execution_count": 6,
   "id": "0e572bc9-3de0-46a9-a8e6-6c8ce6577157",
   "metadata": {},
   "outputs": [
    {
     "name": "stderr",
     "output_type": "stream",
     "text": [
      "Processed prompts: 100%|██████████| 1/1 [00:02<00:00,  2.18s/it, est. speed input: 458.46 toks/s, output: 82.23 toks/s]"
     ]
    },
    {
     "name": "stdout",
     "output_type": "stream",
     "text": [
      "\n",
      " LG에너지솔루션의 배터리 관리 분야에서 '비 어라운드' 브랜드를 만든 것은 ESG와 관련이 있습니다. 첫째, 환경 측면에서 배터리 관리 소프트웨어를 통해 배터리의 안전 진단 및 퇴화 상태 점검을 통해 화재 방지와 오염 방지를 목표로 하고 있습니다. 이는 환경 보호와 관련된 활동입니다. 둘째, 사회적 측면에서는 고객의 안전을 최우선으로 고려하는 제품 개발로, 제품 책임 및 안전과 관련이 있습니다. 마지막으로, 지배구조 측면에서는 기술 경쟁력을 강화하고 고객의 곁에 있는 기업으로서의 이미지를 구축하려는 노력으로, 투명한 정보 공개와 윤리적 경영을 보여주는 사례입니다. \n",
      "=> True\n"
     ]
    },
    {
     "name": "stderr",
     "output_type": "stream",
     "text": [
      "\n"
     ]
    }
   ],
   "source": [
    "# 샘플링 파라미터 설정\n",
    "sampling_params = SamplingParams(\n",
    "    temperature=0,\n",
    "    max_tokens=1024,\n",
    "    stop=[\"\\n<|end_of_text|>\", \"<|eot_id|>\"],  # 문자열로 중지 토큰 지정\n",
    "    repetition_penalty=1.0\n",
    ")\n",
    "\n",
    "# 생성\n",
    "outputs = llm.generate([prompt], sampling_params)\n",
    "\n",
    "# 결과 출력\n",
    "for output in outputs:\n",
    "    print()\n",
    "    print(output.outputs[0].text)"
   ]
  },
  {
   "cell_type": "code",
   "execution_count": 11,
   "id": "87e6eb3b-0ec4-47ae-8bb3-1bf5bdd18560",
   "metadata": {},
   "outputs": [],
   "source": [
    "import pandas as pd\n",
    "\n",
    "df = pd.read_json('esg_binary_classification_test.json')"
   ]
  },
  {
   "cell_type": "code",
   "execution_count": 19,
   "id": "36ac631f-4ec0-49c6-a7f4-c462b74f952c",
   "metadata": {},
   "outputs": [
    {
     "data": {
      "text/html": [
       "<div>\n",
       "<style scoped>\n",
       "    .dataframe tbody tr th:only-of-type {\n",
       "        vertical-align: middle;\n",
       "    }\n",
       "\n",
       "    .dataframe tbody tr th {\n",
       "        vertical-align: top;\n",
       "    }\n",
       "\n",
       "    .dataframe thead th {\n",
       "        text-align: right;\n",
       "    }\n",
       "</style>\n",
       "<table border=\"1\" class=\"dataframe\">\n",
       "  <thead>\n",
       "    <tr style=\"text-align: right;\">\n",
       "      <th></th>\n",
       "      <th>instruction</th>\n",
       "      <th>input</th>\n",
       "      <th>output</th>\n",
       "    </tr>\n",
       "  </thead>\n",
       "  <tbody>\n",
       "    <tr>\n",
       "      <th>0</th>\n",
       "      <td>\"월남쌈 대신 '비비고' 만두 먹고 CGV서 영화 봐요\"…'베트남 젠지' 홀린 CJ...</td>\n",
       "      <td></td>\n",
       "      <td>근거: 이 기사는 CJ그룹이 베트남에서 개최한 'CJ K FESTA'라는 K컬처 축...</td>\n",
       "    </tr>\n",
       "    <tr>\n",
       "      <th>1</th>\n",
       "      <td>KDI \"한국경제 부진 지속…수출 위축에 내수도 둔화\" 국책연구원인 한국개발연구원,...</td>\n",
       "      <td></td>\n",
       "      <td>근거: 이 기사는 국책연구원인 한국개발연구원(KDI)의 한국 경제에 대한 분석으로,...</td>\n",
       "    </tr>\n",
       "    <tr>\n",
       "      <th>2</th>\n",
       "      <td>개성 가득 이색 팝업 ’글로스튜디오’ 체험하는 배우 이이경 (서울=뉴스1) = BA...</td>\n",
       "      <td></td>\n",
       "      <td>근거: 이 기사는 BAT로스만스의 이색 팝업 '글로 스튜디오' 오픈 행사와 배우 이...</td>\n",
       "    </tr>\n",
       "    <tr>\n",
       "      <th>3</th>\n",
       "      <td>삼성전자 노조, 사측에 화해 손짓…\"파업 상황 조속 해결\" 전국삼성전자노동조합 조합...</td>\n",
       "      <td></td>\n",
       "      <td>근거: 해당 기사는 삼성전자의 노조와 사측 간의 파업 및 대화 제안에 관한 내용으로...</td>\n",
       "    </tr>\n",
       "    <tr>\n",
       "      <th>4</th>\n",
       "      <td>‘클라우드’ 돕는 트레이너…‘AI’까지 넘본다 [천억클럽] 인공지능(AI) 시대, ...</td>\n",
       "      <td></td>\n",
       "      <td>근거: 이 기사는 주로 클라우드 MSP(Managed Service Provider...</td>\n",
       "    </tr>\n",
       "    <tr>\n",
       "      <th>...</th>\n",
       "      <td>...</td>\n",
       "      <td>...</td>\n",
       "      <td>...</td>\n",
       "    </tr>\n",
       "    <tr>\n",
       "      <th>927</th>\n",
       "      <td>부산시 전기차 구매 보조금 지원대상 확대 [KBS 부산]부산시가 올해 상반기 전기자...</td>\n",
       "      <td></td>\n",
       "      <td>근거: 부산시 전기차 구매 보조금 지원 대상 확대는 특정 기업과 관련된 이야기가 아...</td>\n",
       "    </tr>\n",
       "    <tr>\n",
       "      <th>928</th>\n",
       "      <td>KT&amp;G “세계적인 의결권자문사의 이사회 제안 안건 ‘찬성 권고’ 대환영” 글로벌 ...</td>\n",
       "      <td></td>\n",
       "      <td>근거: 해당 기사는 KT&amp;G의 주주총회와 이사회 제안에 대한 의결권 자문사의 권고와...</td>\n",
       "    </tr>\n",
       "    <tr>\n",
       "      <th>929</th>\n",
       "      <td>서산 농작물 창고서 불…2백만 원 피해 [KBS 대전]오늘(27일) 오전 10시쯤 ...</td>\n",
       "      <td></td>\n",
       "      <td>근거: 이 기사는 서산의 농작물 창고에서 발생한 화재 사건에 관한 것으로, 특정 기...</td>\n",
       "    </tr>\n",
       "    <tr>\n",
       "      <th>930</th>\n",
       "      <td>현대차, 신형 코나 전기차 모델 첫 공개 자동요약 기사 제목과 주요 문장을 기반으로...</td>\n",
       "      <td></td>\n",
       "      <td>근거: 현대차가 코나의 전기차 모델 '디 올 뉴 코나 일렉트릭'을 공개한 것은 ES...</td>\n",
       "    </tr>\n",
       "    <tr>\n",
       "      <th>931</th>\n",
       "      <td>기아, 전기차 앞세워 中 시장 재도약 추진… ‘EV5·6·9’ 물량공세에 현지 생산...</td>\n",
       "      <td></td>\n",
       "      <td>근거: 기아가 전기차를 앞세워 중국 시장에 진출하는 것은 ESG와 관련이 있습니다....</td>\n",
       "    </tr>\n",
       "  </tbody>\n",
       "</table>\n",
       "<p>932 rows × 3 columns</p>\n",
       "</div>"
      ],
      "text/plain": [
       "                                           instruction input  \\\n",
       "0    \"월남쌈 대신 '비비고' 만두 먹고 CGV서 영화 봐요\"…'베트남 젠지' 홀린 CJ...         \n",
       "1    KDI \"한국경제 부진 지속…수출 위축에 내수도 둔화\" 국책연구원인 한국개발연구원,...         \n",
       "2    개성 가득 이색 팝업 ’글로스튜디오’ 체험하는 배우 이이경 (서울=뉴스1) = BA...         \n",
       "3    삼성전자 노조, 사측에 화해 손짓…\"파업 상황 조속 해결\" 전국삼성전자노동조합 조합...         \n",
       "4    ‘클라우드’ 돕는 트레이너…‘AI’까지 넘본다 [천억클럽] 인공지능(AI) 시대, ...         \n",
       "..                                                 ...   ...   \n",
       "927  부산시 전기차 구매 보조금 지원대상 확대 [KBS 부산]부산시가 올해 상반기 전기자...         \n",
       "928  KT&G “세계적인 의결권자문사의 이사회 제안 안건 ‘찬성 권고’ 대환영” 글로벌 ...         \n",
       "929  서산 농작물 창고서 불…2백만 원 피해 [KBS 대전]오늘(27일) 오전 10시쯤 ...         \n",
       "930  현대차, 신형 코나 전기차 모델 첫 공개 자동요약 기사 제목과 주요 문장을 기반으로...         \n",
       "931  기아, 전기차 앞세워 中 시장 재도약 추진… ‘EV5·6·9’ 물량공세에 현지 생산...         \n",
       "\n",
       "                                                output  \n",
       "0    근거: 이 기사는 CJ그룹이 베트남에서 개최한 'CJ K FESTA'라는 K컬처 축...  \n",
       "1    근거: 이 기사는 국책연구원인 한국개발연구원(KDI)의 한국 경제에 대한 분석으로,...  \n",
       "2    근거: 이 기사는 BAT로스만스의 이색 팝업 '글로 스튜디오' 오픈 행사와 배우 이...  \n",
       "3    근거: 해당 기사는 삼성전자의 노조와 사측 간의 파업 및 대화 제안에 관한 내용으로...  \n",
       "4    근거: 이 기사는 주로 클라우드 MSP(Managed Service Provider...  \n",
       "..                                                 ...  \n",
       "927  근거: 부산시 전기차 구매 보조금 지원 대상 확대는 특정 기업과 관련된 이야기가 아...  \n",
       "928  근거: 해당 기사는 KT&G의 주주총회와 이사회 제안에 대한 의결권 자문사의 권고와...  \n",
       "929  근거: 이 기사는 서산의 농작물 창고에서 발생한 화재 사건에 관한 것으로, 특정 기...  \n",
       "930  근거: 현대차가 코나의 전기차 모델 '디 올 뉴 코나 일렉트릭'을 공개한 것은 ES...  \n",
       "931  근거: 기아가 전기차를 앞세워 중국 시장에 진출하는 것은 ESG와 관련이 있습니다....  \n",
       "\n",
       "[932 rows x 3 columns]"
      ]
     },
     "execution_count": 19,
     "metadata": {},
     "output_type": "execute_result"
    }
   ],
   "source": [
    "df"
   ]
  },
  {
   "cell_type": "code",
   "execution_count": 12,
   "id": "4b822c01-55d3-40a0-8981-b43532d1b265",
   "metadata": {},
   "outputs": [],
   "source": [
    "inputs = df['instruction'].to_list()"
   ]
  },
  {
   "cell_type": "code",
   "execution_count": 13,
   "id": "30742392-0ee7-4403-8575-a6e36df6656d",
   "metadata": {},
   "outputs": [],
   "source": [
    "def make_prompt(system_prompt, news_article):\n",
    "    # 프롬프트 템플릿 준비\n",
    "    template = string.Template(\"\"\"<|begin_of_text|><|start_header_id|>system<|end_header_id|>\n",
    "    \n",
    "${system_content}<|eot_id|><|start_header_id|>user<|end_header_id|>\n",
    "    \n",
    "${user_content}<|eot_id|><|start_header_id|>assistant<|end_header_id|>\n",
    "\"\"\")\n",
    "    \n",
    "    user_prompt = news_article\n",
    "    \n",
    "    # 메시지 준비\n",
    "    messages = [\n",
    "        {\"role\": \"system\", \"content\": system_prompt},\n",
    "        {\"role\": \"user\", \"content\": user_prompt}\n",
    "    ]\n",
    "    \n",
    "    # 프롬프트 생성\n",
    "    prompt = template.safe_substitute({\n",
    "        \"system_content\": messages[0][\"content\"],\n",
    "        \"user_content\": messages[1][\"content\"]\n",
    "    })\n",
    "\n",
    "    prompt = prompt.strip() + \"근거:\"\n",
    "    return prompt"
   ]
  },
  {
   "cell_type": "code",
   "execution_count": 14,
   "id": "b6f6a262-8b1c-46a9-b1a4-09e1eb6870e1",
   "metadata": {},
   "outputs": [
    {
     "name": "stdout",
     "output_type": "stream",
     "text": [
      "<|begin_of_text|><|start_header_id|>system<|end_header_id|>\n",
      "    \n",
      "1. 상장사의 뉴스를 보고 ESG 관련 기사인지 판단하시오.\n",
      "2. ESG 각각에 대한 핵심 키워드는 아래의 10개 키워드를 참고해서 판단하시오.\n",
      "- 환경 (Environmental) : 탄소 배출 감소 (Carbon Emission Reduction), 재생 에너지 사용 (Renewable Energy Usage), 자원 효율성 (Resource Efficiency), 폐기물 관리 (Waste Management), 친환경 제품 개발 (Eco-Friendly Product Development), 기후 변화 대응 (Climate Change Mitigation), 오염 방지 (Pollution Prevention), 생물 다양성 보호 (Biodiversity Protection), 물 관리 (Water Management)\n",
      "순환 경제 (Circular Economy)\n",
      "- 사회 (Social) : 노동 인권 보호 (Labor Rights Protection), 다양성 및 포용성 (Diversity and Inclusion), 직원 안전 및 건강 (Employee Health & Safety), 공정한 노동 관행 (Fair Labor Practices), 커뮤니티 참여 및 개발 (Community Engagement & Development), 제품 책임 및 안전 (Product Responsibility & Safety), 공급망 책임 (Supply Chain Responsibility), 데이터 보호 및 프라이버시 (Data Protection & Privacy), 인재 개발 및 교육 (Talent Development & Education), 고객 만족도 (Customer Satisfaction)\n",
      "- 지배구조 (Governance) : 이사회 독립성 (Board Independence), 윤리적 경영 (Ethical Management), 주주 권리 보호 (Shareholder Rights Protection), 내부 통제 및 감사 (Internal Controls & Audits), 리스크 관리 (Risk Management), 투명한 정보 공개 (Transparent Disclosure), 기업 윤리 및 부패 방지 (Corporate Ethics & Anti-Corruption), 경영진 보상 구조 (Executive Compensation Structure), 컴플라이언스 (Regulatory Compliance), 이해관계자 참여 (Stakeholder Engagement)\n",
      "3. 입력이 주어지면 근거를 작성하고 ESG 관련 기사이면 => True 아니면 => False를 작성합니다.\n",
      "4. 답변은 항상 '=> True' 또는 '=> False'로 끝나야 하며 그 뒤에 아무 것도 적지마세요.\n",
      "5. 지역의 정책이나 장소에 대한 내용이거나, 개인의 사건과 같이 특정 기업에 대한 이야기가 아닌 경우에는 아니라고 판단하세요. 저는 상장 '기업'의 내용에 집중하고 있습니다.\n",
      "6. 기업의 경영권 분쟁과 같은 경우에는 단순히 개인의 이야기라고 볼 수 없습니다. 이 경우에도 ESG라고 판단할 수 있습니다.\n",
      "7. 개인적인 부고의 기사는 ESG와 관련이 없다고 판단하세요.<|eot_id|><|start_header_id|>user<|end_header_id|>\n",
      "    \n",
      "\"월남쌈 대신 '비비고' 만두 먹고 CGV서 영화 봐요\"…'베트남 젠지' 홀린 CJ CJ그룹은 지난 10일부터 9월 1일까지 베트남에서 K컬처 축제 'CJ K FESTA'를 연다.ⓒ 뉴스1/김진희 기자.  (호찌민=뉴스1) 김진희 기자 = \"CJ(001040) 로고가 화려하고 예쁩니다. CGV를 통해 CJ를 알게 됐는데 젊고 역동적이어서 '젠지' 세대에 적합한 이미지라는 생각이 듭니다.\" -화이빠오(24·남)  지난 15~16일(현지시간) 베트남 호찌민 일대에서 열린 'CJ K FESTA'를 찾은 베트남 현지인들은 극찬을 쏟아냈다.  CJ그룹은 베트남에 진출한 계열사를 총동원해 CJ K FESTA를 올해 처음으로 개최했다. 이번 축제는 △K푸드 Week(8월 10~16일) △K스포츠 Week(8월 17~23일) △K무비 Week(8월 24일~9월 1일) 등 3가지 테마로 구성됐다.  CJ는 호찌민 소재 유명 마트와 쇼핑몰 내 CGV 매장에서 푸드쇼를 운영하며 브랜드 홍보에 적극 나섰다.  CJ그룹은 지난 10일부터 9월 1일까지 베트남에서 K컬처 축제 'CJ K FESTA'를 연다.ⓒ 뉴스1/김진희 기자.  15일 오후 호찌민 소재 메가마켓에는 더운 날씨임에도 마트 외부 공간에 사람들로 북적였다. CJ 제품을 선보이는 푸드트럭을 구경하기 위해 찾은 이들이었다. 한국과 달리 베트남에서는 푸드트럭이 생소하다고 한다.  이날 CJ는 CJ제일제당 비비고의 해산물 만두, 호떡, 김스낵과 뚜레쥬르의 빵을 선보였다. CJ제일제당의 자회사인 베트남 현지 냉동식품기업 '까우제'(Cautre)의 제품도 만나볼 수 있었다.  호찌민 시민 화이빠오는 \"예전에 만두를 많이 먹어 봤지만 비비고 만두는 독특하고 맛있다\"며 \"특히 푸드트럭을 처음 봐서 신기한데, 이렇게 화려하게 시식·광고하는 건 처음 본다\"고 말했다.  CJ그룹은 지난 10일부터 9월 1일까지 베트남에서 K컬처 축제 'CJ K FESTA'를 연다.ⓒ 뉴스1/김진희 기자.  아이와 함께 푸드트럭을 방문한 주부 흐엉(34·여)은 \"거주하고 있는 아파트 로비에 뚜레쥬르 매장이 있어서 평소에도 많이 애용해 CJ를 알고 있었다\"며 \"비비고 만두, 김치는 물론 CGV 등 CJ 계열사를 평소 많이 애용하는 편\"이라고 언급했다  메가마켓 내 푸드트럭 행사는 지난 11~15일 오후 4시부터 오후 9시 30분까지 운영됐는데 하루 방문객이 최대 1000명에 달했다고 한다.  CJ는 호찌민 내 재래시장, 대공원, 호수공원 등 총 10곳에서 푸드트럭을 운영했다.  CJ그룹은 지난 10일부터 9월 1일까지 베트남에서 K컬처 축제 'CJ K FESTA'를 연다.ⓒ 뉴스1/김진희 기자.  16일 이마트 고밥점에서 열린 쿠킹쇼 행사장에도 CJ 제품을 체험하기 위해 온 방문객들로 분주했다.  CJ는 단순히 자사 제품을 선보이는 것이 아니라 셰프, 스타 유튜버 등을 초청해 현지화된 음식을 제공해 눈길을 끌었다.  베트남에서 '한꿕 브로스'(Han Quoc Bros·한국 형제들) 채널을 운영, 100만 팔로워를 보유한 한국인 인기 유튜버 최종락 씨는 이날 셰프로 나섰다.  최 씨는 \"CJ 비비고 만두, 짜조, 김과자를 베트남식으로 퓨전화해 선보였는데 현지 분들 반응이 너무 좋아 뿌듯했다\"며 \"한국인이 한국 음식을 소개하는데 너무 좋아해 주셔서 감사하다\"고 밝혔다.  이날 행사장을 찾은 황 모 씨(57·남)는 \"비비고 만두를 처음 먹어봤는데 베트남 음식이 아닌데도 잘 맞다\"며 \"비비고 만두가 베트남 유명 요리인 월남쌈을 대체할 수 있을 것 같다\"고 엄지를 치켜세웠다.  그는 이 같은 행사 취지에 대해서도 \"브랜딩 활동이 너무 신선하다\"며 \"CJ 디자인이 눈에 띄어서 굉장히 젊어 보인다\"고 말했다.  CJ그룹은 지난 10일부터 9월 1일까지 베트남에서 K컬처 축제 'CJ K FESTA'를 연다.ⓒ 뉴스1/김진희 기자.  같은 날 호찌민시 소재 반한몰 내 CGV 매장에서는 행사 대미를 장식했다.  17일 열리는 '2024 CJ 전국 청소년 태권도 선수권 대회'를 기념해 태권도 선수들을 초청해 격파, 쇼 무대를 꾸며 분위기를 띄웠다. 고객들은 CJ 제품을 맛보면서 태권도라는 K-콘텐츠를 즐겼다.  이와 함께 셰프들이 직접 CJ 제품을 활용한 메뉴를 선보이며 브랜드 홍보 효과를 동시에 누릴 수 있었다.  CJ그룹은 지난 10일부터 9월 1일까지 베트남에서 K컬처 축제 'CJ K FESTA'를 연다.ⓒ 뉴스1/김진희 기자.  CJ는 'CJ K FESTA'를 정례화해 베트남에서 'K-블랙프라이데이'를 구축할 방침이다. 태권도 선수권 대회를 전후로 페스타를 열고 CJ 계열사 5개 브랜드를 대상으로 베트남 전역에서 대규모 할인 행사를 열 계획이다.  이를 통해 베트남 내 CJ 브랜드를 제고하고 CJ가 'K컬처 대표 브랜드'라는 이미지를 각인시킨다는 전략이다.  CJ 관계자는 \"CJ가 베트남에 진출한 지 약 25년 됐는데 이제는 CJ 그룹 브랜드를 알리는 차원을 넘어 유기적으로 활용해 시너지를 추구할 것\"이라며 \"CJ K FESTA를 베트남에서 가장 사랑받는 K컬처 대표 축제로 만들겠다\"고 강조했다.  jinny1@news1.kr<|eot_id|><|start_header_id|>assistant<|end_header_id|>근거:\n"
     ]
    }
   ],
   "source": [
    "prompt = make_prompt(system_prompt, inputs[0])\n",
    "print(prompt)"
   ]
  },
  {
   "cell_type": "code",
   "execution_count": 15,
   "id": "d74889fd-af4b-4a2e-9722-86b568f3ced8",
   "metadata": {},
   "outputs": [],
   "source": [
    "prompts = []\n",
    "for input in inputs:\n",
    "    prompts.append(make_prompt(system_prompt, input))"
   ]
  },
  {
   "cell_type": "markdown",
   "id": "dab6e33b-b85a-4ae4-98ef-a500317c10aa",
   "metadata": {},
   "source": [
    "다수의 데이터 호출"
   ]
  },
  {
   "cell_type": "code",
   "execution_count": 16,
   "id": "73f334e7-25f1-4d6d-8567-d97f01ce7372",
   "metadata": {},
   "outputs": [
    {
     "name": "stderr",
     "output_type": "stream",
     "text": [
      "Processed prompts: 100%|██████████| 5/5 [00:02<00:00,  2.08it/s, est. speed input: 3526.03 toks/s, output: 207.21 toks/s]\n"
     ]
    }
   ],
   "source": [
    "results = llm.generate(prompts[:5], sampling_params)"
   ]
  },
  {
   "cell_type": "code",
   "execution_count": 17,
   "id": "93731e27-0e25-4e6b-94c9-9a7f5ff4c41d",
   "metadata": {},
   "outputs": [
    {
     "name": "stdout",
     "output_type": "stream",
     "text": [
      " 이 기사는 CJ그룹이 베트남에서 K컬처 축제 'CJ K FESTA'를 개최한 내용으로, ESG와 관련된 핵심 키워드와는 직접적인 관련이 없습니다. 기사는 주로 CJ그룹의 브랜드 홍보 및 마케팅 활동에 관한 내용으로, 환경, 사회, 지배구조 측면에서의 ESG 활동이나 정책에 대한 언급이 없습니다. 따라서 ESG 관련 기사로 판단하기 어렵습니다. \n",
      "=> False\n",
      "--\n",
      " 이 기사는 한국개발연구원(KDI)의 경제 동향에 대한 내용으로, 특정 기업과 관련된 이야기가 아닙니다. 따라서 ESG와 관련이 없습니다. \n",
      "=> False\n",
      "--\n",
      " 이 기사는 BAT로스만스가 운영하는 이색 팝업 '글로스튜디오' 오픈에 대한 내용으로, ESG와 관련된 환경, 사회, 지배구조 측면의 핵심 키워드와는 관련이 없습니다. 이는 기업의 문화적 활동이나 마케팅 전략에 관한 내용으로, ESG의 핵심 요소와는 거리가 있습니다. \n",
      "=> False\n",
      "--\n",
      " 삼성전자 노조의 파업과 관련된 기사는 ESG와 관련이 있습니다. 사회적 측면에서 노동 인권 보호와 공정한 노동 관행이 핵심 요소로, 노조의 활동과 임금 교섭은 노동자들의 권리와 안전을 보호하는 데 중요한 역할을 합니다. 따라서 이 기사는 ESG의 사회적 책임과 관련이 있습니다. \n",
      "=> True\n",
      "--\n",
      " 베스핀글로벌의 클라우드 서비스 제공과 AI 기술 도입은 ESG와 관련이 있습니다. 첫째, 사회적 측면에서 데이터 관리와 AI 기술 도입은 인재 개발 및 교육과 관련이 있습니다. 베스핀글로벌은 데이터 전문 인력 양성 프로그램을 운영하고 있으며, 이는 인재 개발 및 교육의 일환으로 볼 수 있습니다. 둘째, 지배구조 측면에서 기업의 투명한 정보 공개와 리스크 관리가 중요합니다. 베스핀글로벌의 매출 성장과 적자 문제는 투명한 정보 공개와 리스크 관리의 필요성을 강조합니다. 따라서 이 기사는 ESG와 관련이 있습니다. \n",
      "=> True\n",
      "--\n"
     ]
    }
   ],
   "source": [
    "for result in results:\n",
    "    print(result.outputs[0].text)\n",
    "    print('--')"
   ]
  },
  {
   "cell_type": "code",
   "execution_count": 18,
   "id": "4c47cb2b-6df7-4d75-815e-d691dcd5e5b3",
   "metadata": {},
   "outputs": [
    {
     "name": "stderr",
     "output_type": "stream",
     "text": [
      "Processed prompts: 100%|██████████| 932/932 [01:00<00:00, 15.35it/s, est. speed input: 18881.39 toks/s, output: 1568.77 toks/s] \n"
     ]
    }
   ],
   "source": [
    "results = llm.generate(prompts, sampling_params)"
   ]
  },
  {
   "cell_type": "code",
   "execution_count": 20,
   "id": "7f99f0eb-30b1-447a-b975-bc3f881a4ca0",
   "metadata": {},
   "outputs": [],
   "source": [
    "labels = []\n",
    "for label in df['output'].to_list():\n",
    "    labels.append(label.split('=>')[1].strip())\n",
    "\n",
    "preds = []\n",
    "for pred in results:\n",
    "    preds.append(pred.outputs[0].text.split('=>')[1].strip())"
   ]
  },
  {
   "cell_type": "code",
   "execution_count": 21,
   "id": "3df4e886-cadd-474f-890d-64a6cd0c4e5b",
   "metadata": {},
   "outputs": [
    {
     "data": {
      "text/plain": [
       "['False', 'False', 'False', 'True', 'False']"
      ]
     },
     "execution_count": 21,
     "metadata": {},
     "output_type": "execute_result"
    }
   ],
   "source": [
    "labels[:5]"
   ]
  },
  {
   "cell_type": "code",
   "execution_count": 22,
   "id": "41d87e1f-7d78-4579-a071-fda0d8e93276",
   "metadata": {},
   "outputs": [
    {
     "data": {
      "text/plain": [
       "['False', 'False', 'False', 'True', 'True']"
      ]
     },
     "execution_count": 22,
     "metadata": {},
     "output_type": "execute_result"
    }
   ],
   "source": [
    "preds[:5]"
   ]
  },
  {
   "cell_type": "code",
   "execution_count": 23,
   "id": "b55dce22-15bd-4dfc-bdb5-2311f5cbb24a",
   "metadata": {},
   "outputs": [
    {
     "name": "stdout",
     "output_type": "stream",
     "text": [
      "{'accuracy': 0.8626609442060086, 'f1_score': 0.8785578747628083}\n"
     ]
    }
   ],
   "source": [
    "def calculate_metrics(labels, preds):\n",
    "    \"\"\"\n",
    "    정확도와 F1 점수를 계산하는 함수 (문자열 \"True\"/\"False\" 사용).\n",
    "    \n",
    "    Args:\n",
    "        labels (list): 실제 값 리스트 (\"True\"/\"False\").\n",
    "        preds (list): 예측 값 리스트 (\"True\"/\"False\").\n",
    "\n",
    "    Returns:\n",
    "        dict: 정확도와 F1 점수를 포함한 결과.\n",
    "    \"\"\"\n",
    "    # True Positive, False Positive, False Negative, True Negative 계산\n",
    "    tp = sum(1 for l, p in zip(labels, preds) if l == \"True\" and p == \"True\")\n",
    "    fp = sum(1 for l, p in zip(labels, preds) if l == \"False\" and p == \"True\")\n",
    "    fn = sum(1 for l, p in zip(labels, preds) if l == \"True\" and p == \"False\")\n",
    "    tn = sum(1 for l, p in zip(labels, preds) if l == \"False\" and p == \"False\")\n",
    "    \n",
    "    # Precision, Recall 계산\n",
    "    precision = tp / (tp + fp) if (tp + fp) > 0 else 0\n",
    "    recall = tp / (tp + fn) if (tp + fn) > 0 else 0\n",
    "    \n",
    "    # F1 Score 계산\n",
    "    f1_score = (2 * precision * recall) / (precision + recall) if (precision + recall) > 0 else 0\n",
    "    \n",
    "    # Accuracy 계산\n",
    "    accuracy = (tp + tn) / len(labels) if len(labels) > 0 else 0\n",
    "    \n",
    "    return {\"accuracy\": accuracy, \"f1_score\": f1_score}\n",
    "\n",
    "# 함수 호출\n",
    "metrics = calculate_metrics(labels, preds)\n",
    "print(metrics)"
   ]
  },
  {
   "cell_type": "code",
   "execution_count": 24,
   "id": "6a8e252c-2e5e-407c-9910-825dd6c1b632",
   "metadata": {},
   "outputs": [],
   "source": [
    "df['label'] = labels\n",
    "df['pred'] = preds"
   ]
  },
  {
   "cell_type": "code",
   "execution_count": 25,
   "id": "c16d2dfe-d44a-4819-acbe-b03cfd5f977a",
   "metadata": {},
   "outputs": [],
   "source": [
    "pred_reasons = ['근거:' + r.outputs[0].text for r in results]\n",
    "df['pred_reasons'] = pred_reasons "
   ]
  },
  {
   "cell_type": "code",
   "execution_count": 26,
   "id": "9504ce61-96b0-4cb2-887c-1d467ebc3dac",
   "metadata": {},
   "outputs": [
    {
     "data": {
      "text/html": [
       "<div>\n",
       "<style scoped>\n",
       "    .dataframe tbody tr th:only-of-type {\n",
       "        vertical-align: middle;\n",
       "    }\n",
       "\n",
       "    .dataframe tbody tr th {\n",
       "        vertical-align: top;\n",
       "    }\n",
       "\n",
       "    .dataframe thead th {\n",
       "        text-align: right;\n",
       "    }\n",
       "</style>\n",
       "<table border=\"1\" class=\"dataframe\">\n",
       "  <thead>\n",
       "    <tr style=\"text-align: right;\">\n",
       "      <th></th>\n",
       "      <th>instruction</th>\n",
       "      <th>input</th>\n",
       "      <th>output</th>\n",
       "      <th>label</th>\n",
       "      <th>pred</th>\n",
       "      <th>pred_reasons</th>\n",
       "    </tr>\n",
       "  </thead>\n",
       "  <tbody>\n",
       "    <tr>\n",
       "      <th>0</th>\n",
       "      <td>\"월남쌈 대신 '비비고' 만두 먹고 CGV서 영화 봐요\"…'베트남 젠지' 홀린 CJ...</td>\n",
       "      <td></td>\n",
       "      <td>근거: 이 기사는 CJ그룹이 베트남에서 개최한 'CJ K FESTA'라는 K컬처 축...</td>\n",
       "      <td>False</td>\n",
       "      <td>False</td>\n",
       "      <td>근거: 이 기사는 CJ그룹이 베트남에서 K컬처 축제 'CJ K FESTA'를 개최한...</td>\n",
       "    </tr>\n",
       "    <tr>\n",
       "      <th>1</th>\n",
       "      <td>KDI \"한국경제 부진 지속…수출 위축에 내수도 둔화\" 국책연구원인 한국개발연구원,...</td>\n",
       "      <td></td>\n",
       "      <td>근거: 이 기사는 국책연구원인 한국개발연구원(KDI)의 한국 경제에 대한 분석으로,...</td>\n",
       "      <td>False</td>\n",
       "      <td>False</td>\n",
       "      <td>근거: 이 기사는 한국개발연구원(KDI)의 경제 동향에 대한 내용으로, 특정 기업과...</td>\n",
       "    </tr>\n",
       "    <tr>\n",
       "      <th>2</th>\n",
       "      <td>개성 가득 이색 팝업 ’글로스튜디오’ 체험하는 배우 이이경 (서울=뉴스1) = BA...</td>\n",
       "      <td></td>\n",
       "      <td>근거: 이 기사는 BAT로스만스의 이색 팝업 '글로 스튜디오' 오픈 행사와 배우 이...</td>\n",
       "      <td>False</td>\n",
       "      <td>False</td>\n",
       "      <td>근거: 이 기사는 BAT로스만스가 운영하는 이색 팝업 '글로스튜디오' 오픈에 대한 ...</td>\n",
       "    </tr>\n",
       "    <tr>\n",
       "      <th>3</th>\n",
       "      <td>삼성전자 노조, 사측에 화해 손짓…\"파업 상황 조속 해결\" 전국삼성전자노동조합 조합...</td>\n",
       "      <td></td>\n",
       "      <td>근거: 해당 기사는 삼성전자의 노조와 사측 간의 파업 및 대화 제안에 관한 내용으로...</td>\n",
       "      <td>True</td>\n",
       "      <td>True</td>\n",
       "      <td>근거: 삼성전자 노조의 파업과 관련된 기사는 ESG와 관련이 있습니다. 사회적 측면...</td>\n",
       "    </tr>\n",
       "    <tr>\n",
       "      <th>4</th>\n",
       "      <td>‘클라우드’ 돕는 트레이너…‘AI’까지 넘본다 [천억클럽] 인공지능(AI) 시대, ...</td>\n",
       "      <td></td>\n",
       "      <td>근거: 이 기사는 주로 클라우드 MSP(Managed Service Provider...</td>\n",
       "      <td>False</td>\n",
       "      <td>True</td>\n",
       "      <td>근거: 베스핀글로벌의 클라우드 서비스 제공과 AI 기술 도입은 ESG와 관련이 있습...</td>\n",
       "    </tr>\n",
       "    <tr>\n",
       "      <th>...</th>\n",
       "      <td>...</td>\n",
       "      <td>...</td>\n",
       "      <td>...</td>\n",
       "      <td>...</td>\n",
       "      <td>...</td>\n",
       "      <td>...</td>\n",
       "    </tr>\n",
       "    <tr>\n",
       "      <th>927</th>\n",
       "      <td>부산시 전기차 구매 보조금 지원대상 확대 [KBS 부산]부산시가 올해 상반기 전기자...</td>\n",
       "      <td></td>\n",
       "      <td>근거: 부산시 전기차 구매 보조금 지원 대상 확대는 특정 기업과 관련된 이야기가 아...</td>\n",
       "      <td>False</td>\n",
       "      <td>False</td>\n",
       "      <td>근거: 부산시의 전기차 구매 보조금 지원 확대는 특정 기업과 관련된 내용이 아니며,...</td>\n",
       "    </tr>\n",
       "    <tr>\n",
       "      <th>928</th>\n",
       "      <td>KT&amp;G “세계적인 의결권자문사의 이사회 제안 안건 ‘찬성 권고’ 대환영” 글로벌 ...</td>\n",
       "      <td></td>\n",
       "      <td>근거: 해당 기사는 KT&amp;G의 주주총회와 이사회 제안에 대한 의결권 자문사의 권고와...</td>\n",
       "      <td>True</td>\n",
       "      <td>True</td>\n",
       "      <td>근거: KT&amp;G의 이사회 제안에 대한 글래스루이스의 찬성 권고는 ESG와 관련이 있...</td>\n",
       "    </tr>\n",
       "    <tr>\n",
       "      <th>929</th>\n",
       "      <td>서산 농작물 창고서 불…2백만 원 피해 [KBS 대전]오늘(27일) 오전 10시쯤 ...</td>\n",
       "      <td></td>\n",
       "      <td>근거: 이 기사는 서산의 농작물 창고에서 발생한 화재 사건에 관한 것으로, 특정 기...</td>\n",
       "      <td>False</td>\n",
       "      <td>False</td>\n",
       "      <td>근거: 이 기사는 특정 기업과 관련된 내용이 아니며, 지역의 농작물 창고에서 발생한...</td>\n",
       "    </tr>\n",
       "    <tr>\n",
       "      <th>930</th>\n",
       "      <td>현대차, 신형 코나 전기차 모델 첫 공개 자동요약 기사 제목과 주요 문장을 기반으로...</td>\n",
       "      <td></td>\n",
       "      <td>근거: 현대차가 코나의 전기차 모델 '디 올 뉴 코나 일렉트릭'을 공개한 것은 ES...</td>\n",
       "      <td>True</td>\n",
       "      <td>True</td>\n",
       "      <td>근거: 현대차가 신형 코나 전기차 모델을 공개한 것은 ESG와 관련이 있습니다. 환...</td>\n",
       "    </tr>\n",
       "    <tr>\n",
       "      <th>931</th>\n",
       "      <td>기아, 전기차 앞세워 中 시장 재도약 추진… ‘EV5·6·9’ 물량공세에 현지 생산...</td>\n",
       "      <td></td>\n",
       "      <td>근거: 기아가 전기차를 앞세워 중국 시장에 진출하는 것은 ESG와 관련이 있습니다....</td>\n",
       "      <td>True</td>\n",
       "      <td>True</td>\n",
       "      <td>근거: 기아가 전기차를 앞세워 중국 시장 재도약을 추진하는 것은 ESG와 관련이 있...</td>\n",
       "    </tr>\n",
       "  </tbody>\n",
       "</table>\n",
       "<p>932 rows × 6 columns</p>\n",
       "</div>"
      ],
      "text/plain": [
       "                                           instruction input  \\\n",
       "0    \"월남쌈 대신 '비비고' 만두 먹고 CGV서 영화 봐요\"…'베트남 젠지' 홀린 CJ...         \n",
       "1    KDI \"한국경제 부진 지속…수출 위축에 내수도 둔화\" 국책연구원인 한국개발연구원,...         \n",
       "2    개성 가득 이색 팝업 ’글로스튜디오’ 체험하는 배우 이이경 (서울=뉴스1) = BA...         \n",
       "3    삼성전자 노조, 사측에 화해 손짓…\"파업 상황 조속 해결\" 전국삼성전자노동조합 조합...         \n",
       "4    ‘클라우드’ 돕는 트레이너…‘AI’까지 넘본다 [천억클럽] 인공지능(AI) 시대, ...         \n",
       "..                                                 ...   ...   \n",
       "927  부산시 전기차 구매 보조금 지원대상 확대 [KBS 부산]부산시가 올해 상반기 전기자...         \n",
       "928  KT&G “세계적인 의결권자문사의 이사회 제안 안건 ‘찬성 권고’ 대환영” 글로벌 ...         \n",
       "929  서산 농작물 창고서 불…2백만 원 피해 [KBS 대전]오늘(27일) 오전 10시쯤 ...         \n",
       "930  현대차, 신형 코나 전기차 모델 첫 공개 자동요약 기사 제목과 주요 문장을 기반으로...         \n",
       "931  기아, 전기차 앞세워 中 시장 재도약 추진… ‘EV5·6·9’ 물량공세에 현지 생산...         \n",
       "\n",
       "                                                output  label   pred  \\\n",
       "0    근거: 이 기사는 CJ그룹이 베트남에서 개최한 'CJ K FESTA'라는 K컬처 축...  False  False   \n",
       "1    근거: 이 기사는 국책연구원인 한국개발연구원(KDI)의 한국 경제에 대한 분석으로,...  False  False   \n",
       "2    근거: 이 기사는 BAT로스만스의 이색 팝업 '글로 스튜디오' 오픈 행사와 배우 이...  False  False   \n",
       "3    근거: 해당 기사는 삼성전자의 노조와 사측 간의 파업 및 대화 제안에 관한 내용으로...   True   True   \n",
       "4    근거: 이 기사는 주로 클라우드 MSP(Managed Service Provider...  False   True   \n",
       "..                                                 ...    ...    ...   \n",
       "927  근거: 부산시 전기차 구매 보조금 지원 대상 확대는 특정 기업과 관련된 이야기가 아...  False  False   \n",
       "928  근거: 해당 기사는 KT&G의 주주총회와 이사회 제안에 대한 의결권 자문사의 권고와...   True   True   \n",
       "929  근거: 이 기사는 서산의 농작물 창고에서 발생한 화재 사건에 관한 것으로, 특정 기...  False  False   \n",
       "930  근거: 현대차가 코나의 전기차 모델 '디 올 뉴 코나 일렉트릭'을 공개한 것은 ES...   True   True   \n",
       "931  근거: 기아가 전기차를 앞세워 중국 시장에 진출하는 것은 ESG와 관련이 있습니다....   True   True   \n",
       "\n",
       "                                          pred_reasons  \n",
       "0    근거: 이 기사는 CJ그룹이 베트남에서 K컬처 축제 'CJ K FESTA'를 개최한...  \n",
       "1    근거: 이 기사는 한국개발연구원(KDI)의 경제 동향에 대한 내용으로, 특정 기업과...  \n",
       "2    근거: 이 기사는 BAT로스만스가 운영하는 이색 팝업 '글로스튜디오' 오픈에 대한 ...  \n",
       "3    근거: 삼성전자 노조의 파업과 관련된 기사는 ESG와 관련이 있습니다. 사회적 측면...  \n",
       "4    근거: 베스핀글로벌의 클라우드 서비스 제공과 AI 기술 도입은 ESG와 관련이 있습...  \n",
       "..                                                 ...  \n",
       "927  근거: 부산시의 전기차 구매 보조금 지원 확대는 특정 기업과 관련된 내용이 아니며,...  \n",
       "928  근거: KT&G의 이사회 제안에 대한 글래스루이스의 찬성 권고는 ESG와 관련이 있...  \n",
       "929  근거: 이 기사는 특정 기업과 관련된 내용이 아니며, 지역의 농작물 창고에서 발생한...  \n",
       "930  근거: 현대차가 신형 코나 전기차 모델을 공개한 것은 ESG와 관련이 있습니다. 환...  \n",
       "931  근거: 기아가 전기차를 앞세워 중국 시장 재도약을 추진하는 것은 ESG와 관련이 있...  \n",
       "\n",
       "[932 rows x 6 columns]"
      ]
     },
     "execution_count": 26,
     "metadata": {},
     "output_type": "execute_result"
    }
   ],
   "source": [
    "df"
   ]
  },
  {
   "cell_type": "code",
   "execution_count": 27,
   "id": "718191b9-fc87-4346-bde0-e271e2a39e97",
   "metadata": {},
   "outputs": [
    {
     "name": "stdout",
     "output_type": "stream",
     "text": [
      "뉴스 기사\n",
      "\"월남쌈 대신 '비비고' 만두 먹고 CGV서 영화 봐요\"…'베트남 젠지' 홀린 CJ CJ그룹은 지난 10일부터 9월 1일까지 베트남에서 K컬처 축제 'CJ K FESTA'를 연다.ⓒ 뉴스1/김진희 기자.  (호찌민=뉴스1) 김진희 기자 = \"CJ(001040) 로고가 화려하고 예쁩니다. CGV를 통해 CJ를 알게 됐는데 젊고 역동적이어서 '젠지' 세대에 적합한 이미지라는 생각이 듭니다.\" -화이빠오(24·남)  지난 15~16일(현지시간) 베트남 호찌민 일대에서 열린 'CJ K FESTA'를 찾은 베트남 현지인들은 극찬을 쏟아냈다.  CJ그룹은 베트남에 진출한 계열사를 총동원해 CJ K FESTA를 올해 처음으로 개최했다. 이번 축제는 △K푸드 Week(8월 10~16일) △K스포츠 Week(8월 17~23일) △K무비 Week(8월 24일~9월 1일) 등 3가지 테마로 구성됐다.  CJ는 호찌민 소재 유명 마트와 쇼핑몰 내 CGV 매장에서 푸드쇼를 운영하며 브랜드 홍보에 적극 나섰다.  CJ그룹은 지난 10일부터 9월 1일까지 베트남에서 K컬처 축제 'CJ K FESTA'를 연다.ⓒ 뉴스1/김진희 기자.  15일 오후 호찌민 소재 메가마켓에는 더운 날씨임에도 마트 외부 공간에 사람들로 북적였다. CJ 제품을 선보이는 푸드트럭을 구경하기 위해 찾은 이들이었다. 한국과 달리 베트남에서는 푸드트럭이 생소하다고 한다.  이날 CJ는 CJ제일제당 비비고의 해산물 만두, 호떡, 김스낵과 뚜레쥬르의 빵을 선보였다. CJ제일제당의 자회사인 베트남 현지 냉동식품기업 '까우제'(Cautre)의 제품도 만나볼 수 있었다.  호찌민 시민 화이빠오는 \"예전에 만두를 많이 먹어 봤지만 비비고 만두는 독특하고 맛있다\"며 \"특히 푸드트럭을 처음 봐서 신기한데, 이렇게 화려하게 시식·광고하는 건 처음 본다\"고 말했다.  CJ그룹은 지난 10일부터 9월 1일까지 베트남에서 K컬처 축제 'CJ K FESTA'를 연다.ⓒ 뉴스1/김진희 기자.  아이와 함께 푸드트럭을 방문한 주부 흐엉(34·여)은 \"거주하고 있는 아파트 로비에 뚜레쥬르 매장이 있어서 평소에도 많이 애용해 CJ를 알고 있었다\"며 \"비비고 만두, 김치는 물론 CGV 등 CJ 계열사를 평소 많이 애용하는 편\"이라고 언급했다  메가마켓 내 푸드트럭 행사는 지난 11~15일 오후 4시부터 오후 9시 30분까지 운영됐는데 하루 방문객이 최대 1000명에 달했다고 한다.  CJ는 호찌민 내 재래시장, 대공원, 호수공원 등 총 10곳에서 푸드트럭을 운영했다.  CJ그룹은 지난 10일부터 9월 1일까지 베트남에서 K컬처 축제 'CJ K FESTA'를 연다.ⓒ 뉴스1/김진희 기자.  16일 이마트 고밥점에서 열린 쿠킹쇼 행사장에도 CJ 제품을 체험하기 위해 온 방문객들로 분주했다.  CJ는 단순히 자사 제품을 선보이는 것이 아니라 셰프, 스타 유튜버 등을 초청해 현지화된 음식을 제공해 눈길을 끌었다.  베트남에서 '한꿕 브로스'(Han Quoc Bros·한국 형제들) 채널을 운영, 100만 팔로워를 보유한 한국인 인기 유튜버 최종락 씨는 이날 셰프로 나섰다.  최 씨는 \"CJ 비비고 만두, 짜조, 김과자를 베트남식으로 퓨전화해 선보였는데 현지 분들 반응이 너무 좋아 뿌듯했다\"며 \"한국인이 한국 음식을 소개하는데 너무 좋아해 주셔서 감사하다\"고 밝혔다.  이날 행사장을 찾은 황 모 씨(57·남)는 \"비비고 만두를 처음 먹어봤는데 베트남 음식이 아닌데도 잘 맞다\"며 \"비비고 만두가 베트남 유명 요리인 월남쌈을 대체할 수 있을 것 같다\"고 엄지를 치켜세웠다.  그는 이 같은 행사 취지에 대해서도 \"브랜딩 활동이 너무 신선하다\"며 \"CJ 디자인이 눈에 띄어서 굉장히 젊어 보인다\"고 말했다.  CJ그룹은 지난 10일부터 9월 1일까지 베트남에서 K컬처 축제 'CJ K FESTA'를 연다.ⓒ 뉴스1/김진희 기자.  같은 날 호찌민시 소재 반한몰 내 CGV 매장에서는 행사 대미를 장식했다.  17일 열리는 '2024 CJ 전국 청소년 태권도 선수권 대회'를 기념해 태권도 선수들을 초청해 격파, 쇼 무대를 꾸며 분위기를 띄웠다. 고객들은 CJ 제품을 맛보면서 태권도라는 K-콘텐츠를 즐겼다.  이와 함께 셰프들이 직접 CJ 제품을 활용한 메뉴를 선보이며 브랜드 홍보 효과를 동시에 누릴 수 있었다.  CJ그룹은 지난 10일부터 9월 1일까지 베트남에서 K컬처 축제 'CJ K FESTA'를 연다.ⓒ 뉴스1/김진희 기자.  CJ는 'CJ K FESTA'를 정례화해 베트남에서 'K-블랙프라이데이'를 구축할 방침이다. 태권도 선수권 대회를 전후로 페스타를 열고 CJ 계열사 5개 브랜드를 대상으로 베트남 전역에서 대규모 할인 행사를 열 계획이다.  이를 통해 베트남 내 CJ 브랜드를 제고하고 CJ가 'K컬처 대표 브랜드'라는 이미지를 각인시킨다는 전략이다.  CJ 관계자는 \"CJ가 베트남에 진출한 지 약 25년 됐는데 이제는 CJ 그룹 브랜드를 알리는 차원을 넘어 유기적으로 활용해 시너지를 추구할 것\"이라며 \"CJ K FESTA를 베트남에서 가장 사랑받는 K컬처 대표 축제로 만들겠다\"고 강조했다.  jinny1@news1.kr\n",
      "----------------------------------------\n",
      "정답\n",
      "근거: 이 기사는 CJ그룹이 베트남에서 개최한 'CJ K FESTA'라는 K컬처 축제에 대한 내용으로, 주로 마케팅 활동과 브랜드 홍보에 중점을 두고 있습니다. 이는 ESG 중 사회(Social) 및 지배구조(Governance)와 일부 관련될 수 있습니다. 사회적 측면에서는 이러한 축제가 다양성 및 포용성을 증진하고 지역 사회와의 문화적 교류를 장려할 수 있습니다. 또한, 커뮤니티 참여 및 개발과도 연결될 수 있습니다. 하지만 이 기사의 주된 내용은 ESG의 핵심 요소와는 직접적으로 연결되기보다는 기업 마케팅 및 홍보 활동에 더 가깝습니다. 따라서 ESG와 관련이 없다고 판단됩니다. \n",
      "=> False\n",
      "----------------------------------------\n",
      "예측\n",
      "근거: 이 기사는 CJ그룹이 베트남에서 K컬처 축제 'CJ K FESTA'를 개최한 내용으로, ESG와 관련된 핵심 키워드와는 직접적인 관련이 없습니다. 기사는 주로 CJ그룹의 브랜드 홍보 및 마케팅 활동에 관한 내용으로, 환경, 사회, 지배구조 측면에서의 ESG 활동이나 정책에 대한 언급이 없습니다. 따라서 ESG 관련 기사로 판단하기 어렵습니다. \n",
      "=> False\n"
     ]
    }
   ],
   "source": [
    "idx = 0\n",
    "\n",
    "print('뉴스 기사')\n",
    "print(df['instruction'].loc[idx])\n",
    "print('--' * 20)\n",
    "print('정답')\n",
    "print(df['output'].loc[idx])\n",
    "print('--' * 20)\n",
    "print('예측')\n",
    "print(df['pred_reasons'].loc[idx])"
   ]
  },
  {
   "cell_type": "code",
   "execution_count": 28,
   "id": "255127c3-8a71-42f5-96fb-0aa446a3245c",
   "metadata": {},
   "outputs": [
    {
     "data": {
      "text/html": [
       "<div>\n",
       "<style scoped>\n",
       "    .dataframe tbody tr th:only-of-type {\n",
       "        vertical-align: middle;\n",
       "    }\n",
       "\n",
       "    .dataframe tbody tr th {\n",
       "        vertical-align: top;\n",
       "    }\n",
       "\n",
       "    .dataframe thead th {\n",
       "        text-align: right;\n",
       "    }\n",
       "</style>\n",
       "<table border=\"1\" class=\"dataframe\">\n",
       "  <thead>\n",
       "    <tr style=\"text-align: right;\">\n",
       "      <th></th>\n",
       "      <th>instruction</th>\n",
       "      <th>input</th>\n",
       "      <th>output</th>\n",
       "      <th>label</th>\n",
       "      <th>pred</th>\n",
       "      <th>pred_reasons</th>\n",
       "    </tr>\n",
       "  </thead>\n",
       "  <tbody>\n",
       "    <tr>\n",
       "      <th>4</th>\n",
       "      <td>‘클라우드’ 돕는 트레이너…‘AI’까지 넘본다 [천억클럽] 인공지능(AI) 시대, ...</td>\n",
       "      <td></td>\n",
       "      <td>근거: 이 기사는 주로 클라우드 MSP(Managed Service Provider...</td>\n",
       "      <td>False</td>\n",
       "      <td>True</td>\n",
       "      <td>근거: 베스핀글로벌의 클라우드 서비스 제공과 AI 기술 도입은 ESG와 관련이 있습...</td>\n",
       "    </tr>\n",
       "    <tr>\n",
       "      <th>16</th>\n",
       "      <td>\"한 달 빨라졌다\"...한화그룹 14개 계열사 정기 임원 인사, 51명 임원 승진 ...</td>\n",
       "      <td></td>\n",
       "      <td>근거: 이 기사는 한화그룹의 14개 계열사 정기 임원 인사에 관한 내용으로, 인사가...</td>\n",
       "      <td>True</td>\n",
       "      <td>False</td>\n",
       "      <td>근거: 이 기사는 한화그룹의 14개 계열사 정기 임원 인사에 대한 내용으로, ESG...</td>\n",
       "    </tr>\n",
       "    <tr>\n",
       "      <th>34</th>\n",
       "      <td>원유석 아시아나항공 대표 직무대행, 부사장 승진 아시아나항공은 15일 원유석 대표이...</td>\n",
       "      <td></td>\n",
       "      <td>근거: 아시아나항공의 임원 인사 단행은 ESG의 지배구조(Governance)와 관...</td>\n",
       "      <td>True</td>\n",
       "      <td>False</td>\n",
       "      <td>근거: 아시아나항공의 임원 인사와 관련된 기사는 ESG와 직접적인 관련이 없습니다....</td>\n",
       "    </tr>\n",
       "    <tr>\n",
       "      <th>46</th>\n",
       "      <td>현대차 ‘2024 아·태 세이버 어워즈’ 수상[포토뉴스] 이 글자크기로 변경됩니다....</td>\n",
       "      <td></td>\n",
       "      <td>근거: 현대차가 '2024 아·태 세이버 어워즈'를 수상했다는 내용은 구체적으로 E...</td>\n",
       "      <td>False</td>\n",
       "      <td>True</td>\n",
       "      <td>근거: 현대차가 '2024 아·태 세이버 어워즈'를 수상한 것은 ESG와 관련이 있...</td>\n",
       "    </tr>\n",
       "    <tr>\n",
       "      <th>61</th>\n",
       "      <td>세계 1위 인구 대국 인도가 꼽은 ‘올해의 차’는 기아 ‘카렌스’ 기아 미니밴 ‘카...</td>\n",
       "      <td></td>\n",
       "      <td>근거: 이 기사는 기아자동차의 제품이 인도에서 '올해의 차'와 '그린카' 부문에서 ...</td>\n",
       "      <td>False</td>\n",
       "      <td>True</td>\n",
       "      <td>근거: 기아가 인도에서 '올해의 차'와 '그린카' 부문에서 수상한 것은 ESG와 관...</td>\n",
       "    </tr>\n",
       "    <tr>\n",
       "      <th>...</th>\n",
       "      <td>...</td>\n",
       "      <td>...</td>\n",
       "      <td>...</td>\n",
       "      <td>...</td>\n",
       "      <td>...</td>\n",
       "      <td>...</td>\n",
       "    </tr>\n",
       "    <tr>\n",
       "      <th>859</th>\n",
       "      <td>LG전자, 일체형 로봇청소기 첫 출시… 中에 도전장 LG전자가 자사 첫 올인원 로봇...</td>\n",
       "      <td></td>\n",
       "      <td>근거: LG전자의 일체형 로봇청소기 출시 기사는 ESG와 직접적인 관련이 없습니다....</td>\n",
       "      <td>False</td>\n",
       "      <td>True</td>\n",
       "      <td>근거: LG전자가 일체형 로봇청소기를 출시한 것은 ESG와 관련이 있습니다. 첫째,...</td>\n",
       "    </tr>\n",
       "    <tr>\n",
       "      <th>889</th>\n",
       "      <td>동원산업, 보령바이오파마 인수 불발…\"실사 우선권 해지\" 자동요약 기사 제목과 주요...</td>\n",
       "      <td></td>\n",
       "      <td>근거: 동원산업의 보령바이오파마 인수 불발은 기업 간의 인수합병 관련 소식으로, E...</td>\n",
       "      <td>False</td>\n",
       "      <td>True</td>\n",
       "      <td>근거: 동원산업이 보령바이오파마 인수를 포기한 것은 기업의 인수 및 합병과 관련된 ...</td>\n",
       "    </tr>\n",
       "    <tr>\n",
       "      <th>898</th>\n",
       "      <td>티웨이항공 싱가포르발 항공기, 기체 안전점검 이유로 이륙 직후 회항 싱가포르를 떠나...</td>\n",
       "      <td></td>\n",
       "      <td>근거: 티웨이항공의 항공기가 안전점검을 이유로 회항한 사건은 직접적인 ESG 관련 ...</td>\n",
       "      <td>False</td>\n",
       "      <td>True</td>\n",
       "      <td>근거: 이 기사는 티웨이항공의 항공기 안전점검으로 인한 회항과 관련된 내용으로, E...</td>\n",
       "    </tr>\n",
       "    <tr>\n",
       "      <th>907</th>\n",
       "      <td>'삐약이' 신유빈, 바나나맛 우유 광고 찍고 '빙그레' 탁구 국가대표 선수 신유빈이...</td>\n",
       "      <td></td>\n",
       "      <td>근거: 이 기사는 기업 빙그레와 관련된 내용으로, 신유빈 선수가 출연한 바나나맛우유...</td>\n",
       "      <td>True</td>\n",
       "      <td>False</td>\n",
       "      <td>근거: 이 기사는 '빙그레'라는 기업의 광고 촬영과 관련된 내용으로, ESG와 관련...</td>\n",
       "    </tr>\n",
       "    <tr>\n",
       "      <th>925</th>\n",
       "      <td>성서산단 기업 36% “추석 상여금 없어” [KBS 대구]대구 성서산업단지 입주 기...</td>\n",
       "      <td></td>\n",
       "      <td>근거: 성서산업단지에 입주한 기업들의 추석 상여금 지급 여부와 관련된 뉴스는 ESG...</td>\n",
       "      <td>False</td>\n",
       "      <td>True</td>\n",
       "      <td>근거: 성서산단 기업의 상여금 지급 여부는 기업의 노동 인권 보호와 관련이 있을 수...</td>\n",
       "    </tr>\n",
       "  </tbody>\n",
       "</table>\n",
       "<p>128 rows × 6 columns</p>\n",
       "</div>"
      ],
      "text/plain": [
       "                                           instruction input  \\\n",
       "4    ‘클라우드’ 돕는 트레이너…‘AI’까지 넘본다 [천억클럽] 인공지능(AI) 시대, ...         \n",
       "16   \"한 달 빨라졌다\"...한화그룹 14개 계열사 정기 임원 인사, 51명 임원 승진 ...         \n",
       "34   원유석 아시아나항공 대표 직무대행, 부사장 승진 아시아나항공은 15일 원유석 대표이...         \n",
       "46   현대차 ‘2024 아·태 세이버 어워즈’ 수상[포토뉴스] 이 글자크기로 변경됩니다....         \n",
       "61   세계 1위 인구 대국 인도가 꼽은 ‘올해의 차’는 기아 ‘카렌스’ 기아 미니밴 ‘카...         \n",
       "..                                                 ...   ...   \n",
       "859  LG전자, 일체형 로봇청소기 첫 출시… 中에 도전장 LG전자가 자사 첫 올인원 로봇...         \n",
       "889  동원산업, 보령바이오파마 인수 불발…\"실사 우선권 해지\" 자동요약 기사 제목과 주요...         \n",
       "898  티웨이항공 싱가포르발 항공기, 기체 안전점검 이유로 이륙 직후 회항 싱가포르를 떠나...         \n",
       "907  '삐약이' 신유빈, 바나나맛 우유 광고 찍고 '빙그레' 탁구 국가대표 선수 신유빈이...         \n",
       "925  성서산단 기업 36% “추석 상여금 없어” [KBS 대구]대구 성서산업단지 입주 기...         \n",
       "\n",
       "                                                output  label   pred  \\\n",
       "4    근거: 이 기사는 주로 클라우드 MSP(Managed Service Provider...  False   True   \n",
       "16   근거: 이 기사는 한화그룹의 14개 계열사 정기 임원 인사에 관한 내용으로, 인사가...   True  False   \n",
       "34   근거: 아시아나항공의 임원 인사 단행은 ESG의 지배구조(Governance)와 관...   True  False   \n",
       "46   근거: 현대차가 '2024 아·태 세이버 어워즈'를 수상했다는 내용은 구체적으로 E...  False   True   \n",
       "61   근거: 이 기사는 기아자동차의 제품이 인도에서 '올해의 차'와 '그린카' 부문에서 ...  False   True   \n",
       "..                                                 ...    ...    ...   \n",
       "859  근거: LG전자의 일체형 로봇청소기 출시 기사는 ESG와 직접적인 관련이 없습니다....  False   True   \n",
       "889  근거: 동원산업의 보령바이오파마 인수 불발은 기업 간의 인수합병 관련 소식으로, E...  False   True   \n",
       "898  근거: 티웨이항공의 항공기가 안전점검을 이유로 회항한 사건은 직접적인 ESG 관련 ...  False   True   \n",
       "907  근거: 이 기사는 기업 빙그레와 관련된 내용으로, 신유빈 선수가 출연한 바나나맛우유...   True  False   \n",
       "925  근거: 성서산업단지에 입주한 기업들의 추석 상여금 지급 여부와 관련된 뉴스는 ESG...  False   True   \n",
       "\n",
       "                                          pred_reasons  \n",
       "4    근거: 베스핀글로벌의 클라우드 서비스 제공과 AI 기술 도입은 ESG와 관련이 있습...  \n",
       "16   근거: 이 기사는 한화그룹의 14개 계열사 정기 임원 인사에 대한 내용으로, ESG...  \n",
       "34   근거: 아시아나항공의 임원 인사와 관련된 기사는 ESG와 직접적인 관련이 없습니다....  \n",
       "46   근거: 현대차가 '2024 아·태 세이버 어워즈'를 수상한 것은 ESG와 관련이 있...  \n",
       "61   근거: 기아가 인도에서 '올해의 차'와 '그린카' 부문에서 수상한 것은 ESG와 관...  \n",
       "..                                                 ...  \n",
       "859  근거: LG전자가 일체형 로봇청소기를 출시한 것은 ESG와 관련이 있습니다. 첫째,...  \n",
       "889  근거: 동원산업이 보령바이오파마 인수를 포기한 것은 기업의 인수 및 합병과 관련된 ...  \n",
       "898  근거: 이 기사는 티웨이항공의 항공기 안전점검으로 인한 회항과 관련된 내용으로, E...  \n",
       "907  근거: 이 기사는 '빙그레'라는 기업의 광고 촬영과 관련된 내용으로, ESG와 관련...  \n",
       "925  근거: 성서산단 기업의 상여금 지급 여부는 기업의 노동 인권 보호와 관련이 있을 수...  \n",
       "\n",
       "[128 rows x 6 columns]"
      ]
     },
     "execution_count": 28,
     "metadata": {},
     "output_type": "execute_result"
    }
   ],
   "source": [
    "df[df['label']!=df['pred']]"
   ]
  },
  {
   "cell_type": "code",
   "execution_count": 29,
   "id": "f868ecf0-033f-49f4-8705-5551b6564c23",
   "metadata": {},
   "outputs": [
    {
     "name": "stdout",
     "output_type": "stream",
     "text": [
      "뉴스 기사\n",
      "\"한 달 빨라졌다\"...한화그룹 14개 계열사 정기 임원 인사, 51명 임원 승진 한화그룹 기업 이미지(CI). 한화그룹 제공  한화그룹이 14개 계열사의 정기 임원 인사를 단행했다. 인사 시기가 예년보다 한 달가량 앞당겨진 것으로 글로벌 경영 환경이 급변하는 데 빠르게 대응하려는 의도란 설명이다.  한화그룹은 27일 지주회사 격인 ㈜한화를 비롯해 총 14개사의 정기 임원 인사를 단행했다고 밝혔다. 한화에어로스페이스, 한화솔루션, 한화오션, 한화시스템, 한화에너지, 한화임팩트, 한화토탈에너지스, 한화파워시스템, 한화엔진, 한화첨단소재, 한화이센셜, 한화비전, 한화정밀기계 등이다.  이번 인사로 총 51명이 임원으로 승진했다. 승진 일자는 10월 1일이다.  한화그룹의 모태이자 주력 사업인 방위 산업을 담당하는 계열사 중 한화에어로스페이스가 가장 많은 12명의 임원을 배출했다. 한화시스템도 3명을 임원으로 승진시켰다. 한화솔루션은 7명의 신임 임원을 발탁했다. 한화솔루션은 현재의 경영 위기를 극복하고 사업 전환을 가속하기 위해 대표이사 인사에 이어 임원 인사도 앞당겨진 것이라고 설명했다.  조선업 부문인 한화오션(옛 대우조선해양)도 이날 임원 7명 승진 인사를 단행했다. 한화오션은 공정 안정화와 차별화된 원가 경쟁력 확보를 위해 현장 경험과 전문성을 겸비한 생산 분야 전문 인력 발탁에 이번 인사의 중점을 뒀다고 밝혔다. 임원 승진자 7명의 소속은 연구개발(R&D) 1명, 설계 2명, 생산 4명 등이다.  이 밖에 한화에너지, 한화임팩트, 한화토탈에너지스, 한화파워시스템, 한화엔진, 한화비전, 한화정밀기계 등 7개사가 총 13명을 신규 임원으로 승진시켰다. 한화솔루션의 자회사인 한화첨단소재와 한화이센셜도 각각 한 명의 임원 승진 인사를 발표했다.  이날 인사가 난 회사는 대부분 김승연 회장을 잇는 한화그룹 오너 3세 삼형제(김동관 김동원 김동선) 가운데 장남 김동관 부회장이 이끄는 곳이란 공통점이 있다. 예년보다 빨라진 인사에서 그의 경영 스타일을 엿볼 수 있는 셈이다.  다만 한화비전, 한화정밀기계를 지배하는 중간지주사로 신설된 한화인터스트리얼솔루션즈는 삼남 김동선 한화갤러리아 부사장이 미래전략총괄(부사장)을 맡았다. 한화인터스트리얼솔루션즈는 한화에어로스페이스에서 산업 장비·기술 분야를 떼어내 만든 법인으로 이날 유가증권시장에 재상장했다.  한화그룹 측은 \"사업 분야가 다른 계열사별 경영 환경과 인사 수요에 따라 정기 임원 승진 인사를 단행한 것\"이라며 \"인사 시기는 글로벌 경영 환경이 급변함에 따라 선제 대응하기 위해 앞당겨진 측면이 있다\"고 말했다.  김청환 기자 chk@hankookilbo.com\n",
      "----------------------------------------\n",
      "정답\n",
      "근거: 이 기사는 한화그룹의 14개 계열사 정기 임원 인사에 관한 내용으로, 인사가 예년보다 빨라진 이유를 글로벌 경영 환경의 급변에 대한 빠른 대응으로 설명하고 있습니다. 이는 지배구조 측면에서 경영진 보상 구조 및 리스크 관리와 관련된 내용으로 해석될 수 있습니다. 따라서 ESG와 관련이 있다고 판단할 수 있습니다. \n",
      "=> True\n",
      "----------------------------------------\n",
      "예측\n",
      "근거: 이 기사는 한화그룹의 14개 계열사 정기 임원 인사에 대한 내용으로, ESG와 직접적인 관련이 없습니다. 인사와 관련된 내용은 ESG의 지배구조(Governance) 측면에서 주주 권리 보호(Shareholder Rights Protection)와 관련될 수 있지만, 기사 내용은 주로 인사와 경영 환경에 대한 설명으로, ESG의 핵심 키워드와 직접적인 연관성이 부족합니다. \n",
      "=> False\n"
     ]
    }
   ],
   "source": [
    "idx = 16\n",
    "\n",
    "print('뉴스 기사')\n",
    "print(df['instruction'].loc[idx])\n",
    "print('--' * 20)\n",
    "print('정답')\n",
    "print(df['output'].loc[idx])\n",
    "print('--' * 20)\n",
    "print('예측')\n",
    "print(df['pred_reasons'].loc[idx])"
   ]
  }
 ],
 "metadata": {
  "kernelspec": {
   "display_name": "Python 3 (ipykernel)",
   "language": "python",
   "name": "python3"
  },
  "language_info": {
   "codemirror_mode": {
    "name": "ipython",
    "version": 3
   },
   "file_extension": ".py",
   "mimetype": "text/x-python",
   "name": "python",
   "nbconvert_exporter": "python",
   "pygments_lexer": "ipython3",
   "version": "3.10.12"
  }
 },
 "nbformat": 4,
 "nbformat_minor": 5
}
