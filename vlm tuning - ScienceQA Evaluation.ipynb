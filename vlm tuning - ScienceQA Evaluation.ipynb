{
 "cells": [
  {
   "cell_type": "code",
   "execution_count": 1,
   "id": "f1383d19-236a-425f-92bc-7d6ecc9c5575",
   "metadata": {},
   "outputs": [
    {
     "name": "stdout",
     "output_type": "stream",
     "text": [
      "\u001b[33mWARNING: Running pip as the 'root' user can result in broken permissions and conflicting behaviour with the system package manager. It is recommended to use a virtual environment instead: https://pip.pypa.io/warnings/venv\u001b[0m\u001b[33m\n",
      "\u001b[0m\n",
      "\u001b[1m[\u001b[0m\u001b[34;49mnotice\u001b[0m\u001b[1;39;49m]\u001b[0m\u001b[39;49m A new release of pip is available: \u001b[0m\u001b[31;49m23.3.1\u001b[0m\u001b[39;49m -> \u001b[0m\u001b[32;49m24.3.1\u001b[0m\n",
      "\u001b[1m[\u001b[0m\u001b[34;49mnotice\u001b[0m\u001b[1;39;49m]\u001b[0m\u001b[39;49m To update, run: \u001b[0m\u001b[32;49mpython -m pip install --upgrade pip\u001b[0m\n",
      "Note: you may need to restart the kernel to use updated packages.\n",
      "\u001b[33mWARNING: Running pip as the 'root' user can result in broken permissions and conflicting behaviour with the system package manager. It is recommended to use a virtual environment instead: https://pip.pypa.io/warnings/venv\u001b[0m\u001b[33m\n",
      "\u001b[0m\n",
      "\u001b[1m[\u001b[0m\u001b[34;49mnotice\u001b[0m\u001b[1;39;49m]\u001b[0m\u001b[39;49m A new release of pip is available: \u001b[0m\u001b[31;49m23.3.1\u001b[0m\u001b[39;49m -> \u001b[0m\u001b[32;49m24.3.1\u001b[0m\n",
      "\u001b[1m[\u001b[0m\u001b[34;49mnotice\u001b[0m\u001b[1;39;49m]\u001b[0m\u001b[39;49m To update, run: \u001b[0m\u001b[32;49mpython -m pip install --upgrade pip\u001b[0m\n",
      "Note: you may need to restart the kernel to use updated packages.\n"
     ]
    }
   ],
   "source": [
    "# Install Pytorch & other libraries\n",
    "%pip install -q tensorboard wandb \n",
    " \n",
    "# Install Hugging Face libraries\n",
    "%pip install -q --upgrade \\\n",
    "  \"transformers==4.45.1\" \\\n",
    "  \"datasets==3.0.1\" \\\n",
    "  \"accelerate==0.34.2\" \\\n",
    "  \"evaluate==0.4.3\" \\\n",
    "  \"bitsandbytes==0.44.0\" \\\n",
    "  \"trl==0.11.1\" \\\n",
    "  \"peft==0.13.0\" \\\n",
    "  \"qwen-vl-utils\""
   ]
  },
  {
   "cell_type": "code",
   "execution_count": 2,
   "id": "a0dcd935-a854-4e5c-9e2e-0ef59af73d87",
   "metadata": {},
   "outputs": [
    {
     "name": "stdout",
     "output_type": "stream",
     "text": [
      "Requirement already satisfied: pillow==9.4.0 in /usr/local/lib/python3.10/dist-packages (9.4.0)\n",
      "\u001b[33mWARNING: Running pip as the 'root' user can result in broken permissions and conflicting behaviour with the system package manager. It is recommended to use a virtual environment instead: https://pip.pypa.io/warnings/venv\u001b[0m\u001b[33m\n",
      "\u001b[0m\n",
      "\u001b[1m[\u001b[0m\u001b[34;49mnotice\u001b[0m\u001b[1;39;49m]\u001b[0m\u001b[39;49m A new release of pip is available: \u001b[0m\u001b[31;49m23.3.1\u001b[0m\u001b[39;49m -> \u001b[0m\u001b[32;49m24.3.1\u001b[0m\n",
      "\u001b[1m[\u001b[0m\u001b[34;49mnotice\u001b[0m\u001b[1;39;49m]\u001b[0m\u001b[39;49m To update, run: \u001b[0m\u001b[32;49mpython -m pip install --upgrade pip\u001b[0m\n"
     ]
    }
   ],
   "source": [
    "!pip install pillow==9.4.0"
   ]
  },
  {
   "cell_type": "code",
   "execution_count": 13,
   "id": "f55511c5-daca-4d06-95ca-c04cacd1baae",
   "metadata": {},
   "outputs": [],
   "source": [
    "prompt= \"\"\"질문: {korean_question}\n",
    "선택지: {korean_choices}\n",
    "힌트: {korean_hint}\"\"\"\n",
    "\n",
    "system_message = \"주어진 이미지와 질문을 바탕으로 답변하세요.\\n이때 정답은 선택지 중 1개를 선택해야하며 힌트가 주어질 수 있습니다. 가장 적절한 답을 1개 선택하세요.\""
   ]
  },
  {
   "cell_type": "code",
   "execution_count": 14,
   "id": "dcd90d26-cb1d-4262-ad29-d5435bc59d88",
   "metadata": {},
   "outputs": [],
   "source": [
    "from datasets import load_dataset\n",
    "\n",
    "# 데이터셋을 OpenAI 메시지 형식으로 변환하는 함수      \n",
    "def format_data(sample):\n",
    "   return {\"messages\": [\n",
    "               {\n",
    "                   # 시스템 프롬프트\n",
    "                   \"role\": \"system\", \n",
    "                   \"content\": [{\"type\": \"text\", \"text\": system_message}], \n",
    "               },\n",
    "               {\n",
    "                   # 유저 프롬프트\n",
    "                   \"role\": \"user\",  \n",
    "                   \"content\": [\n",
    "                       {\n",
    "                           \"type\": \"text\",\n",
    "                           \"text\": prompt.format(\n",
    "                              korean_question=sample[\"korean_question\"], \n",
    "                              korean_choices=sample[\"korean_choices\"], \n",
    "                              korean_hint=sample[\"korean_hint\"]\n",
    "                              ),\n",
    "                       },{\n",
    "                           \"type\": \"image\", \n",
    "                           \"image\": sample[\"image\"] \n",
    "                                if sample[\"image\"] is not None else \"\", \n",
    "                       }\n",
    "                   ],\n",
    "               },\n",
    "               {\n",
    "                   # AI 어시스턴트 답변\n",
    "                   \n",
    "                   \"role\": \"assistant\", \n",
    "                   \"content\": [\n",
    "                        {\n",
    "                            \"type\": \"text\", \n",
    "                            \"text\": sample[\"answer_str\"]\n",
    "                        }\n",
    "                    ], \n",
    "               },\n",
    "           ],\n",
    "       }\n",
    "\n",
    "# 허브에서 데이터셋 로드 및 이미지가 존재하는 경우만 필터링\n",
    "dataset = load_dataset(\"daje/Ko-SciecneQA\", split=\"train\")\n",
    "dataset = dataset.filter(lambda example: example[\"image\"] is not None)\n",
    "dataset = [format_data(sample) for sample in dataset]"
   ]
  },
  {
   "cell_type": "code",
   "execution_count": 15,
   "id": "daa7127e-5713-4a8f-9b74-38a360c0f55c",
   "metadata": {},
   "outputs": [],
   "source": [
    "test_dataset = dataset[int(len(dataset) * 0.9):]"
   ]
  },
  {
   "cell_type": "code",
   "execution_count": 17,
   "id": "18171912-857e-4dc0-bd33-d297d94ad5ca",
   "metadata": {},
   "outputs": [
    {
     "name": "stdout",
     "output_type": "stream",
     "text": [
      "{'messages': [{'role': 'system', 'content': [{'type': 'text', 'text': '주어진 이미지와 질문을 바탕으로 답변하세요.\\n이때 정답은 선택지 중 1개를 선택해야하며 힌트가 주어질 수 있습니다. 가장 적절한 답을 1개 선택하세요.'}]}, {'role': 'user', 'content': [{'type': 'text', 'text': \"질문: 휘트니의 실험이 가장 잘 답할 수 있는 질문을 선택하세요.\\n선택지: ['계란이 민물에서 더 잘 뜨나요, 아니면 소금물에서 더 잘 뜨나요?', '유리잔에 있는 물의 양이 계란이 물에 가라앉거나 뜨는 것에 영향을 미치나요?']\\n힌트: 아래의 글은 실험을 설명합니다. 글을 읽고 아래의 지시를 따르세요.\\n\\n휘트니는 여섯 개의 유리잔 각각에 4온스의 물을 부었습니다. 휘트니는 세 개의 유리잔에 각각 한 스푼의 소금을 녹였고, 나머지 세 개에는 소금을 넣지 않았습니다. 그런 다음, 휘트니는 한 유리잔에 계란을 넣고 계란이 뜨는지 관찰했습니다. 그녀는 계란을 꺼내어 말렸습니다. 그녀는 다른 다섯 개의 유리잔에서도 이 과정을 반복하며 계란이 뜨는지 기록했습니다. 휘트니는 이 테스트를 두 개의 계란으로 더 반복하여 민물과 소금물에서 계란이 뜨는 횟수를 비교했습니다.\\n그림: 소금물에 떠 있는 계란.\"}, {'type': 'image', 'image': <PIL.PngImagePlugin.PngImageFile image mode=RGB size=302x232 at 0x7EE6C4016470>}]}, {'role': 'assistant', 'content': [{'type': 'text', 'text': '계란이 민물에서 더 잘 뜨나요, 아니면 소금물에서 더 잘 뜨나요?'}]}]}\n"
     ]
    }
   ],
   "source": [
    "print(test_dataset[0])"
   ]
  },
  {
   "cell_type": "code",
   "execution_count": 8,
   "id": "77d8756f-0df0-4275-8ff7-756ab23fe0ac",
   "metadata": {},
   "outputs": [
    {
     "name": "stderr",
     "output_type": "stream",
     "text": [
      "Unrecognized keys in `rope_scaling` for 'rope_type'='default': {'mrope_section'}\n"
     ]
    },
    {
     "data": {
      "application/vnd.jupyter.widget-view+json": {
       "model_id": "278c1bfb207f405699ff11fb9afa9a81",
       "version_major": 2,
       "version_minor": 0
      },
      "text/plain": [
       "Downloading shards:   0%|          | 0/5 [00:00<?, ?it/s]"
      ]
     },
     "metadata": {},
     "output_type": "display_data"
    },
    {
     "data": {
      "application/vnd.jupyter.widget-view+json": {
       "model_id": "82637c9ed1ff4c1e9e34076f0df0eb97",
       "version_major": 2,
       "version_minor": 0
      },
      "text/plain": [
       "model-00002-of-00005.safetensors:  26%|##5       | 996M/3.86G [00:00<?, ?B/s]"
      ]
     },
     "metadata": {},
     "output_type": "display_data"
    },
    {
     "data": {
      "application/vnd.jupyter.widget-view+json": {
       "model_id": "f6d742ff04bb473da24c4c131863c37d",
       "version_major": 2,
       "version_minor": 0
      },
      "text/plain": [
       "model-00003-of-00005.safetensors:   0%|          | 0.00/3.86G [00:00<?, ?B/s]"
      ]
     },
     "metadata": {},
     "output_type": "display_data"
    },
    {
     "data": {
      "application/vnd.jupyter.widget-view+json": {
       "model_id": "02ba7c4298b44209b9c229b179176491",
       "version_major": 2,
       "version_minor": 0
      },
      "text/plain": [
       "model-00004-of-00005.safetensors:   0%|          | 0.00/3.86G [00:00<?, ?B/s]"
      ]
     },
     "metadata": {},
     "output_type": "display_data"
    },
    {
     "data": {
      "application/vnd.jupyter.widget-view+json": {
       "model_id": "506d5ed811fa4780a1e3bb01be53724b",
       "version_major": 2,
       "version_minor": 0
      },
      "text/plain": [
       "model-00005-of-00005.safetensors:   0%|          | 0.00/1.09G [00:00<?, ?B/s]"
      ]
     },
     "metadata": {},
     "output_type": "display_data"
    },
    {
     "name": "stderr",
     "output_type": "stream",
     "text": [
      "`Qwen2VLRotaryEmbedding` can now be fully parameterized by passing the model config through the `config` argument. All other arguments will be removed in v4.46\n"
     ]
    },
    {
     "data": {
      "application/vnd.jupyter.widget-view+json": {
       "model_id": "5853b9f6d24a4f2b951d816853763249",
       "version_major": 2,
       "version_minor": 0
      },
      "text/plain": [
       "Loading checkpoint shards:   0%|          | 0/5 [00:00<?, ?it/s]"
      ]
     },
     "metadata": {},
     "output_type": "display_data"
    },
    {
     "data": {
      "application/vnd.jupyter.widget-view+json": {
       "model_id": "7f127cbf3a8a4ec8930e7169c8ec9712",
       "version_major": 2,
       "version_minor": 0
      },
      "text/plain": [
       "generation_config.json:   0%|          | 0.00/244 [00:00<?, ?B/s]"
      ]
     },
     "metadata": {},
     "output_type": "display_data"
    },
    {
     "data": {
      "application/vnd.jupyter.widget-view+json": {
       "model_id": "28f9bf97c5dc45c6812b6e8aff662f7b",
       "version_major": 2,
       "version_minor": 0
      },
      "text/plain": [
       "preprocessor_config.json:   0%|          | 0.00/347 [00:00<?, ?B/s]"
      ]
     },
     "metadata": {},
     "output_type": "display_data"
    },
    {
     "data": {
      "application/vnd.jupyter.widget-view+json": {
       "model_id": "f9e8e09d88124634a66c74a3cc4ae259",
       "version_major": 2,
       "version_minor": 0
      },
      "text/plain": [
       "tokenizer_config.json:   0%|          | 0.00/4.19k [00:00<?, ?B/s]"
      ]
     },
     "metadata": {},
     "output_type": "display_data"
    },
    {
     "data": {
      "application/vnd.jupyter.widget-view+json": {
       "model_id": "40de63e6594b42f4be28e291d1275eed",
       "version_major": 2,
       "version_minor": 0
      },
      "text/plain": [
       "vocab.json:   0%|          | 0.00/2.78M [00:00<?, ?B/s]"
      ]
     },
     "metadata": {},
     "output_type": "display_data"
    },
    {
     "data": {
      "application/vnd.jupyter.widget-view+json": {
       "model_id": "2ffeec8520384b3685b6eb56540b0df8",
       "version_major": 2,
       "version_minor": 0
      },
      "text/plain": [
       "merges.txt:   0%|          | 0.00/1.67M [00:00<?, ?B/s]"
      ]
     },
     "metadata": {},
     "output_type": "display_data"
    },
    {
     "data": {
      "application/vnd.jupyter.widget-view+json": {
       "model_id": "418e969d1bef4e15ada89ad31ca43f2a",
       "version_major": 2,
       "version_minor": 0
      },
      "text/plain": [
       "tokenizer.json:   0%|          | 0.00/7.03M [00:00<?, ?B/s]"
      ]
     },
     "metadata": {},
     "output_type": "display_data"
    },
    {
     "data": {
      "application/vnd.jupyter.widget-view+json": {
       "model_id": "0d8f4873cfc149cf9cc1e0b1b09eb585",
       "version_major": 2,
       "version_minor": 0
      },
      "text/plain": [
       "chat_template.json:   0%|          | 0.00/1.05k [00:00<?, ?B/s]"
      ]
     },
     "metadata": {},
     "output_type": "display_data"
    }
   ],
   "source": [
    "import torch\n",
    "from transformers import AutoModelForVision2Seq, AutoProcessor\n",
    " \n",
    "# 허깅페이스에서 제공하는 Qwen 시리즈의 비전-언어 모델 ID\n",
    "model_id = \"Qwen/Qwen2-VL-7B-Instruct\"\n",
    " \n",
    "# 모델과 프로세서 로드\n",
    "model = AutoModelForVision2Seq.from_pretrained(\n",
    "   model_id,\n",
    "   # 가용한 GPU 메모리에 모델을 자동으로 최적 할당하는 설정\n",
    "   device_map=\"auto\",     \n",
    "   # 메모리 효율과 연산 속도를 위해 bfloat16 형식의 부동소수점 정밀도 사용             \n",
    "   torch_dtype=torch.bfloat16,                  \n",
    ")\n",
    " \n",
    "# 입력 텍스트와 이미지를 모델이 이해할 수 있는 형태로 변환하는 전처리기 로드\n",
    "processor = AutoProcessor.from_pretrained(model_id)"
   ]
  },
  {
   "cell_type": "code",
   "execution_count": 9,
   "id": "9e26380d-9de0-417a-8db7-83091a2fb5af",
   "metadata": {},
   "outputs": [],
   "source": [
    "# 모델 답변을 생성하는 함수\n",
    "def generate_description(messages, model, processor):\n",
    "   # 추론을 위한 준비\n",
    "   text = processor.apply_chat_template(\n",
    "       messages, tokenize=False, add_generation_prompt=True\n",
    "   )\n",
    "   image_inputs, video_inputs = process_vision_info(messages)\n",
    "   inputs = processor(\n",
    "       text=[text],\n",
    "       images=image_inputs,\n",
    "       videos=video_inputs,\n",
    "       padding=True,\n",
    "       return_tensors=\"pt\",\n",
    "   )\n",
    "    \n",
    "   inputs = inputs.to(model.device)\n",
    "   # 추론: 출력 생성\n",
    "   generated_ids = model.generate(\n",
    "      **inputs, \n",
    "      max_new_tokens=128,\n",
    "      top_p=1.0, \n",
    "      do_sample=True, \n",
    "      temperature=0.1\n",
    "      )\n",
    "   generated_ids_trimmed = [\n",
    "      out_ids[len(in_ids) :] \n",
    "      for in_ids, out_ids in zip(inputs.input_ids, generated_ids)\n",
    "    ]\n",
    "\n",
    "    # 출력 부분만\n",
    "   output_text = processor.batch_decode(\n",
    "       generated_ids_trimmed, \n",
    "       skip_special_tokens=True, \n",
    "       clean_up_tokenization_spaces=False\n",
    "   )\n",
    "   return output_text[0]"
   ]
  },
  {
   "cell_type": "code",
   "execution_count": 20,
   "id": "6b871986-93a4-4624-9a51-da98c474e51c",
   "metadata": {},
   "outputs": [
    {
     "name": "stdout",
     "output_type": "stream",
     "text": [
      "[{'role': 'system', 'content': [{'type': 'text', 'text': '주어진 이미지와 질문을 바탕으로 답변하세요.\\n이때 정답은 선택지 중 1개를 선택해야하며 힌트가 주어질 수 있습니다. 가장 적절한 답을 1개 선택하세요.'}]}, {'role': 'user', 'content': [{'type': 'text', 'text': \"질문: 휘트니의 실험이 가장 잘 답할 수 있는 질문을 선택하세요.\\n선택지: ['계란이 민물에서 더 잘 뜨나요, 아니면 소금물에서 더 잘 뜨나요?', '유리잔에 있는 물의 양이 계란이 물에 가라앉거나 뜨는 것에 영향을 미치나요?']\\n힌트: 아래의 글은 실험을 설명합니다. 글을 읽고 아래의 지시를 따르세요.\\n\\n휘트니는 여섯 개의 유리잔 각각에 4온스의 물을 부었습니다. 휘트니는 세 개의 유리잔에 각각 한 스푼의 소금을 녹였고, 나머지 세 개에는 소금을 넣지 않았습니다. 그런 다음, 휘트니는 한 유리잔에 계란을 넣고 계란이 뜨는지 관찰했습니다. 그녀는 계란을 꺼내어 말렸습니다. 그녀는 다른 다섯 개의 유리잔에서도 이 과정을 반복하며 계란이 뜨는지 기록했습니다. 휘트니는 이 테스트를 두 개의 계란으로 더 반복하여 민물과 소금물에서 계란이 뜨는 횟수를 비교했습니다.\\n그림: 소금물에 떠 있는 계란.\"}, {'type': 'image', 'image': <PIL.PngImagePlugin.PngImageFile image mode=RGB size=302x232 at 0x7EE6C4016470>}]}, {'role': 'assistant', 'content': [{'type': 'text', 'text': '계란이 민물에서 더 잘 뜨나요, 아니면 소금물에서 더 잘 뜨나요?'}]}]\n"
     ]
    }
   ],
   "source": [
    "from qwen_vl_utils import process_vision_info\n",
    "\n",
    "# 테스트 데이터 1개 출력\n",
    "messages =  test_dataset[0][\"messages\"]\n",
    "print(messages)"
   ]
  },
  {
   "cell_type": "code",
   "execution_count": 21,
   "id": "50e10750-5a48-431e-b41d-acdf9d5d41f0",
   "metadata": {},
   "outputs": [
    {
     "name": "stdout",
     "output_type": "stream",
     "text": [
      "'유리잔에 있는 물의 양이 계란이 물에 가라앉거나 뜰하는 것에 영향을 미치나요?'\n"
     ]
    }
   ],
   "source": [
    "base_description = generate_description(messages, model, processor)\n",
    "print(base_description)"
   ]
  },
  {
   "cell_type": "code",
   "execution_count": 22,
   "id": "ab9cdd8c-2306-4731-b278-759b1f1673d2",
   "metadata": {},
   "outputs": [
    {
     "data": {
      "application/vnd.jupyter.widget-view+json": {
       "model_id": "fc188f1b830a4289a44c8d1eba0ea0ab",
       "version_major": 2,
       "version_minor": 0
      },
      "text/plain": [
       "  0%|          | 0/622 [00:00<?, ?it/s]"
      ]
     },
     "metadata": {},
     "output_type": "display_data"
    }
   ],
   "source": [
    "# 테스트 데이터 전체에 대해서 출력\n",
    "from tqdm.auto import tqdm \n",
    "\n",
    "no_train_result = [] \n",
    "\n",
    "for idx in tqdm(range(len(test_dataset))):\n",
    "    messages =  test_dataset[idx][\"messages\"]\n",
    "    base_description = generate_description(messages, model, processor)\n",
    "    no_train_result.append(base_description)"
   ]
  },
  {
   "cell_type": "code",
   "execution_count": 23,
   "id": "913c1b6b-0437-4ec6-971e-d1a332c30d16",
   "metadata": {},
   "outputs": [
    {
     "data": {
      "text/plain": [
       "['계란이 민물에서 더 잘 뜨나요, 아니면 소금물에서 더 잘 뜨나요?', '두 쌍의 자기력 크기는 같습니다.']"
      ]
     },
     "execution_count": 23,
     "metadata": {},
     "output_type": "execute_result"
    }
   ],
   "source": [
    "# 정답 추출\n",
    "answers = [data[\"messages\"][2][\"content\"][0][\"text\"] for data in test_dataset]\n",
    "answers[:2]"
   ]
  },
  {
   "cell_type": "code",
   "execution_count": 26,
   "id": "10a69136-22bd-4a97-a93b-6f910573a3cf",
   "metadata": {},
   "outputs": [
    {
     "name": "stdout",
     "output_type": "stream",
     "text": [
      "맞춘 샘플 개수: 448\n",
      "정확도: 72.02572347266882\n"
     ]
    }
   ],
   "source": [
    "# 정확도 계산\n",
    "hit = 0\n",
    "for inference, answer in zip(no_train_result, answers):\n",
    "    if inference == answer : \n",
    "        hit += 1\n",
    "print('맞춘 샘플 개수:',hit)\n",
    "print('정확도:', hit/len(answers) * 100)"
   ]
  },
  {
   "cell_type": "code",
   "execution_count": 30,
   "id": "284c2b18-7ce4-41f1-9f38-86493696ffd1",
   "metadata": {},
   "outputs": [
    {
     "data": {
      "text/plain": [
       "['계란이 민물에서 더 잘 뜨나요, 아니면 소금물에서 더 잘 뜨나요?',\n",
       " '두 쌍의 자기력 크기는 같습니다.',\n",
       " '매사추세츠',\n",
       " '피닉스',\n",
       " '용액 B',\n",
       " '델라웨어',\n",
       " '샘플 B',\n",
       " '켄터키',\n",
       " '호주',\n",
       " '밀어내다']"
      ]
     },
     "execution_count": 30,
     "metadata": {},
     "output_type": "execute_result"
    }
   ],
   "source": [
    "answers[:10]"
   ]
  },
  {
   "cell_type": "code",
   "execution_count": 31,
   "id": "2429ae16-91ac-4251-bb1b-1d55caee2e13",
   "metadata": {},
   "outputs": [
    {
     "data": {
      "text/plain": [
       "[\"'유리잔에 있는 물의 양이 계란이 물에 가라앉거나 뜰하는 것에 영향을 미치나요?'\",\n",
       " '두 쌍의 자기력 크기는 같습니다.',\n",
       " '매사추세츠',\n",
       " '피닉스',\n",
       " '용액 B',\n",
       " '메릴랜드',\n",
       " '샘플 B',\n",
       " '메인',\n",
       " '호주',\n",
       " '밀어내다']"
      ]
     },
     "execution_count": 31,
     "metadata": {},
     "output_type": "execute_result"
    }
   ],
   "source": [
    "no_train_result[:10]"
   ]
  },
  {
   "cell_type": "code",
   "execution_count": 34,
   "id": "bdb15e06-acb7-4907-985a-6a365e996527",
   "metadata": {},
   "outputs": [
    {
     "name": "stderr",
     "output_type": "stream",
     "text": [
      "huggingface/tokenizers: The current process just got forked, after parallelism has already been used. Disabling parallelism to avoid deadlocks...\n",
      "To disable this warning, you can either:\n",
      "\t- Avoid using `tokenizers` before the fork if possible\n",
      "\t- Explicitly set the environment variable TOKENIZERS_PARALLELISM=(true | false)\n"
     ]
    }
   ],
   "source": [
    "!rm -rf .cache/huggingface/hub/models--Qwen/Qwen2-VL-7B-Instruct/"
   ]
  },
  {
   "cell_type": "code",
   "execution_count": 33,
   "id": "e6e021b0-7dd4-4a7e-b861-2be4651d1d6d",
   "metadata": {},
   "outputs": [
    {
     "data": {
      "application/vnd.jupyter.widget-view+json": {
       "model_id": "87231923ff284de0ba8665273c545382",
       "version_major": 2,
       "version_minor": 0
      },
      "text/plain": [
       "config.json:   0%|          | 0.00/1.12k [00:00<?, ?B/s]"
      ]
     },
     "metadata": {},
     "output_type": "display_data"
    },
    {
     "name": "stderr",
     "output_type": "stream",
     "text": [
      "Unrecognized keys in `rope_scaling` for 'rope_type'='default': {'mrope_section'}\n"
     ]
    },
    {
     "data": {
      "application/vnd.jupyter.widget-view+json": {
       "model_id": "f56b330169d644ad8833dfa09037a92b",
       "version_major": 2,
       "version_minor": 0
      },
      "text/plain": [
       "model.safetensors.index.json:   0%|          | 0.00/56.5k [00:00<?, ?B/s]"
      ]
     },
     "metadata": {},
     "output_type": "display_data"
    },
    {
     "data": {
      "application/vnd.jupyter.widget-view+json": {
       "model_id": "a51a0faa11a541c0abf7dce3f80fd96c",
       "version_major": 2,
       "version_minor": 0
      },
      "text/plain": [
       "Downloading shards:   0%|          | 0/18 [00:00<?, ?it/s]"
      ]
     },
     "metadata": {},
     "output_type": "display_data"
    },
    {
     "data": {
      "application/vnd.jupyter.widget-view+json": {
       "model_id": "a7e19270d4f94aaabdc8b31a3f6b607f",
       "version_major": 2,
       "version_minor": 0
      },
      "text/plain": [
       "model-00001-of-00018.safetensors:   0%|          | 0.00/1.99G [00:00<?, ?B/s]"
      ]
     },
     "metadata": {},
     "output_type": "display_data"
    },
    {
     "data": {
      "application/vnd.jupyter.widget-view+json": {
       "model_id": "57c1ca8dd6974d65a1d77c210167579c",
       "version_major": 2,
       "version_minor": 0
      },
      "text/plain": [
       "model-00002-of-00018.safetensors:   0%|          | 0.00/2.18G [00:00<?, ?B/s]"
      ]
     },
     "metadata": {},
     "output_type": "display_data"
    },
    {
     "data": {
      "application/vnd.jupyter.widget-view+json": {
       "model_id": "d85ca25cdc264650b77340552012a7e4",
       "version_major": 2,
       "version_minor": 0
      },
      "text/plain": [
       "model-00003-of-00018.safetensors:   0%|          | 0.00/1.76G [00:00<?, ?B/s]"
      ]
     },
     "metadata": {},
     "output_type": "display_data"
    },
    {
     "data": {
      "application/vnd.jupyter.widget-view+json": {
       "model_id": "7356860c4f1149fd883058c2b9a1b93e",
       "version_major": 2,
       "version_minor": 0
      },
      "text/plain": [
       "model-00004-of-00018.safetensors:   0%|          | 0.00/1.86G [00:00<?, ?B/s]"
      ]
     },
     "metadata": {},
     "output_type": "display_data"
    },
    {
     "data": {
      "application/vnd.jupyter.widget-view+json": {
       "model_id": "90a07484850e43a683316ae42a2d2971",
       "version_major": 2,
       "version_minor": 0
      },
      "text/plain": [
       "model-00005-of-00018.safetensors:   0%|          | 0.00/1.86G [00:00<?, ?B/s]"
      ]
     },
     "metadata": {},
     "output_type": "display_data"
    },
    {
     "data": {
      "application/vnd.jupyter.widget-view+json": {
       "model_id": "b30d391f72954b439ef7f59fab60f230",
       "version_major": 2,
       "version_minor": 0
      },
      "text/plain": [
       "model-00006-of-00018.safetensors:   0%|          | 0.00/1.86G [00:00<?, ?B/s]"
      ]
     },
     "metadata": {},
     "output_type": "display_data"
    },
    {
     "data": {
      "application/vnd.jupyter.widget-view+json": {
       "model_id": "0d9db284a10b4a76aecb9f00be72d2d6",
       "version_major": 2,
       "version_minor": 0
      },
      "text/plain": [
       "model-00007-of-00018.safetensors:   0%|          | 0.00/1.86G [00:00<?, ?B/s]"
      ]
     },
     "metadata": {},
     "output_type": "display_data"
    },
    {
     "data": {
      "application/vnd.jupyter.widget-view+json": {
       "model_id": "96c21c953e2e4aeb841c514a3b72003e",
       "version_major": 2,
       "version_minor": 0
      },
      "text/plain": [
       "model-00008-of-00018.safetensors:   0%|          | 0.00/1.86G [00:00<?, ?B/s]"
      ]
     },
     "metadata": {},
     "output_type": "display_data"
    },
    {
     "data": {
      "application/vnd.jupyter.widget-view+json": {
       "model_id": "6087b8f40b3349a29245231b1a79e0d6",
       "version_major": 2,
       "version_minor": 0
      },
      "text/plain": [
       "model-00009-of-00018.safetensors:   0%|          | 0.00/1.86G [00:00<?, ?B/s]"
      ]
     },
     "metadata": {},
     "output_type": "display_data"
    },
    {
     "data": {
      "application/vnd.jupyter.widget-view+json": {
       "model_id": "d4762e01d11149a19adb217be606c83d",
       "version_major": 2,
       "version_minor": 0
      },
      "text/plain": [
       "model-00010-of-00018.safetensors:   0%|          | 0.00/1.86G [00:00<?, ?B/s]"
      ]
     },
     "metadata": {},
     "output_type": "display_data"
    },
    {
     "data": {
      "application/vnd.jupyter.widget-view+json": {
       "model_id": "6836c630a11a43c2a7be8c3ca4a49afd",
       "version_major": 2,
       "version_minor": 0
      },
      "text/plain": [
       "model-00011-of-00018.safetensors:   0%|          | 0.00/1.86G [00:00<?, ?B/s]"
      ]
     },
     "metadata": {},
     "output_type": "display_data"
    },
    {
     "data": {
      "application/vnd.jupyter.widget-view+json": {
       "model_id": "64b2b7e6329542e9be3f130048b88b91",
       "version_major": 2,
       "version_minor": 0
      },
      "text/plain": [
       "model-00012-of-00018.safetensors:   0%|          | 0.00/1.86G [00:00<?, ?B/s]"
      ]
     },
     "metadata": {},
     "output_type": "display_data"
    },
    {
     "data": {
      "application/vnd.jupyter.widget-view+json": {
       "model_id": "dcc887066e4e4300bc3baefbd1b0ddfa",
       "version_major": 2,
       "version_minor": 0
      },
      "text/plain": [
       "model-00013-of-00018.safetensors:   0%|          | 0.00/1.86G [00:00<?, ?B/s]"
      ]
     },
     "metadata": {},
     "output_type": "display_data"
    },
    {
     "data": {
      "application/vnd.jupyter.widget-view+json": {
       "model_id": "5c44764cdc6f4e3e9ace6c8f5a502e0c",
       "version_major": 2,
       "version_minor": 0
      },
      "text/plain": [
       "model-00014-of-00018.safetensors:   0%|          | 0.00/1.86G [00:00<?, ?B/s]"
      ]
     },
     "metadata": {},
     "output_type": "display_data"
    },
    {
     "data": {
      "application/vnd.jupyter.widget-view+json": {
       "model_id": "2cc0051664ce40ffbd569a49a74a3945",
       "version_major": 2,
       "version_minor": 0
      },
      "text/plain": [
       "model-00015-of-00018.safetensors:   0%|          | 0.00/1.86G [00:00<?, ?B/s]"
      ]
     },
     "metadata": {},
     "output_type": "display_data"
    },
    {
     "data": {
      "application/vnd.jupyter.widget-view+json": {
       "model_id": "578b913f30fb4e7999aeb1e897a15e05",
       "version_major": 2,
       "version_minor": 0
      },
      "text/plain": [
       "model-00016-of-00018.safetensors:   0%|          | 0.00/1.86G [00:00<?, ?B/s]"
      ]
     },
     "metadata": {},
     "output_type": "display_data"
    },
    {
     "data": {
      "application/vnd.jupyter.widget-view+json": {
       "model_id": "2274ee19b0bd45d1a2335bc0778bb108",
       "version_major": 2,
       "version_minor": 0
      },
      "text/plain": [
       "model-00017-of-00018.safetensors:   0%|          | 0.00/2.18G [00:00<?, ?B/s]"
      ]
     },
     "metadata": {},
     "output_type": "display_data"
    },
    {
     "data": {
      "application/vnd.jupyter.widget-view+json": {
       "model_id": "0c5d23882dae49a6bb001e2f04a5070d",
       "version_major": 2,
       "version_minor": 0
      },
      "text/plain": [
       "model-00018-of-00018.safetensors:   0%|          | 0.00/815M [00:00<?, ?B/s]"
      ]
     },
     "metadata": {},
     "output_type": "display_data"
    },
    {
     "data": {
      "application/vnd.jupyter.widget-view+json": {
       "model_id": "d92a7bd7b2794fbb9c865b7a1dd97cdd",
       "version_major": 2,
       "version_minor": 0
      },
      "text/plain": [
       "Loading checkpoint shards:   0%|          | 0/18 [00:00<?, ?it/s]"
      ]
     },
     "metadata": {},
     "output_type": "display_data"
    },
    {
     "data": {
      "application/vnd.jupyter.widget-view+json": {
       "model_id": "052ccf447f774badbd39090fc4942011",
       "version_major": 2,
       "version_minor": 0
      },
      "text/plain": [
       "generation_config.json:   0%|          | 0.00/215 [00:00<?, ?B/s]"
      ]
     },
     "metadata": {},
     "output_type": "display_data"
    }
   ],
   "source": [
    "# 허깅페이스에서 제공하는 Qwen 시리즈의 비전-언어 모델 ID\n",
    "lora_model_id = \"iamjoon/Qwen2-VL-7B-instruct-KoScienceQA\"\n",
    " \n",
    "# 모델과 프로세서 로드\n",
    "lora_model = AutoModelForVision2Seq.from_pretrained(\n",
    "   lora_model_id,\n",
    "   # 가용한 GPU 메모리에 모델을 자동으로 최적 할당하는 설정\n",
    "   device_map=\"auto\",     \n",
    "   # 메모리 효율과 연산 속도를 위해 bfloat16 형식의 부동소수점 정밀도 사용             \n",
    "   torch_dtype=torch.bfloat16,                  \n",
    ")"
   ]
  },
  {
   "cell_type": "code",
   "execution_count": 35,
   "id": "12c59b2e-6919-4d08-ab42-59a3981dbbfe",
   "metadata": {},
   "outputs": [
    {
     "data": {
      "application/vnd.jupyter.widget-view+json": {
       "model_id": "0401f68d8ed549e7918cd8fca5bd9d9d",
       "version_major": 2,
       "version_minor": 0
      },
      "text/plain": [
       "  0%|          | 0/622 [00:00<?, ?it/s]"
      ]
     },
     "metadata": {},
     "output_type": "display_data"
    }
   ],
   "source": [
    "# 학습한 모델로 예측하기 \n",
    "results = [] \n",
    "for idx in tqdm(range(len(test_dataset))):\n",
    "    messages =  test_dataset[idx][\"messages\"]\n",
    "    ft_description = generate_description(messages, lora_model, processor)\n",
    "    results.append(ft_description)"
   ]
  },
  {
   "cell_type": "code",
   "execution_count": 36,
   "id": "953c2c09-782a-46e0-a67a-bade832d1743",
   "metadata": {},
   "outputs": [
    {
     "name": "stdout",
     "output_type": "stream",
     "text": [
      "맞춘 샘플 개수: 609\n",
      "정확도: 97.90996784565917\n"
     ]
    }
   ],
   "source": [
    "# 정확도 계산\n",
    "hit = 0\n",
    "for inference, answer in zip(results, answers):\n",
    "    if inference == answer : \n",
    "        hit += 1\n",
    "print('맞춘 샘플 개수:',hit)\n",
    "print('정확도:', hit/len(answers) * 100)"
   ]
  }
 ],
 "metadata": {
  "kernelspec": {
   "display_name": "Python 3 (ipykernel)",
   "language": "python",
   "name": "python3"
  },
  "language_info": {
   "codemirror_mode": {
    "name": "ipython",
    "version": 3
   },
   "file_extension": ".py",
   "mimetype": "text/x-python",
   "name": "python",
   "nbconvert_exporter": "python",
   "pygments_lexer": "ipython3",
   "version": "3.10.12"
  }
 },
 "nbformat": 4,
 "nbformat_minor": 5
}
