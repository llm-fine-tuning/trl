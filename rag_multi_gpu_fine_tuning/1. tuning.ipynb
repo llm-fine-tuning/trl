{
 "cells": [
  {
   "cell_type": "code",
   "execution_count": 2,
   "id": "2b9a066b-4205-4ff6-8619-8007c80328b4",
   "metadata": {},
   "outputs": [
    {
     "name": "stdout",
     "output_type": "stream",
     "text": [
      "Cloning into 'trl'...\n",
      "remote: Enumerating objects: 81, done.\u001b[K\n",
      "remote: Counting objects: 100% (81/81), done.\u001b[K\n",
      "remote: Compressing objects: 100% (62/62), done.\u001b[K\n",
      "remote: Total 81 (delta 38), reused 54 (delta 17), pack-reused 0 (from 0)\u001b[K\n",
      "Receiving objects: 100% (81/81), 240.43 KiB | 3.16 MiB/s, done.\n",
      "Resolving deltas: 100% (38/38), done.\n"
     ]
    }
   ],
   "source": [
    "!git clone https://github.com/llm-fine-tuning/trl.git"
   ]
  },
  {
   "cell_type": "code",
   "execution_count": 3,
   "id": "35b4a7fb-284c-4c9b-8e0c-badac579195d",
   "metadata": {},
   "outputs": [
    {
     "data": {
      "text/plain": [
       "'/workspace'"
      ]
     },
     "execution_count": 3,
     "metadata": {},
     "output_type": "execute_result"
    }
   ],
   "source": [
    "# 현재 경로\n",
    "%pwd"
   ]
  },
  {
   "cell_type": "code",
   "execution_count": 4,
   "id": "a4800a4d-c186-43d7-9cc2-0fb0a35f80ce",
   "metadata": {},
   "outputs": [
    {
     "name": "stdout",
     "output_type": "stream",
     "text": [
      "total 284\n",
      "drwxr-xr-x 4 root root    154 Mar 15 14:10 \u001b[0m\u001b[01;34m.\u001b[0m/\n",
      "drwxr-xr-x 1 root root    124 Mar 15 14:01 \u001b[01;34m..\u001b[0m/\n",
      "drwxr-xr-x 2 root root    123 Mar 15 14:09 \u001b[01;34m.ipynb_checkpoints\u001b[0m/\n",
      "-rw-r--r-- 1 root root    635 Mar 15 14:07 Untitled.ipynb\n",
      "-rw-r--r-- 1 root root     72 Mar 15 14:09 Untitled1.ipynb\n",
      "-rw-r--r-- 1 root root     72 Mar 15 14:09 Untitled2.ipynb\n",
      "drwxr-xr-x 6 root root   4096 Mar 15 14:10 \u001b[01;34mtrl\u001b[0m/\n",
      "-rw-r--r-- 1 root root 270778 Mar 15 14:08 trl.git\n"
     ]
    }
   ],
   "source": [
    "# 현재 경로에 있는 파일이나 디렉토리\n",
    "%ls -al"
   ]
  },
  {
   "cell_type": "code",
   "execution_count": 5,
   "id": "f9dbf8a8-6c3f-4e8e-9446-be0ab5ccab82",
   "metadata": {},
   "outputs": [
    {
     "name": "stdout",
     "output_type": "stream",
     "text": [
      "/workspace/trl\n"
     ]
    },
    {
     "name": "stderr",
     "output_type": "stream",
     "text": [
      "/usr/local/lib/python3.10/dist-packages/IPython/core/magics/osm.py:417: UserWarning: using dhist requires you to install the `pickleshare` library.\n",
      "  self.shell.db['dhist'] = compress_dhist(dhist)[-100:]\n"
     ]
    }
   ],
   "source": [
    "# trl 디렉토리로 이동\n",
    "%cd trl"
   ]
  },
  {
   "cell_type": "code",
   "execution_count": 6,
   "id": "82937f41-4c2a-4097-a625-e499683293a3",
   "metadata": {},
   "outputs": [
    {
     "data": {
      "text/plain": [
       "'/workspace/trl'"
      ]
     },
     "execution_count": 6,
     "metadata": {},
     "output_type": "execute_result"
    }
   ],
   "source": [
    "# 다시 확인하는 현재 경로\n",
    "%pwd"
   ]
  },
  {
   "cell_type": "code",
   "execution_count": 8,
   "id": "244d0619-4ea5-4872-a2aa-6ca2a3c4b3e6",
   "metadata": {},
   "outputs": [
    {
     "name": "stdout",
     "output_type": "stream",
     "text": [
      "total 580\n",
      "drwxr-xr-x 6 root root   4096 Mar 15 14:10  \u001b[0m\u001b[01;34m.\u001b[0m/\n",
      "drwxr-xr-x 4 root root    154 Mar 15 14:11  \u001b[01;34m..\u001b[0m/\n",
      "drwxr-xr-x 8 root root   4096 Mar 15 14:10  \u001b[01;34m.git\u001b[0m/\n",
      "drwxr-xr-x 2 root root   4096 Mar 15 14:10  \u001b[01;34m.ipynb_checkpoints\u001b[0m/\n",
      "-rw-r--r-- 1 root root    434 Mar 15 14:10  README.md\n",
      "-rw-r--r-- 1 root root    787 Mar 15 14:10  deepspeed_zero3.json\n",
      "-rw-r--r-- 1 root root 187513 Mar 15 14:10 'new_summarizer - tuning_example.ipynb'\n",
      "drwxr-xr-x 2 root root     90 Mar 15 14:10 \u001b[01;34m'old example'\u001b[0m/\n",
      "-rw-r--r-- 1 root root  22423 Mar 15 14:10 'rag - merge and upload.ipynb'\n",
      "-rw-r--r-- 1 root root 225006 Mar 15 14:10 'rag - tuning_example.ipynb'\n",
      "-rw-r--r-- 1 root root   6513 Mar 15 14:10 'rag - vllm.ipynb'\n",
      "drwxr-xr-x 2 root root     80 Mar 15 14:10  \u001b[01;34mrag_multi_gpu_fine_tuning\u001b[0m/\n",
      "-rw-r--r-- 1 root root   4089 Mar 15 14:10  sft.py\n",
      "-rw-r--r-- 1 root root   6054 Mar 15 14:10  sft_vlm_llava.py\n",
      "-rw-r--r-- 1 root root   6070 Mar 15 14:10  sft_vlm_qwen2_vl.py\n",
      "-rw-r--r-- 1 root root    602 Mar 15 14:10  train_vlm.sh\n",
      "-rw-r--r-- 1 root root  34475 Mar 15 14:10 'vlm tuning - ScienceQA Evaluation.ipynb'\n",
      "-rw-r--r-- 1 root root  62202 Mar 15 14:10 'vlm tuning - ScienceQA.ipynb'\n"
     ]
    }
   ],
   "source": [
    "# 현재 경로에 있는 파일이나 디렉토리\n",
    "%ls -al"
   ]
  },
  {
   "cell_type": "code",
   "execution_count": 9,
   "id": "3da07c7b-8f83-405d-b431-2efc4d7578be",
   "metadata": {},
   "outputs": [
    {
     "name": "stdout",
     "output_type": "stream",
     "text": [
      "/workspace/trl/rag_multi_gpu_fine_tuning\n"
     ]
    }
   ],
   "source": [
    "%cd rag_multi_gpu_fine_tuning"
   ]
  },
  {
   "cell_type": "code",
   "execution_count": 10,
   "id": "d186fcbb-f601-467e-ac51-725b2f1ac267",
   "metadata": {},
   "outputs": [
    {
     "data": {
      "text/plain": [
       "'/workspace/trl/rag_multi_gpu_fine_tuning'"
      ]
     },
     "execution_count": 10,
     "metadata": {},
     "output_type": "execute_result"
    }
   ],
   "source": [
    "# 다시 확인하는 현재 경로\n",
    "%pwd"
   ]
  },
  {
   "cell_type": "code",
   "execution_count": 31,
   "id": "427edaf6-0f86-481c-879b-789ef47ebc37",
   "metadata": {},
   "outputs": [
    {
     "name": "stdout",
     "output_type": "stream",
     "text": [
      "Requirement already satisfied: torch==2.4.0 in /usr/local/lib/python3.10/dist-packages (2.4.0)\n",
      "Requirement already satisfied: transformers==4.45.1 in /usr/local/lib/python3.10/dist-packages (4.45.1)\n",
      "Requirement already satisfied: datasets==3.0.1 in /usr/local/lib/python3.10/dist-packages (3.0.1)\n",
      "Requirement already satisfied: accelerate==0.34.2 in /usr/local/lib/python3.10/dist-packages (0.34.2)\n",
      "Requirement already satisfied: trl==0.11.1 in /usr/local/lib/python3.10/dist-packages (0.11.1)\n",
      "Requirement already satisfied: peft==0.13.0 in /usr/local/lib/python3.10/dist-packages (0.13.0)\n",
      "Collecting deepspeed==0.15.4\n",
      "  Downloading deepspeed-0.15.4.tar.gz (1.4 MB)\n",
      "\u001b[2K     \u001b[90m━━━━━━━━━━━━━━━━━━━━━━━━━━━━━━━━━━━━━━━━\u001b[0m \u001b[32m1.4/1.4 MB\u001b[0m \u001b[31m7.2 MB/s\u001b[0m eta \u001b[36m0:00:00\u001b[0ma \u001b[36m0:00:01\u001b[0m\n",
      "\u001b[?25h  Preparing metadata (setup.py) ... \u001b[?25ldone\n",
      "\u001b[?25hRequirement already satisfied: filelock in /usr/local/lib/python3.10/dist-packages (from torch==2.4.0) (3.9.0)\n",
      "Requirement already satisfied: typing-extensions>=4.8.0 in /usr/local/lib/python3.10/dist-packages (from torch==2.4.0) (4.12.2)\n",
      "Requirement already satisfied: sympy in /usr/local/lib/python3.10/dist-packages (from torch==2.4.0) (1.12)\n",
      "Requirement already satisfied: networkx in /usr/local/lib/python3.10/dist-packages (from torch==2.4.0) (3.0)\n",
      "Requirement already satisfied: jinja2 in /usr/local/lib/python3.10/dist-packages (from torch==2.4.0) (3.1.2)\n",
      "Requirement already satisfied: fsspec in /usr/local/lib/python3.10/dist-packages (from torch==2.4.0) (2024.6.1)\n",
      "Requirement already satisfied: nvidia-cuda-nvrtc-cu12==12.1.105 in /usr/local/lib/python3.10/dist-packages (from torch==2.4.0) (12.1.105)\n",
      "Requirement already satisfied: nvidia-cuda-runtime-cu12==12.1.105 in /usr/local/lib/python3.10/dist-packages (from torch==2.4.0) (12.1.105)\n",
      "Requirement already satisfied: nvidia-cuda-cupti-cu12==12.1.105 in /usr/local/lib/python3.10/dist-packages (from torch==2.4.0) (12.1.105)\n",
      "Requirement already satisfied: nvidia-cudnn-cu12==9.1.0.70 in /usr/local/lib/python3.10/dist-packages (from torch==2.4.0) (9.1.0.70)\n",
      "Requirement already satisfied: nvidia-cublas-cu12==12.1.3.1 in /usr/local/lib/python3.10/dist-packages (from torch==2.4.0) (12.1.3.1)\n",
      "Requirement already satisfied: nvidia-cufft-cu12==11.0.2.54 in /usr/local/lib/python3.10/dist-packages (from torch==2.4.0) (11.0.2.54)\n",
      "Requirement already satisfied: nvidia-curand-cu12==10.3.2.106 in /usr/local/lib/python3.10/dist-packages (from torch==2.4.0) (10.3.2.106)\n",
      "Requirement already satisfied: nvidia-cusolver-cu12==11.4.5.107 in /usr/local/lib/python3.10/dist-packages (from torch==2.4.0) (11.4.5.107)\n",
      "Requirement already satisfied: nvidia-cusparse-cu12==12.1.0.106 in /usr/local/lib/python3.10/dist-packages (from torch==2.4.0) (12.1.0.106)\n",
      "Requirement already satisfied: nvidia-nccl-cu12==2.20.5 in /usr/local/lib/python3.10/dist-packages (from torch==2.4.0) (2.20.5)\n",
      "Requirement already satisfied: nvidia-nvtx-cu12==12.1.105 in /usr/local/lib/python3.10/dist-packages (from torch==2.4.0) (12.1.105)\n",
      "Requirement already satisfied: triton==3.0.0 in /usr/local/lib/python3.10/dist-packages (from torch==2.4.0) (3.0.0)\n",
      "Requirement already satisfied: huggingface-hub<1.0,>=0.23.2 in /usr/local/lib/python3.10/dist-packages (from transformers==4.45.1) (0.29.3)\n",
      "Requirement already satisfied: numpy>=1.17 in /usr/local/lib/python3.10/dist-packages (from transformers==4.45.1) (1.24.1)\n",
      "Requirement already satisfied: packaging>=20.0 in /usr/local/lib/python3.10/dist-packages (from transformers==4.45.1) (23.2)\n",
      "Requirement already satisfied: pyyaml>=5.1 in /usr/local/lib/python3.10/dist-packages (from transformers==4.45.1) (6.0.1)\n",
      "Requirement already satisfied: regex!=2019.12.17 in /usr/local/lib/python3.10/dist-packages (from transformers==4.45.1) (2024.11.6)\n",
      "Requirement already satisfied: requests in /usr/local/lib/python3.10/dist-packages (from transformers==4.45.1) (2.32.3)\n",
      "Requirement already satisfied: safetensors>=0.4.1 in /usr/local/lib/python3.10/dist-packages (from transformers==4.45.1) (0.5.3)\n",
      "Requirement already satisfied: tokenizers<0.21,>=0.20 in /usr/local/lib/python3.10/dist-packages (from transformers==4.45.1) (0.20.3)\n",
      "Requirement already satisfied: tqdm>=4.27 in /usr/local/lib/python3.10/dist-packages (from transformers==4.45.1) (4.67.1)\n",
      "Requirement already satisfied: pyarrow>=15.0.0 in /usr/local/lib/python3.10/dist-packages (from datasets==3.0.1) (19.0.1)\n",
      "Requirement already satisfied: dill<0.3.9,>=0.3.0 in /usr/local/lib/python3.10/dist-packages (from datasets==3.0.1) (0.3.8)\n",
      "Requirement already satisfied: pandas in /usr/local/lib/python3.10/dist-packages (from datasets==3.0.1) (2.2.3)\n",
      "Requirement already satisfied: xxhash in /usr/local/lib/python3.10/dist-packages (from datasets==3.0.1) (3.5.0)\n",
      "Requirement already satisfied: multiprocess in /usr/local/lib/python3.10/dist-packages (from datasets==3.0.1) (0.70.16)\n",
      "Requirement already satisfied: aiohttp in /usr/local/lib/python3.10/dist-packages (from datasets==3.0.1) (3.11.13)\n",
      "Requirement already satisfied: psutil in /usr/local/lib/python3.10/dist-packages (from accelerate==0.34.2) (5.9.6)\n",
      "Requirement already satisfied: tyro>=0.5.11 in /usr/local/lib/python3.10/dist-packages (from trl==0.11.1) (0.9.17)\n",
      "Requirement already satisfied: hjson in /usr/local/lib/python3.10/dist-packages (from deepspeed==0.15.4) (3.1.0)\n",
      "Requirement already satisfied: msgpack in /usr/local/lib/python3.10/dist-packages (from deepspeed==0.15.4) (1.1.0)\n",
      "Requirement already satisfied: ninja in /usr/local/lib/python3.10/dist-packages (from deepspeed==0.15.4) (1.11.1.3)\n",
      "Requirement already satisfied: py-cpuinfo in /usr/local/lib/python3.10/dist-packages (from deepspeed==0.15.4) (9.0.0)\n",
      "Requirement already satisfied: pydantic>=2.0.0 in /usr/local/lib/python3.10/dist-packages (from deepspeed==0.15.4) (2.10.6)\n",
      "Requirement already satisfied: nvidia-ml-py in /usr/local/lib/python3.10/dist-packages (from deepspeed==0.15.4) (12.570.86)\n",
      "Requirement already satisfied: nvidia-nvjitlink-cu12 in /usr/local/lib/python3.10/dist-packages (from nvidia-cusolver-cu12==11.4.5.107->torch==2.4.0) (12.8.93)\n",
      "Requirement already satisfied: aiohappyeyeballs>=2.3.0 in /usr/local/lib/python3.10/dist-packages (from aiohttp->datasets==3.0.1) (2.6.1)\n",
      "Requirement already satisfied: aiosignal>=1.1.2 in /usr/local/lib/python3.10/dist-packages (from aiohttp->datasets==3.0.1) (1.3.2)\n",
      "Requirement already satisfied: async-timeout<6.0,>=4.0 in /usr/local/lib/python3.10/dist-packages (from aiohttp->datasets==3.0.1) (5.0.1)\n",
      "Requirement already satisfied: attrs>=17.3.0 in /usr/local/lib/python3.10/dist-packages (from aiohttp->datasets==3.0.1) (23.1.0)\n",
      "Requirement already satisfied: frozenlist>=1.1.1 in /usr/local/lib/python3.10/dist-packages (from aiohttp->datasets==3.0.1) (1.5.0)\n",
      "Requirement already satisfied: multidict<7.0,>=4.5 in /usr/local/lib/python3.10/dist-packages (from aiohttp->datasets==3.0.1) (6.1.0)\n",
      "Requirement already satisfied: propcache>=0.2.0 in /usr/local/lib/python3.10/dist-packages (from aiohttp->datasets==3.0.1) (0.3.0)\n",
      "Requirement already satisfied: yarl<2.0,>=1.17.0 in /usr/local/lib/python3.10/dist-packages (from aiohttp->datasets==3.0.1) (1.18.3)\n",
      "Requirement already satisfied: annotated-types>=0.6.0 in /usr/local/lib/python3.10/dist-packages (from pydantic>=2.0.0->deepspeed==0.15.4) (0.7.0)\n",
      "Requirement already satisfied: pydantic-core==2.27.2 in /usr/local/lib/python3.10/dist-packages (from pydantic>=2.0.0->deepspeed==0.15.4) (2.27.2)\n",
      "Requirement already satisfied: charset-normalizer<4,>=2 in /usr/local/lib/python3.10/dist-packages (from requests->transformers==4.45.1) (2.1.1)\n",
      "Requirement already satisfied: idna<4,>=2.5 in /usr/local/lib/python3.10/dist-packages (from requests->transformers==4.45.1) (3.4)\n",
      "Requirement already satisfied: urllib3<3,>=1.21.1 in /usr/local/lib/python3.10/dist-packages (from requests->transformers==4.45.1) (1.26.13)\n",
      "Requirement already satisfied: certifi>=2017.4.17 in /usr/local/lib/python3.10/dist-packages (from requests->transformers==4.45.1) (2022.12.7)\n",
      "Requirement already satisfied: docstring-parser>=0.15 in /usr/local/lib/python3.10/dist-packages (from tyro>=0.5.11->trl==0.11.1) (0.16)\n",
      "Requirement already satisfied: rich>=11.1.0 in /usr/local/lib/python3.10/dist-packages (from tyro>=0.5.11->trl==0.11.1) (13.9.4)\n",
      "Requirement already satisfied: shtab>=1.5.6 in /usr/local/lib/python3.10/dist-packages (from tyro>=0.5.11->trl==0.11.1) (1.7.1)\n",
      "Requirement already satisfied: typeguard>=4.0.0 in /usr/local/lib/python3.10/dist-packages (from tyro>=0.5.11->trl==0.11.1) (4.4.2)\n",
      "Requirement already satisfied: MarkupSafe>=2.0 in /usr/local/lib/python3.10/dist-packages (from jinja2->torch==2.4.0) (2.1.2)\n",
      "Requirement already satisfied: python-dateutil>=2.8.2 in /usr/local/lib/python3.10/dist-packages (from pandas->datasets==3.0.1) (2.8.2)\n",
      "Requirement already satisfied: pytz>=2020.1 in /usr/local/lib/python3.10/dist-packages (from pandas->datasets==3.0.1) (2025.1)\n",
      "Requirement already satisfied: tzdata>=2022.7 in /usr/local/lib/python3.10/dist-packages (from pandas->datasets==3.0.1) (2025.1)\n",
      "Requirement already satisfied: mpmath>=0.19 in /usr/local/lib/python3.10/dist-packages (from sympy->torch==2.4.0) (1.3.0)\n",
      "Requirement already satisfied: six>=1.5 in /usr/lib/python3/dist-packages (from python-dateutil>=2.8.2->pandas->datasets==3.0.1) (1.16.0)\n",
      "Requirement already satisfied: markdown-it-py>=2.2.0 in /usr/local/lib/python3.10/dist-packages (from rich>=11.1.0->tyro>=0.5.11->trl==0.11.1) (3.0.0)\n",
      "Requirement already satisfied: pygments<3.0.0,>=2.13.0 in /usr/local/lib/python3.10/dist-packages (from rich>=11.1.0->tyro>=0.5.11->trl==0.11.1) (2.16.1)\n",
      "Requirement already satisfied: mdurl~=0.1 in /usr/local/lib/python3.10/dist-packages (from markdown-it-py>=2.2.0->rich>=11.1.0->tyro>=0.5.11->trl==0.11.1) (0.1.2)\n",
      "Building wheels for collected packages: deepspeed\n",
      "  Building wheel for deepspeed (setup.py) ... \u001b[?25ldone\n",
      "\u001b[?25h  Created wheel for deepspeed: filename=deepspeed-0.15.4-py3-none-any.whl size=1527842 sha256=817f701a67469de8ef680f42c31a372e5aa71da313f58868b243405eca6101ce\n",
      "  Stored in directory: /root/.cache/pip/wheels/74/bc/b6/836d7c3e3093e25502fa9248e0be9e943db245f2806ba1cd19\n",
      "Successfully built deepspeed\n",
      "Installing collected packages: deepspeed\n",
      "  Attempting uninstall: deepspeed\n",
      "    Found existing installation: deepspeed 0.16.4\n",
      "    Uninstalling deepspeed-0.16.4:\n",
      "      Successfully uninstalled deepspeed-0.16.4\n",
      "Successfully installed deepspeed-0.15.4\n",
      "\u001b[33mWARNING: Running pip as the 'root' user can result in broken permissions and conflicting behaviour with the system package manager. It is recommended to use a virtual environment instead: https://pip.pypa.io/warnings/venv\u001b[0m\u001b[33m\n",
      "\u001b[0m\n",
      "\u001b[1m[\u001b[0m\u001b[34;49mnotice\u001b[0m\u001b[1;39;49m]\u001b[0m\u001b[39;49m A new release of pip is available: \u001b[0m\u001b[31;49m23.3.1\u001b[0m\u001b[39;49m -> \u001b[0m\u001b[32;49m25.0.1\u001b[0m\n",
      "\u001b[1m[\u001b[0m\u001b[34;49mnotice\u001b[0m\u001b[1;39;49m]\u001b[0m\u001b[39;49m To update, run: \u001b[0m\u001b[32;49mpython -m pip install --upgrade pip\u001b[0m\n"
     ]
    }
   ],
   "source": [
    "!pip install torch==2.4.0 transformers==4.45.1 datasets==3.0.1 accelerate==0.34.2 trl==0.11.1 peft==0.13.0 deepspeed==0.15.4"
   ]
  },
  {
   "cell_type": "code",
   "execution_count": 22,
   "id": "dd5fb984-c6c7-4745-a0f7-8e05eb31ad83",
   "metadata": {},
   "outputs": [
    {
     "name": "stdout",
     "output_type": "stream",
     "text": [
      "#!/bin/bash\n",
      "# train.sh\n",
      "# DeepSpeed로 2개의 GPU를 사용해 train.py 실행, 로그는 train.log로 저장\n",
      "deepspeed --num_gpus=2 rag_train.py"
     ]
    }
   ],
   "source": [
    "# 현재 경로에 있는 train.sh 파일 내용을 읽는다\n",
    "# gpu 몇 개를 쓸 것인지에 따라서 gpu 개수를 수정한다.\n",
    "# gpu 개수를 수정했다면 train.sh 파일을 다시 읽어보자\n",
    "!cat train.sh"
   ]
  },
  {
   "cell_type": "code",
   "execution_count": 23,
   "id": "5c2e8447-2f7b-4c79-864d-f8ae4c3cf19a",
   "metadata": {},
   "outputs": [],
   "source": [
    "# 실행권한을 부여하자\n",
    "!chmod +x train.sh"
   ]
  },
  {
   "cell_type": "code",
   "execution_count": 70,
   "id": "dac03494-e69e-4ade-bb0f-de469bc8adf7",
   "metadata": {},
   "outputs": [],
   "source": [
    "import subprocess\n",
    "\n",
    "# nohup을 사용해 train.sh 스크립트를 백그라운드에서 실행하고 로그를 train.log에 저장\n",
    "with open(\"train.log\", \"w\") as log_file:\n",
    "    subprocess.Popen([\"nohup\", \"./train.sh\"], stdout=log_file, stderr=subprocess.STDOUT)\n",
    "\n",
    "# 위 파이썬 코드는 터미널에서\n",
    "# !nohup ./train.sh > train.log 2>&1 &\n",
    "# 를 실행하는 것과 동일."
   ]
  },
  {
   "cell_type": "code",
   "execution_count": 71,
   "id": "9c15b261-0d1d-450e-8bd0-854de16cc4a4",
   "metadata": {},
   "outputs": [
    {
     "name": "stdout",
     "output_type": "stream",
     "text": [
      "root          77  0.4  0.0 784292 97920 ?        Sl   14:01   0:29 /usr/bin/python /usr/local/bin/jupyter-lab --allow-root --no-browser --port=8888 --ip=* --FileContentsManager.delete_to_trash=False --ServerApp.terminado_settings={\"shell_command\":[\"/bin/bash\"]} --ServerApp.token=bfnvqfljp5zko0xbhtlw --ServerApp.allow_origin=* --ServerApp.preferred_dir=/workspace\n",
      "root         221  0.0  0.0 748228 55080 ?        Ssl  14:05   0:01 /usr/bin/python -m ipykernel_launcher -f /root/.local/share/jupyter/runtime/kernel-b53c3de9-e662-4f91-b5ba-75b445f67764.json\n",
      "root         289  0.1  0.0 755816 61200 ?        Ssl  14:09   0:06 /usr/bin/python -m ipykernel_launcher -f /root/.local/share/jupyter/runtime/kernel-6ef07cd6-457c-46aa-a921-00ed4aaaaea8.json\n",
      "root         314  0.0  0.0 747960 53040 ?        Ssl  14:09   0:00 /usr/bin/python -m ipykernel_launcher -f /root/.local/share/jupyter/runtime/kernel-b9bb9bb6-0b67-45fe-83e2-fb172200b5bc.json\n",
      "root        3485  0.2  0.0 3954876 295712 ?      Ssl  14:36   0:09 /usr/bin/python -m ipykernel_launcher -f /root/.local/share/jupyter/runtime/kernel-8a3f06ed-04ec-41e0-af5d-c61260e795ed.json\n",
      "root        8140  4.6  0.0 14810416 528360 ?     Sl   15:37   0:11 /usr/bin/python /usr/local/bin/deepspeed --num_gpus=2 rag_train.py\n",
      "root        8235  4.6  0.0 14810388 521960 ?     Sl   15:37   0:11 /usr/bin/python -u -m deepspeed.launcher.launch --world_info=eyJsb2NhbGhvc3QiOiBbMCwgMV19 --master_addr=127.0.0.1 --master_port=29500 --enable_each_rank_log=None rag_train.py\n",
      "root        8329  101  0.1 48306024 3453688 ?    Rl   15:37   3:58 /usr/bin/python -u rag_train.py --local_rank=0\n",
      "root        8330  101  0.0 45438908 1828024 ?    Rl   15:37   3:58 /usr/bin/python -u rag_train.py --local_rank=1\n",
      "root        8730  0.0  0.0   4736  2040 pts/1    Ss+  15:41   0:00 /bin/bash -c ps aux | grep python\n",
      "root        8732  0.0  0.0   3844     0 pts/1    S+   15:41   0:00 grep python\n"
     ]
    }
   ],
   "source": [
    "# 현재 실행중인 파이썬 프로세스를 확인\n",
    "!ps aux | grep python"
   ]
  },
  {
   "cell_type": "code",
   "execution_count": 72,
   "id": "a7eec69e-bcbc-4754-9b95-41f79577d6f2",
   "metadata": {},
   "outputs": [],
   "source": [
    "# 위의 코드를 보면 rag_train.py를 실행중인 프로세스가 두 개 존재한다. \n",
    "# !kill -9 8329 8330"
   ]
  },
  {
   "cell_type": "code",
   "execution_count": 73,
   "id": "2cb9337a-f597-43a2-bbd0-9582cec8f526",
   "metadata": {},
   "outputs": [
    {
     "name": "stdout",
     "output_type": "stream",
     "text": [
      "root          77  0.4  0.0 784292 97920 ?        Sl   14:01   0:31 /usr/bin/python /usr/local/bin/jupyter-lab --allow-root --no-browser --port=8888 --ip=* --FileContentsManager.delete_to_trash=False --ServerApp.terminado_settings={\"shell_command\":[\"/bin/bash\"]} --ServerApp.token=bfnvqfljp5zko0xbhtlw --ServerApp.allow_origin=* --ServerApp.preferred_dir=/workspace\n",
      "root         221  0.0  0.0 748228 55080 ?        Ssl  14:05   0:01 /usr/bin/python -m ipykernel_launcher -f /root/.local/share/jupyter/runtime/kernel-b53c3de9-e662-4f91-b5ba-75b445f67764.json\n",
      "root         289  0.1  0.0 755816 61200 ?        Ssl  14:09   0:06 /usr/bin/python -m ipykernel_launcher -f /root/.local/share/jupyter/runtime/kernel-6ef07cd6-457c-46aa-a921-00ed4aaaaea8.json\n",
      "root         314  0.0  0.0 747960 53040 ?        Ssl  14:09   0:01 /usr/bin/python -m ipykernel_launcher -f /root/.local/share/jupyter/runtime/kernel-b9bb9bb6-0b67-45fe-83e2-fb172200b5bc.json\n",
      "root        3485  0.2  0.0 3954876 295712 ?      Ssl  14:36   0:09 /usr/bin/python -m ipykernel_launcher -f /root/.local/share/jupyter/runtime/kernel-8a3f06ed-04ec-41e0-af5d-c61260e795ed.json\n",
      "root        8879  0.0  0.0   4736  2040 pts/1    Ss+  15:48   0:00 /bin/bash -c ps aux | grep python\n",
      "root        8881  0.0  0.0   3844  2040 pts/1    S+   15:48   0:00 grep python\n"
     ]
    }
   ],
   "source": [
    "# 현재 실행중인 파이썬 프로세스를 확인.\n",
    "# train.log에서 학습이 끝난 것을 확인했다.\n",
    "!ps aux | grep python"
   ]
  },
  {
   "cell_type": "code",
   "execution_count": 53,
   "id": "56c3495c-bc27-4444-94fa-55993698cb49",
   "metadata": {},
   "outputs": [],
   "source": [
    "# 이제 rag_train.py라는 프로세스는 없다. 학습은 끝이난 것이다."
   ]
  }
 ],
 "metadata": {
  "kernelspec": {
   "display_name": "Python 3 (ipykernel)",
   "language": "python",
   "name": "python3"
  },
  "language_info": {
   "codemirror_mode": {
    "name": "ipython",
    "version": 3
   },
   "file_extension": ".py",
   "mimetype": "text/x-python",
   "name": "python",
   "nbconvert_exporter": "python",
   "pygments_lexer": "ipython3",
   "version": "3.10.12"
  }
 },
 "nbformat": 4,
 "nbformat_minor": 5
}
