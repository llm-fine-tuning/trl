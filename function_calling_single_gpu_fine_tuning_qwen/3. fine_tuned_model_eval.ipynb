{
 "cells": [
  {
   "cell_type": "code",
   "execution_count": 4,
   "id": "8053bd4e-3cc2-49fb-8077-3c86447d8364",
   "metadata": {},
   "outputs": [
    {
     "name": "stdout",
     "output_type": "stream",
     "text": [
      "Requirement already satisfied: vllm==0.8.2 in /usr/local/lib/python3.10/dist-packages (0.8.2)\n",
      "Collecting datasets\n",
      "  Downloading datasets-3.5.0-py3-none-any.whl.metadata (19 kB)\n",
      "Requirement already satisfied: cachetools in /usr/local/lib/python3.10/dist-packages (from vllm==0.8.2) (5.5.2)\n",
      "Requirement already satisfied: psutil in /usr/local/lib/python3.10/dist-packages (from vllm==0.8.2) (5.9.6)\n",
      "Requirement already satisfied: sentencepiece in /usr/local/lib/python3.10/dist-packages (from vllm==0.8.2) (0.2.0)\n",
      "Requirement already satisfied: numpy<2.0.0 in /usr/local/lib/python3.10/dist-packages (from vllm==0.8.2) (1.26.4)\n",
      "Requirement already satisfied: requests>=2.26.0 in /usr/local/lib/python3.10/dist-packages (from vllm==0.8.2) (2.31.0)\n",
      "Requirement already satisfied: tqdm in /usr/local/lib/python3.10/dist-packages (from vllm==0.8.2) (4.67.1)\n",
      "Requirement already satisfied: blake3 in /usr/local/lib/python3.10/dist-packages (from vllm==0.8.2) (1.0.4)\n",
      "Requirement already satisfied: py-cpuinfo in /usr/local/lib/python3.10/dist-packages (from vllm==0.8.2) (9.0.0)\n",
      "Requirement already satisfied: transformers>=4.48.2 in /usr/local/lib/python3.10/dist-packages (from vllm==0.8.2) (4.51.3)\n",
      "Requirement already satisfied: tokenizers>=0.19.1 in /usr/local/lib/python3.10/dist-packages (from vllm==0.8.2) (0.21.1)\n",
      "Requirement already satisfied: protobuf in /usr/local/lib/python3.10/dist-packages (from vllm==0.8.2) (6.30.2)\n",
      "Requirement already satisfied: fastapi>=0.115.0 in /usr/local/lib/python3.10/dist-packages (from fastapi[standard]>=0.115.0->vllm==0.8.2) (0.115.12)\n",
      "Requirement already satisfied: aiohttp in /usr/local/lib/python3.10/dist-packages (from vllm==0.8.2) (3.11.18)\n",
      "Requirement already satisfied: openai>=1.52.0 in /usr/local/lib/python3.10/dist-packages (from vllm==0.8.2) (1.75.0)\n",
      "Requirement already satisfied: pydantic>=2.9 in /usr/local/lib/python3.10/dist-packages (from vllm==0.8.2) (2.11.3)\n",
      "Requirement already satisfied: prometheus_client>=0.18.0 in /usr/local/lib/python3.10/dist-packages (from vllm==0.8.2) (0.18.0)\n",
      "Requirement already satisfied: pillow in /usr/local/lib/python3.10/dist-packages (from vllm==0.8.2) (11.2.1)\n",
      "Requirement already satisfied: prometheus-fastapi-instrumentator>=7.0.0 in /usr/local/lib/python3.10/dist-packages (from vllm==0.8.2) (7.1.0)\n",
      "Requirement already satisfied: tiktoken>=0.6.0 in /usr/local/lib/python3.10/dist-packages (from vllm==0.8.2) (0.9.0)\n",
      "Requirement already satisfied: lm-format-enforcer<0.11,>=0.10.11 in /usr/local/lib/python3.10/dist-packages (from vllm==0.8.2) (0.10.11)\n",
      "Requirement already satisfied: llguidance<0.8.0,>=0.7.9 in /usr/local/lib/python3.10/dist-packages (from vllm==0.8.2) (0.7.16)\n",
      "Requirement already satisfied: outlines==0.1.11 in /usr/local/lib/python3.10/dist-packages (from vllm==0.8.2) (0.1.11)\n",
      "Requirement already satisfied: lark==1.2.2 in /usr/local/lib/python3.10/dist-packages (from vllm==0.8.2) (1.2.2)\n",
      "Requirement already satisfied: xgrammar==0.1.16 in /usr/local/lib/python3.10/dist-packages (from vllm==0.8.2) (0.1.16)\n",
      "Requirement already satisfied: typing_extensions>=4.10 in /usr/local/lib/python3.10/dist-packages (from vllm==0.8.2) (4.13.2)\n",
      "Requirement already satisfied: filelock>=3.16.1 in /usr/local/lib/python3.10/dist-packages (from vllm==0.8.2) (3.18.0)\n",
      "Requirement already satisfied: partial-json-parser in /usr/local/lib/python3.10/dist-packages (from vllm==0.8.2) (0.2.1.1.post5)\n",
      "Requirement already satisfied: pyzmq in /usr/local/lib/python3.10/dist-packages (from vllm==0.8.2) (24.0.1)\n",
      "Requirement already satisfied: msgspec in /usr/local/lib/python3.10/dist-packages (from vllm==0.8.2) (0.19.0)\n",
      "Requirement already satisfied: gguf==0.10.0 in /usr/local/lib/python3.10/dist-packages (from vllm==0.8.2) (0.10.0)\n",
      "Requirement already satisfied: importlib_metadata in /usr/lib/python3/dist-packages (from vllm==0.8.2) (4.6.4)\n",
      "Requirement already satisfied: mistral_common>=1.5.4 in /usr/local/lib/python3.10/dist-packages (from mistral_common[opencv]>=1.5.4->vllm==0.8.2) (1.5.4)\n",
      "Requirement already satisfied: pyyaml in /usr/local/lib/python3.10/dist-packages (from vllm==0.8.2) (6.0.1)\n",
      "Requirement already satisfied: einops in /usr/local/lib/python3.10/dist-packages (from vllm==0.8.2) (0.8.1)\n",
      "Requirement already satisfied: compressed-tensors==0.9.2 in /usr/local/lib/python3.10/dist-packages (from vllm==0.8.2) (0.9.2)\n",
      "Requirement already satisfied: depyf==0.18.0 in /usr/local/lib/python3.10/dist-packages (from vllm==0.8.2) (0.18.0)\n",
      "Requirement already satisfied: cloudpickle in /usr/local/lib/python3.10/dist-packages (from vllm==0.8.2) (3.1.1)\n",
      "Requirement already satisfied: watchfiles in /usr/local/lib/python3.10/dist-packages (from vllm==0.8.2) (1.0.5)\n",
      "Requirement already satisfied: python-json-logger in /usr/local/lib/python3.10/dist-packages (from vllm==0.8.2) (2.0.7)\n",
      "Requirement already satisfied: scipy in /usr/local/lib/python3.10/dist-packages (from vllm==0.8.2) (1.15.2)\n",
      "Requirement already satisfied: ninja in /usr/local/lib/python3.10/dist-packages (from vllm==0.8.2) (1.11.1.4)\n",
      "Requirement already satisfied: numba==0.60.0 in /usr/local/lib/python3.10/dist-packages (from vllm==0.8.2) (0.60.0)\n",
      "Requirement already satisfied: ray>=2.43.0 in /usr/local/lib/python3.10/dist-packages (from ray[cgraph]>=2.43.0->vllm==0.8.2) (2.44.1)\n",
      "Requirement already satisfied: torch==2.6.0 in /usr/local/lib/python3.10/dist-packages (from vllm==0.8.2) (2.6.0)\n",
      "Requirement already satisfied: torchaudio==2.6.0 in /usr/local/lib/python3.10/dist-packages (from vllm==0.8.2) (2.6.0)\n",
      "Requirement already satisfied: torchvision==0.21.0 in /usr/local/lib/python3.10/dist-packages (from vllm==0.8.2) (0.21.0)\n",
      "Requirement already satisfied: xformers==0.0.29.post2 in /usr/local/lib/python3.10/dist-packages (from vllm==0.8.2) (0.0.29.post2)\n",
      "Requirement already satisfied: astor in /usr/local/lib/python3.10/dist-packages (from depyf==0.18.0->vllm==0.8.2) (0.8.1)\n",
      "Requirement already satisfied: dill in /usr/local/lib/python3.10/dist-packages (from depyf==0.18.0->vllm==0.8.2) (0.4.0)\n",
      "Requirement already satisfied: llvmlite<0.44,>=0.43.0dev0 in /usr/local/lib/python3.10/dist-packages (from numba==0.60.0->vllm==0.8.2) (0.43.0)\n",
      "Requirement already satisfied: interegular in /usr/local/lib/python3.10/dist-packages (from outlines==0.1.11->vllm==0.8.2) (0.3.3)\n",
      "Requirement already satisfied: jinja2 in /usr/local/lib/python3.10/dist-packages (from outlines==0.1.11->vllm==0.8.2) (3.1.6)\n",
      "Requirement already satisfied: nest_asyncio in /usr/local/lib/python3.10/dist-packages (from outlines==0.1.11->vllm==0.8.2) (1.5.8)\n",
      "Requirement already satisfied: diskcache in /usr/local/lib/python3.10/dist-packages (from outlines==0.1.11->vllm==0.8.2) (5.6.3)\n",
      "Requirement already satisfied: referencing in /usr/local/lib/python3.10/dist-packages (from outlines==0.1.11->vllm==0.8.2) (0.30.2)\n",
      "Requirement already satisfied: jsonschema in /usr/local/lib/python3.10/dist-packages (from outlines==0.1.11->vllm==0.8.2) (4.23.0)\n",
      "Requirement already satisfied: pycountry in /usr/local/lib/python3.10/dist-packages (from outlines==0.1.11->vllm==0.8.2) (24.6.1)\n",
      "Requirement already satisfied: airportsdata in /usr/local/lib/python3.10/dist-packages (from outlines==0.1.11->vllm==0.8.2) (20250224)\n",
      "Requirement already satisfied: outlines_core==0.1.26 in /usr/local/lib/python3.10/dist-packages (from outlines==0.1.11->vllm==0.8.2) (0.1.26)\n",
      "Requirement already satisfied: networkx in /usr/local/lib/python3.10/dist-packages (from torch==2.6.0->vllm==0.8.2) (3.0)\n",
      "Requirement already satisfied: fsspec in /usr/local/lib/python3.10/dist-packages (from torch==2.6.0->vllm==0.8.2) (2025.3.2)\n",
      "Requirement already satisfied: nvidia-cuda-nvrtc-cu12==12.4.127 in /usr/local/lib/python3.10/dist-packages (from torch==2.6.0->vllm==0.8.2) (12.4.127)\n",
      "Requirement already satisfied: nvidia-cuda-runtime-cu12==12.4.127 in /usr/local/lib/python3.10/dist-packages (from torch==2.6.0->vllm==0.8.2) (12.4.127)\n",
      "Requirement already satisfied: nvidia-cuda-cupti-cu12==12.4.127 in /usr/local/lib/python3.10/dist-packages (from torch==2.6.0->vllm==0.8.2) (12.4.127)\n",
      "Requirement already satisfied: nvidia-cudnn-cu12==9.1.0.70 in /usr/local/lib/python3.10/dist-packages (from torch==2.6.0->vllm==0.8.2) (9.1.0.70)\n",
      "Requirement already satisfied: nvidia-cublas-cu12==12.4.5.8 in /usr/local/lib/python3.10/dist-packages (from torch==2.6.0->vllm==0.8.2) (12.4.5.8)\n",
      "Requirement already satisfied: nvidia-cufft-cu12==11.2.1.3 in /usr/local/lib/python3.10/dist-packages (from torch==2.6.0->vllm==0.8.2) (11.2.1.3)\n",
      "Requirement already satisfied: nvidia-curand-cu12==10.3.5.147 in /usr/local/lib/python3.10/dist-packages (from torch==2.6.0->vllm==0.8.2) (10.3.5.147)\n",
      "Requirement already satisfied: nvidia-cusolver-cu12==11.6.1.9 in /usr/local/lib/python3.10/dist-packages (from torch==2.6.0->vllm==0.8.2) (11.6.1.9)\n",
      "Requirement already satisfied: nvidia-cusparse-cu12==12.3.1.170 in /usr/local/lib/python3.10/dist-packages (from torch==2.6.0->vllm==0.8.2) (12.3.1.170)\n",
      "Requirement already satisfied: nvidia-cusparselt-cu12==0.6.2 in /usr/local/lib/python3.10/dist-packages (from torch==2.6.0->vllm==0.8.2) (0.6.2)\n",
      "Requirement already satisfied: nvidia-nccl-cu12==2.21.5 in /usr/local/lib/python3.10/dist-packages (from torch==2.6.0->vllm==0.8.2) (2.21.5)\n",
      "Requirement already satisfied: nvidia-nvtx-cu12==12.4.127 in /usr/local/lib/python3.10/dist-packages (from torch==2.6.0->vllm==0.8.2) (12.4.127)\n",
      "Requirement already satisfied: nvidia-nvjitlink-cu12==12.4.127 in /usr/local/lib/python3.10/dist-packages (from torch==2.6.0->vllm==0.8.2) (12.4.127)\n",
      "Requirement already satisfied: triton==3.2.0 in /usr/local/lib/python3.10/dist-packages (from torch==2.6.0->vllm==0.8.2) (3.2.0)\n",
      "Requirement already satisfied: sympy==1.13.1 in /usr/local/lib/python3.10/dist-packages (from torch==2.6.0->vllm==0.8.2) (1.13.1)\n",
      "Requirement already satisfied: mpmath<1.4,>=1.1.0 in /usr/local/lib/python3.10/dist-packages (from sympy==1.13.1->torch==2.6.0->vllm==0.8.2) (1.3.0)\n",
      "Collecting pyarrow>=15.0.0 (from datasets)\n",
      "  Downloading pyarrow-19.0.1-cp310-cp310-manylinux_2_28_x86_64.whl.metadata (3.3 kB)\n",
      "Collecting dill (from depyf==0.18.0->vllm==0.8.2)\n",
      "  Downloading dill-0.3.8-py3-none-any.whl.metadata (10 kB)\n",
      "Collecting pandas (from datasets)\n",
      "  Downloading pandas-2.2.3-cp310-cp310-manylinux_2_17_x86_64.manylinux2014_x86_64.whl.metadata (89 kB)\n",
      "\u001b[2K     \u001b[90m━━━━━━━━━━━━━━━━━━━━━━━━━━━━━━━━━━━━━━━━\u001b[0m \u001b[32m89.9/89.9 kB\u001b[0m \u001b[31m7.2 MB/s\u001b[0m eta \u001b[36m0:00:00\u001b[0m\n",
      "\u001b[?25hCollecting requests>=2.26.0 (from vllm==0.8.2)\n",
      "  Downloading requests-2.32.3-py3-none-any.whl.metadata (4.6 kB)\n",
      "Collecting xxhash (from datasets)\n",
      "  Downloading xxhash-3.5.0-cp310-cp310-manylinux_2_17_x86_64.manylinux2014_x86_64.whl.metadata (12 kB)\n",
      "Collecting multiprocess<0.70.17 (from datasets)\n",
      "  Downloading multiprocess-0.70.16-py310-none-any.whl.metadata (7.2 kB)\n",
      "Collecting fsspec (from torch==2.6.0->vllm==0.8.2)\n",
      "  Downloading fsspec-2024.12.0-py3-none-any.whl.metadata (11 kB)\n",
      "Requirement already satisfied: huggingface-hub>=0.24.0 in /usr/local/lib/python3.10/dist-packages (from datasets) (0.30.2)\n",
      "Requirement already satisfied: packaging in /usr/local/lib/python3.10/dist-packages (from datasets) (23.2)\n",
      "Requirement already satisfied: starlette<0.47.0,>=0.40.0 in /usr/local/lib/python3.10/dist-packages (from fastapi>=0.115.0->fastapi[standard]>=0.115.0->vllm==0.8.2) (0.46.2)\n",
      "Requirement already satisfied: fastapi-cli>=0.0.5 in /usr/local/lib/python3.10/dist-packages (from fastapi-cli[standard]>=0.0.5; extra == \"standard\"->fastapi[standard]>=0.115.0->vllm==0.8.2) (0.0.7)\n",
      "Requirement already satisfied: httpx>=0.23.0 in /usr/local/lib/python3.10/dist-packages (from fastapi[standard]>=0.115.0->vllm==0.8.2) (0.28.1)\n",
      "Requirement already satisfied: python-multipart>=0.0.18 in /usr/local/lib/python3.10/dist-packages (from fastapi[standard]>=0.115.0->vllm==0.8.2) (0.0.20)\n",
      "Requirement already satisfied: email-validator>=2.0.0 in /usr/local/lib/python3.10/dist-packages (from fastapi[standard]>=0.115.0->vllm==0.8.2) (2.2.0)\n",
      "Requirement already satisfied: uvicorn>=0.12.0 in /usr/local/lib/python3.10/dist-packages (from uvicorn[standard]>=0.12.0; extra == \"standard\"->fastapi[standard]>=0.115.0->vllm==0.8.2) (0.34.2)\n",
      "Requirement already satisfied: aiohappyeyeballs>=2.3.0 in /usr/local/lib/python3.10/dist-packages (from aiohttp->vllm==0.8.2) (2.6.1)\n",
      "Requirement already satisfied: aiosignal>=1.1.2 in /usr/local/lib/python3.10/dist-packages (from aiohttp->vllm==0.8.2) (1.3.2)\n",
      "Requirement already satisfied: async-timeout<6.0,>=4.0 in /usr/local/lib/python3.10/dist-packages (from aiohttp->vllm==0.8.2) (5.0.1)\n",
      "Requirement already satisfied: attrs>=17.3.0 in /usr/local/lib/python3.10/dist-packages (from aiohttp->vllm==0.8.2) (23.1.0)\n",
      "Requirement already satisfied: frozenlist>=1.1.1 in /usr/local/lib/python3.10/dist-packages (from aiohttp->vllm==0.8.2) (1.6.0)\n",
      "Requirement already satisfied: multidict<7.0,>=4.5 in /usr/local/lib/python3.10/dist-packages (from aiohttp->vllm==0.8.2) (6.4.3)\n",
      "Requirement already satisfied: propcache>=0.2.0 in /usr/local/lib/python3.10/dist-packages (from aiohttp->vllm==0.8.2) (0.3.1)\n",
      "Requirement already satisfied: yarl<2.0,>=1.17.0 in /usr/local/lib/python3.10/dist-packages (from aiohttp->vllm==0.8.2) (1.20.0)\n",
      "Requirement already satisfied: opencv-python-headless>=4.0.0 in /usr/local/lib/python3.10/dist-packages (from mistral_common[opencv]>=1.5.4->vllm==0.8.2) (4.11.0.86)\n",
      "Requirement already satisfied: anyio<5,>=3.5.0 in /usr/local/lib/python3.10/dist-packages (from openai>=1.52.0->vllm==0.8.2) (4.0.0)\n",
      "Requirement already satisfied: distro<2,>=1.7.0 in /usr/lib/python3/dist-packages (from openai>=1.52.0->vllm==0.8.2) (1.7.0)\n",
      "Requirement already satisfied: jiter<1,>=0.4.0 in /usr/local/lib/python3.10/dist-packages (from openai>=1.52.0->vllm==0.8.2) (0.9.0)\n",
      "Requirement already satisfied: sniffio in /usr/local/lib/python3.10/dist-packages (from openai>=1.52.0->vllm==0.8.2) (1.3.0)\n",
      "Requirement already satisfied: annotated-types>=0.6.0 in /usr/local/lib/python3.10/dist-packages (from pydantic>=2.9->vllm==0.8.2) (0.7.0)\n",
      "Requirement already satisfied: pydantic-core==2.33.1 in /usr/local/lib/python3.10/dist-packages (from pydantic>=2.9->vllm==0.8.2) (2.33.1)\n",
      "Requirement already satisfied: typing-inspection>=0.4.0 in /usr/local/lib/python3.10/dist-packages (from pydantic>=2.9->vllm==0.8.2) (0.4.0)\n",
      "Requirement already satisfied: click>=7.0 in /usr/local/lib/python3.10/dist-packages (from ray>=2.43.0->ray[cgraph]>=2.43.0->vllm==0.8.2) (8.1.8)\n",
      "Requirement already satisfied: msgpack<2.0.0,>=1.0.0 in /usr/local/lib/python3.10/dist-packages (from ray>=2.43.0->ray[cgraph]>=2.43.0->vllm==0.8.2) (1.1.0)\n",
      "Requirement already satisfied: cupy-cuda12x in /usr/local/lib/python3.10/dist-packages (from ray[cgraph]>=2.43.0->vllm==0.8.2) (13.4.1)\n",
      "Requirement already satisfied: charset-normalizer<4,>=2 in /usr/local/lib/python3.10/dist-packages (from requests>=2.26.0->vllm==0.8.2) (2.1.1)\n",
      "Requirement already satisfied: idna<4,>=2.5 in /usr/local/lib/python3.10/dist-packages (from requests>=2.26.0->vllm==0.8.2) (3.4)\n",
      "Requirement already satisfied: urllib3<3,>=1.21.1 in /usr/local/lib/python3.10/dist-packages (from requests>=2.26.0->vllm==0.8.2) (1.26.13)\n",
      "Requirement already satisfied: certifi>=2017.4.17 in /usr/local/lib/python3.10/dist-packages (from requests>=2.26.0->vllm==0.8.2) (2022.12.7)\n",
      "Requirement already satisfied: regex>=2022.1.18 in /usr/local/lib/python3.10/dist-packages (from tiktoken>=0.6.0->vllm==0.8.2) (2024.11.6)\n",
      "Requirement already satisfied: safetensors>=0.4.3 in /usr/local/lib/python3.10/dist-packages (from transformers>=4.48.2->vllm==0.8.2) (0.5.3)\n",
      "Requirement already satisfied: python-dateutil>=2.8.2 in /usr/local/lib/python3.10/dist-packages (from pandas->datasets) (2.8.2)\n",
      "Collecting pytz>=2020.1 (from pandas->datasets)\n",
      "  Downloading pytz-2025.2-py2.py3-none-any.whl.metadata (22 kB)\n",
      "Collecting tzdata>=2022.7 (from pandas->datasets)\n",
      "  Downloading tzdata-2025.2-py2.py3-none-any.whl.metadata (1.4 kB)\n",
      "Requirement already satisfied: exceptiongroup>=1.0.2 in /usr/local/lib/python3.10/dist-packages (from anyio<5,>=3.5.0->openai>=1.52.0->vllm==0.8.2) (1.1.3)\n",
      "Requirement already satisfied: dnspython>=2.0.0 in /usr/local/lib/python3.10/dist-packages (from email-validator>=2.0.0->fastapi[standard]>=0.115.0->vllm==0.8.2) (2.7.0)\n",
      "Requirement already satisfied: typer>=0.12.3 in /usr/local/lib/python3.10/dist-packages (from fastapi-cli>=0.0.5->fastapi-cli[standard]>=0.0.5; extra == \"standard\"->fastapi[standard]>=0.115.0->vllm==0.8.2) (0.15.2)\n",
      "Requirement already satisfied: rich-toolkit>=0.11.1 in /usr/local/lib/python3.10/dist-packages (from fastapi-cli>=0.0.5->fastapi-cli[standard]>=0.0.5; extra == \"standard\"->fastapi[standard]>=0.115.0->vllm==0.8.2) (0.14.1)\n",
      "Requirement already satisfied: httpcore==1.* in /usr/local/lib/python3.10/dist-packages (from httpx>=0.23.0->fastapi[standard]>=0.115.0->vllm==0.8.2) (1.0.8)\n",
      "Requirement already satisfied: h11<0.15,>=0.13 in /usr/local/lib/python3.10/dist-packages (from httpcore==1.*->httpx>=0.23.0->fastapi[standard]>=0.115.0->vllm==0.8.2) (0.14.0)\n",
      "Requirement already satisfied: MarkupSafe>=2.0 in /usr/local/lib/python3.10/dist-packages (from jinja2->outlines==0.1.11->vllm==0.8.2) (2.1.2)\n",
      "Requirement already satisfied: jsonschema-specifications>=2023.03.6 in /usr/local/lib/python3.10/dist-packages (from jsonschema->outlines==0.1.11->vllm==0.8.2) (2023.7.1)\n",
      "Requirement already satisfied: rpds-py>=0.7.1 in /usr/local/lib/python3.10/dist-packages (from jsonschema->outlines==0.1.11->vllm==0.8.2) (0.12.0)\n",
      "Requirement already satisfied: six>=1.5 in /usr/lib/python3/dist-packages (from python-dateutil>=2.8.2->pandas->datasets) (1.16.0)\n",
      "Requirement already satisfied: httptools>=0.6.3 in /usr/local/lib/python3.10/dist-packages (from uvicorn[standard]>=0.12.0; extra == \"standard\"->fastapi[standard]>=0.115.0->vllm==0.8.2) (0.6.4)\n",
      "Requirement already satisfied: python-dotenv>=0.13 in /usr/local/lib/python3.10/dist-packages (from uvicorn[standard]>=0.12.0; extra == \"standard\"->fastapi[standard]>=0.115.0->vllm==0.8.2) (1.1.0)\n",
      "Requirement already satisfied: uvloop!=0.15.0,!=0.15.1,>=0.14.0 in /usr/local/lib/python3.10/dist-packages (from uvicorn[standard]>=0.12.0; extra == \"standard\"->fastapi[standard]>=0.115.0->vllm==0.8.2) (0.21.0)\n",
      "Requirement already satisfied: websockets>=10.4 in /usr/local/lib/python3.10/dist-packages (from uvicorn[standard]>=0.12.0; extra == \"standard\"->fastapi[standard]>=0.115.0->vllm==0.8.2) (15.0.1)\n",
      "Requirement already satisfied: fastrlock>=0.5 in /usr/local/lib/python3.10/dist-packages (from cupy-cuda12x->ray[cgraph]>=2.43.0->vllm==0.8.2) (0.8.3)\n",
      "Requirement already satisfied: rich>=13.7.1 in /usr/local/lib/python3.10/dist-packages (from rich-toolkit>=0.11.1->fastapi-cli>=0.0.5->fastapi-cli[standard]>=0.0.5; extra == \"standard\"->fastapi[standard]>=0.115.0->vllm==0.8.2) (14.0.0)\n",
      "Requirement already satisfied: shellingham>=1.3.0 in /usr/local/lib/python3.10/dist-packages (from typer>=0.12.3->fastapi-cli>=0.0.5->fastapi-cli[standard]>=0.0.5; extra == \"standard\"->fastapi[standard]>=0.115.0->vllm==0.8.2) (1.5.4)\n",
      "Requirement already satisfied: markdown-it-py>=2.2.0 in /usr/local/lib/python3.10/dist-packages (from rich>=13.7.1->rich-toolkit>=0.11.1->fastapi-cli>=0.0.5->fastapi-cli[standard]>=0.0.5; extra == \"standard\"->fastapi[standard]>=0.115.0->vllm==0.8.2) (3.0.0)\n",
      "Requirement already satisfied: pygments<3.0.0,>=2.13.0 in /usr/local/lib/python3.10/dist-packages (from rich>=13.7.1->rich-toolkit>=0.11.1->fastapi-cli>=0.0.5->fastapi-cli[standard]>=0.0.5; extra == \"standard\"->fastapi[standard]>=0.115.0->vllm==0.8.2) (2.16.1)\n",
      "Requirement already satisfied: mdurl~=0.1 in /usr/local/lib/python3.10/dist-packages (from markdown-it-py>=2.2.0->rich>=13.7.1->rich-toolkit>=0.11.1->fastapi-cli>=0.0.5->fastapi-cli[standard]>=0.0.5; extra == \"standard\"->fastapi[standard]>=0.115.0->vllm==0.8.2) (0.1.2)\n",
      "Downloading datasets-3.5.0-py3-none-any.whl (491 kB)\n",
      "\u001b[2K   \u001b[90m━━━━━━━━━━━━━━━━━━━━━━━━━━━━━━━━━━━━━━━━\u001b[0m \u001b[32m491.2/491.2 kB\u001b[0m \u001b[31m36.2 MB/s\u001b[0m eta \u001b[36m0:00:00\u001b[0m\n",
      "\u001b[?25hDownloading dill-0.3.8-py3-none-any.whl (116 kB)\n",
      "\u001b[2K   \u001b[90m━━━━━━━━━━━━━━━━━━━━━━━━━━━━━━━━━━━━━━━━\u001b[0m \u001b[32m116.3/116.3 kB\u001b[0m \u001b[31m50.8 MB/s\u001b[0m eta \u001b[36m0:00:00\u001b[0m\n",
      "\u001b[?25hDownloading fsspec-2024.12.0-py3-none-any.whl (183 kB)\n",
      "\u001b[2K   \u001b[90m━━━━━━━━━━━━━━━━━━━━━━━━━━━━━━━━━━━━━━━━\u001b[0m \u001b[32m183.9/183.9 kB\u001b[0m \u001b[31m56.6 MB/s\u001b[0m eta \u001b[36m0:00:00\u001b[0m\n",
      "\u001b[?25hDownloading multiprocess-0.70.16-py310-none-any.whl (134 kB)\n",
      "\u001b[2K   \u001b[90m━━━━━━━━━━━━━━━━━━━━━━━━━━━━━━━━━━━━━━━━\u001b[0m \u001b[32m134.8/134.8 kB\u001b[0m \u001b[31m43.5 MB/s\u001b[0m eta \u001b[36m0:00:00\u001b[0m\n",
      "\u001b[?25hDownloading pyarrow-19.0.1-cp310-cp310-manylinux_2_28_x86_64.whl (42.1 MB)\n",
      "\u001b[2K   \u001b[90m━━━━━━━━━━━━━━━━━━━━━━━━━━━━━━━━━━━━━━━━\u001b[0m \u001b[32m42.1/42.1 MB\u001b[0m \u001b[31m159.2 MB/s\u001b[0m eta \u001b[36m0:00:00\u001b[0ma \u001b[36m0:00:01\u001b[0m\n",
      "\u001b[?25hDownloading requests-2.32.3-py3-none-any.whl (64 kB)\n",
      "\u001b[2K   \u001b[90m━━━━━━━━━━━━━━━━━━━━━━━━━━━━━━━━━━━━━━━━\u001b[0m \u001b[32m64.9/64.9 kB\u001b[0m \u001b[31m30.8 MB/s\u001b[0m eta \u001b[36m0:00:00\u001b[0m\n",
      "\u001b[?25hDownloading pandas-2.2.3-cp310-cp310-manylinux_2_17_x86_64.manylinux2014_x86_64.whl (13.1 MB)\n",
      "\u001b[2K   \u001b[90m━━━━━━━━━━━━━━━━━━━━━━━━━━━━━━━━━━━━━━━━\u001b[0m \u001b[32m13.1/13.1 MB\u001b[0m \u001b[31m203.0 MB/s\u001b[0m eta \u001b[36m0:00:00\u001b[0m \u001b[36m0:00:01\u001b[0m\n",
      "\u001b[?25hDownloading xxhash-3.5.0-cp310-cp310-manylinux_2_17_x86_64.manylinux2014_x86_64.whl (194 kB)\n",
      "\u001b[2K   \u001b[90m━━━━━━━━━━━━━━━━━━━━━━━━━━━━━━━━━━━━━━━━\u001b[0m \u001b[32m194.1/194.1 kB\u001b[0m \u001b[31m81.2 MB/s\u001b[0m eta \u001b[36m0:00:00\u001b[0m\n",
      "\u001b[?25hDownloading pytz-2025.2-py2.py3-none-any.whl (509 kB)\n",
      "\u001b[2K   \u001b[90m━━━━━━━━━━━━━━━━━━━━━━━━━━━━━━━━━━━━━━━\u001b[0m \u001b[32m509.2/509.2 kB\u001b[0m \u001b[31m151.2 MB/s\u001b[0m eta \u001b[36m0:00:00\u001b[0m\n",
      "\u001b[?25hDownloading tzdata-2025.2-py2.py3-none-any.whl (347 kB)\n",
      "\u001b[2K   \u001b[90m━━━━━━━━━━━━━━━━━━━━━━━━━━━━━━━━━━━━━━━━\u001b[0m \u001b[32m347.8/347.8 kB\u001b[0m \u001b[31m86.9 MB/s\u001b[0m eta \u001b[36m0:00:00\u001b[0m\n",
      "\u001b[?25hInstalling collected packages: pytz, xxhash, tzdata, requests, pyarrow, fsspec, dill, pandas, multiprocess, datasets\n",
      "  Attempting uninstall: requests\n",
      "    Found existing installation: requests 2.31.0\n",
      "    Uninstalling requests-2.31.0:\n",
      "      Successfully uninstalled requests-2.31.0\n",
      "  Attempting uninstall: fsspec\n",
      "    Found existing installation: fsspec 2025.3.2\n",
      "    Uninstalling fsspec-2025.3.2:\n",
      "      Successfully uninstalled fsspec-2025.3.2\n",
      "  Attempting uninstall: dill\n",
      "    Found existing installation: dill 0.4.0\n",
      "    Uninstalling dill-0.4.0:\n",
      "      Successfully uninstalled dill-0.4.0\n",
      "Successfully installed datasets-3.5.0 dill-0.3.8 fsspec-2024.12.0 multiprocess-0.70.16 pandas-2.2.3 pyarrow-19.0.1 pytz-2025.2 requests-2.32.3 tzdata-2025.2 xxhash-3.5.0\n",
      "\u001b[33mWARNING: Running pip as the 'root' user can result in broken permissions and conflicting behaviour with the system package manager. It is recommended to use a virtual environment instead: https://pip.pypa.io/warnings/venv\u001b[0m\u001b[33m\n",
      "\u001b[0m\n",
      "\u001b[1m[\u001b[0m\u001b[34;49mnotice\u001b[0m\u001b[1;39;49m]\u001b[0m\u001b[39;49m A new release of pip is available: \u001b[0m\u001b[31;49m23.3.1\u001b[0m\u001b[39;49m -> \u001b[0m\u001b[32;49m25.0.1\u001b[0m\n",
      "\u001b[1m[\u001b[0m\u001b[34;49mnotice\u001b[0m\u001b[1;39;49m]\u001b[0m\u001b[39;49m To update, run: \u001b[0m\u001b[32;49mpython -m pip install --upgrade pip\u001b[0m\n"
     ]
    }
   ],
   "source": [
    "!pip install vllm==0.8.2 datasets"
   ]
  },
  {
   "cell_type": "markdown",
   "id": "cfa9e4bb-9a8a-455c-a3f5-baf9d7400925",
   "metadata": {},
   "source": [
    "## 1. 테스트 데이터 전처리"
   ]
  },
  {
   "cell_type": "code",
   "execution_count": 31,
   "id": "61989ad6-85be-413e-ad63-e7a9e0f8016f",
   "metadata": {},
   "outputs": [],
   "source": [
    "import re\n",
    "import json\n",
    "import pandas as pd\n",
    "from typing import List, Dict\n",
    "from datasets import load_dataset, Dataset\n",
    "from vllm import LLM, SamplingParams"
   ]
  },
  {
   "cell_type": "code",
   "execution_count": 6,
   "id": "46ecd40f-f008-4278-95f1-efed115df2a2",
   "metadata": {},
   "outputs": [
    {
     "data": {
      "application/vnd.jupyter.widget-view+json": {
       "model_id": "c4222e4aaa244ab9ae6ae8eadfacd30b",
       "version_major": 2,
       "version_minor": 0
      },
      "text/plain": [
       "README.md:   0%|          | 0.00/1.90k [00:00<?, ?B/s]"
      ]
     },
     "metadata": {},
     "output_type": "display_data"
    },
    {
     "data": {
      "application/vnd.jupyter.widget-view+json": {
       "model_id": "9ec845450a98443cb38b5dbb2d57b2fb",
       "version_major": 2,
       "version_minor": 0
      },
      "text/plain": [
       "train-00000-of-00001.parquet:   0%|          | 0.00/421k [00:00<?, ?B/s]"
      ]
     },
     "metadata": {},
     "output_type": "display_data"
    },
    {
     "data": {
      "application/vnd.jupyter.widget-view+json": {
       "model_id": "6056153d1fab4af2ba1c564929e23286",
       "version_major": 2,
       "version_minor": 0
      },
      "text/plain": [
       "Generating train split:   0%|          | 0/388 [00:00<?, ? examples/s]"
      ]
     },
     "metadata": {},
     "output_type": "display_data"
    }
   ],
   "source": [
    "# 1. 허깅페이스 허브에서 데이터셋 로드\n",
    "dataset = load_dataset(\"iamjoon/ecommerce-function-calling-datasets-korean\", split=\"train\")"
   ]
  },
  {
   "cell_type": "code",
   "execution_count": 7,
   "id": "d0a36266-ac25-4d0f-b4ee-e48668eef2d9",
   "metadata": {},
   "outputs": [],
   "source": [
    "# 테스트 비율 설정\n",
    "test_ratio = 0.2\n",
    "\n",
    "# 전체 길이와 테스트 데이터 크기 계산\n",
    "total_len = len(dataset)\n",
    "test_size = int(total_len * test_ratio)\n",
    "\n",
    "# 앞에서부터 테스트 데이터, 나머지는 학습 데이터\n",
    "test_indices = list(range(test_size))\n",
    "train_indices = list(range(test_size, total_len))"
   ]
  },
  {
   "cell_type": "code",
   "execution_count": 8,
   "id": "8232aa21-a500-4233-a596-210c0f030da3",
   "metadata": {},
   "outputs": [
    {
     "name": "stdout",
     "output_type": "stream",
     "text": [
      "\n",
      "전체 데이터 분할 결과: Train 311개, Test 77개\n"
     ]
    }
   ],
   "source": [
    "# OpenAI 포맷으로 변환 함수\n",
    "def format_conversations(sample):\n",
    "    return {\n",
    "        \"messages\": [\n",
    "            {\"role\": \"system\", \"content\": sample[\"system_prompt\"]},\n",
    "            *sample[\"messages\"]\n",
    "        ]\n",
    "    }\n",
    "\n",
    "# 분할 및 변환\n",
    "train_dataset = [format_conversations(dataset[i]) for i in train_indices]\n",
    "test_dataset = [format_conversations(dataset[i]) for i in test_indices]\n",
    "\n",
    "# 리스트를 다시 HuggingFace Dataset 객체로 변환\n",
    "train_dataset = Dataset.from_list(train_dataset)\n",
    "test_dataset = Dataset.from_list(test_dataset)\n",
    "\n",
    "# 결과 확인\n",
    "print(f\"\\n전체 데이터 분할 결과: Train {len(train_dataset)}개, Test {len(test_dataset)}개\")"
   ]
  },
  {
   "cell_type": "code",
   "execution_count": 9,
   "id": "e7694c34-e788-4c6a-9164-c3b6790c23dd",
   "metadata": {},
   "outputs": [],
   "source": [
    "def to_chatml(data):\n",
    "    \"\"\"\n",
    "    data: messages 리스트이거나 {\"messages\": [...]} 형태의 dict\n",
    "    반환값: ChatML 포맷의 문자열\n",
    "    \"\"\"\n",
    "    # data가 dict이고 'messages' 키가 있으면 messages 리스트를 꺼내고,\n",
    "    # 아니면 data 자체를 messages 리스트로 간주\n",
    "    messages = data.get(\"messages\") if isinstance(data, dict) and \"messages\" in data else data\n",
    "\n",
    "    parts = []\n",
    "    for msg in messages:\n",
    "        role = msg[\"role\"]\n",
    "        content = msg[\"content\"]\n",
    "        parts.append(f\"<|im_start|>{role}\\n{content}<|im_end|>\")\n",
    "    return \"\\n\".join(parts)"
   ]
  },
  {
   "cell_type": "code",
   "execution_count": 10,
   "id": "1f0e4a70-bf27-4a1e-8b3e-b1d07ce71afc",
   "metadata": {},
   "outputs": [],
   "source": [
    "def extract_examples(chatml: str) -> List[Dict[str, str]]:\n",
    "    \"\"\"\n",
    "    ChatML 문자열에서 각 assistant 응답을 분리하여\n",
    "    'input'과 'label' 쌍을 생성합니다.\n",
    "    'input'은 해당 assistant 응답 직전까지의 모든 대화 + '<|im_start|>assistant',\n",
    "    'label'은 해당 assistant의 응답 내용입니다.\n",
    "    \"\"\"\n",
    "    examples: List[Dict[str, str]] = []\n",
    "    pattern = re.compile(r'<\\|im_start\\|>assistant(.*?)(?=<\\|im_end\\|>)', re.DOTALL)\n",
    "\n",
    "    for match in pattern.finditer(chatml):\n",
    "        start_idx = match.start()\n",
    "        input_text = chatml[:start_idx].strip() + '\\n<|im_start|>assistant'\n",
    "        label_text = match.group(1).strip()\n",
    "        examples.append({\n",
    "            \"input\": input_text,\n",
    "            \"label\": label_text\n",
    "        })\n",
    "\n",
    "    return examples"
   ]
  },
  {
   "cell_type": "code",
   "execution_count": 11,
   "id": "5aee14ee-37d1-4294-bb59-933b3ed10d82",
   "metadata": {},
   "outputs": [],
   "source": [
    "prompt_lst = []\n",
    "label_lst = []\n",
    "\n",
    "for item in test_dataset:\n",
    "    chatml = to_chatml(item)  # ChatML 문자열로 변환\n",
    "    examples = extract_examples(chatml)  # assistant 응답 단위로 분리\n",
    "\n",
    "    for ex in examples:\n",
    "        prompt_lst.append(ex['input'])\n",
    "        label_lst.append(ex['label'])"
   ]
  },
  {
   "cell_type": "code",
   "execution_count": 12,
   "id": "69f8edaf-8f76-4055-b78a-c4db7548b85b",
   "metadata": {},
   "outputs": [
    {
     "name": "stdout",
     "output_type": "stream",
     "text": [
      "<|im_start|>system\n",
      "당신은 상준몰의 AI 상담사입니다. 성심성의껏 상담하십시오.\n",
      "\n",
      "로그인한 사용자의 현재 ID: U006\n",
      "오늘 날짜: 2024-02-02\n",
      "\n",
      "# Tools\n",
      "\n",
      "You may call one or more functions to assist with the user query.\n",
      "\n",
      "You are provided with function signatures within <tools></tools> XML tags:\n",
      "<tools>\n",
      "{\"type\": \"function\", \"function\": {\"name\": \"add_to_cart\", \"description\": \"사용자의 장바구니에 지정된 상품(product_id)과 수량(quantity)을 추가합니다. 동일 상품이 이미 있으면 수량을 증가시키고, 새 항목으로 추가합니다.\", \"parameters\": {\"type\": \"object\", \"properties\": {\"user_id\": {\"type\": \"string\", \"description\": \"장바구니에 상품을 추가할 사용자의 고유 식별자 (예: 'U001')\"}, \"product_id\": {\"type\": \"string\", \"description\": \"장바구니에 추가할 상품의 고유 식별자 (예: 'P003')\"}, \"quantity\": {\"type\": \"integer\", \"description\": \"추가할 상품 수량 (기본값: 1)\", \"default\": 1, \"minimum\": 1}}, \"required\": [\"user_id\", \"product_id\"], \"additionalProperties\": false}}}\n",
      "{\"type\": \"function\", \"function\": {\"name\": \"view_order_history\", \"description\": \"사용자의 전체 주문 내역을 반환합니다. 각 주문에 대해 주문 번호, 주문 일자, 총 결제 금액, 결제 상태, 배송 상태, 택배사, 운송장 번호, 배송 진행 단계, 주문에 포함된 상품명 목록을 제공합니다. 이 함수로도 최근 주문의 배송 상태를 확인할 수 있습니다.\", \"parameters\": {\"type\": \"object\", \"properties\": {\"user_id\": {\"type\": \"string\", \"description\": \"주문 내역을 조회할 사용자의 고유 식별자 (예: 'U001')\"}}, \"required\": [\"user_id\"], \"additionalProperties\": false}}}\n",
      "{\"type\": \"function\", \"function\": {\"name\": \"view_user_profile\", \"description\": \"사용자의 기본 프로필 정보(이름, 이메일, 전화번호, 주소, 포인트, 멤버십)와 보유 쿠폰 정보를 반환합니다.\", \"parameters\": {\"type\": \"object\", \"properties\": {\"user_id\": {\"type\": \"string\", \"description\": \"프로필을 조회할 사용자의 고유 식별자, 예: 'U001'\"}}, \"required\": [\"user_id\"], \"additionalProperties\": false}}}\n",
      "{\"type\": \"function\", \"function\": {\"name\": \"show_cart\", \"description\": \"지정된 사용자(user_id)의 현재 장바구니에 담긴 모든 상품을 반환합니다. 각 항목에 대해 상품 ID, 상품명, 가격, 수량, 장바구니에 추가된 일시를 포함합니다.\", \"parameters\": {\"type\": \"object\", \"properties\": {\"user_id\": {\"type\": \"string\", \"description\": \"장바구니를 조회할 사용자의 고유 식별자 (예: 'U001')\"}}, \"required\": [\"user_id\"], \"additionalProperties\": false}}}\n",
      "{\"type\": \"function\", \"function\": {\"name\": \"remove_from_cart\", \"description\": \"사용자의 장바구니에서 상품명을 포함하는 키워드(keyword) 또는 특정 상품 ID(product_id)를 사용해 항목을 제거합니다. keyword 또는 product_id 중 하나를 반드시 지정해야 합니다.\", \"parameters\": {\"type\": \"object\", \"properties\": {\"user_id\": {\"type\": \"string\", \"description\": \"장바구니에서 상품을 제거할 사용자의 고유 식별자 (예: 'U001')\"}, \"keyword\": {\"type\": \"string\", \"description\": \"상품명에 포함된 키워드로 제거 대상을 지정 (예: '우산')\"}, \"product_id\": {\"type\": \"string\", \"description\": \"제거할 정확한 상품 ID (예: 'P005')\"}}, \"required\": [\"user_id\"], \"anyOf\": [{\"required\": [\"keyword\"]}, {\"required\": [\"product_id\"]}], \"additionalProperties\": false}}}\n",
      "{\"type\": \"function\", \"function\": {\"name\": \"search_policy_info\", \"description\": \"지정된 키워드에 대한 상준몰 정책/약관 정보를 검색합니다. 예: '주문 취소', '반품', '환불', '배송', '재입고'에 관련된 약관만 질문하세요.\", \"parameters\": {\"type\": \"object\", \"properties\": {\"keyword\": {\"type\": \"string\", \"description\": \"정책을 검색할 키워드 (예: '주문 취소', '반품', '환불', '배송', '재입고'만 넣을 수 있습니다.)\"}}, \"required\": [\"keyword\"], \"additionalProperties\": false}}}\n",
      "{\"type\": \"function\", \"function\": {\"name\": \"view_order_details\", \"description\": \"특정 주문(order_id)의 상세 내역을 조회합니다. 주문에 포함된 각 상품의 ID, 상품명, 수량, 단가, 할인 적용 가격을 반환합니다.\", \"parameters\": {\"type\": \"object\", \"properties\": {\"user_id\": {\"type\": \"string\", \"description\": \"주문 상세를 조회할 사용자의 고유 식별자 (예: 'U001')\"}, \"order_id\": {\"type\": \"string\", \"description\": \"상세 내역을 조회할 주문의 고유 식별자 (예: 'O001')\"}}, \"required\": [\"user_id\", \"order_id\"], \"additionalProperties\": false}}}\n",
      "{\"type\": \"function\", \"function\": {\"name\": \"search_product\", \"description\": \"상품명에 특정 키워드를 포함하는 제품을 검색하고, 평점 순으로 정렬된 결과를 반환합니다. 필요시 카테고리(category)로 추가 필터링이 가능합니다.\", \"parameters\": {\"type\": \"object\", \"properties\": {\"keyword\": {\"type\": \"string\", \"description\": \"검색할 상품명 키워드 (예: '노트북')\"}, \"category\": {\"type\": \"string\", \"description\": \"선택적 카테고리 필터 (예: '전자기기')\"}}, \"required\": [\"keyword\"], \"additionalProperties\": false}}}\n",
      "</tools>\n",
      "\n",
      "For each function call, return a json object with function name and arguments within <tool_call></tool_call> XML tags:\n",
      "<tool_call>\n",
      "{\"name\": <function-name>, \"arguments\": <args-json-object>}\n",
      "</tool_call><|im_end|>\n",
      "<|im_start|>user\n",
      "안녕하세요. 최근에 주문한 내역 좀 확인하고 싶어요.<|im_end|>\n",
      "<|im_start|>assistant\n",
      "<tool_call>\n",
      "{\"name\": \"view_order_history\", \"arguments\": {\"user_id\": \"U006\"}}\n",
      "</tool_call><|im_end|>\n",
      "<|im_start|>user\n",
      "<tool_response>\n",
      "[{\"order_id\": \"O102\", \"order_date\": \"2023-12-15\", \"total\": 55000, \"payment_status\": \"결제완료\", \"delivery_status\": \"배송완료\", \"courier\": \"한진택배\", \"tracking_number\": \"123456789012\", \"status\": \"배송완료\", \"products\": \"무선 이어폰\"}, {\"order_id\": \"O100\", \"order_date\": \"2023-11-20\", \"total\": 78000, \"payment_status\": \"결제완료\", \"delivery_status\": \"배송완료\", \"courier\": \"CJ대한통운\", \"tracking_number\": \"987654321098\", \"status\": \"배송완료\", \"products\": \"블루투스 스피커\"}]\n",
      "</tool_response><|im_end|>\n",
      "<|im_start|>assistant\n",
      "고객님께서는 2023년 12월 15일에 '무선 이어폰', 2023년 11월 20일에 '블루투스 스피커'를 주문하셨으며, 두 상품 모두 배송 완료된 상태입니다. 더 궁금하신 사항이 있으신가요?<|im_end|>\n",
      "<|im_start|>user\n",
      "네, 그리고 요즘 인기 있는 노트북 상품 좀 추천해 주세요.<|im_end|>\n",
      "<|im_start|>assistant\n"
     ]
    }
   ],
   "source": [
    "print(prompt_lst[10])"
   ]
  },
  {
   "cell_type": "code",
   "execution_count": 13,
   "id": "6a2f2241-3929-431a-ae2f-6cd233b78ca9",
   "metadata": {},
   "outputs": [
    {
     "name": "stdout",
     "output_type": "stream",
     "text": [
      "<tool_call>\n",
      "{\"name\": \"search_product\", \"arguments\": {\"keyword\": \"노트북\"}}\n",
      "</tool_call>\n"
     ]
    }
   ],
   "source": [
    "print(label_lst[10])"
   ]
  },
  {
   "cell_type": "markdown",
   "id": "c9c41a7c-db21-4f33-840d-083a32978e02",
   "metadata": {},
   "source": [
    "## 2. 모델 호출"
   ]
  },
  {
   "cell_type": "code",
   "execution_count": 14,
   "id": "e3e033a1-d9da-472c-9932-da800809469a",
   "metadata": {},
   "outputs": [],
   "source": [
    "sampling_params = SamplingParams(\n",
    "    temperature=0,\n",
    "    max_tokens=2048,\n",
    "    stop=[\"<|im_end|>\"]\n",
    ")"
   ]
  },
  {
   "cell_type": "code",
   "execution_count": 15,
   "id": "bb815432-e63a-4c67-a754-d1478a888dbb",
   "metadata": {},
   "outputs": [
    {
     "data": {
      "application/vnd.jupyter.widget-view+json": {
       "model_id": "f8ad2673ee7845f7a25b1efefe7ba348",
       "version_major": 2,
       "version_minor": 0
      },
      "text/plain": [
       "config.json:   0%|          | 0.00/731 [00:00<?, ?B/s]"
      ]
     },
     "metadata": {},
     "output_type": "display_data"
    },
    {
     "name": "stdout",
     "output_type": "stream",
     "text": [
      "INFO 04-22 06:00:58 [config.py:585] This model supports multiple tasks: {'embed', 'reward', 'score', 'classify', 'generate'}. Defaulting to 'generate'.\n",
      "INFO 04-22 06:00:58 [config.py:1697] Chunked prefill is enabled with max_num_batched_tokens=8192.\n"
     ]
    },
    {
     "data": {
      "application/vnd.jupyter.widget-view+json": {
       "model_id": "e141c12f9f7545c3908d759a4eafb2a7",
       "version_major": 2,
       "version_minor": 0
      },
      "text/plain": [
       "tokenizer_config.json:   0%|          | 0.00/7.31k [00:00<?, ?B/s]"
      ]
     },
     "metadata": {},
     "output_type": "display_data"
    },
    {
     "data": {
      "application/vnd.jupyter.widget-view+json": {
       "model_id": "002024fea8924a5b8628f727ba730600",
       "version_major": 2,
       "version_minor": 0
      },
      "text/plain": [
       "vocab.json:   0%|          | 0.00/2.78M [00:00<?, ?B/s]"
      ]
     },
     "metadata": {},
     "output_type": "display_data"
    },
    {
     "data": {
      "application/vnd.jupyter.widget-view+json": {
       "model_id": "5ee035a7be5d48988599daa1cc964dc9",
       "version_major": 2,
       "version_minor": 0
      },
      "text/plain": [
       "merges.txt:   0%|          | 0.00/1.67M [00:00<?, ?B/s]"
      ]
     },
     "metadata": {},
     "output_type": "display_data"
    },
    {
     "data": {
      "application/vnd.jupyter.widget-view+json": {
       "model_id": "82fb862392b041f8abe9991bf45de302",
       "version_major": 2,
       "version_minor": 0
      },
      "text/plain": [
       "tokenizer.json:   0%|          | 0.00/11.4M [00:00<?, ?B/s]"
      ]
     },
     "metadata": {},
     "output_type": "display_data"
    },
    {
     "data": {
      "application/vnd.jupyter.widget-view+json": {
       "model_id": "847bb91e96af429c86ddb659dd50ae0a",
       "version_major": 2,
       "version_minor": 0
      },
      "text/plain": [
       "added_tokens.json:   0%|          | 0.00/605 [00:00<?, ?B/s]"
      ]
     },
     "metadata": {},
     "output_type": "display_data"
    },
    {
     "data": {
      "application/vnd.jupyter.widget-view+json": {
       "model_id": "d62d4422b231424988b926c2f414b456",
       "version_major": 2,
       "version_minor": 0
      },
      "text/plain": [
       "special_tokens_map.json:   0%|          | 0.00/613 [00:00<?, ?B/s]"
      ]
     },
     "metadata": {},
     "output_type": "display_data"
    },
    {
     "data": {
      "application/vnd.jupyter.widget-view+json": {
       "model_id": "8dc115f8e1c947659bd3502a8e018835",
       "version_major": 2,
       "version_minor": 0
      },
      "text/plain": [
       "generation_config.json:   0%|          | 0.00/243 [00:00<?, ?B/s]"
      ]
     },
     "metadata": {},
     "output_type": "display_data"
    },
    {
     "name": "stdout",
     "output_type": "stream",
     "text": [
      "INFO 04-22 06:01:02 [core.py:54] Initializing a V1 LLM engine (v0.8.2) with config: model='iamjoon/Qwen2.5-7B-Instruct-ecommerce-function-calling', speculative_config=None, tokenizer='iamjoon/Qwen2.5-7B-Instruct-ecommerce-function-calling', skip_tokenizer_init=False, tokenizer_mode=auto, revision=None, override_neuron_config=None, tokenizer_revision=None, trust_remote_code=False, dtype=torch.float16, max_seq_len=32768, download_dir=None, load_format=auto, tensor_parallel_size=1, pipeline_parallel_size=1, disable_custom_all_reduce=False, quantization=None, enforce_eager=False, kv_cache_dtype=auto,  device_config=cuda, decoding_config=DecodingConfig(guided_decoding_backend='xgrammar', reasoning_backend=None), observability_config=ObservabilityConfig(show_hidden_metrics=False, otlp_traces_endpoint=None, collect_model_forward_time=False, collect_model_execute_time=False), seed=None, served_model_name=iamjoon/Qwen2.5-7B-Instruct-ecommerce-function-calling, num_scheduler_steps=1, multi_step_stream_outputs=True, enable_prefix_caching=True, chunked_prefill_enabled=True, use_async_output_proc=True, disable_mm_preprocessor_cache=False, mm_processor_kwargs=None, pooler_config=None, compilation_config={\"level\":3,\"custom_ops\":[\"none\"],\"splitting_ops\":[\"vllm.unified_attention\",\"vllm.unified_attention_with_output\"],\"use_inductor\":true,\"compile_sizes\":[],\"use_cudagraph\":true,\"cudagraph_num_of_warmups\":1,\"cudagraph_capture_sizes\":[512,504,496,488,480,472,464,456,448,440,432,424,416,408,400,392,384,376,368,360,352,344,336,328,320,312,304,296,288,280,272,264,256,248,240,232,224,216,208,200,192,184,176,168,160,152,144,136,128,120,112,104,96,88,80,72,64,56,48,40,32,24,16,8,4,2,1],\"max_capture_size\":512}\n",
      "WARNING 04-22 06:01:03 [utils.py:2321] Methods determine_num_available_blocks,device_config,get_cache_block_size_bytes,initialize_cache not implemented in <vllm.v1.worker.gpu_worker.Worker object at 0x7acba173b8e0>\n",
      "INFO 04-22 06:01:04 [parallel_state.py:954] rank 0 in world size 1 is assigned as DP rank 0, PP rank 0, TP rank 0\n",
      "INFO 04-22 06:01:04 [cuda.py:220] Using Flash Attention backend on V1 engine.\n",
      "INFO 04-22 06:01:04 [gpu_model_runner.py:1174] Starting to load model iamjoon/Qwen2.5-7B-Instruct-ecommerce-function-calling...\n",
      "WARNING 04-22 06:01:04 [topk_topp_sampler.py:63] FlashInfer is not available. Falling back to the PyTorch-native implementation of top-p & top-k sampling. For the best performance, please install FlashInfer.\n",
      "INFO 04-22 06:01:05 [weight_utils.py:265] Using model weights format ['*.safetensors']\n"
     ]
    },
    {
     "data": {
      "application/vnd.jupyter.widget-view+json": {
       "model_id": "26503897e9d3431ca009a84e99742d5a",
       "version_major": 2,
       "version_minor": 0
      },
      "text/plain": [
       "model-00001-of-00004.safetensors:   0%|          | 0.00/4.88G [00:00<?, ?B/s]"
      ]
     },
     "metadata": {},
     "output_type": "display_data"
    },
    {
     "data": {
      "application/vnd.jupyter.widget-view+json": {
       "model_id": "f70f9fe6745f462cb0f2c2339239ef5b",
       "version_major": 2,
       "version_minor": 0
      },
      "text/plain": [
       "model-00003-of-00004.safetensors:   0%|          | 0.00/4.33G [00:00<?, ?B/s]"
      ]
     },
     "metadata": {},
     "output_type": "display_data"
    },
    {
     "data": {
      "application/vnd.jupyter.widget-view+json": {
       "model_id": "67350736e9b34ea29795636efea689f5",
       "version_major": 2,
       "version_minor": 0
      },
      "text/plain": [
       "model-00002-of-00004.safetensors:   0%|          | 0.00/4.93G [00:00<?, ?B/s]"
      ]
     },
     "metadata": {},
     "output_type": "display_data"
    },
    {
     "data": {
      "application/vnd.jupyter.widget-view+json": {
       "model_id": "c9d9a70c031642c89b7e8de63a3bb6d8",
       "version_major": 2,
       "version_minor": 0
      },
      "text/plain": [
       "model-00004-of-00004.safetensors:   0%|          | 0.00/1.09G [00:00<?, ?B/s]"
      ]
     },
     "metadata": {},
     "output_type": "display_data"
    },
    {
     "name": "stdout",
     "output_type": "stream",
     "text": [
      "INFO 04-22 06:02:27 [weight_utils.py:281] Time spent downloading weights for iamjoon/Qwen2.5-7B-Instruct-ecommerce-function-calling: 82.799776 seconds\n"
     ]
    },
    {
     "data": {
      "application/vnd.jupyter.widget-view+json": {
       "model_id": "e2fba4db55dd4993af84e51932e97613",
       "version_major": 2,
       "version_minor": 0
      },
      "text/plain": [
       "model.safetensors.index.json:   0%|          | 0.00/27.8k [00:00<?, ?B/s]"
      ]
     },
     "metadata": {},
     "output_type": "display_data"
    },
    {
     "data": {
      "application/vnd.jupyter.widget-view+json": {
       "model_id": "fbb83e956b4e47d6853636d392707f58",
       "version_major": 2,
       "version_minor": 0
      },
      "text/plain": [
       "Loading safetensors checkpoint shards:   0% Completed | 0/4 [00:00<?, ?it/s]\n"
      ]
     },
     "metadata": {},
     "output_type": "display_data"
    },
    {
     "name": "stdout",
     "output_type": "stream",
     "text": [
      "INFO 04-22 06:02:30 [loader.py:447] Loading weights took 1.93 seconds\n",
      "INFO 04-22 06:02:30 [gpu_model_runner.py:1186] Model loading took 14.2487 GB and 85.743431 seconds\n",
      "INFO 04-22 06:02:36 [backends.py:415] Using cache directory: /root/.cache/vllm/torch_compile_cache/ad67986736/rank_0_0 for vLLM's torch.compile\n",
      "INFO 04-22 06:02:36 [backends.py:425] Dynamo bytecode transform time: 5.96 s\n",
      "INFO 04-22 06:02:39 [backends.py:132] Cache the graph of shape None for later use\n",
      "INFO 04-22 06:03:01 [backends.py:144] Compiling a graph for general shape takes 24.60 s\n",
      "INFO 04-22 06:03:15 [monitor.py:33] torch.compile takes 30.56 s in total\n",
      "INFO 04-22 06:03:16 [kv_cache_utils.py:566] GPU KV cache size: 953,616 tokens\n",
      "INFO 04-22 06:03:16 [kv_cache_utils.py:569] Maximum concurrency for 32,768 tokens per request: 29.10x\n",
      "INFO 04-22 06:03:42 [gpu_model_runner.py:1534] Graph capturing finished in 27 secs, took 0.48 GiB\n",
      "INFO 04-22 06:03:42 [core.py:151] init engine (profile, create kv cache, warmup model) took 72.55 seconds\n"
     ]
    }
   ],
   "source": [
    "llm = LLM(model=\"iamjoon/Qwen2.5-7B-Instruct-ecommerce-function-calling\")"
   ]
  },
  {
   "cell_type": "code",
   "execution_count": 16,
   "id": "33f8517f-70f3-4551-af7f-01c96b9afd13",
   "metadata": {},
   "outputs": [
    {
     "name": "stderr",
     "output_type": "stream",
     "text": [
      "Processed prompts: 100%|██████████| 655/655 [00:14<00:00, 44.24it/s, est. speed input: 88392.78 toks/s, output: 1693.86 toks/s] \n"
     ]
    }
   ],
   "source": [
    "fine_tuned_outputs = llm.generate(prompt_lst, sampling_params)"
   ]
  },
  {
   "cell_type": "code",
   "execution_count": 17,
   "id": "687732cb-f239-486e-92ce-c54dbc8ca4ef",
   "metadata": {},
   "outputs": [],
   "source": [
    "fine_tuned_text_results = [sample.outputs[0].text.strip() for sample in fine_tuned_outputs]"
   ]
  },
  {
   "cell_type": "code",
   "execution_count": 18,
   "id": "d4087696-f4c5-4ddc-ba7c-4256261ff6e6",
   "metadata": {},
   "outputs": [
    {
     "name": "stdout",
     "output_type": "stream",
     "text": [
      "<tool_call>\n",
      "{\"name\": \"search_product\", \"arguments\": {\"keyword\": \"노트북\"}}\n",
      "</tool_call>\n"
     ]
    }
   ],
   "source": [
    "print(fine_tuned_text_results[10])"
   ]
  },
  {
   "cell_type": "markdown",
   "id": "e045669a-e1b0-4953-bb09-db7ed7914dd4",
   "metadata": {},
   "source": [
    "## 3. 평가 결과 저장"
   ]
  },
  {
   "cell_type": "code",
   "execution_count": 21,
   "id": "f91f23ee-c163-48b9-afd6-63f9b53375dc",
   "metadata": {},
   "outputs": [],
   "source": [
    "df = pd.DataFrame({\n",
    "    \"prompt\": prompt_lst,\n",
    "    \"label\": label_lst,\n",
    "    \"output\": fine_tuned_text_results\n",
    "})\n",
    "\n",
    "# 저장\n",
    "df.to_csv(\"evaluation_results.csv\", index=False, encoding=\"utf-8-sig\")"
   ]
  },
  {
   "cell_type": "code",
   "execution_count": 22,
   "id": "f0623b1d-e99e-4c12-a071-5b35896efffc",
   "metadata": {},
   "outputs": [
    {
     "data": {
      "text/html": [
       "<div>\n",
       "<style scoped>\n",
       "    .dataframe tbody tr th:only-of-type {\n",
       "        vertical-align: middle;\n",
       "    }\n",
       "\n",
       "    .dataframe tbody tr th {\n",
       "        vertical-align: top;\n",
       "    }\n",
       "\n",
       "    .dataframe thead th {\n",
       "        text-align: right;\n",
       "    }\n",
       "</style>\n",
       "<table border=\"1\" class=\"dataframe\">\n",
       "  <thead>\n",
       "    <tr style=\"text-align: right;\">\n",
       "      <th></th>\n",
       "      <th>prompt</th>\n",
       "      <th>label</th>\n",
       "      <th>output</th>\n",
       "    </tr>\n",
       "  </thead>\n",
       "  <tbody>\n",
       "    <tr>\n",
       "      <th>0</th>\n",
       "      <td>&lt;|im_start|&gt;system\\n당신은 상준몰의 AI 상담사입니다. 성심성의껏 ...</td>\n",
       "      <td>안녕하세요! 상준몰 AI 상담사입니다. 무엇을 도와드릴까요?</td>\n",
       "      <td>안녕하세요! 상준몰 AI 상담사입니다. 무엇을 도와드릴까요?</td>\n",
       "    </tr>\n",
       "    <tr>\n",
       "      <th>1</th>\n",
       "      <td>&lt;|im_start|&gt;system\\n당신은 상준몰의 AI 상담사입니다. 성심성의껏 ...</td>\n",
       "      <td>&lt;tool_call&gt;\\n{\"name\": \"view_user_profile\", \"ar...</td>\n",
       "      <td>&lt;tool_call&gt;\\n{\"name\": \"view_user_profile\", \"ar...</td>\n",
       "    </tr>\n",
       "    <tr>\n",
       "      <th>2</th>\n",
       "      <td>&lt;|im_start|&gt;system\\n당신은 상준몰의 AI 상담사입니다. 성심성의껏 ...</td>\n",
       "      <td>고객님의 주소는 '서울특별시 강남구 테헤란로 123'으로 등록되어 있습니다. 다른 ...</td>\n",
       "      <td>고객님의 주소는 '서울특별시 강남구 테헤란로 123'로 등록되어 있습니다. 다른 정...</td>\n",
       "    </tr>\n",
       "    <tr>\n",
       "      <th>3</th>\n",
       "      <td>&lt;|im_start|&gt;system\\n당신은 상준몰의 AI 상담사입니다. 성심성의껏 ...</td>\n",
       "      <td>&lt;tool_call&gt;\\n{\"name\": \"view_order_history\", \"a...</td>\n",
       "      <td>&lt;tool_call&gt;\\n{\"name\": \"view_order_history\", \"a...</td>\n",
       "    </tr>\n",
       "    <tr>\n",
       "      <th>4</th>\n",
       "      <td>&lt;|im_start|&gt;system\\n당신은 상준몰의 AI 상담사입니다. 성심성의껏 ...</td>\n",
       "      <td>고객님께서 7월 10일에 주문하신 '무선 이어폰'은 현재 배송중이며, 택배사는 한진...</td>\n",
       "      <td>고객님께서 7월 10일에 주문하신 '무선 이어폰'은 현재 배송 중이며, 택배사는 한...</td>\n",
       "    </tr>\n",
       "    <tr>\n",
       "      <th>...</th>\n",
       "      <td>...</td>\n",
       "      <td>...</td>\n",
       "      <td>...</td>\n",
       "    </tr>\n",
       "    <tr>\n",
       "      <th>650</th>\n",
       "      <td>&lt;|im_start|&gt;system\\n당신은 상준몰의 AI 상담사입니다. 성심성의껏 ...</td>\n",
       "      <td>&lt;tool_call&gt;\\n{\"name\": \"search_policy_info\", \"a...</td>\n",
       "      <td>&lt;tool_call&gt;\\n{\"name\": \"search_policy_info\", \"a...</td>\n",
       "    </tr>\n",
       "    <tr>\n",
       "      <th>651</th>\n",
       "      <td>&lt;|im_start|&gt;system\\n당신은 상준몰의 AI 상담사입니다. 성심성의껏 ...</td>\n",
       "      <td>배송 정책에 따르면, 결제 완료 후 3일 이내에 출고되며, 배송비는 2,500원입니...</td>\n",
       "      <td>배송은 결제 완료 후 3일 이내에 출고되며, 배송비는 2,500원입니다. 50,00...</td>\n",
       "    </tr>\n",
       "    <tr>\n",
       "      <th>652</th>\n",
       "      <td>&lt;|im_start|&gt;system\\n당신은 상준몰의 AI 상담사입니다. 성심성의껏 ...</td>\n",
       "      <td>죄송하지만, 날씨 정보는 제공해드릴 수 없습니다.</td>\n",
       "      <td>죄송하지만, 날씨 정보는 제공할 수 없습니다. 다른 문의사항이 있으시면 말씀해 주세요.</td>\n",
       "    </tr>\n",
       "    <tr>\n",
       "      <th>653</th>\n",
       "      <td>&lt;|im_start|&gt;system\\n당신은 상준몰의 AI 상담사입니다. 성심성의껏 ...</td>\n",
       "      <td>네, 더 궁금하신 사항이 있으신가요?</td>\n",
       "      <td>네, 더 궁금하신 사항이 있으신가요?</td>\n",
       "    </tr>\n",
       "    <tr>\n",
       "      <th>654</th>\n",
       "      <td>&lt;|im_start|&gt;system\\n당신은 상준몰의 AI 상담사입니다. 성심성의껏 ...</td>\n",
       "      <td>네, 문의해 주셔서 감사합니다. 상준몰 고객센터 AI 상담사였습니다. 좋은 하루 되세요!</td>\n",
       "      <td>네, 문의해 주셔서 감사합니다. 상준몰 고객센터 AI 상담사였습니다. 좋은 하루 되세요!</td>\n",
       "    </tr>\n",
       "  </tbody>\n",
       "</table>\n",
       "<p>655 rows × 3 columns</p>\n",
       "</div>"
      ],
      "text/plain": [
       "                                                prompt  \\\n",
       "0    <|im_start|>system\\n당신은 상준몰의 AI 상담사입니다. 성심성의껏 ...   \n",
       "1    <|im_start|>system\\n당신은 상준몰의 AI 상담사입니다. 성심성의껏 ...   \n",
       "2    <|im_start|>system\\n당신은 상준몰의 AI 상담사입니다. 성심성의껏 ...   \n",
       "3    <|im_start|>system\\n당신은 상준몰의 AI 상담사입니다. 성심성의껏 ...   \n",
       "4    <|im_start|>system\\n당신은 상준몰의 AI 상담사입니다. 성심성의껏 ...   \n",
       "..                                                 ...   \n",
       "650  <|im_start|>system\\n당신은 상준몰의 AI 상담사입니다. 성심성의껏 ...   \n",
       "651  <|im_start|>system\\n당신은 상준몰의 AI 상담사입니다. 성심성의껏 ...   \n",
       "652  <|im_start|>system\\n당신은 상준몰의 AI 상담사입니다. 성심성의껏 ...   \n",
       "653  <|im_start|>system\\n당신은 상준몰의 AI 상담사입니다. 성심성의껏 ...   \n",
       "654  <|im_start|>system\\n당신은 상준몰의 AI 상담사입니다. 성심성의껏 ...   \n",
       "\n",
       "                                                 label  \\\n",
       "0                    안녕하세요! 상준몰 AI 상담사입니다. 무엇을 도와드릴까요?   \n",
       "1    <tool_call>\\n{\"name\": \"view_user_profile\", \"ar...   \n",
       "2    고객님의 주소는 '서울특별시 강남구 테헤란로 123'으로 등록되어 있습니다. 다른 ...   \n",
       "3    <tool_call>\\n{\"name\": \"view_order_history\", \"a...   \n",
       "4    고객님께서 7월 10일에 주문하신 '무선 이어폰'은 현재 배송중이며, 택배사는 한진...   \n",
       "..                                                 ...   \n",
       "650  <tool_call>\\n{\"name\": \"search_policy_info\", \"a...   \n",
       "651  배송 정책에 따르면, 결제 완료 후 3일 이내에 출고되며, 배송비는 2,500원입니...   \n",
       "652                        죄송하지만, 날씨 정보는 제공해드릴 수 없습니다.   \n",
       "653                               네, 더 궁금하신 사항이 있으신가요?   \n",
       "654  네, 문의해 주셔서 감사합니다. 상준몰 고객센터 AI 상담사였습니다. 좋은 하루 되세요!   \n",
       "\n",
       "                                                output  \n",
       "0                    안녕하세요! 상준몰 AI 상담사입니다. 무엇을 도와드릴까요?  \n",
       "1    <tool_call>\\n{\"name\": \"view_user_profile\", \"ar...  \n",
       "2    고객님의 주소는 '서울특별시 강남구 테헤란로 123'로 등록되어 있습니다. 다른 정...  \n",
       "3    <tool_call>\\n{\"name\": \"view_order_history\", \"a...  \n",
       "4    고객님께서 7월 10일에 주문하신 '무선 이어폰'은 현재 배송 중이며, 택배사는 한...  \n",
       "..                                                 ...  \n",
       "650  <tool_call>\\n{\"name\": \"search_policy_info\", \"a...  \n",
       "651  배송은 결제 완료 후 3일 이내에 출고되며, 배송비는 2,500원입니다. 50,00...  \n",
       "652   죄송하지만, 날씨 정보는 제공할 수 없습니다. 다른 문의사항이 있으시면 말씀해 주세요.  \n",
       "653                               네, 더 궁금하신 사항이 있으신가요?  \n",
       "654  네, 문의해 주셔서 감사합니다. 상준몰 고객센터 AI 상담사였습니다. 좋은 하루 되세요!  \n",
       "\n",
       "[655 rows x 3 columns]"
      ]
     },
     "execution_count": 22,
     "metadata": {},
     "output_type": "execute_result"
    }
   ],
   "source": [
    "df"
   ]
  },
  {
   "cell_type": "code",
   "execution_count": 25,
   "id": "fbddd043-c1fd-43ab-a724-e61c1b7215fd",
   "metadata": {},
   "outputs": [
    {
     "name": "stdout",
     "output_type": "stream",
     "text": [
      "레이블 : 안녕하세요! 상준몰 AI 상담사입니다. 무엇을 도와드릴까요?\n",
      "----------------------------------------------------------------------------------------------------\n",
      "모델의 예측: 안녕하세요! 상준몰 AI 상담사입니다. 무엇을 도와드릴까요?\n",
      "====================================================================================================\n",
      "레이블 : <tool_call>\n",
      "{\"name\": \"view_user_profile\", \"arguments\": {\"user_id\": \"U002\"}}\n",
      "</tool_call>\n",
      "----------------------------------------------------------------------------------------------------\n",
      "모델의 예측: <tool_call>\n",
      "{\"name\": \"view_user_profile\", \"arguments\": {\"user_id\": \"U002\"}}\n",
      "</tool_call>\n",
      "====================================================================================================\n",
      "레이블 : 고객님의 주소는 '서울특별시 강남구 테헤란로 123'으로 등록되어 있습니다. 다른 정보가 필요하신가요?\n",
      "----------------------------------------------------------------------------------------------------\n",
      "모델의 예측: 고객님의 주소는 '서울특별시 강남구 테헤란로 123'로 등록되어 있습니다. 다른 정보가 필요하시면 말씀해 주세요.\n",
      "====================================================================================================\n",
      "레이블 : <tool_call>\n",
      "{\"name\": \"view_order_history\", \"arguments\": {\"user_id\": \"U002\"}}\n",
      "</tool_call>\n",
      "----------------------------------------------------------------------------------------------------\n",
      "모델의 예측: <tool_call>\n",
      "{\"name\": \"view_order_history\", \"arguments\": {\"user_id\": \"U002\"}}\n",
      "</tool_call>\n",
      "====================================================================================================\n",
      "레이블 : 고객님께서 7월 10일에 주문하신 '무선 이어폰'은 현재 배송중이며, 택배사는 한진택배, 송장번호는 123456789012입니다.\n",
      "----------------------------------------------------------------------------------------------------\n",
      "모델의 예측: 고객님께서 7월 10일에 주문하신 '무선 이어폰'은 현재 배송 중이며, 택배사는 한진택배, 송장번호는 123456789012입니다.\n",
      "====================================================================================================\n",
      "레이블 : 불편을 드려 죄송합니다. 리뷰 스팸 관련 문제는 담당자에게 전달하여 검토하도록 하겠습니다.\n",
      "----------------------------------------------------------------------------------------------------\n",
      "모델의 예측: 리뷰 스팸 문제는 담당자에게 전달하여 신속히 처리하겠습니다. 더 궁금하신 사항이 있으신가요?\n",
      "====================================================================================================\n",
      "레이블 : 더 궁금하신 사항이 있으신가요?\n",
      "----------------------------------------------------------------------------------------------------\n",
      "모델의 예측: 더 궁금하신 사항이 있으신가요?\n",
      "====================================================================================================\n",
      "레이블 : 네, 문의해 주셔서 감사합니다. 상준몰 고객센터 AI 상담사였습니다. 좋은 하루 되세요!\n",
      "----------------------------------------------------------------------------------------------------\n",
      "모델의 예측: 네, 문의해 주셔서 감사합니다. 상준몰 고객센터 AI 상담사였습니다. 좋은 하루 되세요!\n",
      "====================================================================================================\n",
      "레이블 : <tool_call>\n",
      "{\"name\": \"view_order_history\", \"arguments\": {\"user_id\": \"U006\"}}\n",
      "</tool_call>\n",
      "----------------------------------------------------------------------------------------------------\n",
      "모델의 예측: <tool_call>\n",
      "{\"name\": \"view_order_history\", \"arguments\": {\"user_id\": \"U006\"}}\n",
      "</tool_call>\n",
      "====================================================================================================\n",
      "레이블 : 고객님께서는 2023년 12월 15일에 '무선 이어폰', 2023년 11월 20일에 '블루투스 스피커'를 주문하셨으며, 두 상품 모두 배송 완료된 상태입니다. 더 궁금하신 사항이 있으신가요?\n",
      "----------------------------------------------------------------------------------------------------\n",
      "모델의 예측: 고객님께서 최근에 주문하신 내역은 다음과 같습니다:  \n",
      "- 2023년 12월 15일에 무선 이어폰을 주문하셨고, 배송이 완료되었습니다.  \n",
      "- 2023년 11월 20일에 블루투스 스피커를 주문하셨으며, 배송도 완료되었습니다.\n",
      "====================================================================================================\n",
      "레이블 : <tool_call>\n",
      "{\"name\": \"search_product\", \"arguments\": {\"keyword\": \"노트북\"}}\n",
      "</tool_call>\n",
      "----------------------------------------------------------------------------------------------------\n",
      "모델의 예측: <tool_call>\n",
      "{\"name\": \"search_product\", \"arguments\": {\"keyword\": \"노트북\"}}\n",
      "</tool_call>\n",
      "====================================================================================================\n",
      "레이블 : 현재 인기 있는 노트북으로는 '게이밍 노트북', '울트라북', '비즈니스 노트북'이 있습니다. 각각의 평점과 가격도 참고하셔서 선택해 보세요.\n",
      "----------------------------------------------------------------------------------------------------\n",
      "모델의 예측: 현재 인기 있는 노트북으로는 '게이밍 노트북', '울트라북', '비즈니스 노트북'이 있습니다. 각각의 평점도 높고 다양한 용도로 사용 가능합니다.\n",
      "====================================================================================================\n",
      "레이블 : 리뷰 수정은 직접적으로 도와드릴 수 없지만, 상준몰 웹사이트나 앱에서 로그인하신 후, '내 리뷰' 섹션에서 수정이 가능합니다. 혹시 더 도움이 필요하시면 담당자에게 연결해드릴 수 있습니다.\n",
      "----------------------------------------------------------------------------------------------------\n",
      "모델의 예측: 리뷰 수정은 직접 처리할 수 없지만, 요청을 담당자에게 전달하여 신속히 처리하겠습니다. 더 궁금하신 사항이 있으신가요?\n",
      "====================================================================================================\n",
      "레이블 : 네, 문의해 주셔서 감사합니다. 더 궁금하신 사항이 있으시면 언제든지 말씀해 주세요. 좋은 하루 되세요!\n",
      "----------------------------------------------------------------------------------------------------\n",
      "모델의 예측: 네, 문의해 주셔서 감사합니다. 더 궁금하신 사항이 있으시면 언제든지 말씀해 주세요. 상준몰 고객센터 AI 상담사였습니다. 좋은 하루 되세요!\n",
      "====================================================================================================\n",
      "레이블 : <tool_call>\n",
      "{\"name\": \"show_cart\", \"arguments\": {\"user_id\": \"U001\"}}\n",
      "</tool_call>\n",
      "----------------------------------------------------------------------------------------------------\n",
      "모델의 예측: <tool_call>\n",
      "{\"name\": \"show_cart\", \"arguments\": {\"user_id\": \"U001\"}}\n",
      "</tool_call>\n",
      "====================================================================================================\n",
      "레이블 : 고객님의 장바구니에는 '블루투스 이어폰' 1개와 '무선 마우스' 2개가 담겨 있습니다.\n",
      "----------------------------------------------------------------------------------------------------\n",
      "모델의 예측: 고객님의 장바구니에는 현재 '블루투스 이어폰' 1개와 '무선 마우스' 2개가 담겨 있습니다. 다른 도움 드릴까요?\n",
      "====================================================================================================\n",
      "레이블 : <tool_call>\n",
      "{\"name\": \"view_order_history\", \"arguments\": {\"user_id\": \"U001\"}}\n",
      "</tool_call>\n",
      "----------------------------------------------------------------------------------------------------\n",
      "모델의 예측: <tool_call>\n",
      "{\"name\": \"view_order_history\", \"arguments\": {\"user_id\": \"U001\"}}\n",
      "</tool_call>\n",
      "====================================================================================================\n",
      "레이블 : <tool_call>\n",
      "{\"name\": \"view_order_details\", \"arguments\": {\"user_id\": \"U001\", \"order_id\": \"O102\"}}\n",
      "</tool_call>\n",
      "----------------------------------------------------------------------------------------------------\n",
      "모델의 예측: 고객님께서 11월 20일에 주문하신 '고성능 노트북'의 주문 내역을 확인했습니다. 배송은 이미 완료되었습니다.\n",
      "====================================================================================================\n",
      "레이블 : '고성능 노트북' 1대를 1,150,000원에 구매하셨습니다. 문제가 발생한 부분에 대해 더 도와드릴까요?\n",
      "----------------------------------------------------------------------------------------------------\n",
      "모델의 예측: 주문하신 '고성능 노트북'의 수량은 1개이며, 결제 금액은 1,150,000원입니다.\n",
      "====================================================================================================\n",
      "레이블 : 불편을 드려 죄송합니다. 해당 문제는 기술적인 지원이 필요할 수 있습니다. 담당자에게 전달하여 신속히 처리하겠습니다.\n",
      "----------------------------------------------------------------------------------------------------\n",
      "모델의 예측: 불편을 드려 죄송합니다. 제품에 문제가 있는 것 같아요. 제품을 반환하시거나 교환 신청을 하시는 것이 좋을 것 같습니다.\n",
      "====================================================================================================\n",
      "레이블 : 죄송하지만, 카드 영수증 발급은 제가 직접 처리할 수 없습니다. 이 요청은 담당자에게 전달하여 처리하도록 하겠습니다.\n",
      "----------------------------------------------------------------------------------------------------\n",
      "모델의 예측: 죄송하지만, 카드 영수증 발급은 제가 직접 처리할 수 없습니다. 해당 요청은 담당자에게 전달하여 처리하도록 하겠습니다.\n",
      "====================================================================================================\n",
      "레이블 : 더 궁금하신 사항이 있으신가요?\n",
      "----------------------------------------------------------------------------------------------------\n",
      "모델의 예측: 더 궁금하신 사항이 있으신가요?\n",
      "====================================================================================================\n",
      "레이블 : 네, 문의해 주셔서 감사합니다. 상준몰 고객센터 AI 상담사였습니다. 좋은 하루 되세요!\n",
      "----------------------------------------------------------------------------------------------------\n",
      "모델의 예측: 네, 문의해 주셔서 감사합니다. 상준몰 고객센터 AI 상담사였습니다. 좋은 하루 되세요!\n",
      "====================================================================================================\n",
      "레이블 : 안녕하세요! 상준몰 AI 상담사입니다. 무엇을 도와드릴까요?\n",
      "----------------------------------------------------------------------------------------------------\n",
      "모델의 예측: 안녕하세요! 상준몰 AI 상담사입니다. 무엇을 도와드릴까요?\n",
      "====================================================================================================\n",
      "레이블 : <tool_call>\n",
      "{\"name\": \"show_cart\", \"arguments\": {\"user_id\": \"U001\"}}\n",
      "</tool_call>\n",
      "----------------------------------------------------------------------------------------------------\n",
      "모델의 예측: <tool_call>\n",
      "{\"name\": \"show_cart\", \"arguments\": {\"user_id\": \"U001\"}}\n",
      "</tool_call>\n",
      "====================================================================================================\n",
      "레이블 : 고객님의 장바구니에는 '무선 이어폰' 1개와 '블루투스 스피커' 2개가 담겨 있습니다. 다른 도움이 필요하신가요?\n",
      "----------------------------------------------------------------------------------------------------\n",
      "모델의 예측: 고객님의 장바구니에는 '무선 이어폰' 1개와 '블루투스 스피커' 2개가 담겨 있습니다. 다른 도움이 필요하신가요?\n",
      "====================================================================================================\n",
      "레이블 : <tool_call>\n",
      "{\"name\": \"view_order_history\", \"arguments\": {\"user_id\": \"U001\"}}\n",
      "</tool_call>\n",
      "----------------------------------------------------------------------------------------------------\n",
      "모델의 예측: <tool_call>\n",
      "{\"name\": \"view_order_history\", \"arguments\": {\"user_id\": \"U001\"}}\n",
      "</tool_call>\n",
      "====================================================================================================\n",
      "레이블 : 고객님께서 9월 5일에 주문하신 '스마트 워치'는 현재 배송 중이며, 택배사는 한진택배, 송장번호는 123456789012입니다.\n",
      "----------------------------------------------------------------------------------------------------\n",
      "모델의 예측: 고객님께서 9월 5일에 주문하신 '스마트 워치'는 현재 배송 중이며, 택배사는 한진택배, 송장번호는 123456789012입니다.\n",
      "====================================================================================================\n",
      "레이블 : 배송 기사 변경은 제가 직접 처리할 수 없는 부분입니다. 문의하신 내용을 담당자에게 전달하여 신속히 처리하겠습니다.\n",
      "----------------------------------------------------------------------------------------------------\n",
      "모델의 예측: 배송 기사 변경은 직접 처리할 수 없지만, 요청 내용을 담당자에게 전달하여 신속히 처리하겠습니다.\n",
      "====================================================================================================\n",
      "레이블 : 네, 요청하신 내용을 담당자에게 전달하겠습니다. 더 궁금하신 사항이 있으신가요?\n",
      "----------------------------------------------------------------------------------------------------\n",
      "모델의 예측: 네, 담당자에게 내용을 전달하겠습니다. 더 궁금하신 사항이 있으신가요?\n",
      "====================================================================================================\n",
      "레이블 : 네, 문의해 주셔서 감사합니다. 상준몰 고객센터 AI 상담사였습니다. 좋은 하루 되세요!\n",
      "----------------------------------------------------------------------------------------------------\n",
      "모델의 예측: 네, 문의해 주셔서 감사합니다. 상준몰 고객센터 AI 상담사였습니다. 좋은 하루 되세요!\n",
      "====================================================================================================\n",
      "레이블 : <tool_call>\n",
      "{\"name\": \"search_product\", \"arguments\": {\"keyword\": \"전자기기\"}}\n",
      "</tool_call>\n",
      "----------------------------------------------------------------------------------------------------\n",
      "모델의 예측: <tool_call>\n",
      "{\"name\": \"search_product\", \"arguments\": {\"keyword\": \"전자기기\"}}\n",
      "</tool_call>\n",
      "====================================================================================================\n",
      "레이블 : 현재 인기 있는 전자기기로는 '최신형 스마트폰', '고성능 노트북', '무선 이어폰'이 있습니다. 이 중 관심 있으신 제품이 있으신가요?\n",
      "----------------------------------------------------------------------------------------------------\n",
      "모델의 예측: 현재 인기 있는 전자기기로는 '최신형 스마트폰', '고성능 노트북', '무선 이어폰'이 있습니다. 이 중에서 관심 있는 제품이 있으신가요?\n",
      "====================================================================================================\n",
      "레이블 : <tool_call>\n",
      "{\"name\": \"show_cart\", \"arguments\": {\"user_id\": \"U006\"}}\n",
      "</tool_call>\n",
      "----------------------------------------------------------------------------------------------------\n",
      "모델의 예측: <tool_call>\n",
      "{\"name\": \"show_cart\", \"arguments\": {\"user_id\": \"U006\"}}\n",
      "</tool_call>\n",
      "====================================================================================================\n",
      "레이블 : 고객님의 장바구니에는 '무선 이어폰'과 '스마트 워치'가 각각 1개씩 담겨 있습니다.\n",
      "----------------------------------------------------------------------------------------------------\n",
      "모델의 예측: 고객님의 장바구니에는 '무선 이어폰'이 이미 담겨 있습니다. 다른 상품도 추가하시겠어요?\n",
      "====================================================================================================\n",
      "레이블 : 결제 수단 변경은 현재 시스템에서 직접 처리할 수 없습니다. 해당 사항은 담당자에게 전달하여 처리하도록 하겠습니다.\n",
      "----------------------------------------------------------------------------------------------------\n",
      "모델의 예측: 결제 수단 변경은 제가 직접 처리할 수 없지만, 관련 요청을 담당자에게 전달하여 신속히 처리하겠습니다.\n",
      "====================================================================================================\n",
      "레이블 : 죄송하지만, 위시리스트 조회는 현재 시스템에서 지원되지 않습니다. 담당자에게 요청을 전달하여 확인해드리겠습니다.\n",
      "----------------------------------------------------------------------------------------------------\n",
      "모델의 예측: 죄송하지만, 위시리스트 조회는 현재 시스템에서 지원되지 않습니다. 다른 문의사항이 있으시면 말씀해 주세요.\n",
      "====================================================================================================\n",
      "레이블 : <tool_call>\n",
      "{\"name\": \"view_user_profile\", \"arguments\": {\"user_id\": \"U006\"}}\n",
      "</tool_call>\n",
      "----------------------------------------------------------------------------------------------------\n",
      "모델의 예측: <tool_call>\n",
      "{\"name\": \"view_user_profile\", \"arguments\": {\"user_id\": \"U006\"}}\n",
      "</tool_call>\n",
      "====================================================================================================\n",
      "레이블 : 고객님의 현재 보유 포인트는 15,000점입니다.\n",
      "----------------------------------------------------------------------------------------------------\n",
      "모델의 예측: 고객님의 현재 보유 포인트는 15,000점입니다.\n",
      "====================================================================================================\n",
      "레이블 : 네, 문의해 주셔서 감사합니다. 더 궁금하신 사항이 있으시면 언제든지 말씀해 주세요. 지금까지 상준몰 고객센터 AI 상담사였습니다. 좋은 하루 되세요!\n",
      "----------------------------------------------------------------------------------------------------\n",
      "모델의 예측: 네, 문의해 주셔서 감사합니다. 더 궁금하신 사항이 있으시면 언제든지 말씀해 주세요. 상준몰 고객센터 AI 상담사였습니다. 좋은 하루 되세요!\n",
      "====================================================================================================\n",
      "레이블 : <tool_call>\n",
      "{\"name\": \"view_order_history\", \"arguments\": {\"user_id\": \"U002\"}}\n",
      "</tool_call>\n",
      "----------------------------------------------------------------------------------------------------\n",
      "모델의 예측: <tool_call>\n",
      "{\"name\": \"view_order_history\", \"arguments\": {\"user_id\": \"U002\"}}\n",
      "</tool_call>\n",
      "====================================================================================================\n",
      "레이블 : 고객님께서 5월 10일에 주문하신 ‘무선 이어폰’은 현재 배송 중이며, 택배사는 한진택배, 송장번호는 4567891230입니다.\n",
      "----------------------------------------------------------------------------------------------------\n",
      "모델의 예측: 고객님께서 5월 10일에 주문하신 '무선 이어폰'은 현재 배송 중입니다. 택배사는 한진택배이며, 송장번호는 4567891230입니다.\n",
      "====================================================================================================\n",
      "레이블 : <tool_call>\n",
      "{\"name\": \"view_user_profile\", \"arguments\": {\"user_id\": \"U002\"}}\n",
      "</tool_call>\n",
      "----------------------------------------------------------------------------------------------------\n",
      "모델의 예측: <tool_call>\n",
      "{\"name\": \"view_user_profile\", \"arguments\": {\"user_id\": \"U002\"}}\n",
      "</tool_call>\n",
      "====================================================================================================\n",
      "레이블 : 고객님의 현재 멤버십 등급은 Gold입니다. 현재 10% 할인 쿠폰도 보유하고 계십니다.\n",
      "----------------------------------------------------------------------------------------------------\n",
      "모델의 예측: 고객님의 현재 멤버십 등급은 Gold입니다. 포인트는 1200점 보유 중이며, 사용 가능한 10% 할인 쿠폰도 있습니다.\n",
      "====================================================================================================\n",
      "레이블 : <tool_call>\n",
      "{\"name\": \"search_policy_info\", \"arguments\": {\"keyword\": \"환불\"}}\n",
      "</tool_call>\n",
      "----------------------------------------------------------------------------------------------------\n",
      "모델의 예측: <tool_call>\n",
      "{\"name\": \"search_policy_info\", \"arguments\": {\"keyword\": \"환불\"}}\n",
      "</tool_call>\n",
      "====================================================================================================\n",
      "레이블 : 환불은 상품 수령 후 7일 이내에 신청 가능하며, 왕복 배송비가 부과될 수 있습니다. 환불 신청은 상준몰 고객센터를 통해 가능합니다.\n",
      "----------------------------------------------------------------------------------------------------\n",
      "모델의 예측: 환불은 상품 수령 후 7일 이내에 신청 가능하며, 왕복 배송비가 부과될 수 있습니다. 환불 신청은 상준몰 고객센터를 통해 가능합니다.\n",
      "====================================================================================================\n",
      "레이블 : <tool_call>\n",
      "{\"name\": \"search_policy_info\", \"arguments\": {\"keyword\": \"주문 취소\"}}\n",
      "</tool_call>\n",
      "----------------------------------------------------------------------------------------------------\n",
      "모델의 예측: 결제 취소는 직접 처리할 수 없지만, 요청하신 내용을 담당자에게 전달하여 신속히 처리하겠습니다.\n",
      "====================================================================================================\n",
      "레이블 : 주문 취소는 상품이 출고되기 전에는 언제든지 가능하며, 출고 이후에는 반품으로 처리됩니다. 주문내역에서 주문취소 버튼을 통해 취소할 수 있습니다.\n",
      "----------------------------------------------------------------------------------------------------\n",
      "모델의 예측: 주문 취소는 상품이 출고되기 전에는 언제든 가능하며, 출고 이후에는 반품으로 처리됩니다. 주문내역에서 주문취소 버튼을 통해 취소하실 수 있습니다.\n",
      "====================================================================================================\n",
      "레이블 : 네, 결제 취소는 직접 처리할 수 없으며, 담당자에게 요청 내용을 전달하여 신속히 처리하겠습니다. 더 궁금하신 사항이 있으신가요?\n",
      "----------------------------------------------------------------------------------------------------\n",
      "모델의 예측: 죄송하지만, 결제 취소는 시스템에서 직접 처리할 수 없습니다. 관련 내용을 담당자에게 전달하여 처리하도록 하겠습니다.\n",
      "====================================================================================================\n",
      "레이블 : 네, 문의해 주셔서 감사합니다. 상준몰 AI 상담사였습니다. 좋은 하루 보내세요!\n",
      "----------------------------------------------------------------------------------------------------\n",
      "모델의 예측: 네, 문의해 주셔서 감사합니다. 상준몰 고객센터 AI 상담사였습니다. 좋은 하루 되세요!\n",
      "====================================================================================================\n"
     ]
    }
   ],
   "source": [
    "for label, pred in zip(df['label'].to_list()[:50], df['output'].to_list()[:50]):\n",
    "    print('레이블 :', label)\n",
    "    print('--' * 50)\n",
    "    print('모델의 예측:', pred)\n",
    "    print('==' * 50)"
   ]
  },
  {
   "cell_type": "markdown",
   "id": "5f1014c5-9e8d-40f2-8c0a-d347b153c5a7",
   "metadata": {},
   "source": [
    "## 4. 평가"
   ]
  },
  {
   "cell_type": "markdown",
   "id": "54218952-e391-43f7-96a5-1835c5847905",
   "metadata": {},
   "source": [
    "아래 코드는 펑션 콜링 성능을 평가하기 위한 Python 함수를 구현한 것입니다. 요청하신 세 가지 메트릭을 다음과 같이 구현했습니다:\n",
    "\n",
    "- tool_selection: 함수 이름의 일치 여부를 평가합니다.\n",
    "- params_selection: 파라미터 키(예: user_id)의 일치 여부를 평가합니다.\n",
    "- params_value_accuracy: 파라미터 값(예: \"U002\")의 일치 여부를 평가합니다."
   ]
  },
  {
   "cell_type": "code",
   "execution_count": 50,
   "id": "589e34a1-247d-47ea-aa76-48020fd5537f",
   "metadata": {},
   "outputs": [],
   "source": [
    "def evaluate_function_calls(labels, predictions):\n",
    "    \"\"\"\n",
    "    펑션 콜링 성능을 평가하는 함수\n",
    "    \n",
    "    Parameters:\n",
    "    -----------\n",
    "    labels : list\n",
    "        정답 레이블 목록\n",
    "    predictions : list\n",
    "        모델이 예측한 결과 목록\n",
    "        \n",
    "    Returns:\n",
    "    --------\n",
    "    dict\n",
    "        tool_selection: 함수 이름 일치율\n",
    "        params_selection: 파라미터 키 일치율 \n",
    "        params_value_accuracy: 파라미터 값 일치율\n",
    "        total_samples: 전체 tool_call 샘플 수\n",
    "    \"\"\"\n",
    "    # 결과 저장할 딕셔너리 초기화\n",
    "    results = {\n",
    "        'tool_selection': {'correct': 0, 'total': 0},\n",
    "        'params_selection': {'correct': 0, 'total': 0},\n",
    "        'params_value_accuracy': {'correct': 0, 'total': 0}\n",
    "    }\n",
    "    \n",
    "    # tool_call 형식만 필터링하기 위한 정규표현식\n",
    "    tool_call_pattern = re.compile(r'<tool_call>(.*?)</tool_call>', re.DOTALL)\n",
    "    \n",
    "    # 전체 샘플 중 tool_call 샘플 수\n",
    "    tool_call_count = 0\n",
    "    \n",
    "    for label, pred in zip(labels, predictions):\n",
    "        # tool_call 형식인지 확인\n",
    "        label_match = tool_call_pattern.search(label)\n",
    "        pred_match = tool_call_pattern.search(pred)\n",
    "        \n",
    "        # 레이블이 tool_call이 아니면 건너뛰기\n",
    "        if not label_match:\n",
    "            continue\n",
    "        \n",
    "        tool_call_count += 1\n",
    "        \n",
    "        # 예측이 tool_call 형식이 아니면 모든 지표가 틀린 것으로 처리\n",
    "        if not pred_match:\n",
    "            results['tool_selection']['total'] += 1\n",
    "            results['params_selection']['total'] += 1\n",
    "            results['params_value_accuracy']['total'] += 1\n",
    "            continue\n",
    "        \n",
    "        # JSON 파싱\n",
    "        try:\n",
    "            label_json = json.loads(label_match.group(1))\n",
    "            pred_json = json.loads(pred_match.group(1))\n",
    "        except json.JSONDecodeError:\n",
    "            # JSON 파싱 오류 시 모든 지표가 틀린 것으로 처리\n",
    "            results['tool_selection']['total'] += 1\n",
    "            results['params_selection']['total'] += 1\n",
    "            results['params_value_accuracy']['total'] += 1\n",
    "            continue\n",
    "        \n",
    "        # 1. 함수 이름 일치 여부 (tool_selection)\n",
    "        results['tool_selection']['total'] += 1\n",
    "        if label_json.get('name') == pred_json.get('name'):\n",
    "            results['tool_selection']['correct'] += 1\n",
    "        \n",
    "        # 2. 파라미터 키 일치 여부 (params_selection)\n",
    "        # 개별 파라미터별로 맞고 틀림을 채점\n",
    "        label_params = set(label_json.get('arguments', {}).keys())\n",
    "        pred_params = set(pred_json.get('arguments', {}).keys())\n",
    "        \n",
    "        # 각 파라미터마다 평가를 위해 모든 파라미터 순회\n",
    "        for param in label_params:\n",
    "            results['params_selection']['total'] += 1\n",
    "            if param in pred_params:\n",
    "                results['params_selection']['correct'] += 1\n",
    "        \n",
    "        # 예측에만 있는 추가 파라미터도 틀린 것으로 평가\n",
    "        for param in pred_params:\n",
    "            if param not in label_params:\n",
    "                results['params_selection']['total'] += 1\n",
    "                # correct는 증가 안 함 (틀린 것이므로)\n",
    "        \n",
    "        # 3. 파라미터 값 일치 여부 (params_value_accuracy)\n",
    "        # 존재하는 공통 파라미터에 대해서만 값 일치 여부 평가\n",
    "        label_args = label_json.get('arguments', {})\n",
    "        pred_args = pred_json.get('arguments', {})\n",
    "        \n",
    "        # 공통으로 존재하는 파라미터 키 찾기\n",
    "        common_params = label_params.intersection(pred_params)\n",
    "        \n",
    "        if common_params:  # 공통 파라미터가 있는 경우에만 평가\n",
    "            results['params_value_accuracy']['total'] += 1\n",
    "            \n",
    "            # 공통 파라미터의 값이 모두 일치하는지 확인\n",
    "            values_match = True\n",
    "            for key in common_params:\n",
    "                if label_args.get(key) != pred_args.get(key):\n",
    "                    values_match = False\n",
    "                    break\n",
    "            \n",
    "            if values_match:\n",
    "                results['params_value_accuracy']['correct'] += 1\n",
    "    \n",
    "    # 최종 결과 계산\n",
    "    final_results = {}\n",
    "    for metric, counts in results.items():\n",
    "        if counts['total'] > 0:\n",
    "            final_results[metric] = counts['correct'] / counts['total']\n",
    "        else:\n",
    "            final_results[metric] = 0.0\n",
    "    \n",
    "    final_results['total_samples'] = tool_call_count\n",
    "    \n",
    "    return final_results"
   ]
  },
  {
   "cell_type": "code",
   "execution_count": 51,
   "id": "b5b7ce17-6f68-4741-b7d2-5c2f1a1f0e2f",
   "metadata": {},
   "outputs": [],
   "source": [
    "labels = [\n",
    "    '안녕하세요! 상준몰 AI 상담사입니다. 무엇을 도와드릴까요?',\n",
    "    '<tool_call>\\n{\"name\": \"view_user_profile\", \"arguments\": {\"user_id\": \"U002\"}}\\n</tool_call>',\n",
    "    '고객님의 주소는 \\'서울특별시 강남구 테헤란로 123\\'으로 등록되어 있습니다. 다른 정보가 필요하신가요?',\n",
    "    '<tool_call>\\n{\"name\": \"view_order_history\", \"arguments\": {\"user_id\": \"U002\"}}\\n</tool_call>'\n",
    "]\n",
    "\n",
    "predictions = [\n",
    "    '안녕하세요! 상준몰 AI 상담사입니다. 무엇을 도와드릴까요?',\n",
    "    '<tool_call>\\n{\"name\": \"view_user_profile\", \"arguments\": {\"user_id\": \"U002\"}}\\n</tool_call>',\n",
    "    '고객님의 주소는 \\'서울특별시 강남구 테헤란로 123\\'로 등록되어 있습니다. 다른 정보가 필요하시면 말씀해 주세요.',\n",
    "    '<tool_call>\\n{\"name\": \"view_order_history\", \"arguments\": {\"user_id\": \"U002\"}}\\n</tool_call>'\n",
    "]"
   ]
  },
  {
   "cell_type": "code",
   "execution_count": 52,
   "id": "29698c1e-d7b6-4345-aa81-f8c383cb1b8a",
   "metadata": {},
   "outputs": [
    {
     "name": "stdout",
     "output_type": "stream",
     "text": [
      "정상 케이스 평가 결과:\n",
      "tool_selection: 100.00%\n",
      "params_selection: 100.00%\n",
      "params_value_accuracy: 100.00%\n",
      "total_samples: 2\n"
     ]
    }
   ],
   "source": [
    "# 정상 케이스 평가\n",
    "results = evaluate_function_calls(labels, predictions)\n",
    "print(\"정상 케이스 평가 결과:\")\n",
    "for metric, value in results.items():\n",
    "    if metric != 'total_samples':\n",
    "        print(f\"{metric}: {value:.2%}\")\n",
    "    else:\n",
    "        print(f\"{metric}: {value}\")"
   ]
  },
  {
   "cell_type": "code",
   "execution_count": 53,
   "id": "fa9ecd03-372a-432f-abe0-9d70aae14434",
   "metadata": {},
   "outputs": [],
   "source": [
    "# 다른 예시 (에러 케이스)\n",
    "labels_with_errors = [\n",
    "    '<tool_call>\\n{\"name\": \"view_user_profile\", \"arguments\": {\"user_id\": \"U002\"}}\\n</tool_call>',\n",
    "    '<tool_call>\\n{\"name\": \"search_product\", \"arguments\": {\"keyword\": \"노트북\", \"category\": \"전자기기\"}}\\n</tool_call>',\n",
    "    '<tool_call>\\n{\"name\": \"check_stock\", \"arguments\": {\"product_id\": \"P001\"}}\\n</tool_call>'\n",
    "]\n",
    "\n",
    "predictions_with_errors = [\n",
    "    '<tool_call>\\n{\"name\": \"view_profile\", \"arguments\": {\"user_id\": \"U002\"}}\\n</tool_call>',\n",
    "    '<tool_call>\\n{\"name\": \"search_product\", \"arguments\": {\"keyword\": \"노트북\"}}\\n</tool_call>', \n",
    "    '죄송합니다. 재고 확인은 제품 번호가 필요합니다.'\n",
    "]"
   ]
  },
  {
   "cell_type": "code",
   "execution_count": 54,
   "id": "dbd6a244-0901-4cc9-9d80-4047fc8a964a",
   "metadata": {},
   "outputs": [
    {
     "name": "stdout",
     "output_type": "stream",
     "text": [
      "\n",
      "에러 케이스 평가 결과:\n",
      "tool_selection: 33.33%\n",
      "params_selection: 50.00%\n",
      "params_value_accuracy: 66.67%\n",
      "total_samples: 3\n"
     ]
    }
   ],
   "source": [
    "print(\"\\n에러 케이스 평가 결과:\")\n",
    "results_with_errors = evaluate_function_calls(labels_with_errors, predictions_with_errors)\n",
    "for metric, value in results_with_errors.items():\n",
    "    if metric != 'total_samples':\n",
    "        print(f\"{metric}: {value:.2%}\")\n",
    "    else:\n",
    "        print(f\"{metric}: {value}\")"
   ]
  },
  {
   "cell_type": "markdown",
   "id": "16d6bcee-5d79-43ba-988c-df11e9f30abf",
   "metadata": {},
   "source": [
    "**tool_selection: 33.33%**\r\n",
    "- 세 개의 tool_call 중에서 하나만 함수 이름이 정확히 일치했습니다.\r\n",
    "- 두 번째 예시 \"search_product\"가 일치했고, 나머지 두 개는 불일치했습니다.\r\n",
    "\r\n",
    "**params_selection: 50.00%**\r\n",
    "- 모든 파라미터를 개별적으로 평가합니다.\r\n",
    "- 첫 번째 예시: label {\"user_id\"}, pred {\"user_id\"} → 1/1 맞음\r\n",
    "- 두 번째 예시: label {\"keyword\", \"category\"}, pred {\"keyword\"} → 1/2 맞음 (keyword는 맞았고, category는 누락됨)\r\n",
    "- 세 번째 예시: label {\"product_id\"}, pred 없음 → 0/1 맞음\r\n",
    "- 총 4개 파라미터 중 2개 맞춤 → 50.00%\r\n",
    "\r\n",
    "**params_value_accuracy: 66.67%**\r\n",
    "- 공통 파라미터가 있는 두 개의 경우 중에서 두 개 모두 값이 일치했습니다.\r\n",
    "- 첫 번째 예시에서 \"user_id\"의 값이 양쪽 모두 \"U002\"로 일치했습니다.\r\n",
    "- 두 번째 예시에서 \"keyword\"의 값이 양쪽 모두 \"노트북\"으로 일치했습니다.\r\n",
    "- 세 번째 예시는 tool_call 형식이 아니어서 평가되지 않았습니다."
   ]
  },
  {
   "cell_type": "code",
   "execution_count": 56,
   "id": "8a2f1b8a-5e21-4c2a-bfcb-3d80a63ee51f",
   "metadata": {},
   "outputs": [
    {
     "name": "stdout",
     "output_type": "stream",
     "text": [
      "tool_selection: 85.71%\n",
      "params_selection: 84.17%\n",
      "params_value_accuracy: 85.57%\n",
      "total_samples: 196\n"
     ]
    }
   ],
   "source": [
    "labels = df['label'].to_list()\n",
    "preds = df['output'].to_list()\n",
    "\n",
    "results_with_errors = evaluate_function_calls(labels, preds)\n",
    "for metric, value in results_with_errors.items():\n",
    "    if metric != 'total_samples':\n",
    "        print(f\"{metric}: {value:.2%}\")\n",
    "    else:\n",
    "        print(f\"{metric}: {value}\")"
   ]
  }
 ],
 "metadata": {
  "kernelspec": {
   "display_name": "Python 3 (ipykernel)",
   "language": "python",
   "name": "python3"
  },
  "language_info": {
   "codemirror_mode": {
    "name": "ipython",
    "version": 3
   },
   "file_extension": ".py",
   "mimetype": "text/x-python",
   "name": "python",
   "nbconvert_exporter": "python",
   "pygments_lexer": "ipython3",
   "version": "3.10.12"
  }
 },
 "nbformat": 4,
 "nbformat_minor": 5
}
