{
 "cells": [
  {
   "cell_type": "code",
   "execution_count": 1,
   "id": "944551a7-b2dd-4692-94ce-98d17a6349b1",
   "metadata": {},
   "outputs": [
    {
     "name": "stdout",
     "output_type": "stream",
     "text": [
      "INFO 04-08 16:10:24 [__init__.py:239] Automatically detected platform cuda.\n"
     ]
    }
   ],
   "source": [
    "import json\n",
    "from transformers import AutoTokenizer\n",
    "from vllm import LLM, SamplingParams"
   ]
  },
  {
   "cell_type": "markdown",
   "id": "960062a5-6836-4948-a5a6-e50c94da3237",
   "metadata": {},
   "source": [
    "https://huggingface.co/iamjoon/llama3-8b-finance-analyzer/tree/main"
   ]
  },
  {
   "cell_type": "code",
   "execution_count": 2,
   "id": "b3e60921-cff0-498a-98f4-8e0dde271629",
   "metadata": {},
   "outputs": [
    {
     "data": {
      "application/vnd.jupyter.widget-view+json": {
       "model_id": "7b299c8c414d4ae4aa1a966a7df04efe",
       "version_major": 2,
       "version_minor": 0
      },
      "text/plain": [
       "config.json:   0%|          | 0.00/689 [00:00<?, ?B/s]"
      ]
     },
     "metadata": {},
     "output_type": "display_data"
    },
    {
     "name": "stdout",
     "output_type": "stream",
     "text": [
      "INFO 04-08 16:10:49 [config.py:600] This model supports multiple tasks: {'reward', 'classify', 'generate', 'score', 'embed'}. Defaulting to 'generate'.\n",
      "INFO 04-08 16:10:50 [config.py:1780] Chunked prefill is enabled with max_num_batched_tokens=8192.\n"
     ]
    },
    {
     "data": {
      "application/vnd.jupyter.widget-view+json": {
       "model_id": "95829f577d1e4e53a95bdff402d72fde",
       "version_major": 2,
       "version_minor": 0
      },
      "text/plain": [
       "tokenizer_config.json:   0%|          | 0.00/51.2k [00:00<?, ?B/s]"
      ]
     },
     "metadata": {},
     "output_type": "display_data"
    },
    {
     "data": {
      "application/vnd.jupyter.widget-view+json": {
       "model_id": "f0f769010c5141228811acc96631a742",
       "version_major": 2,
       "version_minor": 0
      },
      "text/plain": [
       "tokenizer.json:   0%|          | 0.00/17.2M [00:00<?, ?B/s]"
      ]
     },
     "metadata": {},
     "output_type": "display_data"
    },
    {
     "data": {
      "application/vnd.jupyter.widget-view+json": {
       "model_id": "e86fa09ff58f4252ab5885c7b545cea8",
       "version_major": 2,
       "version_minor": 0
      },
      "text/plain": [
       "special_tokens_map.json:   0%|          | 0.00/430 [00:00<?, ?B/s]"
      ]
     },
     "metadata": {},
     "output_type": "display_data"
    },
    {
     "data": {
      "application/vnd.jupyter.widget-view+json": {
       "model_id": "ffd8564fecbd4f1fafa71d17cb0e5d23",
       "version_major": 2,
       "version_minor": 0
      },
      "text/plain": [
       "generation_config.json:   0%|          | 0.00/143 [00:00<?, ?B/s]"
      ]
     },
     "metadata": {},
     "output_type": "display_data"
    },
    {
     "name": "stdout",
     "output_type": "stream",
     "text": [
      "INFO 04-08 16:10:54 [core.py:61] Initializing a V1 LLM engine (v0.8.3) with config: model='iamjoon/llama3-8b-finance-analyzer', speculative_config=None, tokenizer='iamjoon/llama3-8b-finance-analyzer', skip_tokenizer_init=False, tokenizer_mode=auto, revision=None, override_neuron_config=None, tokenizer_revision=None, trust_remote_code=False, dtype=torch.float16, max_seq_len=8192, download_dir=None, load_format=auto, tensor_parallel_size=1, pipeline_parallel_size=1, disable_custom_all_reduce=False, quantization=None, enforce_eager=False, kv_cache_dtype=auto,  device_config=cuda, decoding_config=DecodingConfig(guided_decoding_backend='xgrammar', reasoning_backend=None), observability_config=ObservabilityConfig(show_hidden_metrics=False, otlp_traces_endpoint=None, collect_model_forward_time=False, collect_model_execute_time=False), seed=None, served_model_name=iamjoon/llama3-8b-finance-analyzer, num_scheduler_steps=1, multi_step_stream_outputs=True, enable_prefix_caching=True, chunked_prefill_enabled=True, use_async_output_proc=True, disable_mm_preprocessor_cache=False, mm_processor_kwargs=None, pooler_config=None, compilation_config={\"level\":3,\"custom_ops\":[\"none\"],\"splitting_ops\":[\"vllm.unified_attention\",\"vllm.unified_attention_with_output\"],\"use_inductor\":true,\"compile_sizes\":[],\"use_cudagraph\":true,\"cudagraph_num_of_warmups\":1,\"cudagraph_capture_sizes\":[512,504,496,488,480,472,464,456,448,440,432,424,416,408,400,392,384,376,368,360,352,344,336,328,320,312,304,296,288,280,272,264,256,248,240,232,224,216,208,200,192,184,176,168,160,152,144,136,128,120,112,104,96,88,80,72,64,56,48,40,32,24,16,8,4,2,1],\"max_capture_size\":512}\n",
      "WARNING 04-08 16:10:56 [utils.py:2413] Methods determine_num_available_blocks,device_config,get_cache_block_size_bytes,initialize_cache not implemented in <vllm.v1.worker.gpu_worker.Worker object at 0x7d2d226f0bb0>\n",
      "INFO 04-08 16:10:58 [parallel_state.py:957] rank 0 in world size 1 is assigned as DP rank 0, PP rank 0, TP rank 0\n",
      "INFO 04-08 16:10:58 [cuda.py:221] Using Flash Attention backend on V1 engine.\n",
      "INFO 04-08 16:11:00 [gpu_model_runner.py:1258] Starting to load model iamjoon/llama3-8b-finance-analyzer...\n",
      "WARNING 04-08 16:11:00 [topk_topp_sampler.py:69] FlashInfer is not available. Falling back to the PyTorch-native implementation of top-p & top-k sampling. For the best performance, please install FlashInfer.\n",
      "INFO 04-08 16:11:01 [weight_utils.py:265] Using model weights format ['*.safetensors']\n"
     ]
    },
    {
     "data": {
      "application/vnd.jupyter.widget-view+json": {
       "model_id": "c8ae3e3d73ab4df9b7047dce1c6491d8",
       "version_major": 2,
       "version_minor": 0
      },
      "text/plain": [
       "model-00004-of-00004.safetensors:   0%|          | 0.00/1.17G [00:00<?, ?B/s]"
      ]
     },
     "metadata": {},
     "output_type": "display_data"
    },
    {
     "data": {
      "application/vnd.jupyter.widget-view+json": {
       "model_id": "9306c704d5e646dd926795a3e6ec2b7e",
       "version_major": 2,
       "version_minor": 0
      },
      "text/plain": [
       "model-00003-of-00004.safetensors:   0%|          | 0.00/4.92G [00:00<?, ?B/s]"
      ]
     },
     "metadata": {},
     "output_type": "display_data"
    },
    {
     "data": {
      "application/vnd.jupyter.widget-view+json": {
       "model_id": "55cd412852b143688250562ff393e163",
       "version_major": 2,
       "version_minor": 0
      },
      "text/plain": [
       "model-00002-of-00004.safetensors:   0%|          | 0.00/5.00G [00:00<?, ?B/s]"
      ]
     },
     "metadata": {},
     "output_type": "display_data"
    },
    {
     "data": {
      "application/vnd.jupyter.widget-view+json": {
       "model_id": "868a2eabab6e4748955b298017401923",
       "version_major": 2,
       "version_minor": 0
      },
      "text/plain": [
       "model-00001-of-00004.safetensors:   0%|          | 0.00/4.98G [00:00<?, ?B/s]"
      ]
     },
     "metadata": {},
     "output_type": "display_data"
    },
    {
     "name": "stdout",
     "output_type": "stream",
     "text": [
      "INFO 04-08 16:12:28 [weight_utils.py:281] Time spent downloading weights for iamjoon/llama3-8b-finance-analyzer: 87.161293 seconds\n"
     ]
    },
    {
     "data": {
      "application/vnd.jupyter.widget-view+json": {
       "model_id": "284ae909893c475f9794509001d99e6c",
       "version_major": 2,
       "version_minor": 0
      },
      "text/plain": [
       "model.safetensors.index.json:   0%|          | 0.00/23.9k [00:00<?, ?B/s]"
      ]
     },
     "metadata": {},
     "output_type": "display_data"
    },
    {
     "data": {
      "application/vnd.jupyter.widget-view+json": {
       "model_id": "cbb84541f7434e118a07b1078af0da8d",
       "version_major": 2,
       "version_minor": 0
      },
      "text/plain": [
       "Loading safetensors checkpoint shards:   0% Completed | 0/4 [00:00<?, ?it/s]\n"
      ]
     },
     "metadata": {},
     "output_type": "display_data"
    },
    {
     "name": "stdout",
     "output_type": "stream",
     "text": [
      "INFO 04-08 16:12:31 [loader.py:447] Loading weights took 3.42 seconds\n",
      "INFO 04-08 16:12:32 [gpu_model_runner.py:1273] Model loading took 14.9596 GiB and 91.632780 seconds\n",
      "INFO 04-08 16:12:38 [backends.py:416] Using cache directory: /root/.cache/vllm/torch_compile_cache/d8f3d150ab/rank_0_0 for vLLM's torch.compile\n",
      "INFO 04-08 16:12:38 [backends.py:426] Dynamo bytecode transform time: 6.78 s\n",
      "INFO 04-08 16:12:42 [backends.py:132] Cache the graph of shape None for later use\n",
      "INFO 04-08 16:13:19 [backends.py:144] Compiling a graph for general shape takes 39.76 s\n",
      "INFO 04-08 16:13:32 [monitor.py:33] torch.compile takes 46.54 s in total\n",
      "INFO 04-08 16:13:34 [kv_cache_utils.py:578] GPU KV cache size: 417,952 tokens\n",
      "INFO 04-08 16:13:34 [kv_cache_utils.py:581] Maximum concurrency for 8,192 tokens per request: 51.02x\n",
      "INFO 04-08 16:14:30 [gpu_model_runner.py:1608] Graph capturing finished in 56 secs, took 0.51 GiB\n",
      "INFO 04-08 16:14:31 [core.py:162] init engine (profile, create kv cache, warmup model) took 118.86 seconds\n"
     ]
    }
   ],
   "source": [
    "llm = LLM(model=\"iamjoon/llama3-8b-finance-analyzer\")"
   ]
  },
  {
   "cell_type": "code",
   "execution_count": 5,
   "id": "f6bab6e1-d237-4391-ad13-4db9bc12409f",
   "metadata": {},
   "outputs": [],
   "source": [
    "tokenizer = AutoTokenizer.from_pretrained(\"iamjoon/llama3-8b-finance-analyzer\")\n",
    "\n",
    "with open(\"/workspace/LLaMA-Factory/data/finance_news_summarizer_test.json\", \"r\", encoding=\"utf-8\") as f:\n",
    "    test_data = json.load(f)\n",
    "\n",
    "input_label_pairs = []\n",
    "\n",
    "# 샘플 순회하면서 템플릿 적용 및 분리\n",
    "for sample in test_data:\n",
    "    system = sample.get(\"system\", \"\")\n",
    "    instruction = sample[\"instruction\"]\n",
    "    output = sample[\"output\"]\n",
    "\n",
    "    # chat template용 메시지 구성\n",
    "    messages = []\n",
    "    if system:\n",
    "        messages.append({\"role\": \"system\", \"content\": system})\n",
    "    messages.append({\"role\": \"user\", \"content\": instruction})\n",
    "    messages.append({\"role\": \"assistant\", \"content\": output})  # 전체 메시지 (full_text용)\n",
    "\n",
    "    # assistant 전까지만 prompt로 구성\n",
    "    prompt_only = tokenizer.apply_chat_template(\n",
    "        messages[:-1],  # assistant 제거\n",
    "        tokenize=False,\n",
    "        add_generation_prompt=True  # <|start|>assistant\\n 추가됨\n",
    "    )\n",
    "\n",
    "    # label에는 절대 template 적용 안 함\n",
    "    input_label_pairs.append({\n",
    "        \"input\": prompt_only,     # 템플릿 적용된 prompt\n",
    "        \"label\": output.strip()   # 순수 응답만 (앞뒤 공백 제거만)\n",
    "    })"
   ]
  },
  {
   "cell_type": "code",
   "execution_count": 8,
   "id": "a322adad-70b0-42c3-bd99-27939cf4f585",
   "metadata": {},
   "outputs": [
    {
     "name": "stdout",
     "output_type": "stream",
     "text": [
      "<|begin_of_text|><|start_header_id|>system<|end_header_id|>\n",
      "\n",
      "당신은 주어진 뉴스로부터 종목에 영향을 주는 뉴스인지 판별하는 금융 뉴스 판별기입니다.\n",
      "두 가지 답변 케이스가 존재하며 무조건 파이썬의 dictionary 형식으로 작성하십시오.\n",
      "큰 따옴표 사이에 다른 따옴표들을 적으려고 시도하지 마십시오. 이는 dictionary 파싱을 실패하게 하는 원인이 됩니다. 따라서 주의하십시오.\n",
      "아래 dictionary에서 각 value는 지시사항에 해당합니다. 지사사항을 따라 적지마십시오. 해당 지시사항에 따라 적절한 value를 채워넣으십시오.\n",
      "해당사항이 없다면 빈 문자열 또는 빈 리스트로 적어야 합니다. 임의로 '없음' 등을 적어서는 안 됩니다.\n",
      "\n",
      "만약 해당 뉴스가 특정 종목(회사)이 언급되지 않거나, 특정 종목(회사)와 아무런 연관이 없는 뉴스일 경우에는 아래와 같이 작성합니다.\n",
      "\n",
      "답변:\n",
      "{\"is_stock_related\": False,\n",
      "\"summary\": \"여기에는 해당 뉴스를 요약해서 요약문을 작성하십시오\"}\n",
      "\n",
      "만약 해당 뉴스가 특정 종목(회사)들과 연관되었거나, 특정 종목(회사)과 아무런 연관이 없는 뉴스일 경우에는 아래와 같이 작성합니다.\n",
      "\n",
      "답변:\n",
      "{\"is_stock_related\": True,\n",
      "\"positive_impact_stocks\": [\"파이썬 문자열 리스트의 형태로 이 뉴스가 긍정적인 영향을 줄것으로 추정되는 종목들의 이름을 작성하십시오. 약자로 적거나 별명으로 적지마십시오. 종목명으로 추정되는 한글명을 적으십시오. 뉴스로부터 추정할 수 있는 정확한 풀네임으로 적으십시오. 만약, 존재하지 않는다면 빈 리스트로 작성하십시오.\"],\n",
      "\"reason_for_positive_impact\": \"위의 종목들이 해당 뉴스로부터 긍정적인 영향을 받을 것으로 추정한 이유를 여기에다가 작성하십시오\",\n",
      "\"positive_keywords\": [\"긍정적인 영향을 줄 것으로 추정되는 종목들이 존재했다면 여기에 긍정적인 영향을 주는데 근거가 되었던 주요한 명사 키워드들을 파이썬 문자열 리스트 형태로 작성하십시오. 기술명, 회사명 등을 모두 포함합니다. 복합 명사 또한 허용합니다. 없다면 빈 리스트로 작성합시오.\"],\n",
      "\"negative_impact_stocks\": [\"파이썬 문자열 리스트의 형태로 이 뉴스가 긍정적인 영향을 줄것으로 추정되는 종목들을 작성하십시오. 약자로 적거나 별명으로 적지마십시오. 종목명으로 추정되는 한글명을 적으십시오. 뉴스로부터 추정할 수 있는 정확한 풀네임으로 적으십시오. 만약, 존재하지 않는다면 빈 리스트로 작성하십시오.\"],\n",
      "\"reason_for_negative_impact\": \"위의 종목들이 해당 뉴스로부터 긍정적인 영향을 받을 것으로 추정한 이유를 여기에다가 작성하십시오\",\n",
      "\"negative_keywords\": [\"부정적인 영향을 줄 것으로 추정되는 종목들이 존재했다면 여기에 부정적인 영향을 주는데 근거가 되었던 주요한 명사 키워드들을 파이썬 문자열 리스트 형태로 작성하십시오. 기술명, 회사명 등을 모두 포함합니다. 복합 명사 또한 허용합니다. 없다면 빈 리스트로 작성합시오.\"],\n",
      "\"summary\": \"여기에는 해당 뉴스를 요약해서 요약문을 작성하십시오\"}<|eot_id|><|start_header_id|>user<|end_header_id|>\n",
      "\n",
      "이엔아이컨설팅 7월 뉴질랜드·호주 기술이민 설명회 개최\n",
      "해외 유학·이민 컨설팅 전문 이엔아이컨설팅 E I Consulting은 오는 7월 15 16일 양일간 뉴질랜드·호주 기술이민 설명회 를 강남 본사 세미나실에서 개최한다고 밝혔다. 이번 설명회에서는 최근 이민법 변경에 관한 정보와 이에 따른 뉴질랜드 호주 기술이민의 방안을 검토해 볼 수 있는 기회로 뉴질랜드·호주 이민을 계획하는 이들에게 큰 도움이 될 것으로 보인다. 그간 뉴질랜드 기술이민은 다른 영연방 국가들에 비해 낮은 기준 조건과 높은 영주권 승인율로 상대적으로 수월하다고 알려졌다. 하지만 최근 뉴질랜드 이민법이 변경되고 새로운 기준이 제시되면서 뉴질랜드 기술이민을 계획하던 많은 이들은 혼란을 겪고 있는 것도 사실이다. 그리고 개개인이 가진 백그라운드와 경력 전공들을 분석해 효과적인 방안을 선택해야 하기에 전문가의 컨설팅을 통해 보다 정확하고 효과적인 방안을 검토해서 준비해야만 한다. 뉴질랜드 기술이민은 IT 엔지니어링 건설 등 뉴질랜드에 부족한 직업군의 전문기술 경력을 토대로 영주권을 받는 형태로 진행되는 것이 일반적이다. 이번 설명회는 이러한 특정분야의 전문 기술만이 아닌 일반 사무직에 종사하는 뉴질랜드 이민 희망자들을 포함해 실제 취업 가능 여부와 평균연봉 현지 잡오퍼 자격요건 준비사항 이민 성공사례뿐 만 아니라 2022년 뉴질랜드 이민법 변경사항 요약정리 등 취업기반 기술이민에 대한 실질적인 대안과 정보를 중점적으로 다룰 예정이다. 설명회 이후 개별 맞춤형 상담도 제공한다. 이번 설명회는 무료로 진행되며 소규모 인원으로 진행되는 만큼 사전신청이 필수다. 참가신청 등록은 이엔아이컨설팅 홈페이지와 전화로 가능하다.<|eot_id|><|start_header_id|>assistant<|end_header_id|>\n",
      "\n",
      "\n"
     ]
    }
   ],
   "source": [
    "print(input_label_pairs[0]['input'])"
   ]
  },
  {
   "cell_type": "code",
   "execution_count": 9,
   "id": "6a9dfe1a-0e0e-4eab-8490-913dbbaf7f32",
   "metadata": {},
   "outputs": [
    {
     "name": "stdout",
     "output_type": "stream",
     "text": [
      "{\"is_stock_related\": true, \"negative_impact_stocks\": [], \"negative_keywords\": [], \"positive_impact_stocks\": [\"이엔아이컨설팅\"], \"positive_keywords\": [\"뉴질랜드\", \"호주\", \"기술이민\", \"설명회\", \"컨설팅\", \"영주권\"], \"reason_for_negative_impact\": \"\", \"reason_for_positive_impact\": \"이엔아이컨설팅이 뉴질랜드와 호주의 기술이민에 대한 설명회를 개최함으로써 관련 컨설팅 수요가 증가할 것으로 예상되며, 이로 인해 회사에 긍정적인 영향을 미칠 가능성이 있다.\", \"summary\": \"이엔아이컨설팅은 뉴질랜드와 호주의 기술이민에 관한 설명회를 개최하며, 이민법 변경에 따른 정보를 제공하고 효과적인 이민 방안을 제안한다. 이는 컨설팅 수요 증가를 촉진할 수 있다.\"}\n"
     ]
    }
   ],
   "source": [
    "print(input_label_pairs[0]['label'])"
   ]
  },
  {
   "cell_type": "code",
   "execution_count": 10,
   "id": "212b2c0b-889d-4cf4-b980-30b9dceedee5",
   "metadata": {},
   "outputs": [
    {
     "name": "stdout",
     "output_type": "stream",
     "text": [
      "\n",
      "\n",
      "======= 샘플 20 =======\n"
     ]
    },
    {
     "name": "stderr",
     "output_type": "stream",
     "text": [
      "Processed prompts: 100%|██████████| 1/1 [00:01<00:00,  1.43s/it, est. speed input: 980.73 toks/s, output: 82.84 toks/s]\n"
     ]
    },
    {
     "name": "stdout",
     "output_type": "stream",
     "text": [
      "[Generated Output]\n",
      "is_stock_related:\n",
      "False\n",
      "\n",
      "summary:\n",
      "한국철도공사 코레일 사장이 나희승으로 임명된 이후 발생한 안전사고로 인해 공공기관 경영평가에서 최하등급을 받았다. 이는 안전사고로 인한 부정적 평가가 반영된 결과로 보인다.\n",
      "\n",
      "------------------------------------------------------------\n",
      "[정답 Label]\n",
      "is_stock_related:\n",
      "False\n",
      "\n",
      "summary:\n",
      "나희승 코레일 사장이 임기 초반에 안전사고와 관련하여 코레일이 공공기관 경영평가에서 최하등급을 받았다는 뉴스입니다. 나 사장의 안전 관리 체계에 대한 책임론이 대두되고 있으며, 이는 그의 정치적 배경과도 관련이 있다는 분석이 제기되고 있는 상황입니다.\n",
      "\n",
      "\n",
      "\n",
      "======= 샘플 21 =======\n"
     ]
    },
    {
     "name": "stderr",
     "output_type": "stream",
     "text": [
      "Processed prompts: 100%|██████████| 1/1 [00:02<00:00,  2.15s/it, est. speed input: 946.45 toks/s, output: 82.83 toks/s]\n"
     ]
    },
    {
     "name": "stdout",
     "output_type": "stream",
     "text": [
      "[Generated Output]\n",
      "is_stock_related:\n",
      "False\n",
      "\n",
      "summary:\n",
      "이 기사는 10년 전의 주요 뉴스들을 회상하며, 스마트폰의 대중화로 인한 DMB 서비스의 쇠퇴, 치킨집 거리 제한 규제, 과도한 주류 판매로 인한 폭력 문제 등에 대해 다루고 있습니다. 또한 이시영의 복싱 경력과 강남 아파트 가격 상승에 대해 언급하고 있습니다. 주식 시장과 직접적인 연관은 없지만, 소비 문화와 사회적 현상에 대한 통찰을 제공하고 있습니다.\n",
      "\n",
      "------------------------------------------------------------\n",
      "[정답 Label]\n",
      "is_stock_related:\n",
      "False\n",
      "\n",
      "summary:\n",
      "10년전N이라는 연재물에서 2012년의 주요 뉴스를 다루고 있다. 스마트폰의 대중화로 인해 DMB 서비스는 사라졌고, 치킨 가맹점의 거리 제한 규제가 시행되었으며, 술 구매 시 경품 제공에 제재가 있었다. 배우 이시영의 과거 복싱 경력이 소개되었고, 서울 강남 아파트의 가격 양극화 상황이 언급되었다.\n",
      "\n",
      "\n",
      "\n",
      "======= 샘플 22 =======\n"
     ]
    },
    {
     "name": "stderr",
     "output_type": "stream",
     "text": [
      "Processed prompts: 100%|██████████| 1/1 [00:03<00:00,  3.11s/it, est. speed input: 373.63 toks/s, output: 82.31 toks/s]\n"
     ]
    },
    {
     "name": "stdout",
     "output_type": "stream",
     "text": [
      "[Generated Output]\n",
      "is_stock_related:\n",
      "True\n",
      "\n",
      "positive_impact_stocks:\n",
      "['모티브인텔리전스', 'TG360']\n",
      "\n",
      "reason_for_positive_impact:\n",
      "모티브인텔리전스는 TG360과의 데이터 제휴를 통해 새로운 고객 데이터를 확보하고, 맞춤형 광고를 제공할 수 있게 되어 광고주에게 타겟 광고를 제공할 수 있게 되어 광고 성과를 개선할 수 있을 것으로 예상됩니다.\n",
      "\n",
      "positive_keywords:\n",
      "['맞춤형 광고', '고객 확보', '신규 고객', '마케팅 성과 개선', '온·오프라인 행동 데이터', 'AI 알고리즘', '데이터 제휴', '광고주 타겟군 확장']\n",
      "\n",
      "negative_impact_stocks:\n",
      "[]\n",
      "\n",
      "reason_for_negative_impact:\n",
      "\n",
      "\n",
      "negative_keywords:\n",
      "[]\n",
      "\n",
      "summary:\n",
      "모티브인텔리전스와 TG360이 데이터 제휴를 통해 맞춤형 광고와 고객 확보를 위한 협력을 진행한다고 밝혔다. TG360의 DMP 데이터 관리 플랫폼을 활용해 광고주에게 타겟 광고를 제공할 수 있게 됐다.\n",
      "\n",
      "------------------------------------------------------------\n",
      "[정답 Label]\n",
      "is_stock_related:\n",
      "True\n",
      "\n",
      "positive_impact_stocks:\n",
      "['모티브인텔리전스', 'TG360 테크놀로지스']\n",
      "\n",
      "reason_for_positive_impact:\n",
      "모티브인텔리전스가 TG360 테크놀로지스와의 데이터 제휴를 통해 맞춤형 광고 및 고객 확보 능력을 강화하여 마케팅 성과 개선을 기대할 수 있기 때문에 긍정적인 영향을 받을 것으로 예상됩니다.\n",
      "\n",
      "positive_keywords:\n",
      "['데이터 제휴', '맞춤형 광고', '고객 행동 분석', '비식별 데이터', '몰레큘', '인공지능 AI 알고리즘']\n",
      "\n",
      "negative_impact_stocks:\n",
      "[]\n",
      "\n",
      "reason_for_negative_impact:\n",
      "\n",
      "\n",
      "negative_keywords:\n",
      "[]\n",
      "\n",
      "summary:\n",
      "모티브인텔리전스가 TG360 테크놀로지스와 데이터 제휴 협약을 체결하여 맞춤형 광고와 고객 확보 능력을 강화하였다. 이 협약으로 마케팅 성과 개선이 기대되며, TG360의 비식별 데이터를 활용한 고객 행동 분석 솔루션이 도입된다.\n",
      "\n",
      "\n",
      "\n",
      "======= 샘플 23 =======\n"
     ]
    },
    {
     "name": "stderr",
     "output_type": "stream",
     "text": [
      "Processed prompts: 100%|██████████| 1/1 [00:02<00:00,  2.12s/it, est. speed input: 712.30 toks/s, output: 83.60 toks/s]\n"
     ]
    },
    {
     "name": "stdout",
     "output_type": "stream",
     "text": [
      "[Generated Output]\n",
      "is_stock_related:\n",
      "False\n",
      "\n",
      "summary:\n",
      "윤석열 정부의 공공기관 혁신 방침에 따라 연내 기관장 교체가 예정된 공공기관이 총 71곳으로 파악됐다. 이는 전국 370개 공공기관 중 19%에 달하는 규모로, 기관장 교체 폭이 더 커질 가능성이 있다. 기관장 교체가 예정된 공공기관 중에는 부산대병원, 한국해양과학기술원(KIOST), 동남권원자력의학원 등이 포함되어 있다.\n",
      "\n",
      "------------------------------------------------------------\n",
      "[정답 Label]\n",
      "is_stock_related:\n",
      "False\n",
      "\n",
      "summary:\n",
      "윤석열 정부의 공공기관 혁신 방침에 따라 연내에 전국 370개 공공기관 중 71곳의 기관장이 교체될 예정이며, 이로 인해 공공기관 경영에 변화가 있을 것으로 보이나, 특정 종목에 대한 영향은 언급되지 않았다.\n",
      "\n",
      "\n",
      "\n",
      "======= 샘플 24 =======\n"
     ]
    },
    {
     "name": "stderr",
     "output_type": "stream",
     "text": [
      "Processed prompts: 100%|██████████| 1/1 [00:04<00:00,  4.74s/it, est. speed input: 333.57 toks/s, output: 82.65 toks/s]\n"
     ]
    },
    {
     "name": "stdout",
     "output_type": "stream",
     "text": [
      "[Generated Output]\n",
      "is_stock_related:\n",
      "True\n",
      "\n",
      "positive_impact_stocks:\n",
      "['영창케미칼']\n",
      "\n",
      "reason_for_positive_impact:\n",
      "영창케미칼의 반도체와 디스플레이 산업에 대한 전문성과 성장 전략이 긍정적으로 평가되고 있으며, 상장 후 글로벌 시장 진출과 기술력 강화가 기대되고 있어 주가 상승 가능성이 높다.\n",
      "\n",
      "positive_keywords:\n",
      "['영창케미칼', '반도체', '디스플레이', '초정밀 산업용 화학소재', '공모주 청약', '상장', '시가총액', '수요예측', '기관 수요예측', '경쟁률', 'A 등급', '포토레지스트 감광액', '유기 하드 마스크 슬러리', '린싱 솔루션 식각액', 'EUV 극자외선 노광 공정용 린스 시제품', '매출', '영업이익', '실적', '성주산업공단', '제4공장', '글로벌 진출', '미국', '싱가포르', '영업사무소', '생산설비', 'R&D', '포트폴리오', '생산 역량', '기업가치']\n",
      "\n",
      "negative_impact_stocks:\n",
      "[]\n",
      "\n",
      "reason_for_negative_impact:\n",
      "\n",
      "\n",
      "negative_keywords:\n",
      "[]\n",
      "\n",
      "summary:\n",
      "영창케미칼이 반도체와 디스플레이 산업의 주요 소재를 생산하는 전문 기업으로서, 공모주 청약을 통해 코스닥 시장에 상장할 예정이다. 상장 후 글로벌 시장 진출과 기술력 강화를 통해 기업가치를 극대화할 계획이다.\n",
      "\n",
      "------------------------------------------------------------\n",
      "[정답 Label]\n",
      "is_stock_related:\n",
      "True\n",
      "\n",
      "positive_impact_stocks:\n",
      "['영창케미칼']\n",
      "\n",
      "reason_for_positive_impact:\n",
      "영창케미칼이 일반투자자 대상 공모주 청약을 진행하며, 상장 후 예상 시가총액과 긍정적인 실적 전망, 해외 진출 계획 등이 회사의 주가에 긍정적인 영향을 미칠 것으로 예상되기 때문이다.\n",
      "\n",
      "positive_keywords:\n",
      "['영창케미칼', '공모주 청약', '상장', '코스닥', '반도체 소재', 'EUV 극자외선 노광 공정', '해외 시장']\n",
      "\n",
      "negative_impact_stocks:\n",
      "[]\n",
      "\n",
      "reason_for_negative_impact:\n",
      "\n",
      "\n",
      "negative_keywords:\n",
      "[]\n",
      "\n",
      "summary:\n",
      "영창케미칼이 일반투자자 대상으로 공모주 청약을 시작하며 코스닥 상장을 계획하고 있다. 반도체 및 디스플레이 산업용 화학소재 전문업체인 영창케미칼은 기술성 평가에서 높은 등급을 받았으며, 해외 시장 진출을 가속화할 계획이다. 상장을 통해 신제품 개발 및 글로벌 시장 점유율 확대를 목표로 삼고 있다.\n",
      "\n",
      "\n",
      "\n",
      "======= 샘플 25 =======\n"
     ]
    },
    {
     "name": "stderr",
     "output_type": "stream",
     "text": [
      "Processed prompts: 100%|██████████| 1/1 [00:03<00:00,  3.90s/it, est. speed input: 400.55 toks/s, output: 83.29 toks/s]\n"
     ]
    },
    {
     "name": "stdout",
     "output_type": "stream",
     "text": [
      "[Generated Output]\n",
      "is_stock_related:\n",
      "True\n",
      "\n",
      "positive_impact_stocks:\n",
      "['SC제일은행', '스탠다드차타드']\n",
      "\n",
      "reason_for_positive_impact:\n",
      "SC제일은행의 투자전략 보고서에 따르면, 채권 투자와 아시아 및 영국 주식에 초점을 맞춘 투자 전략이 제시되었습니다. 이는 SC제일은행과 그 모기업인 스탠다드차타드에 긍정적인 영향을 미칠 수 있습니다. 또한, 글로벌 금융시장 전망 및 투자전략 보고서를 통해 자산관리 고객과 투자자에게 전문적인 자산배분 전략을 제공함으로써, 회사의 브랜드 가치와 신뢰도를 높일 수 있습니다.\n",
      "\n",
      "positive_keywords:\n",
      "['SC제일은행', '스탠다드차타드', '투자전략', '채권', '아시아', '영국', '자산배분', '글로벌 금융시장']\n",
      "\n",
      "negative_impact_stocks:\n",
      "[]\n",
      "\n",
      "reason_for_negative_impact:\n",
      "\n",
      "\n",
      "negative_keywords:\n",
      "[]\n",
      "\n",
      "summary:\n",
      "SC제일은행은 하반기 투자전략 보고서를 발표하며 채권 투자와 아시아 및 영국 주식에 초점을 맞춘 전략을 제시했다. 이는 회사의 투자 전문성과 글로벌 자산관리 서비스 제공을 강조하여 긍정적인 영향을 미칠 수 있다.\n",
      "\n",
      "------------------------------------------------------------\n",
      "[정답 Label]\n",
      "is_stock_related:\n",
      "True\n",
      "\n",
      "positive_impact_stocks:\n",
      "['SC제일은행', '스탠다드차타드']\n",
      "\n",
      "reason_for_positive_impact:\n",
      "SC제일은행이 제시한 투자 전략 보고서는 아시아 및 영국 주식과 채권에 대한 긍정적인 전망을 제시함에 따라 해당 지역의 관련 종목들이 긍정적인 영향을 받을 수 있고, 또한 SC제일은행의 전문성과 글로벌 네트워크 활용에 대한 강조는 회사의 자산관리 서비스에 긍정적인 이미지를 형성할 수 있다.\n",
      "\n",
      "positive_keywords:\n",
      "['채권', '아시아 주식', '영국 주식', '멀티에셋 인컴 전략', 'SC그룹', '글로벌 금융시장 전망 및 투자전략 보고서']\n",
      "\n",
      "negative_impact_stocks:\n",
      "[]\n",
      "\n",
      "reason_for_negative_impact:\n",
      "\n",
      "\n",
      "negative_keywords:\n",
      "[]\n",
      "\n",
      "summary:\n",
      "SC제일은행은 하반기 글로벌 금융시장 전망 및 투자전략 보고서를 발표하며, 주식보다 채권 비중 확대와 아시아 및 영국 주식에 대한 관심을 권장했다. 또한, 다양한 자산을 포트폴리오에 포함시키고 고물가에 대응하기 위해 금 등 방어적 수단을 제시했다.\n",
      "\n",
      "\n",
      "\n",
      "======= 샘플 26 =======\n"
     ]
    },
    {
     "name": "stderr",
     "output_type": "stream",
     "text": [
      "Processed prompts: 100%|██████████| 1/1 [00:01<00:00,  2.00s/it, est. speed input: 673.34 toks/s, output: 83.79 toks/s]\n"
     ]
    },
    {
     "name": "stdout",
     "output_type": "stream",
     "text": [
      "[Generated Output]\n",
      "is_stock_related:\n",
      "True\n",
      "\n",
      "positive_impact_stocks:\n",
      "['포드']\n",
      "\n",
      "reason_for_positive_impact:\n",
      "포드가 전기차 기술력을 과시하고 경험을 축적하는 데 있어 긍정적인 영향을 받을 수 있다.\n",
      "\n",
      "positive_keywords:\n",
      "['포드', '전기차', '전기 밴', '전기 모터', '배터리']\n",
      "\n",
      "negative_impact_stocks:\n",
      "[]\n",
      "\n",
      "reason_for_negative_impact:\n",
      "\n",
      "\n",
      "negative_keywords:\n",
      "[]\n",
      "\n",
      "summary:\n",
      "포드는 굿우드 페스티벌에서 2,000마력에 달하는 전기 밴 '일렉트릭 슈퍼밴'을 공개했다. 이는 전기차 기술력 과시와 경험 축적의 의미를 담고 있다.\n",
      "\n",
      "------------------------------------------------------------\n",
      "[정답 Label]\n",
      "is_stock_related:\n",
      "True\n",
      "\n",
      "positive_impact_stocks:\n",
      "['포드']\n",
      "\n",
      "reason_for_positive_impact:\n",
      "포드가 굿우드 페스티벌에서 강력한 전기 차량인 '일렉트릭 슈퍼밴'을 공개하며 전동화 기술력을 과시하였고, 이는 포드의 전기차 기술 개발과 시장 내 영향력을 강화할 수 있는 긍정적인 뉴스입니다.\n",
      "\n",
      "positive_keywords:\n",
      "['일렉트릭 슈퍼밴', '전동화', '굿우드 페스티벌', '2 000마력', '전기 모터']\n",
      "\n",
      "negative_impact_stocks:\n",
      "[]\n",
      "\n",
      "reason_for_negative_impact:\n",
      "\n",
      "\n",
      "negative_keywords:\n",
      "[]\n",
      "\n",
      "summary:\n",
      "포드는 굿우드 페스티벌에서 2 000마력의 강력한 전기밴 '일렉트릭 슈퍼밴'을 공개하며, 전기차 기술력과 퍼포먼스를 강조한 차량을 선보였다. 이는 포드의 전동화 전략을 부각시키는 긍정적인 소식이다.\n",
      "\n",
      "\n",
      "\n",
      "======= 샘플 27 =======\n"
     ]
    },
    {
     "name": "stderr",
     "output_type": "stream",
     "text": [
      "Processed prompts: 100%|██████████| 1/1 [00:02<00:00,  2.23s/it, est. speed input: 550.10 toks/s, output: 83.59 toks/s]\n"
     ]
    },
    {
     "name": "stdout",
     "output_type": "stream",
     "text": [
      "[Generated Output]\n",
      "is_stock_related:\n",
      "True\n",
      "\n",
      "positive_impact_stocks:\n",
      "[]\n",
      "\n",
      "reason_for_positive_impact:\n",
      "\n",
      "\n",
      "positive_keywords:\n",
      "[]\n",
      "\n",
      "negative_impact_stocks:\n",
      "['한국타이어']\n",
      "\n",
      "reason_for_negative_impact:\n",
      "한국타이어는 노조의 폭행으로 인해 사무기술직 직원들이 상해를 입었고, 공장 시설 가동 중단으로 인해 3억원 가량의 손해를 입었다고 밝혔다.\n",
      "\n",
      "negative_keywords:\n",
      "['폭행', '고소', '노조', '공장 가동 중단', '손해']\n",
      "\n",
      "summary:\n",
      "한국타이어는 노조 관계자들에 의한 폭행 사건으로 인해 사무기술직 직원들이 상해를 입고, 공장 시설 가동 중단으로 인해 손해를 입었다고 밝혔다.\n",
      "\n",
      "------------------------------------------------------------\n",
      "[정답 Label]\n",
      "is_stock_related:\n",
      "True\n",
      "\n",
      "positive_impact_stocks:\n",
      "[]\n",
      "\n",
      "reason_for_positive_impact:\n",
      "\n",
      "\n",
      "positive_keywords:\n",
      "[]\n",
      "\n",
      "negative_impact_stocks:\n",
      "['한국타이어앤테크놀로지']\n",
      "\n",
      "reason_for_negative_impact:\n",
      "폭행 사건과 공장 가동 중단으로 인한 업무 방해 및 금전적 손실이 한국타이어앤테크놀로지의 기업 이미지와 운영에 부정적인 영향을 미칠 가능성이 높다.\n",
      "\n",
      "negative_keywords:\n",
      "['폭행 사건', '업무 방해', '공장 가동 중단', '금속노조']\n",
      "\n",
      "summary:\n",
      "한국타이어 노동조합원이 사측 관리자를 폭행하고 설비 가동을 무단 중단한 사건이 발생해, 회사가 금속노조 한국타이어지회를 고소했다. 이 사건으로 인해 회사는 약 3억원의 손해를 입었고, 양측은 쌍방 폭행을 주장하고 있다.\n",
      "\n",
      "\n",
      "\n",
      "======= 샘플 28 =======\n"
     ]
    },
    {
     "name": "stderr",
     "output_type": "stream",
     "text": [
      "Processed prompts: 100%|██████████| 1/1 [00:01<00:00,  1.57s/it, est. speed input: 886.94 toks/s, output: 84.04 toks/s]\n"
     ]
    },
    {
     "name": "stdout",
     "output_type": "stream",
     "text": [
      "[Generated Output]\n",
      "is_stock_related:\n",
      "False\n",
      "\n",
      "summary:\n",
      "SRT 열차가 탈선하여 11명이 부상을 입었고, 사고 원인 파악을 위해 현장에 유관기관 긴급구조대가 투입되었다. 상·하행선은 지연 운행 중이며, 고속열차를 이용하는 고객들에게는 타 교통수단 이용을 권장하고 있다.\n",
      "\n",
      "------------------------------------------------------------\n",
      "[정답 Label]\n",
      "is_stock_related:\n",
      "False\n",
      "\n",
      "summary:\n",
      "부산에서 서울로 향하던 SRT 열차가 대전조차장역 인근에서 탈선하여 11명이 부상당했으며, 상하행선 열차 운행이 지연되고 있다. 사고 원인에 대한 조사가 진행 중이며, 국토교통부와 관련 기관이 현장에 투입되었다.\n",
      "\n",
      "\n",
      "\n",
      "======= 샘플 29 =======\n"
     ]
    },
    {
     "name": "stderr",
     "output_type": "stream",
     "text": [
      "Processed prompts: 100%|██████████| 1/1 [00:02<00:00,  2.28s/it, est. speed input: 616.63 toks/s, output: 83.94 toks/s]\n"
     ]
    },
    {
     "name": "stdout",
     "output_type": "stream",
     "text": [
      "[Generated Output]\n",
      "is_stock_related:\n",
      "True\n",
      "\n",
      "positive_impact_stocks:\n",
      "['기아']\n",
      "\n",
      "reason_for_positive_impact:\n",
      "기아의 전년 대비 판매량 증가로 인해 긍정적인 영향을 받을 수 있다.\n",
      "\n",
      "positive_keywords:\n",
      "['기아', '스포티지', '셀토스', '판매 증가']\n",
      "\n",
      "negative_impact_stocks:\n",
      "[]\n",
      "\n",
      "reason_for_negative_impact:\n",
      "\n",
      "\n",
      "negative_keywords:\n",
      "[]\n",
      "\n",
      "summary:\n",
      "기아는 지난달 글로벌 시장에서 전년 동월 대비 1.8% 증가한 25만8610대의 판매를 기록했으며, 스포티지가 4만3201대로 가장 많이 판매되었다. 반도체 부품 수급 문제에도 불구하고 기아는 유연한 반도체 배분과 생산 일정 조정으로 공급 지연에 대응하고 있다.\n",
      "\n",
      "------------------------------------------------------------\n",
      "[정답 Label]\n",
      "is_stock_related:\n",
      "True\n",
      "\n",
      "positive_impact_stocks:\n",
      "['기아']\n",
      "\n",
      "reason_for_positive_impact:\n",
      "기아의 6월 글로벌 판매 실적이 전년 동월 대비 1.8% 증가하며 기대 이상의 실적을 보였고, 반도체 수급난 속에서도 스포티지 등 주요 차종의 판매 호조가 이어지고 있다는 점에서 긍정적인 영향을 줄 것으로 보인다.\n",
      "\n",
      "positive_keywords:\n",
      "['기아', '스포티지', '글로벌 시장', '반도체 수급난']\n",
      "\n",
      "negative_impact_stocks:\n",
      "[]\n",
      "\n",
      "reason_for_negative_impact:\n",
      "\n",
      "\n",
      "negative_keywords:\n",
      "[]\n",
      "\n",
      "summary:\n",
      "기아의 6월 글로벌 판매 실적이 반도체 수급난에도 불구하고 전년 동월 대비 1.8% 증가한 25만8610대를 기록했다. 스포티지가 가장 많이 팔렸으며, 반도체 문제 개선을 통해 최대 실적을 기록했고, 향후 신차 출시로 시장 점유율과 수익성을 확대할 계획이다.\n",
      "\n",
      "\n",
      "\n",
      "======= 샘플 30 =======\n"
     ]
    },
    {
     "name": "stderr",
     "output_type": "stream",
     "text": [
      "Processed prompts: 100%|██████████| 1/1 [00:01<00:00,  1.48s/it, est. speed input: 598.91 toks/s, output: 84.49 toks/s]"
     ]
    },
    {
     "name": "stdout",
     "output_type": "stream",
     "text": [
      "[Generated Output]\n",
      "is_stock_related:\n",
      "True\n",
      "\n",
      "summary:\n",
      "KOSPI 지수가 2.13% 하락하여 2,292.01 포인트로 마감했다.\n",
      "\n",
      "------------------------------------------------------------\n",
      "[정답 Label]\n",
      "is_stock_related:\n",
      "False\n",
      "\n",
      "summary:\n",
      "코스피 지수가 49.77포인트 하락하여 2292.01포인트로 마감했다는 뉴스이다.\n",
      "\n"
     ]
    },
    {
     "name": "stderr",
     "output_type": "stream",
     "text": [
      "\n"
     ]
    }
   ],
   "source": [
    "from vllm import SamplingParams\n",
    "import json\n",
    "\n",
    "sampling_params = SamplingParams(\n",
    "    temperature=0,\n",
    "    max_tokens=1024,\n",
    "    stop=[\"<|eot_id|>\"]\n",
    ")\n",
    "\n",
    "# 20번부터 30번까지 반복\n",
    "for i in range(20, 31):\n",
    "    prompt = input_label_pairs[i][\"input\"]\n",
    "    label_text = input_label_pairs[i][\"label\"]\n",
    "\n",
    "    print(f\"\\n\\n======= 샘플 {i} =======\")\n",
    "\n",
    "    # LLM 생성\n",
    "    outputs = llm.generate(prompt, sampling_params)\n",
    "\n",
    "    # 생성된 텍스트 가져오기\n",
    "    generated_text = outputs[0].outputs[0].text.strip()\n",
    "\n",
    "    # JSON 파싱\n",
    "    try:\n",
    "        label_json = json.loads(label_text)\n",
    "        generated_json = json.loads(generated_text)\n",
    "    except json.JSONDecodeError:\n",
    "        print(\"[⚠️ JSON 파싱 실패]\")\n",
    "        print(\"[Generated Output]\\n\", generated_text)\n",
    "        print(\"\\n[정답 Label]\\n\", label_text)\n",
    "        continue\n",
    "\n",
    "    # 비교 키 설정\n",
    "    if label_json.get(\"is_stock_related\") is True:\n",
    "        keys_to_check = [\n",
    "            \"is_stock_related\",\n",
    "            \"positive_impact_stocks\",\n",
    "            \"reason_for_positive_impact\",\n",
    "            \"positive_keywords\",\n",
    "            \"negative_impact_stocks\",\n",
    "            \"reason_for_negative_impact\",\n",
    "            \"negative_keywords\",\n",
    "            \"summary\"\n",
    "        ]\n",
    "    else:\n",
    "        keys_to_check = [\"is_stock_related\", \"summary\"]\n",
    "\n",
    "    # 결과 출력\n",
    "    print(\"[Generated Output]\")\n",
    "    for key in keys_to_check:\n",
    "        print(f\"{key}:\\n{generated_json.get(key)}\\n\")\n",
    "\n",
    "    print('--' * 30)\n",
    "    \n",
    "    print(\"[정답 Label]\")\n",
    "    for key in keys_to_check:\n",
    "        print(f\"{key}:\\n{label_json.get(key)}\\n\")"
   ]
  },
  {
   "cell_type": "code",
   "execution_count": null,
   "id": "4f3c72a3-8534-4972-8fc2-8962ff749aec",
   "metadata": {},
   "outputs": [],
   "source": []
  }
 ],
 "metadata": {
  "kernelspec": {
   "display_name": "Python 3 (ipykernel)",
   "language": "python",
   "name": "python3"
  },
  "language_info": {
   "codemirror_mode": {
    "name": "ipython",
    "version": 3
   },
   "file_extension": ".py",
   "mimetype": "text/x-python",
   "name": "python",
   "nbconvert_exporter": "python",
   "pygments_lexer": "ipython3",
   "version": "3.10.12"
  }
 },
 "nbformat": 4,
 "nbformat_minor": 5
}
