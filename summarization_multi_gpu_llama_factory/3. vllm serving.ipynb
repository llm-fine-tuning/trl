{
 "cells": [
  {
   "cell_type": "code",
   "execution_count": 3,
   "id": "944551a7-b2dd-4692-94ce-98d17a6349b1",
   "metadata": {},
   "outputs": [],
   "source": [
    "import json\n",
    "from transformers import AutoTokenizer\n",
    "from vllm import LLM, SamplingParams"
   ]
  },
  {
   "cell_type": "markdown",
   "id": "960062a5-6836-4948-a5a6-e50c94da3237",
   "metadata": {},
   "source": [
    "https://huggingface.co/iamjoon/llama3-8b-finance-analyzer/tree/main"
   ]
  },
  {
   "cell_type": "code",
   "execution_count": 2,
   "id": "b3e60921-cff0-498a-98f4-8e0dde271629",
   "metadata": {},
   "outputs": [
    {
     "data": {
      "application/vnd.jupyter.widget-view+json": {
       "model_id": "2e7f810e7448408c92ce5905beb6f7e2",
       "version_major": 2,
       "version_minor": 0
      },
      "text/plain": [
       "config.json:   0%|          | 0.00/689 [00:00<?, ?B/s]"
      ]
     },
     "metadata": {},
     "output_type": "display_data"
    },
    {
     "name": "stdout",
     "output_type": "stream",
     "text": [
      "INFO 04-08 05:41:29 [config.py:600] This model supports multiple tasks: {'generate', 'reward', 'classify', 'score', 'embed'}. Defaulting to 'generate'.\n",
      "INFO 04-08 05:41:29 [config.py:1780] Chunked prefill is enabled with max_num_batched_tokens=8192.\n"
     ]
    },
    {
     "data": {
      "application/vnd.jupyter.widget-view+json": {
       "model_id": "993fb69fcf5845428aa70072cd742b53",
       "version_major": 2,
       "version_minor": 0
      },
      "text/plain": [
       "tokenizer_config.json:   0%|          | 0.00/51.2k [00:00<?, ?B/s]"
      ]
     },
     "metadata": {},
     "output_type": "display_data"
    },
    {
     "data": {
      "application/vnd.jupyter.widget-view+json": {
       "model_id": "ef83a4dafa3b4b658c6e12f531bc8c54",
       "version_major": 2,
       "version_minor": 0
      },
      "text/plain": [
       "tokenizer.json:   0%|          | 0.00/17.2M [00:00<?, ?B/s]"
      ]
     },
     "metadata": {},
     "output_type": "display_data"
    },
    {
     "data": {
      "application/vnd.jupyter.widget-view+json": {
       "model_id": "8ddc1059499f413eaadff87af418a52b",
       "version_major": 2,
       "version_minor": 0
      },
      "text/plain": [
       "special_tokens_map.json:   0%|          | 0.00/430 [00:00<?, ?B/s]"
      ]
     },
     "metadata": {},
     "output_type": "display_data"
    },
    {
     "data": {
      "application/vnd.jupyter.widget-view+json": {
       "model_id": "32cdce3583594cf8a18ed315e13f7dfe",
       "version_major": 2,
       "version_minor": 0
      },
      "text/plain": [
       "generation_config.json:   0%|          | 0.00/143 [00:00<?, ?B/s]"
      ]
     },
     "metadata": {},
     "output_type": "display_data"
    },
    {
     "name": "stdout",
     "output_type": "stream",
     "text": [
      "INFO 04-08 05:41:32 [core.py:61] Initializing a V1 LLM engine (v0.8.3) with config: model='iamjoon/llama3-8b-finance-analyzer', speculative_config=None, tokenizer='iamjoon/llama3-8b-finance-analyzer', skip_tokenizer_init=False, tokenizer_mode=auto, revision=None, override_neuron_config=None, tokenizer_revision=None, trust_remote_code=False, dtype=torch.float16, max_seq_len=8192, download_dir=None, load_format=auto, tensor_parallel_size=1, pipeline_parallel_size=1, disable_custom_all_reduce=False, quantization=None, enforce_eager=False, kv_cache_dtype=auto,  device_config=cuda, decoding_config=DecodingConfig(guided_decoding_backend='xgrammar', reasoning_backend=None), observability_config=ObservabilityConfig(show_hidden_metrics=False, otlp_traces_endpoint=None, collect_model_forward_time=False, collect_model_execute_time=False), seed=None, served_model_name=iamjoon/llama3-8b-finance-analyzer, num_scheduler_steps=1, multi_step_stream_outputs=True, enable_prefix_caching=True, chunked_prefill_enabled=True, use_async_output_proc=True, disable_mm_preprocessor_cache=False, mm_processor_kwargs=None, pooler_config=None, compilation_config={\"level\":3,\"custom_ops\":[\"none\"],\"splitting_ops\":[\"vllm.unified_attention\",\"vllm.unified_attention_with_output\"],\"use_inductor\":true,\"compile_sizes\":[],\"use_cudagraph\":true,\"cudagraph_num_of_warmups\":1,\"cudagraph_capture_sizes\":[512,504,496,488,480,472,464,456,448,440,432,424,416,408,400,392,384,376,368,360,352,344,336,328,320,312,304,296,288,280,272,264,256,248,240,232,224,216,208,200,192,184,176,168,160,152,144,136,128,120,112,104,96,88,80,72,64,56,48,40,32,24,16,8,4,2,1],\"max_capture_size\":512}\n",
      "WARNING 04-08 05:41:33 [utils.py:2413] Methods determine_num_available_blocks,device_config,get_cache_block_size_bytes,initialize_cache not implemented in <vllm.v1.worker.gpu_worker.Worker object at 0x7a0933b3c940>\n",
      "INFO 04-08 05:41:34 [parallel_state.py:957] rank 0 in world size 1 is assigned as DP rank 0, PP rank 0, TP rank 0\n",
      "INFO 04-08 05:41:34 [cuda.py:221] Using Flash Attention backend on V1 engine.\n",
      "INFO 04-08 05:41:34 [gpu_model_runner.py:1258] Starting to load model iamjoon/llama3-8b-finance-analyzer...\n",
      "WARNING 04-08 05:41:34 [topk_topp_sampler.py:69] FlashInfer is not available. Falling back to the PyTorch-native implementation of top-p & top-k sampling. For the best performance, please install FlashInfer.\n",
      "INFO 04-08 05:41:34 [weight_utils.py:265] Using model weights format ['*.safetensors']\n"
     ]
    },
    {
     "data": {
      "application/vnd.jupyter.widget-view+json": {
       "model_id": "f9fd52f216f1481eb71f8e69867733a2",
       "version_major": 2,
       "version_minor": 0
      },
      "text/plain": [
       "model-00003-of-00004.safetensors:   0%|          | 0.00/4.92G [00:00<?, ?B/s]"
      ]
     },
     "metadata": {},
     "output_type": "display_data"
    },
    {
     "data": {
      "application/vnd.jupyter.widget-view+json": {
       "model_id": "23d7f663558f4e118960e5c7e55d3cf1",
       "version_major": 2,
       "version_minor": 0
      },
      "text/plain": [
       "model-00001-of-00004.safetensors:   0%|          | 0.00/4.98G [00:00<?, ?B/s]"
      ]
     },
     "metadata": {},
     "output_type": "display_data"
    },
    {
     "data": {
      "application/vnd.jupyter.widget-view+json": {
       "model_id": "a956d9d5ae934a8c9579ebd539c630fa",
       "version_major": 2,
       "version_minor": 0
      },
      "text/plain": [
       "model-00004-of-00004.safetensors:   0%|          | 0.00/1.17G [00:00<?, ?B/s]"
      ]
     },
     "metadata": {},
     "output_type": "display_data"
    },
    {
     "data": {
      "application/vnd.jupyter.widget-view+json": {
       "model_id": "1975fd172e0f42988c13217d5924f8af",
       "version_major": 2,
       "version_minor": 0
      },
      "text/plain": [
       "model-00002-of-00004.safetensors:   0%|          | 0.00/5.00G [00:00<?, ?B/s]"
      ]
     },
     "metadata": {},
     "output_type": "display_data"
    },
    {
     "name": "stdout",
     "output_type": "stream",
     "text": [
      "INFO 04-08 05:43:04 [weight_utils.py:281] Time spent downloading weights for iamjoon/llama3-8b-finance-analyzer: 89.505068 seconds\n"
     ]
    },
    {
     "data": {
      "application/vnd.jupyter.widget-view+json": {
       "model_id": "fb3ff96311ab4f7d98b763bda76ccf7a",
       "version_major": 2,
       "version_minor": 0
      },
      "text/plain": [
       "model.safetensors.index.json:   0%|          | 0.00/23.9k [00:00<?, ?B/s]"
      ]
     },
     "metadata": {},
     "output_type": "display_data"
    },
    {
     "data": {
      "application/vnd.jupyter.widget-view+json": {
       "model_id": "6e5dfebf5506450d8cf7489767a955ce",
       "version_major": 2,
       "version_minor": 0
      },
      "text/plain": [
       "Loading safetensors checkpoint shards:   0% Completed | 0/4 [00:00<?, ?it/s]\n"
      ]
     },
     "metadata": {},
     "output_type": "display_data"
    },
    {
     "name": "stdout",
     "output_type": "stream",
     "text": [
      "INFO 04-08 05:43:07 [loader.py:447] Loading weights took 2.77 seconds\n",
      "INFO 04-08 05:43:07 [gpu_model_runner.py:1273] Model loading took 14.9596 GiB and 92.965476 seconds\n",
      "INFO 04-08 05:43:13 [backends.py:416] Using cache directory: /root/.cache/vllm/torch_compile_cache/d8f3d150ab/rank_0_0 for vLLM's torch.compile\n",
      "INFO 04-08 05:43:13 [backends.py:426] Dynamo bytecode transform time: 6.14 s\n",
      "INFO 04-08 05:43:16 [backends.py:132] Cache the graph of shape None for later use\n",
      "INFO 04-08 05:43:38 [backends.py:144] Compiling a graph for general shape takes 24.44 s\n",
      "INFO 04-08 05:43:50 [monitor.py:33] torch.compile takes 30.58 s in total\n",
      "INFO 04-08 05:43:51 [kv_cache_utils.py:578] GPU KV cache size: 417,952 tokens\n",
      "INFO 04-08 05:43:51 [kv_cache_utils.py:581] Maximum concurrency for 8,192 tokens per request: 51.02x\n",
      "INFO 04-08 05:44:18 [gpu_model_runner.py:1608] Graph capturing finished in 27 secs, took 0.51 GiB\n",
      "INFO 04-08 05:44:18 [core.py:162] init engine (profile, create kv cache, warmup model) took 71.02 seconds\n"
     ]
    }
   ],
   "source": [
    "llm = LLM(model=\"iamjoon/llama3-8b-finance-analyzer\")"
   ]
  },
  {
   "cell_type": "code",
   "execution_count": 20,
   "id": "212b2c0b-889d-4cf4-b980-30b9dceedee5",
   "metadata": {},
   "outputs": [
    {
     "name": "stdout",
     "output_type": "stream",
     "text": [
      "\n",
      "\n",
      "======= 샘플 20 =======\n"
     ]
    },
    {
     "name": "stderr",
     "output_type": "stream",
     "text": [
      "Processed prompts: 100%|██████████| 1/1 [00:01<00:00,  1.42s/it, est. speed input: 986.48 toks/s, output: 83.32 toks/s]\n"
     ]
    },
    {
     "name": "stdout",
     "output_type": "stream",
     "text": [
      "[Generated Output]\n",
      "is_stock_related:\n",
      "False\n",
      "\n",
      "summary:\n",
      "한국철도공사 코레일 사장이 나희승으로 임명된 이후 발생한 안전사고로 인해 공공기관 경영평가에서 최하등급을 받았다. 이는 안전사고로 인한 부정적 평가가 반영된 결과로 보인다.\n",
      "\n",
      "------------------------------------------------------------\n",
      "[정답 Label]\n",
      "is_stock_related:\n",
      "False\n",
      "\n",
      "summary:\n",
      "나희승 코레일 사장이 임기 초반에 안전사고와 관련하여 코레일이 공공기관 경영평가에서 최하등급을 받았다는 뉴스입니다. 나 사장의 안전 관리 체계에 대한 책임론이 대두되고 있으며, 이는 그의 정치적 배경과도 관련이 있다는 분석이 제기되고 있는 상황입니다.\n",
      "\n",
      "\n",
      "\n",
      "======= 샘플 21 =======\n"
     ]
    },
    {
     "name": "stderr",
     "output_type": "stream",
     "text": [
      "Processed prompts: 100%|██████████| 1/1 [00:02<00:00,  2.16s/it, est. speed input: 941.44 toks/s, output: 82.39 toks/s]\n"
     ]
    },
    {
     "name": "stdout",
     "output_type": "stream",
     "text": [
      "[Generated Output]\n",
      "is_stock_related:\n",
      "False\n",
      "\n",
      "summary:\n",
      "이 기사는 10년 전의 주요 뉴스들을 회상하며, 스마트폰의 대중화로 인한 DMB 서비스의 쇠퇴, 치킨집 거리 제한 규제, 과도한 주류 판매로 인한 폭력 문제 등에 대해 다루고 있습니다. 또한 이시영의 복싱 경력과 강남 아파트 가격 상승에 대해 언급하고 있습니다. 주식 시장과 직접적인 연관은 없지만, 소비 문화와 사회적 현상에 대한 통찰을 제공하고 있습니다.\n",
      "\n",
      "------------------------------------------------------------\n",
      "[정답 Label]\n",
      "is_stock_related:\n",
      "False\n",
      "\n",
      "summary:\n",
      "10년전N이라는 연재물에서 2012년의 주요 뉴스를 다루고 있다. 스마트폰의 대중화로 인해 DMB 서비스는 사라졌고, 치킨 가맹점의 거리 제한 규제가 시행되었으며, 술 구매 시 경품 제공에 제재가 있었다. 배우 이시영의 과거 복싱 경력이 소개되었고, 서울 강남 아파트의 가격 양극화 상황이 언급되었다.\n",
      "\n",
      "\n",
      "\n",
      "======= 샘플 22 =======\n"
     ]
    },
    {
     "name": "stderr",
     "output_type": "stream",
     "text": [
      "Processed prompts: 100%|██████████| 1/1 [00:03<00:00,  3.07s/it, est. speed input: 379.25 toks/s, output: 83.55 toks/s]\n"
     ]
    },
    {
     "name": "stdout",
     "output_type": "stream",
     "text": [
      "[Generated Output]\n",
      "is_stock_related:\n",
      "True\n",
      "\n",
      "positive_impact_stocks:\n",
      "['모티브인텔리전스', 'TG360']\n",
      "\n",
      "reason_for_positive_impact:\n",
      "모티브인텔리전스는 TG360과의 데이터 제휴를 통해 새로운 고객 데이터를 확보하고, 맞춤형 광고를 제공할 수 있게 되어 광고주에게 타겟 광고를 제공할 수 있게 되어 광고 성과를 개선할 수 있을 것으로 예상됩니다.\n",
      "\n",
      "positive_keywords:\n",
      "['맞춤형 광고', '고객 확보', '신규 고객', '마케팅 성과 개선', '온·오프라인 행동 데이터', 'AI 알고리즘', '데이터 제휴', '광고주 타겟군 확장']\n",
      "\n",
      "negative_impact_stocks:\n",
      "[]\n",
      "\n",
      "reason_for_negative_impact:\n",
      "\n",
      "\n",
      "negative_keywords:\n",
      "[]\n",
      "\n",
      "summary:\n",
      "모티브인텔리전스와 TG360이 데이터 제휴를 통해 맞춤형 광고와 고객 확보를 위한 협력을 진행한다고 밝혔다. TG360의 DMP 데이터 관리 플랫폼을 활용해 광고주에게 타겟 광고를 제공할 수 있게 됐다.\n",
      "\n",
      "------------------------------------------------------------\n",
      "[정답 Label]\n",
      "is_stock_related:\n",
      "True\n",
      "\n",
      "positive_impact_stocks:\n",
      "['모티브인텔리전스', 'TG360 테크놀로지스']\n",
      "\n",
      "reason_for_positive_impact:\n",
      "모티브인텔리전스가 TG360 테크놀로지스와의 데이터 제휴를 통해 맞춤형 광고 및 고객 확보 능력을 강화하여 마케팅 성과 개선을 기대할 수 있기 때문에 긍정적인 영향을 받을 것으로 예상됩니다.\n",
      "\n",
      "positive_keywords:\n",
      "['데이터 제휴', '맞춤형 광고', '고객 행동 분석', '비식별 데이터', '몰레큘', '인공지능 AI 알고리즘']\n",
      "\n",
      "negative_impact_stocks:\n",
      "[]\n",
      "\n",
      "reason_for_negative_impact:\n",
      "\n",
      "\n",
      "negative_keywords:\n",
      "[]\n",
      "\n",
      "summary:\n",
      "모티브인텔리전스가 TG360 테크놀로지스와 데이터 제휴 협약을 체결하여 맞춤형 광고와 고객 확보 능력을 강화하였다. 이 협약으로 마케팅 성과 개선이 기대되며, TG360의 비식별 데이터를 활용한 고객 행동 분석 솔루션이 도입된다.\n",
      "\n",
      "\n",
      "\n",
      "======= 샘플 23 =======\n"
     ]
    },
    {
     "name": "stderr",
     "output_type": "stream",
     "text": [
      "Processed prompts: 100%|██████████| 1/1 [00:02<00:00,  2.13s/it, est. speed input: 709.65 toks/s, output: 83.29 toks/s]\n"
     ]
    },
    {
     "name": "stdout",
     "output_type": "stream",
     "text": [
      "[Generated Output]\n",
      "is_stock_related:\n",
      "False\n",
      "\n",
      "summary:\n",
      "윤석열 정부의 공공기관 혁신 방침에 따라 연내 기관장 교체가 예정된 공공기관이 총 71곳으로 파악됐다. 이는 전국 370개 공공기관 중 19%에 달하는 규모로, 기관장 교체 폭이 더 커질 가능성이 있다. 기관장 교체가 예정된 공공기관 중에는 부산대병원, 한국해양과학기술원(KIOST), 동남권원자력의학원 등이 포함되어 있다.\n",
      "\n",
      "------------------------------------------------------------\n",
      "[정답 Label]\n",
      "is_stock_related:\n",
      "False\n",
      "\n",
      "summary:\n",
      "윤석열 정부의 공공기관 혁신 방침에 따라 연내에 전국 370개 공공기관 중 71곳의 기관장이 교체될 예정이며, 이로 인해 공공기관 경영에 변화가 있을 것으로 보이나, 특정 종목에 대한 영향은 언급되지 않았다.\n",
      "\n",
      "\n",
      "\n",
      "======= 샘플 24 =======\n"
     ]
    },
    {
     "name": "stderr",
     "output_type": "stream",
     "text": [
      "Processed prompts: 100%|██████████| 1/1 [00:04<00:00,  4.62s/it, est. speed input: 342.74 toks/s, output: 82.76 toks/s]\n"
     ]
    },
    {
     "name": "stdout",
     "output_type": "stream",
     "text": [
      "[Generated Output]\n",
      "is_stock_related:\n",
      "True\n",
      "\n",
      "positive_impact_stocks:\n",
      "['영창케미칼']\n",
      "\n",
      "reason_for_positive_impact:\n",
      "영창케미칼의 반도체와 디스플레이 산업에 대한 전문성과 성장 전략이 긍정적으로 평가되고 있으며, 상장 후 글로벌 시장 진출과 기술력 강화가 기대되고 있어 주가 상승 가능성이 높다.\n",
      "\n",
      "positive_keywords:\n",
      "['영창케미칼', '반도체', '디스플레이', '초정밀 산업용 화학소재', '공모주 청약', '상장', '시가총액', '수요예측', '기관 수요예측', '경쟁률', 'A 등급', '포토레지스트 감광액', '유기 하드 마스크 슬러리', 'EUV 극자외선 노광 공정용 린스 시제품', '매출', '영업이익', '실적', '성주산업공단', '제4공장', '글로벌 진출', '미국', '싱가포르', '영업사무소', '생산설비', 'R&D', '포트폴리오', '생산 역량', '기업가치']\n",
      "\n",
      "negative_impact_stocks:\n",
      "[]\n",
      "\n",
      "reason_for_negative_impact:\n",
      "\n",
      "\n",
      "negative_keywords:\n",
      "[]\n",
      "\n",
      "summary:\n",
      "영창케미칼이 반도체와 디스플레이 산업의 주요 소재를 생산하는 전문 기업으로서, 공모주 청약을 통해 코스닥 시장에 상장할 예정이다. 상장 후 글로벌 시장 진출과 기술력 강화를 통해 기업가치를 극대화할 계획이다.\n",
      "\n",
      "------------------------------------------------------------\n",
      "[정답 Label]\n",
      "is_stock_related:\n",
      "True\n",
      "\n",
      "positive_impact_stocks:\n",
      "['영창케미칼']\n",
      "\n",
      "reason_for_positive_impact:\n",
      "영창케미칼이 일반투자자 대상 공모주 청약을 진행하며, 상장 후 예상 시가총액과 긍정적인 실적 전망, 해외 진출 계획 등이 회사의 주가에 긍정적인 영향을 미칠 것으로 예상되기 때문이다.\n",
      "\n",
      "positive_keywords:\n",
      "['영창케미칼', '공모주 청약', '상장', '코스닥', '반도체 소재', 'EUV 극자외선 노광 공정', '해외 시장']\n",
      "\n",
      "negative_impact_stocks:\n",
      "[]\n",
      "\n",
      "reason_for_negative_impact:\n",
      "\n",
      "\n",
      "negative_keywords:\n",
      "[]\n",
      "\n",
      "summary:\n",
      "영창케미칼이 일반투자자 대상으로 공모주 청약을 시작하며 코스닥 상장을 계획하고 있다. 반도체 및 디스플레이 산업용 화학소재 전문업체인 영창케미칼은 기술성 평가에서 높은 등급을 받았으며, 해외 시장 진출을 가속화할 계획이다. 상장을 통해 신제품 개발 및 글로벌 시장 점유율 확대를 목표로 삼고 있다.\n",
      "\n",
      "\n",
      "\n",
      "======= 샘플 25 =======\n"
     ]
    },
    {
     "name": "stderr",
     "output_type": "stream",
     "text": [
      "Processed prompts: 100%|██████████| 1/1 [00:03<00:00,  3.92s/it, est. speed input: 398.44 toks/s, output: 82.85 toks/s]\n"
     ]
    },
    {
     "name": "stdout",
     "output_type": "stream",
     "text": [
      "[Generated Output]\n",
      "is_stock_related:\n",
      "True\n",
      "\n",
      "positive_impact_stocks:\n",
      "['SC제일은행', '스탠다드차타드']\n",
      "\n",
      "reason_for_positive_impact:\n",
      "SC제일은행의 투자전략 보고서에 따르면, 채권 투자와 아시아 및 영국 주식에 초점을 맞춘 투자 전략이 제시되었습니다. 이는 SC제일은행과 그 모기업인 스탠다드차타드에 긍정적인 영향을 미칠 수 있습니다. 또한, 글로벌 금융시장 전망 및 투자전략 보고서를 통해 자산관리 고객과 투자자에게 전문적인 자산배분 전략을 제공함으로써, 회사의 브랜드 가치와 신뢰도를 높일 수 있습니다.\n",
      "\n",
      "positive_keywords:\n",
      "['SC제일은행', '스탠다드차타드', '투자전략', '채권', '아시아', '영국', '자산배분', '글로벌 금융시장']\n",
      "\n",
      "negative_impact_stocks:\n",
      "[]\n",
      "\n",
      "reason_for_negative_impact:\n",
      "\n",
      "\n",
      "negative_keywords:\n",
      "[]\n",
      "\n",
      "summary:\n",
      "SC제일은행은 하반기 투자전략 보고서를 발표하며 채권 투자와 아시아 및 영국 주식에 초점을 맞춘 전략을 제시했다. 이는 회사의 투자 전문성과 글로벌 자산관리 서비스 제공을 강조하여 긍정적인 영향을 미칠 수 있다.\n",
      "\n",
      "------------------------------------------------------------\n",
      "[정답 Label]\n",
      "is_stock_related:\n",
      "True\n",
      "\n",
      "positive_impact_stocks:\n",
      "['SC제일은행', '스탠다드차타드']\n",
      "\n",
      "reason_for_positive_impact:\n",
      "SC제일은행이 제시한 투자 전략 보고서는 아시아 및 영국 주식과 채권에 대한 긍정적인 전망을 제시함에 따라 해당 지역의 관련 종목들이 긍정적인 영향을 받을 수 있고, 또한 SC제일은행의 전문성과 글로벌 네트워크 활용에 대한 강조는 회사의 자산관리 서비스에 긍정적인 이미지를 형성할 수 있다.\n",
      "\n",
      "positive_keywords:\n",
      "['채권', '아시아 주식', '영국 주식', '멀티에셋 인컴 전략', 'SC그룹', '글로벌 금융시장 전망 및 투자전략 보고서']\n",
      "\n",
      "negative_impact_stocks:\n",
      "[]\n",
      "\n",
      "reason_for_negative_impact:\n",
      "\n",
      "\n",
      "negative_keywords:\n",
      "[]\n",
      "\n",
      "summary:\n",
      "SC제일은행은 하반기 글로벌 금융시장 전망 및 투자전략 보고서를 발표하며, 주식보다 채권 비중 확대와 아시아 및 영국 주식에 대한 관심을 권장했다. 또한, 다양한 자산을 포트폴리오에 포함시키고 고물가에 대응하기 위해 금 등 방어적 수단을 제시했다.\n",
      "\n",
      "\n",
      "\n",
      "======= 샘플 26 =======\n"
     ]
    },
    {
     "name": "stderr",
     "output_type": "stream",
     "text": [
      "Processed prompts: 100%|██████████| 1/1 [00:01<00:00,  1.96s/it, est. speed input: 686.87 toks/s, output: 83.43 toks/s]\n"
     ]
    },
    {
     "name": "stdout",
     "output_type": "stream",
     "text": [
      "[Generated Output]\n",
      "is_stock_related:\n",
      "True\n",
      "\n",
      "positive_impact_stocks:\n",
      "['포드']\n",
      "\n",
      "reason_for_positive_impact:\n",
      "포드가 전기차 기술력을 과시하고 경험을 축적하는 데 있어 긍정적인 영향을 받을 수 있다.\n",
      "\n",
      "positive_keywords:\n",
      "['포드', '전기차', '전기 밴', '전기 모터', '배터리']\n",
      "\n",
      "negative_impact_stocks:\n",
      "[]\n",
      "\n",
      "reason_for_negative_impact:\n",
      "\n",
      "\n",
      "negative_keywords:\n",
      "[]\n",
      "\n",
      "summary:\n",
      "포드는 굿우드 페스티벌에서 2,000마력에 달하는 전기 밴 '일렉트릭 슈퍼밴'을 공개하며 전기차 기술력을 과시하고 경험을 쌓는 중이다.\n",
      "\n",
      "------------------------------------------------------------\n",
      "[정답 Label]\n",
      "is_stock_related:\n",
      "True\n",
      "\n",
      "positive_impact_stocks:\n",
      "['포드']\n",
      "\n",
      "reason_for_positive_impact:\n",
      "포드가 굿우드 페스티벌에서 강력한 전기 차량인 '일렉트릭 슈퍼밴'을 공개하며 전동화 기술력을 과시하였고, 이는 포드의 전기차 기술 개발과 시장 내 영향력을 강화할 수 있는 긍정적인 뉴스입니다.\n",
      "\n",
      "positive_keywords:\n",
      "['일렉트릭 슈퍼밴', '전동화', '굿우드 페스티벌', '2 000마력', '전기 모터']\n",
      "\n",
      "negative_impact_stocks:\n",
      "[]\n",
      "\n",
      "reason_for_negative_impact:\n",
      "\n",
      "\n",
      "negative_keywords:\n",
      "[]\n",
      "\n",
      "summary:\n",
      "포드는 굿우드 페스티벌에서 2 000마력의 강력한 전기밴 '일렉트릭 슈퍼밴'을 공개하며, 전기차 기술력과 퍼포먼스를 강조한 차량을 선보였다. 이는 포드의 전동화 전략을 부각시키는 긍정적인 소식이다.\n",
      "\n",
      "\n",
      "\n",
      "======= 샘플 27 =======\n"
     ]
    },
    {
     "name": "stderr",
     "output_type": "stream",
     "text": [
      "Processed prompts: 100%|██████████| 1/1 [00:02<00:00,  2.23s/it, est. speed input: 549.71 toks/s, output: 83.53 toks/s]\n"
     ]
    },
    {
     "name": "stdout",
     "output_type": "stream",
     "text": [
      "[Generated Output]\n",
      "is_stock_related:\n",
      "True\n",
      "\n",
      "positive_impact_stocks:\n",
      "[]\n",
      "\n",
      "reason_for_positive_impact:\n",
      "\n",
      "\n",
      "positive_keywords:\n",
      "[]\n",
      "\n",
      "negative_impact_stocks:\n",
      "['한국타이어']\n",
      "\n",
      "reason_for_negative_impact:\n",
      "한국타이어는 노조의 폭행으로 인해 사무기술직 직원들이 상해를 입었고, 공장 시설 가동 중단으로 인해 3억원 가량의 손해를 입었다고 밝혔다.\n",
      "\n",
      "negative_keywords:\n",
      "['폭행', '고소', '노조', '공장 가동 중단', '손해']\n",
      "\n",
      "summary:\n",
      "한국타이어는 노조 관계자들에 의한 폭행 사건으로 인해 사무기술직 직원들이 상해를 입고, 공장 시설 가동 중단으로 인해 손해를 입었다고 밝혔다.\n",
      "\n",
      "------------------------------------------------------------\n",
      "[정답 Label]\n",
      "is_stock_related:\n",
      "True\n",
      "\n",
      "positive_impact_stocks:\n",
      "[]\n",
      "\n",
      "reason_for_positive_impact:\n",
      "\n",
      "\n",
      "positive_keywords:\n",
      "[]\n",
      "\n",
      "negative_impact_stocks:\n",
      "['한국타이어앤테크놀로지']\n",
      "\n",
      "reason_for_negative_impact:\n",
      "폭행 사건과 공장 가동 중단으로 인한 업무 방해 및 금전적 손실이 한국타이어앤테크놀로지의 기업 이미지와 운영에 부정적인 영향을 미칠 가능성이 높다.\n",
      "\n",
      "negative_keywords:\n",
      "['폭행 사건', '업무 방해', '공장 가동 중단', '금속노조']\n",
      "\n",
      "summary:\n",
      "한국타이어 노동조합원이 사측 관리자를 폭행하고 설비 가동을 무단 중단한 사건이 발생해, 회사가 금속노조 한국타이어지회를 고소했다. 이 사건으로 인해 회사는 약 3억원의 손해를 입었고, 양측은 쌍방 폭행을 주장하고 있다.\n",
      "\n",
      "\n",
      "\n",
      "======= 샘플 28 =======\n"
     ]
    },
    {
     "name": "stderr",
     "output_type": "stream",
     "text": [
      "Processed prompts: 100%|██████████| 1/1 [00:01<00:00,  1.58s/it, est. speed input: 880.46 toks/s, output: 83.43 toks/s]\n"
     ]
    },
    {
     "name": "stdout",
     "output_type": "stream",
     "text": [
      "[Generated Output]\n",
      "is_stock_related:\n",
      "False\n",
      "\n",
      "summary:\n",
      "SRT 열차가 탈선하여 11명이 부상을 입었고, 사고 원인 파악을 위해 현장에 유관기관 긴급구조대가 투입되었다. 상·하행선은 지연 운행 중이며, 고속열차를 이용하는 고객들에게는 타 교통수단 이용을 권장하고 있다.\n",
      "\n",
      "------------------------------------------------------------\n",
      "[정답 Label]\n",
      "is_stock_related:\n",
      "False\n",
      "\n",
      "summary:\n",
      "부산에서 서울로 향하던 SRT 열차가 대전조차장역 인근에서 탈선하여 11명이 부상당했으며, 상하행선 열차 운행이 지연되고 있다. 사고 원인에 대한 조사가 진행 중이며, 국토교통부와 관련 기관이 현장에 투입되었다.\n",
      "\n",
      "\n",
      "\n",
      "======= 샘플 29 =======\n"
     ]
    },
    {
     "name": "stderr",
     "output_type": "stream",
     "text": [
      "Processed prompts: 100%|██████████| 1/1 [00:02<00:00,  2.29s/it, est. speed input: 612.34 toks/s, output: 83.36 toks/s]\n"
     ]
    },
    {
     "name": "stdout",
     "output_type": "stream",
     "text": [
      "[Generated Output]\n",
      "is_stock_related:\n",
      "True\n",
      "\n",
      "positive_impact_stocks:\n",
      "['기아']\n",
      "\n",
      "reason_for_positive_impact:\n",
      "기아의 전년 대비 판매량 증가로 인해 긍정적인 영향을 받을 수 있다.\n",
      "\n",
      "positive_keywords:\n",
      "['기아', '스포티지', '셀토스', '판매 증가']\n",
      "\n",
      "negative_impact_stocks:\n",
      "[]\n",
      "\n",
      "reason_for_negative_impact:\n",
      "\n",
      "\n",
      "negative_keywords:\n",
      "[]\n",
      "\n",
      "summary:\n",
      "기아는 지난달 글로벌 시장에서 전년 동월 대비 1.8% 증가한 25만8610대의 판매를 기록했으며, 스포티지가 4만3201대로 가장 많이 판매되었다. 반도체 부품 수급 문제에도 불구하고 기아는 유연한 반도체 배분과 생산 일정 조정으로 공급 지연에 대응하고 있다.\n",
      "\n",
      "------------------------------------------------------------\n",
      "[정답 Label]\n",
      "is_stock_related:\n",
      "True\n",
      "\n",
      "positive_impact_stocks:\n",
      "['기아']\n",
      "\n",
      "reason_for_positive_impact:\n",
      "기아의 6월 글로벌 판매 실적이 전년 동월 대비 1.8% 증가하며 기대 이상의 실적을 보였고, 반도체 수급난 속에서도 스포티지 등 주요 차종의 판매 호조가 이어지고 있다는 점에서 긍정적인 영향을 줄 것으로 보인다.\n",
      "\n",
      "positive_keywords:\n",
      "['기아', '스포티지', '글로벌 시장', '반도체 수급난']\n",
      "\n",
      "negative_impact_stocks:\n",
      "[]\n",
      "\n",
      "reason_for_negative_impact:\n",
      "\n",
      "\n",
      "negative_keywords:\n",
      "[]\n",
      "\n",
      "summary:\n",
      "기아의 6월 글로벌 판매 실적이 반도체 수급난에도 불구하고 전년 동월 대비 1.8% 증가한 25만8610대를 기록했다. 스포티지가 가장 많이 팔렸으며, 반도체 문제 개선을 통해 최대 실적을 기록했고, 향후 신차 출시로 시장 점유율과 수익성을 확대할 계획이다.\n",
      "\n",
      "\n",
      "\n",
      "======= 샘플 30 =======\n"
     ]
    },
    {
     "name": "stderr",
     "output_type": "stream",
     "text": [
      "Processed prompts: 100%|██████████| 1/1 [00:01<00:00,  1.49s/it, est. speed input: 594.76 toks/s, output: 83.91 toks/s]"
     ]
    },
    {
     "name": "stdout",
     "output_type": "stream",
     "text": [
      "[Generated Output]\n",
      "is_stock_related:\n",
      "True\n",
      "\n",
      "summary:\n",
      "KOSPI 지수가 2.13% 하락하여 2,292.01 포인트로 마감했다.\n",
      "\n",
      "------------------------------------------------------------\n",
      "[정답 Label]\n",
      "is_stock_related:\n",
      "False\n",
      "\n",
      "summary:\n",
      "코스피 지수가 49.77포인트 하락하여 2292.01포인트로 마감했다는 뉴스이다.\n",
      "\n"
     ]
    },
    {
     "name": "stderr",
     "output_type": "stream",
     "text": [
      "\n"
     ]
    }
   ],
   "source": [
    "from vllm import SamplingParams\n",
    "import json\n",
    "\n",
    "sampling_params = SamplingParams(\n",
    "    temperature=0,\n",
    "    max_tokens=1024,\n",
    "    stop=[\"<|eot_id|>\"]\n",
    ")\n",
    "\n",
    "# 20번부터 30번까지 반복\n",
    "for i in range(20, 31):\n",
    "    prompt = input_label_pairs[i][\"input\"]\n",
    "    label_text = input_label_pairs[i][\"label\"]\n",
    "\n",
    "    print(f\"\\n\\n======= 샘플 {i} =======\")\n",
    "\n",
    "    # LLM 생성\n",
    "    outputs = llm.generate(prompt, sampling_params)\n",
    "\n",
    "    # 생성된 텍스트 가져오기\n",
    "    generated_text = outputs[0].outputs[0].text.strip()\n",
    "\n",
    "    # JSON 파싱\n",
    "    try:\n",
    "        label_json = json.loads(label_text)\n",
    "        generated_json = json.loads(generated_text)\n",
    "    except json.JSONDecodeError:\n",
    "        print(\"[⚠️ JSON 파싱 실패]\")\n",
    "        print(\"[Generated Output]\\n\", generated_text)\n",
    "        print(\"\\n[정답 Label]\\n\", label_text)\n",
    "        continue\n",
    "\n",
    "    # 비교 키 설정\n",
    "    if label_json.get(\"is_stock_related\") is True:\n",
    "        keys_to_check = [\n",
    "            \"is_stock_related\",\n",
    "            \"positive_impact_stocks\",\n",
    "            \"reason_for_positive_impact\",\n",
    "            \"positive_keywords\",\n",
    "            \"negative_impact_stocks\",\n",
    "            \"reason_for_negative_impact\",\n",
    "            \"negative_keywords\",\n",
    "            \"summary\"\n",
    "        ]\n",
    "    else:\n",
    "        keys_to_check = [\"is_stock_related\", \"summary\"]\n",
    "\n",
    "    # 결과 출력\n",
    "    print(\"[Generated Output]\")\n",
    "    for key in keys_to_check:\n",
    "        print(f\"{key}:\\n{generated_json.get(key)}\\n\")\n",
    "\n",
    "    print('--' * 30)\n",
    "    \n",
    "    print(\"[정답 Label]\")\n",
    "    for key in keys_to_check:\n",
    "        print(f\"{key}:\\n{label_json.get(key)}\\n\")"
   ]
  }
 ],
 "metadata": {
  "kernelspec": {
   "display_name": "Python 3 (ipykernel)",
   "language": "python",
   "name": "python3"
  },
  "language_info": {
   "codemirror_mode": {
    "name": "ipython",
    "version": 3
   },
   "file_extension": ".py",
   "mimetype": "text/x-python",
   "name": "python",
   "nbconvert_exporter": "python",
   "pygments_lexer": "ipython3",
   "version": "3.10.12"
  }
 },
 "nbformat": 4,
 "nbformat_minor": 5
}
