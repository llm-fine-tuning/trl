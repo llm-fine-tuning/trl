{
 "cells": [
  {
   "cell_type": "code",
   "execution_count": 2,
   "id": "602d3bb2-174f-4e03-8599-666d1be072a3",
   "metadata": {},
   "outputs": [],
   "source": [
    "from datasets import load_from_disk\n",
    "from transformers import AutoTokenizer\n",
    "from vllm import LLM, SamplingParams"
   ]
  },
  {
   "cell_type": "code",
   "execution_count": 3,
   "id": "710ed55b-2ac1-4438-8b69-1c0d075b5e8d",
   "metadata": {},
   "outputs": [
    {
     "name": "stdout",
     "output_type": "stream",
     "text": [
      "INFO 01-08 06:25:30 llm_engine.py:213] Initializing an LLM engine (v0.6.0) with config: model='iamjoon/qwen2-7b-rag-ko-checkpoint-141', speculative_config=None, tokenizer='iamjoon/qwen2-7b-rag-ko-checkpoint-141', skip_tokenizer_init=False, tokenizer_mode=auto, revision=None, override_neuron_config=None, rope_scaling=None, rope_theta=None, tokenizer_revision=None, trust_remote_code=False, dtype=torch.float16, max_seq_len=32768, download_dir=None, load_format=LoadFormat.AUTO, tensor_parallel_size=1, pipeline_parallel_size=1, disable_custom_all_reduce=False, quantization=None, enforce_eager=False, kv_cache_dtype=auto, quantization_param_path=None, device_config=cuda, decoding_config=DecodingConfig(guided_decoding_backend='outlines'), observability_config=ObservabilityConfig(otlp_traces_endpoint=None, collect_model_forward_time=False, collect_model_execute_time=False), seed=0, served_model_name=iamjoon/qwen2-7b-rag-ko-checkpoint-141, use_v2_block_manager=False, num_scheduler_steps=1, enable_prefix_caching=False, use_async_output_proc=True)\n",
      "INFO 01-08 06:25:32 model_runner.py:915] Starting to load model iamjoon/qwen2-7b-rag-ko-checkpoint-141...\n",
      "INFO 01-08 06:25:33 weight_utils.py:236] Using model weights format ['*.safetensors']\n"
     ]
    },
    {
     "data": {
      "application/vnd.jupyter.widget-view+json": {
       "model_id": "1a766da2eb524d7694808cedd1788ce7",
       "version_major": 2,
       "version_minor": 0
      },
      "text/plain": [
       "Loading safetensors checkpoint shards:   0% Completed | 0/4 [00:00<?, ?it/s]\n"
      ]
     },
     "metadata": {},
     "output_type": "display_data"
    },
    {
     "name": "stdout",
     "output_type": "stream",
     "text": [
      "INFO 01-08 06:25:37 model_runner.py:926] Loading model weights took 14.2487 GB\n",
      "INFO 01-08 06:25:40 gpu_executor.py:122] # GPU blocks: 61092, # CPU blocks: 4681\n",
      "INFO 01-08 06:25:46 model_runner.py:1217] Capturing the model for CUDA graphs. This may lead to unexpected consequences if the model is not static. To run the model in eager mode, set 'enforce_eager=True' or use '--enforce-eager' in the CLI.\n",
      "INFO 01-08 06:25:46 model_runner.py:1221] CUDA graphs can take additional 1~3 GiB memory per GPU. If you are running out of memory, consider decreasing `gpu_memory_utilization` or enforcing eager mode. You can also reduce the `max_num_seqs` as needed to decrease memory usage.\n",
      "INFO 01-08 06:26:01 model_runner.py:1335] Graph capturing finished in 16 secs.\n"
     ]
    }
   ],
   "source": [
    "llm = LLM(model=\"iamjoon/qwen2-7b-rag-ko-checkpoint-141\")"
   ]
  },
  {
   "cell_type": "code",
   "execution_count": 4,
   "id": "e81f94a6-b665-4fa8-add1-b5c2cfeb130c",
   "metadata": {},
   "outputs": [],
   "source": [
    "test_dataset = load_from_disk('test_dataset')"
   ]
  },
  {
   "cell_type": "code",
   "execution_count": 5,
   "id": "5af70432-cd5d-49b2-93fa-1c4880c6a0b6",
   "metadata": {},
   "outputs": [],
   "source": [
    "model = 'qwen2-7b-rag-ko/checkpoint-141'\n",
    "tokenizer = AutoTokenizer.from_pretrained(model)\n",
    "\n",
    "prompt_lst = []\n",
    "label_lst = []\n",
    "\n",
    "for prompt in test_dataset[\"messages\"]:\n",
    "    text = tokenizer.apply_chat_template(\n",
    "        prompt, tokenize=False, add_generation_prompt=False\n",
    "    )\n",
    "    input = text.split('<|im_start|>assistant')[0] + '<|im_start|>assistant'\n",
    "    label = text.split('<|im_start|>assistant')[1]\n",
    "    prompt_lst.append(input)\n",
    "    label_lst.append(label)"
   ]
  },
  {
   "cell_type": "code",
   "execution_count": 6,
   "id": "a4ce7aaf-587d-4c7e-b2e2-3e2b69983e00",
   "metadata": {},
   "outputs": [
    {
     "name": "stderr",
     "output_type": "stream",
     "text": [
      "Processed prompts: 100%|██████████| 1/1 [00:01<00:00,  1.61s/it, est. speed input: 2248.14 toks/s, output: 72.64 toks/s]"
     ]
    },
    {
     "name": "stdout",
     "output_type": "stream",
     "text": [
      "\n",
      "\n",
      "북태평양 기단과 오호츠크해 기단이 만나 국내에 머무르는 기간은 대략 한 달입니다. 장마전선은 18일 제주도 먼 남쪽 해상으로 내려갔다가 20일께 다시 북상해 전남 남해안까지 영향을 줄 것으로 보이며, 이후 한 달간 한반도 중남부를 오르내리며 곳곳에 비를 뿌릴 전망입니다 [[ref2]].\n"
     ]
    },
    {
     "name": "stderr",
     "output_type": "stream",
     "text": [
      "\n"
     ]
    }
   ],
   "source": [
    "# 샘플링 파라미터 설정\n",
    "sampling_params = SamplingParams(\n",
    "    temperature=0,\n",
    "    max_tokens=1024,\n",
    "    stop=[\"<|im_end|>\", \"<|eot_id|>\"],  # 문자열로 중지 토큰 지정\n",
    ")\n",
    "\n",
    "# 생성\n",
    "outputs = llm.generate(prompt_lst[0], sampling_params)\n",
    "\n",
    "# 결과 출력\n",
    "for output in outputs:\n",
    "    print()\n",
    "    print(output.outputs[0].text)"
   ]
  },
  {
   "cell_type": "code",
   "execution_count": null,
   "id": "96c47dc0-5ec8-4730-94a4-767513a36f1b",
   "metadata": {},
   "outputs": [
    {
     "name": "stderr",
     "output_type": "stream",
     "text": [
      "Processed prompts:  30%|██▉       | 901/3008 [04:46<10:58,  3.20it/s, est. speed input: 12110.95 toks/s, output: 237.71 toks/s]"
     ]
    }
   ],
   "source": [
    "outputs = llm.generate(prompt_lst, sampling_params)"
   ]
  }
 ],
 "metadata": {
  "kernelspec": {
   "display_name": "Python 3 (ipykernel)",
   "language": "python",
   "name": "python3"
  },
  "language_info": {
   "codemirror_mode": {
    "name": "ipython",
    "version": 3
   },
   "file_extension": ".py",
   "mimetype": "text/x-python",
   "name": "python",
   "nbconvert_exporter": "python",
   "pygments_lexer": "ipython3",
   "version": "3.10.12"
  }
 },
 "nbformat": 4,
 "nbformat_minor": 5
}
