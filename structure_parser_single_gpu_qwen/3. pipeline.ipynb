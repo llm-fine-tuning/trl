{
 "cells": [
  {
   "cell_type": "code",
   "execution_count": 11,
   "id": "47e7d35c-d58c-4d67-8e5d-df6d17da1c57",
   "metadata": {},
   "outputs": [],
   "source": [
    "import pandas as pd\n",
    "import torch\n",
    "from datasets import Dataset\n",
    "from transformers import AutoModelForCausalLM, AutoTokenizer, pipeline"
   ]
  },
  {
   "cell_type": "code",
   "execution_count": 12,
   "id": "156f6f15-3627-4050-a0ac-33ad27c477a8",
   "metadata": {},
   "outputs": [],
   "source": [
    "test_df = pd.read_excel('테스트 셋_800 완료.xlsx')"
   ]
  },
  {
   "cell_type": "code",
   "execution_count": 13,
   "id": "c9f2214b-a8b8-4ac2-a740-0fb1c84369dc",
   "metadata": {},
   "outputs": [
    {
     "data": {
      "text/html": [
       "<div>\n",
       "<style scoped>\n",
       "    .dataframe tbody tr th:only-of-type {\n",
       "        vertical-align: middle;\n",
       "    }\n",
       "\n",
       "    .dataframe tbody tr th {\n",
       "        vertical-align: top;\n",
       "    }\n",
       "\n",
       "    .dataframe thead th {\n",
       "        text-align: right;\n",
       "    }\n",
       "</style>\n",
       "<table border=\"1\" class=\"dataframe\">\n",
       "  <thead>\n",
       "    <tr style=\"text-align: right;\">\n",
       "      <th></th>\n",
       "      <th>관리번호</th>\n",
       "      <th>설비번호(구)</th>\n",
       "      <th>설비명</th>\n",
       "      <th>수리일자</th>\n",
       "      <th>고장내용</th>\n",
       "      <th>고장부품</th>\n",
       "      <th>불량유형</th>\n",
       "      <th>조치내용</th>\n",
       "      <th>수리처</th>\n",
       "      <th>수리시간(분)</th>\n",
       "      <th>수리금액</th>\n",
       "    </tr>\n",
       "  </thead>\n",
       "  <tbody>\n",
       "    <tr>\n",
       "      <th>0</th>\n",
       "      <td>Z000000001</td>\n",
       "      <td>Z000000001</td>\n",
       "      <td>기타</td>\n",
       "      <td>2023-01-03</td>\n",
       "      <td>3공장렉 철거후 2공장으로 이동</td>\n",
       "      <td>3공장 렉</td>\n",
       "      <td>철거</td>\n",
       "      <td>2공장으로 이동</td>\n",
       "      <td>오정수이승희</td>\n",
       "      <td>480</td>\n",
       "      <td>NaN</td>\n",
       "    </tr>\n",
       "    <tr>\n",
       "      <th>1</th>\n",
       "      <td>Z000000001</td>\n",
       "      <td>Z000000001</td>\n",
       "      <td>기타</td>\n",
       "      <td>2023-01-03</td>\n",
       "      <td>CN7라인 천정 전등 교체</td>\n",
       "      <td>CN7라인 천정 전등</td>\n",
       "      <td>고장</td>\n",
       "      <td>전등 교체</td>\n",
       "      <td>송명호윤동태</td>\n",
       "      <td>180</td>\n",
       "      <td>NaN</td>\n",
       "    </tr>\n",
       "    <tr>\n",
       "      <th>2</th>\n",
       "      <td>Z000000001</td>\n",
       "      <td>Z000000001</td>\n",
       "      <td>기타</td>\n",
       "      <td>2023-01-03</td>\n",
       "      <td>E4L 인너카바 리벳툴 진공이상 리벳 잔영물 제거 청소</td>\n",
       "      <td>E4L 인너카바 리벳툴</td>\n",
       "      <td>진공이상</td>\n",
       "      <td>리벳 잔영물 제거 청소</td>\n",
       "      <td>최혁진윤동태</td>\n",
       "      <td>30</td>\n",
       "      <td>NaN</td>\n",
       "    </tr>\n",
       "    <tr>\n",
       "      <th>3</th>\n",
       "      <td>Z000000001</td>\n",
       "      <td>Z000000001</td>\n",
       "      <td>기타</td>\n",
       "      <td>2023-01-03</td>\n",
       "      <td>전착도장 대차 제작중</td>\n",
       "      <td>전착도장 대차</td>\n",
       "      <td>NaN</td>\n",
       "      <td>제작중</td>\n",
       "      <td>김정표오정수</td>\n",
       "      <td>140</td>\n",
       "      <td>NaN</td>\n",
       "    </tr>\n",
       "    <tr>\n",
       "      <th>4</th>\n",
       "      <td>M000000038</td>\n",
       "      <td>ASM-029</td>\n",
       "      <td>조립기(DH 스위치 조립기)</td>\n",
       "      <td>2023-01-04</td>\n",
       "      <td>#40 LH 트램스파 동작이상 전후진 솔밸브 단선 수리</td>\n",
       "      <td>#40 LH 트램스파 전후진 솔밸브</td>\n",
       "      <td>동작이상</td>\n",
       "      <td>단선 수리</td>\n",
       "      <td>송명호윤동태</td>\n",
       "      <td>150</td>\n",
       "      <td>NaN</td>\n",
       "    </tr>\n",
       "  </tbody>\n",
       "</table>\n",
       "</div>"
      ],
      "text/plain": [
       "         관리번호     설비번호(구)              설비명        수리일자  \\\n",
       "0  Z000000001  Z000000001               기타  2023-01-03   \n",
       "1  Z000000001  Z000000001               기타  2023-01-03   \n",
       "2  Z000000001  Z000000001               기타  2023-01-03   \n",
       "3  Z000000001  Z000000001               기타  2023-01-03   \n",
       "4  M000000038     ASM-029  조립기(DH 스위치 조립기)  2023-01-04   \n",
       "\n",
       "                             고장내용                 고장부품  불량유형          조치내용  \\\n",
       "0               3공장렉 철거후 2공장으로 이동                3공장 렉    철거      2공장으로 이동   \n",
       "1                  CN7라인 천정 전등 교체          CN7라인 천정 전등    고장         전등 교체   \n",
       "2  E4L 인너카바 리벳툴 진공이상 리벳 잔영물 제거 청소         E4L 인너카바 리벳툴  진공이상  리벳 잔영물 제거 청소   \n",
       "3                     전착도장 대차 제작중              전착도장 대차   NaN           제작중   \n",
       "4  #40 LH 트램스파 동작이상 전후진 솔밸브 단선 수리  #40 LH 트램스파 전후진 솔밸브  동작이상         단선 수리   \n",
       "\n",
       "      수리처  수리시간(분)  수리금액  \n",
       "0  오정수이승희      480   NaN  \n",
       "1  송명호윤동태      180   NaN  \n",
       "2  최혁진윤동태       30   NaN  \n",
       "3  김정표오정수      140   NaN  \n",
       "4  송명호윤동태      150   NaN  "
      ]
     },
     "execution_count": 13,
     "metadata": {},
     "output_type": "execute_result"
    }
   ],
   "source": [
    "test_df.head()"
   ]
  },
  {
   "cell_type": "code",
   "execution_count": 14,
   "id": "267e32c3-f144-408e-b51d-c8db6df2df52",
   "metadata": {},
   "outputs": [],
   "source": [
    "def format_data(sample):\n",
    "    # 고장부품, 불량유형, 조치내용을 딕셔너리 형태로 구성\n",
    "    response_dict = {\n",
    "        \"고장부품\": sample[\"고장부품\"],\n",
    "        \"불량유형\": sample[\"불량유형\"], \n",
    "        \"조치내용\": sample[\"조치내용\"]\n",
    "    }\n",
    "    \n",
    "    return {\n",
    "        \"messages\": [\n",
    "            {\n",
    "                \"role\": \"system\",\n",
    "                \"content\": '''주어진 고장내용 텍스트로부터 고장부품, 불량유형, 조치사항을 추출하시오.\n",
    "이때 파이썬의 Dictionary 형태로 반환하시오.''',\n",
    "            },\n",
    "            {\n",
    "                \"role\": \"user\",\n",
    "                \"content\": f\"고장 내용: {sample['고장내용']}\",\n",
    "            },\n",
    "            {\n",
    "                \"role\": \"assistant\",\n",
    "                \"content\": str(response_dict)  # 나머지 3개 필드를 딕셔너리로 변환하여 assistant 응답으로\n",
    "            },\n",
    "        ],\n",
    "    }"
   ]
  },
  {
   "cell_type": "code",
   "execution_count": 15,
   "id": "d72fb313-c81b-4aeb-be42-c430ed889d95",
   "metadata": {},
   "outputs": [
    {
     "name": "stdout",
     "output_type": "stream",
     "text": [
      "\n",
      "테스트 데이터 개수: Test 800개\n"
     ]
    }
   ],
   "source": [
    "test_dataset = []\n",
    "for _, row in test_df.iterrows():\n",
    "    test_dataset.append(format_data(row))\n",
    "\n",
    "print(f\"\\n테스트 데이터 개수: Test {len(test_dataset)}개\")"
   ]
  },
  {
   "cell_type": "code",
   "execution_count": 16,
   "id": "222ccda0-ad41-4317-82b2-89572efe3a66",
   "metadata": {},
   "outputs": [],
   "source": [
    "test_dataset = Dataset.from_list(test_dataset)"
   ]
  },
  {
   "cell_type": "code",
   "execution_count": 17,
   "id": "d7db4f22-32a8-48ba-94de-d53f5f159044",
   "metadata": {},
   "outputs": [],
   "source": [
    "prompt_lst = []\n",
    "label_lst = []\n",
    "\n",
    "for prompt in test_dataset[\"messages\"]:\n",
    "    text = tokenizer.apply_chat_template(\n",
    "        prompt, tokenize=False, add_generation_prompt=False\n",
    "    )\n",
    "    input = text.split('<|im_start|>assistant')[0] + '<|im_start|>assistant'\n",
    "    label = text.split('<|im_start|>assistant')[1]\n",
    "    prompt_lst.append(input)\n",
    "    label_lst.append(label)"
   ]
  },
  {
   "cell_type": "code",
   "execution_count": 18,
   "id": "d74c0245-ef01-4a93-a5ff-956c322a3d41",
   "metadata": {},
   "outputs": [
    {
     "name": "stdout",
     "output_type": "stream",
     "text": [
      "<|im_start|>system\n",
      "주어진 고장내용 텍스트로부터 고장부품, 불량유형, 조치사항을 추출하시오.\n",
      "이때 파이썬의 Dictionary 형태로 반환하시오.<|im_end|>\n",
      "<|im_start|>user\n",
      "고장 내용: 생산수량 간헐적 수량 누락 카운터 단자 재 조임<|im_end|>\n",
      "<|im_start|>assistant\n"
     ]
    }
   ],
   "source": [
    "print(prompt_lst[42])"
   ]
  },
  {
   "cell_type": "code",
   "execution_count": 19,
   "id": "78c8f39d-75f8-464f-92db-a30805a586ae",
   "metadata": {},
   "outputs": [
    {
     "name": "stdout",
     "output_type": "stream",
     "text": [
      "\n",
      "{'고장부품': '카운터 단자', '불량유형': '생산 수량 간헐적 누락', '조치내용': '카운터 단자 재 조임'}<|im_end|>\n",
      "\n"
     ]
    }
   ],
   "source": [
    "print(label_lst[42])"
   ]
  },
  {
   "cell_type": "code",
   "execution_count": 2,
   "id": "4f68be11-8ec1-41c2-a83f-92e17088c3a8",
   "metadata": {},
   "outputs": [],
   "source": [
    "base_model_id = \"iamjoon/Qwen-StructureParser\"\n",
    "\n",
    "model = AutoModelForCausalLM.from_pretrained(base_model_id, device_map=\"auto\", torch_dtype=torch.float16)\n",
    "tokenizer = AutoTokenizer.from_pretrained(base_model_id)\n",
    "pipe = pipeline(\"text-generation\", model=model, tokenizer=tokenizer)"
   ]
  },
  {
   "cell_type": "code",
   "execution_count": 20,
   "id": "0c1bc378-2047-472a-9074-a21a2aa58e8e",
   "metadata": {},
   "outputs": [],
   "source": [
    "eos_token = tokenizer(\"<|im_end|>\",add_special_tokens=False)[\"input_ids\"][0]"
   ]
  },
  {
   "cell_type": "code",
   "execution_count": 22,
   "id": "cc5cf71e-edb9-48f0-ad91-305887673e13",
   "metadata": {},
   "outputs": [],
   "source": [
    "def test_inference(pipe, prompt):\n",
    "    outputs = pipe(prompt, max_new_tokens=1024, eos_token_id=eos_token, do_sample=False)\n",
    "    return outputs[0]['generated_text'][len(prompt):].strip()"
   ]
  },
  {
   "cell_type": "code",
   "execution_count": 23,
   "id": "f78ecbd4-2d0d-4d6a-a1c9-9a31e551784a",
   "metadata": {},
   "outputs": [
    {
     "name": "stdout",
     "output_type": "stream",
     "text": [
      "    input:\n",
      "<|im_start|>system\n",
      "주어진 고장내용 텍스트로부터 고장부품, 불량유형, 조치사항을 추출하시오.\n",
      "이때 파이썬의 Dictionary 형태로 반환하시오.<|im_end|>\n",
      "<|im_start|>user\n",
      "고장 내용: 전착행거 대차 제작<|im_end|>\n",
      "<|im_start|>assistant\n",
      "--------------------------------------------------\n"
     ]
    },
    {
     "name": "stderr",
     "output_type": "stream",
     "text": [
      "/usr/local/lib/python3.10/dist-packages/transformers/generation/configuration_utils.py:601: UserWarning: `do_sample` is set to `False`. However, `temperature` is set to `0.7` -- this flag is only used in sample-based generation modes. You should set `do_sample=True` or unset `temperature`.\n",
      "  warnings.warn(\n",
      "/usr/local/lib/python3.10/dist-packages/transformers/generation/configuration_utils.py:606: UserWarning: `do_sample` is set to `False`. However, `top_p` is set to `0.8` -- this flag is only used in sample-based generation modes. You should set `do_sample=True` or unset `top_p`.\n",
      "  warnings.warn(\n",
      "/usr/local/lib/python3.10/dist-packages/transformers/generation/configuration_utils.py:623: UserWarning: `do_sample` is set to `False`. However, `top_k` is set to `20` -- this flag is only used in sample-based generation modes. You should set `do_sample=True` or unset `top_k`.\n",
      "  warnings.warn(\n",
      "Starting from v4.46, the `logits` model output will have the same type as the model (except at train time, where it will always be FP32)\n"
     ]
    },
    {
     "name": "stdout",
     "output_type": "stream",
     "text": [
      "    response:\n",
      "{'고장부품': '전착행거 대차', '불량유형': '제작 불량', '조치내용': '대차 제작'}\n",
      "    label:\n",
      "\n",
      "{'고장부품': '전착행거 대차', '불량유형': '제작불량', '조치내용': '전착행거 대차 제작'}<|im_end|>\n",
      "\n",
      "==================================================\n",
      "    input:\n",
      "<|im_start|>system\n",
      "주어진 고장내용 텍스트로부터 고장부품, 불량유형, 조치사항을 추출하시오.\n",
      "이때 파이썬의 Dictionary 형태로 반환하시오.<|im_end|>\n",
      "<|im_start|>user\n",
      "고장 내용: 파렛트 바퀴 수리,잠금고리 수리<|im_end|>\n",
      "<|im_start|>assistant\n",
      "--------------------------------------------------\n",
      "    response:\n",
      "{'고장부품': '파렛트 바퀴', '불량유형': '수리 필요', '조치내용': '바퀴 수리, 잠금고리 수리'}\n",
      "    label:\n",
      "\n",
      "{'고장부품': '파렛트 바퀴, 잠금고리', '불량유형': '고장', '조치내용': '바퀴, 잠금고리 수리'}<|im_end|>\n",
      "\n",
      "==================================================\n",
      "    input:\n",
      "<|im_start|>system\n",
      "주어진 고장내용 텍스트로부터 고장부품, 불량유형, 조치사항을 추출하시오.\n",
      "이때 파이썬의 Dictionary 형태로 반환하시오.<|im_end|>\n",
      "<|im_start|>user\n",
      "고장 내용: 코킹감지센서 단선 수리<|im_end|>\n",
      "<|im_start|>assistant\n",
      "--------------------------------------------------\n",
      "    response:\n",
      "{'고장부품': '코킹감지센서', '불량유형': '단선', '조치내용': '센서 수리'}\n",
      "    label:\n",
      "\n",
      "{'고장부품': '코킹감지센서', '불량유형': '단선', '조치내용': '센서 수리'}<|im_end|>\n",
      "\n",
      "==================================================\n",
      "    input:\n",
      "<|im_start|>system\n",
      "주어진 고장내용 텍스트로부터 고장부품, 불량유형, 조치사항을 추출하시오.\n",
      "이때 파이썬의 Dictionary 형태로 반환하시오.<|im_end|>\n",
      "<|im_start|>user\n",
      "고장 내용: LH부시안착후 클램프OPEN 불량 클램프하강실린더높이조정<|im_end|>\n",
      "<|im_start|>assistant\n",
      "--------------------------------------------------\n",
      "    response:\n",
      "{'고장부품': 'LH 부시', '불량유형': '클램프 OPEN 불량', '조치내용': '클램프 하강 실린더 높이 조정'}\n",
      "    label:\n",
      "\n",
      "{'고장부품': '클램프', '불량유형': '안착 후 OPEN 불량', '조치내용': '하강실린더 높이 조정'}<|im_end|>\n",
      "\n",
      "==================================================\n",
      "    input:\n",
      "<|im_start|>system\n",
      "주어진 고장내용 텍스트로부터 고장부품, 불량유형, 조치사항을 추출하시오.\n",
      "이때 파이썬의 Dictionary 형태로 반환하시오.<|im_end|>\n",
      "<|im_start|>user\n",
      "고장 내용: 저항검사#16.15접점불량 단선 재납땜,리벳진동압력센서단선 수리<|im_end|>\n",
      "<|im_start|>assistant\n",
      "--------------------------------------------------\n",
      "    response:\n",
      "{'고장부품': '저항 검사 #16.15 접점', '불량유형': '단선', '조치내용': '재납, 레바디 진동 압력 센서 단선 수리'}\n",
      "    label:\n",
      "\n",
      "{'고장부품': '저항검사#16.15접점, 리벳진동압력센서', '불량유형': '불량 단선', '조치내용': '재납땜, 수리'}<|im_end|>\n",
      "\n",
      "==================================================\n"
     ]
    }
   ],
   "source": [
    "for prompt, label in zip(prompt_lst[20:25], label_lst[20:25]):\n",
    "    # print(f\"    prompt:\\n{prompt}\")\n",
    "    print(f\"    input:\\n{prompt}\")\n",
    "    print(\"-\"*50)\n",
    "    print(f\"    response:\\n{test_inference(pipe, prompt)}\")\n",
    "    print(f\"    label:\\n{label}\")\n",
    "    print(\"=\"*50)"
   ]
  }
 ],
 "metadata": {
  "kernelspec": {
   "display_name": "Python 3 (ipykernel)",
   "language": "python",
   "name": "python3"
  },
  "language_info": {
   "codemirror_mode": {
    "name": "ipython",
    "version": 3
   },
   "file_extension": ".py",
   "mimetype": "text/x-python",
   "name": "python",
   "nbconvert_exporter": "python",
   "pygments_lexer": "ipython3",
   "version": "3.10.12"
  }
 },
 "nbformat": 4,
 "nbformat_minor": 5
}
